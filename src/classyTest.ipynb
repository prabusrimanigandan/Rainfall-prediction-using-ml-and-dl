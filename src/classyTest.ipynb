{
 "metadata": {
  "language_info": {
   "codemirror_mode": {
    "name": "ipython",
    "version": 3
   },
   "file_extension": ".py",
   "mimetype": "text/x-python",
   "name": "python",
   "nbconvert_exporter": "python",
   "pygments_lexer": "ipython3",
   "version": "3.8.3"
  },
  "orig_nbformat": 2,
  "kernelspec": {
   "name": "python383jvsc74a57bd0183bbf6827d058c2a2fb0f4acdc0420849dda2b4380af0e437e38c64d798d8b7",
   "display_name": "Python 3.8.3 64-bit ('base': conda)"
  }
 },
 "nbformat": 4,
 "nbformat_minor": 2,
 "cells": [
  {
   "cell_type": "code",
   "execution_count": 2,
   "metadata": {},
   "outputs": [
    {
     "output_type": "execute_result",
     "data": {
      "text/plain": [
       "True"
      ]
     },
     "metadata": {},
     "execution_count": 2
    }
   ],
   "source": [
    "import numpy as np\n",
    "import pandas as pd\n",
    "import os\n",
    "from pycaret.classification import *\n",
    "\n",
    "from dotenv import load_dotenv\n",
    "load_dotenv()"
   ]
  },
  {
   "cell_type": "code",
   "execution_count": 3,
   "metadata": {},
   "outputs": [],
   "source": [
    "data_loc='../data1'\n",
    "test_data=pd.read_csv(os.path.join(data_loc,'RainfallTest.csv'))\n"
   ]
  },
  {
   "cell_type": "code",
   "execution_count": 4,
   "metadata": {},
   "outputs": [
    {
     "output_type": "execute_result",
     "data": {
      "text/plain": [
       "(46, 24)"
      ]
     },
     "metadata": {},
     "execution_count": 4
    }
   ],
   "source": [
    "test_data.shape"
   ]
  },
  {
   "cell_type": "code",
   "execution_count": 5,
   "metadata": {},
   "outputs": [
    {
     "output_type": "stream",
     "name": "stdout",
     "text": [
      "Transformation Pipeline and Model Successfully Loaded\n"
     ]
    }
   ],
   "source": [
    "model_loc='./model/Rainfallclassymodel'\n",
    "prediction=load_model(model_loc)\n",
    "\n",
    "predict_res=predict_model(estimator=prediction,data=test_data)"
   ]
  },
  {
   "cell_type": "code",
   "execution_count": 6,
   "metadata": {},
   "outputs": [
    {
     "output_type": "execute_result",
     "data": {
      "text/plain": [
       "         Date Location  MinTemp  MaxTemp  Rainfall  Evaporation  Sunshine  \\\n",
       "0  2008-12-12   Albury     15.9     21.7       2.2          NaN       NaN   \n",
       "1  2008-12-13   Albury     15.9     18.6      15.6          NaN       NaN   \n",
       "2  2008-12-14   Albury     12.6     21.0       3.6          NaN       NaN   \n",
       "3  2008-12-16   Albury      9.8     27.7       NaN          NaN       NaN   \n",
       "4  2008-12-17   Albury     14.1     20.9       0.0          NaN       NaN   \n",
       "\n",
       "  WindGustDir  WindGustSpeed WindDir9am WindDir3pm  WindSpeed9am  \\\n",
       "0         NNE             31         NE        ENE          15.0   \n",
       "1           W             61        NNW        NNW          28.0   \n",
       "2          SW             44          W        SSW          24.0   \n",
       "3         WNW             50        NaN        WNW           NaN   \n",
       "4         ENE             22        SSW          E          11.0   \n",
       "\n",
       "   WindSpeed3pm  Humidity9am  Humidity3pm  Pressure9am  Pressure3pm  Cloud9am  \\\n",
       "0            13           89           91       1010.5       1004.2       8.0   \n",
       "1            28           76           93        994.3        993.0       8.0   \n",
       "2            20           65           43       1001.2       1001.8       NaN   \n",
       "3            22           50           28       1013.4       1010.3       0.0   \n",
       "4             9           69           82       1012.2       1010.4       8.0   \n",
       "\n",
       "   Cloud3pm  Temp9am  Temp3pm RainToday  RISK_MM RainTomorrow Label   Score  \n",
       "0       8.0     15.9     17.0       Yes     15.6          Yes   Yes  0.9577  \n",
       "1       8.0     17.4     15.8       Yes      3.6          Yes   Yes  0.9905  \n",
       "2       7.0     15.8     19.8       Yes      0.0           No    No  0.7906  \n",
       "3       NaN     17.3     26.2       NaN      0.0           No    No  0.7234  \n",
       "4       1.0     17.2     18.1        No     16.8          Yes   Yes  0.7372  "
      ],
      "text/html": "<div>\n<style scoped>\n    .dataframe tbody tr th:only-of-type {\n        vertical-align: middle;\n    }\n\n    .dataframe tbody tr th {\n        vertical-align: top;\n    }\n\n    .dataframe thead th {\n        text-align: right;\n    }\n</style>\n<table border=\"1\" class=\"dataframe\">\n  <thead>\n    <tr style=\"text-align: right;\">\n      <th></th>\n      <th>Date</th>\n      <th>Location</th>\n      <th>MinTemp</th>\n      <th>MaxTemp</th>\n      <th>Rainfall</th>\n      <th>Evaporation</th>\n      <th>Sunshine</th>\n      <th>WindGustDir</th>\n      <th>WindGustSpeed</th>\n      <th>WindDir9am</th>\n      <th>WindDir3pm</th>\n      <th>WindSpeed9am</th>\n      <th>WindSpeed3pm</th>\n      <th>Humidity9am</th>\n      <th>Humidity3pm</th>\n      <th>Pressure9am</th>\n      <th>Pressure3pm</th>\n      <th>Cloud9am</th>\n      <th>Cloud3pm</th>\n      <th>Temp9am</th>\n      <th>Temp3pm</th>\n      <th>RainToday</th>\n      <th>RISK_MM</th>\n      <th>RainTomorrow</th>\n      <th>Label</th>\n      <th>Score</th>\n    </tr>\n  </thead>\n  <tbody>\n    <tr>\n      <th>0</th>\n      <td>2008-12-12</td>\n      <td>Albury</td>\n      <td>15.9</td>\n      <td>21.7</td>\n      <td>2.2</td>\n      <td>NaN</td>\n      <td>NaN</td>\n      <td>NNE</td>\n      <td>31</td>\n      <td>NE</td>\n      <td>ENE</td>\n      <td>15.0</td>\n      <td>13</td>\n      <td>89</td>\n      <td>91</td>\n      <td>1010.5</td>\n      <td>1004.2</td>\n      <td>8.0</td>\n      <td>8.0</td>\n      <td>15.9</td>\n      <td>17.0</td>\n      <td>Yes</td>\n      <td>15.6</td>\n      <td>Yes</td>\n      <td>Yes</td>\n      <td>0.9577</td>\n    </tr>\n    <tr>\n      <th>1</th>\n      <td>2008-12-13</td>\n      <td>Albury</td>\n      <td>15.9</td>\n      <td>18.6</td>\n      <td>15.6</td>\n      <td>NaN</td>\n      <td>NaN</td>\n      <td>W</td>\n      <td>61</td>\n      <td>NNW</td>\n      <td>NNW</td>\n      <td>28.0</td>\n      <td>28</td>\n      <td>76</td>\n      <td>93</td>\n      <td>994.3</td>\n      <td>993.0</td>\n      <td>8.0</td>\n      <td>8.0</td>\n      <td>17.4</td>\n      <td>15.8</td>\n      <td>Yes</td>\n      <td>3.6</td>\n      <td>Yes</td>\n      <td>Yes</td>\n      <td>0.9905</td>\n    </tr>\n    <tr>\n      <th>2</th>\n      <td>2008-12-14</td>\n      <td>Albury</td>\n      <td>12.6</td>\n      <td>21.0</td>\n      <td>3.6</td>\n      <td>NaN</td>\n      <td>NaN</td>\n      <td>SW</td>\n      <td>44</td>\n      <td>W</td>\n      <td>SSW</td>\n      <td>24.0</td>\n      <td>20</td>\n      <td>65</td>\n      <td>43</td>\n      <td>1001.2</td>\n      <td>1001.8</td>\n      <td>NaN</td>\n      <td>7.0</td>\n      <td>15.8</td>\n      <td>19.8</td>\n      <td>Yes</td>\n      <td>0.0</td>\n      <td>No</td>\n      <td>No</td>\n      <td>0.7906</td>\n    </tr>\n    <tr>\n      <th>3</th>\n      <td>2008-12-16</td>\n      <td>Albury</td>\n      <td>9.8</td>\n      <td>27.7</td>\n      <td>NaN</td>\n      <td>NaN</td>\n      <td>NaN</td>\n      <td>WNW</td>\n      <td>50</td>\n      <td>NaN</td>\n      <td>WNW</td>\n      <td>NaN</td>\n      <td>22</td>\n      <td>50</td>\n      <td>28</td>\n      <td>1013.4</td>\n      <td>1010.3</td>\n      <td>0.0</td>\n      <td>NaN</td>\n      <td>17.3</td>\n      <td>26.2</td>\n      <td>NaN</td>\n      <td>0.0</td>\n      <td>No</td>\n      <td>No</td>\n      <td>0.7234</td>\n    </tr>\n    <tr>\n      <th>4</th>\n      <td>2008-12-17</td>\n      <td>Albury</td>\n      <td>14.1</td>\n      <td>20.9</td>\n      <td>0.0</td>\n      <td>NaN</td>\n      <td>NaN</td>\n      <td>ENE</td>\n      <td>22</td>\n      <td>SSW</td>\n      <td>E</td>\n      <td>11.0</td>\n      <td>9</td>\n      <td>69</td>\n      <td>82</td>\n      <td>1012.2</td>\n      <td>1010.4</td>\n      <td>8.0</td>\n      <td>1.0</td>\n      <td>17.2</td>\n      <td>18.1</td>\n      <td>No</td>\n      <td>16.8</td>\n      <td>Yes</td>\n      <td>Yes</td>\n      <td>0.7372</td>\n    </tr>\n  </tbody>\n</table>\n</div>"
     },
     "metadata": {},
     "execution_count": 6
    }
   ],
   "source": [
    "predict_res.head()"
   ]
  },
  {
   "cell_type": "code",
   "execution_count": 7,
   "metadata": {},
   "outputs": [],
   "source": [
    "import chart_studio\n",
    "import chart_studio.tools as tls\n",
    "import chart_studio.plotly as py\n",
    "import plotly.express as px\n",
    "\n",
    "tls.set_credentials_file(os.getenv('USERID'),os.getenv('APIKEY'))"
   ]
  },
  {
   "cell_type": "code",
   "execution_count": 8,
   "metadata": {},
   "outputs": [],
   "source": [
    "label_info = pd.DataFrame(predict_res['Label'].value_counts().reset_index().values, columns=[\"Label\", \"No. of Data\"])"
   ]
  },
  {
   "cell_type": "code",
   "execution_count": 16,
   "metadata": {},
   "outputs": [
    {
     "output_type": "stream",
     "name": "stdout",
     "text": [
      "  Label No. of Data\n0    No          38\n1   Yes           8\n"
     ]
    }
   ],
   "source": [
    "print(label_info)"
   ]
  },
  {
   "cell_type": "code",
   "execution_count": 21,
   "metadata": {},
   "outputs": [
    {
     "output_type": "execute_result",
     "data": {
      "text/plain": [
       "'<iframe id=\"igraph\" scrolling=\"no\" style=\"border:none;\" seamless=\"seamless\" src=\"https://plotly.com/~prabu/1.embed\" height=\"525\" width=\"100%\"></iframe>'"
      ]
     },
     "metadata": {},
     "execution_count": 21
    }
   ],
   "source": [
    "plot1=px.pie(label_info,names=label_info['Label'],values=label_info['No. of Data'],title=\"Prediction result\")\n",
    "fig=py.plot(plot1,filename=\"Prediction result\",open=False)\n",
    "tls.get_embed(fig)"
   ]
  },
  {
   "cell_type": "code",
   "execution_count": null,
   "metadata": {},
   "outputs": [],
   "source": []
  }
 ]
}