{
 "metadata": {
  "language_info": {
   "codemirror_mode": {
    "name": "ipython",
    "version": 3
   },
   "file_extension": ".py",
   "mimetype": "text/x-python",
   "name": "python",
   "nbconvert_exporter": "python",
   "pygments_lexer": "ipython3",
   "version": "3.8.3"
  },
  "orig_nbformat": 2,
  "kernelspec": {
   "name": "python383jvsc74a57bd0183bbf6827d058c2a2fb0f4acdc0420849dda2b4380af0e437e38c64d798d8b7",
   "display_name": "Python 3.8.3 64-bit ('base': conda)"
  }
 },
 "nbformat": 4,
 "nbformat_minor": 2,
 "cells": [
  {
   "cell_type": "code",
   "execution_count": 26,
   "metadata": {},
   "outputs": [
    {
     "output_type": "display_data",
     "data": {
      "text/html": "        <script type=\"text/javascript\">\n        window.PlotlyConfig = {MathJaxConfig: 'local'};\n        if (window.MathJax) {MathJax.Hub.Config({SVG: {font: \"STIX-Web\"}});}\n        if (typeof require !== 'undefined') {\n        require.undef(\"plotly\");\n        requirejs.config({\n            paths: {\n                'plotly': ['https://cdn.plot.ly/plotly-latest.min']\n            }\n        });\n        require(['plotly'], function(Plotly) {\n            window._Plotly = Plotly;\n        });\n        }\n        </script>\n        "
     },
     "metadata": {}
    }
   ],
   "source": [
    "import numpy as np # linear algebra working with arrays\n",
    "import pandas as pd # csv data handling\n",
    "import os\n",
    "import matplotlib.pyplot as plt\n",
    "import plotly.graph_objs as go\n",
    "import plotly.offline as pyo\n",
    "\n",
    "# Set notebook mode to work in offline\n",
    "pyo.init_notebook_mode(connected=True)"
   ]
  },
  {
   "cell_type": "code",
   "execution_count": 27,
   "metadata": {},
   "outputs": [],
   "source": [
    "data_loc='../data1'\n",
    "data=pd.read_csv(os.path.join(data_loc,'district_wise_rainfall_normal.csv'))"
   ]
  },
  {
   "cell_type": "code",
   "execution_count": 28,
   "metadata": {},
   "outputs": [
    {
     "output_type": "execute_result",
     "data": {
      "text/plain": [
       "                 STATE_UT_NAME       DISTRICT    JAN   FEB    MAR    APR  \\\n",
       "0  ANDAMAN And NICOBAR ISLANDS        NICOBAR  107.3  57.9   65.2  117.0   \n",
       "1  ANDAMAN And NICOBAR ISLANDS  SOUTH ANDAMAN   43.7  26.0   18.6   90.5   \n",
       "2  ANDAMAN And NICOBAR ISLANDS  N & M ANDAMAN   32.7  15.9    8.6   53.4   \n",
       "3            ARUNACHAL PRADESH          LOHIT   42.2  80.8  176.4  358.5   \n",
       "4            ARUNACHAL PRADESH     EAST SIANG   33.3  79.5  105.9  216.5   \n",
       "\n",
       "     MAY    JUN    JUL    AUG    SEP    OCT    NOV    DEC  ANNUAL  Jan-Feb  \\\n",
       "0  358.5  295.5  285.0  271.9  354.8  326.0  315.2  250.9  2805.2    165.2   \n",
       "1  374.4  457.2  421.3  423.1  455.6  301.2  275.8  128.3  3015.7     69.7   \n",
       "2  343.6  503.3  465.4  460.9  454.8  276.1  198.6  100.0  2913.3     48.6   \n",
       "3  306.4  447.0  660.1  427.8  313.6  167.1   34.1   29.8  3043.8    123.0   \n",
       "4  323.0  738.3  990.9  711.2  568.0  206.9   29.5   31.7  4034.7    112.8   \n",
       "\n",
       "   Mar-May  Jun-Sep  Oct-Dec  \n",
       "0    540.7   1207.2    892.1  \n",
       "1    483.5   1757.2    705.3  \n",
       "2    405.6   1884.4    574.7  \n",
       "3    841.3   1848.5    231.0  \n",
       "4    645.4   3008.4    268.1  "
      ],
      "text/html": "<div>\n<style scoped>\n    .dataframe tbody tr th:only-of-type {\n        vertical-align: middle;\n    }\n\n    .dataframe tbody tr th {\n        vertical-align: top;\n    }\n\n    .dataframe thead th {\n        text-align: right;\n    }\n</style>\n<table border=\"1\" class=\"dataframe\">\n  <thead>\n    <tr style=\"text-align: right;\">\n      <th></th>\n      <th>STATE_UT_NAME</th>\n      <th>DISTRICT</th>\n      <th>JAN</th>\n      <th>FEB</th>\n      <th>MAR</th>\n      <th>APR</th>\n      <th>MAY</th>\n      <th>JUN</th>\n      <th>JUL</th>\n      <th>AUG</th>\n      <th>SEP</th>\n      <th>OCT</th>\n      <th>NOV</th>\n      <th>DEC</th>\n      <th>ANNUAL</th>\n      <th>Jan-Feb</th>\n      <th>Mar-May</th>\n      <th>Jun-Sep</th>\n      <th>Oct-Dec</th>\n    </tr>\n  </thead>\n  <tbody>\n    <tr>\n      <th>0</th>\n      <td>ANDAMAN And NICOBAR ISLANDS</td>\n      <td>NICOBAR</td>\n      <td>107.3</td>\n      <td>57.9</td>\n      <td>65.2</td>\n      <td>117.0</td>\n      <td>358.5</td>\n      <td>295.5</td>\n      <td>285.0</td>\n      <td>271.9</td>\n      <td>354.8</td>\n      <td>326.0</td>\n      <td>315.2</td>\n      <td>250.9</td>\n      <td>2805.2</td>\n      <td>165.2</td>\n      <td>540.7</td>\n      <td>1207.2</td>\n      <td>892.1</td>\n    </tr>\n    <tr>\n      <th>1</th>\n      <td>ANDAMAN And NICOBAR ISLANDS</td>\n      <td>SOUTH ANDAMAN</td>\n      <td>43.7</td>\n      <td>26.0</td>\n      <td>18.6</td>\n      <td>90.5</td>\n      <td>374.4</td>\n      <td>457.2</td>\n      <td>421.3</td>\n      <td>423.1</td>\n      <td>455.6</td>\n      <td>301.2</td>\n      <td>275.8</td>\n      <td>128.3</td>\n      <td>3015.7</td>\n      <td>69.7</td>\n      <td>483.5</td>\n      <td>1757.2</td>\n      <td>705.3</td>\n    </tr>\n    <tr>\n      <th>2</th>\n      <td>ANDAMAN And NICOBAR ISLANDS</td>\n      <td>N &amp; M ANDAMAN</td>\n      <td>32.7</td>\n      <td>15.9</td>\n      <td>8.6</td>\n      <td>53.4</td>\n      <td>343.6</td>\n      <td>503.3</td>\n      <td>465.4</td>\n      <td>460.9</td>\n      <td>454.8</td>\n      <td>276.1</td>\n      <td>198.6</td>\n      <td>100.0</td>\n      <td>2913.3</td>\n      <td>48.6</td>\n      <td>405.6</td>\n      <td>1884.4</td>\n      <td>574.7</td>\n    </tr>\n    <tr>\n      <th>3</th>\n      <td>ARUNACHAL PRADESH</td>\n      <td>LOHIT</td>\n      <td>42.2</td>\n      <td>80.8</td>\n      <td>176.4</td>\n      <td>358.5</td>\n      <td>306.4</td>\n      <td>447.0</td>\n      <td>660.1</td>\n      <td>427.8</td>\n      <td>313.6</td>\n      <td>167.1</td>\n      <td>34.1</td>\n      <td>29.8</td>\n      <td>3043.8</td>\n      <td>123.0</td>\n      <td>841.3</td>\n      <td>1848.5</td>\n      <td>231.0</td>\n    </tr>\n    <tr>\n      <th>4</th>\n      <td>ARUNACHAL PRADESH</td>\n      <td>EAST SIANG</td>\n      <td>33.3</td>\n      <td>79.5</td>\n      <td>105.9</td>\n      <td>216.5</td>\n      <td>323.0</td>\n      <td>738.3</td>\n      <td>990.9</td>\n      <td>711.2</td>\n      <td>568.0</td>\n      <td>206.9</td>\n      <td>29.5</td>\n      <td>31.7</td>\n      <td>4034.7</td>\n      <td>112.8</td>\n      <td>645.4</td>\n      <td>3008.4</td>\n      <td>268.1</td>\n    </tr>\n  </tbody>\n</table>\n</div>"
     },
     "metadata": {},
     "execution_count": 28
    }
   ],
   "source": [
    "data.head()"
   ]
  },
  {
   "cell_type": "code",
   "execution_count": 29,
   "metadata": {},
   "outputs": [
    {
     "output_type": "stream",
     "name": "stdout",
     "text": [
      "\n-------Dataset information-------\n\n<class 'pandas.core.frame.DataFrame'>\nRangeIndex: 641 entries, 0 to 640\nData columns (total 19 columns):\n #   Column         Non-Null Count  Dtype  \n---  ------         --------------  -----  \n 0   STATE_UT_NAME  641 non-null    object \n 1   DISTRICT       641 non-null    object \n 2   JAN            641 non-null    float64\n 3   FEB            641 non-null    float64\n 4   MAR            641 non-null    float64\n 5   APR            641 non-null    float64\n 6   MAY            641 non-null    float64\n 7   JUN            641 non-null    float64\n 8   JUL            641 non-null    float64\n 9   AUG            641 non-null    float64\n 10  SEP            641 non-null    float64\n 11  OCT            641 non-null    float64\n 12  NOV            641 non-null    float64\n 13  DEC            641 non-null    float64\n 14  ANNUAL         641 non-null    float64\n 15  Jan-Feb        641 non-null    float64\n 16  Mar-May        641 non-null    float64\n 17  Jun-Sep        641 non-null    float64\n 18  Oct-Dec        641 non-null    float64\ndtypes: float64(17), object(2)\nmemory usage: 95.3+ KB\n\n-------Checking for null values-------\n\nSTATE_UT_NAME    0\nSEP              0\nJun-Sep          0\nMar-May          0\nJan-Feb          0\nANNUAL           0\nDEC              0\nNOV              0\nOCT              0\nAUG              0\nDISTRICT         0\nJUL              0\nJUN              0\nMAY              0\nAPR              0\nMAR              0\nFEB              0\nJAN              0\nOct-Dec          0\ndtype: int64\n"
     ]
    }
   ],
   "source": [
    "# describing the dataset\n",
    "print(\"\\n-------Dataset information-------\\n\")\n",
    "data.info()\n",
    "data.shape\n",
    "\n",
    "print(\"\\n-------Checking for null values-------\\n\")\n",
    "print(data.isnull().sum().sort_values(ascending=False))"
   ]
  },
  {
   "cell_type": "code",
   "execution_count": 30,
   "metadata": {},
   "outputs": [
    {
     "output_type": "display_data",
     "data": {
      "application/vnd.plotly.v1+json": {
       "config": {
        "plotlyServerURL": "https://plot.ly"
       },
       "data": [
        {
         "name": "JAN",
         "type": "bar",
         "x": [
          "VELLORE",
          "COIMBATORE",
          "DHARMAPURI",
          "KANYAKUMARI",
          "CHENNAI",
          "MADURAI",
          "NILGIRIS",
          "RAMANATHAPURA",
          "SALEM",
          "THANJAVUR",
          "TIRUCHIRAPPAL",
          "TIRUNELVELI",
          "ERODE",
          "PUDUKKOTTAI",
          "DINDIGUL",
          "VIRUDHUNAGAR",
          "SIVAGANGA",
          "THOOTHUKUDI",
          "TIRUVANNAMALA",
          "NAGAPATTINAM",
          "VILUPPURAM",
          "CUDDALORE",
          "KANCHIPURAM",
          "TIRUVALLUR",
          "THENI",
          "NAMAKKAL",
          "KARUR",
          "PERAMBALUR",
          "TIRUVARUR",
          "KRISHNAGIRI",
          "ARIYALUR",
          "TIRUPUR"
         ],
         "y": [
          8.1,
          8.1,
          8,
          18.4,
          22.1,
          13.6,
          23.1,
          33,
          8.5,
          26.9,
          13.6,
          35.4,
          6.6,
          23.2,
          19,
          18.8,
          15.6,
          24.6,
          14.7,
          62.6,
          18.5,
          27.9,
          17.3,
          18,
          16,
          6.5,
          9.7,
          13.1,
          40.9,
          4.9,
          21.2,
          7.1
         ]
        },
        {
         "name": "FEB",
         "type": "bar",
         "x": [
          "VELLORE",
          "COIMBATORE",
          "DHARMAPURI",
          "KANYAKUMARI",
          "CHENNAI",
          "MADURAI",
          "NILGIRIS",
          "RAMANATHAPURA",
          "SALEM",
          "THANJAVUR",
          "TIRUCHIRAPPAL",
          "TIRUNELVELI",
          "ERODE",
          "PUDUKKOTTAI",
          "DINDIGUL",
          "VIRUDHUNAGAR",
          "SIVAGANGA",
          "THOOTHUKUDI",
          "TIRUVANNAMALA",
          "NAGAPATTINAM",
          "VILUPPURAM",
          "CUDDALORE",
          "KANCHIPURAM",
          "TIRUVALLUR",
          "THENI",
          "NAMAKKAL",
          "KARUR",
          "PERAMBALUR",
          "TIRUVARUR",
          "KRISHNAGIRI",
          "ARIYALUR",
          "TIRUPUR"
         ],
         "y": [
          6.8,
          12.2,
          10.2,
          22,
          14.6,
          14.5,
          26.2,
          18.3,
          7.5,
          15.4,
          9.1,
          33.9,
          9.5,
          9.9,
          11.9,
          24,
          12.3,
          18.2,
          11.8,
          23.1,
          9.7,
          16.2,
          11.8,
          13.5,
          19.4,
          7.4,
          7.8,
          8.3,
          19.2,
          5.8,
          11.3,
          6.9
         ]
        },
        {
         "name": "MAR",
         "type": "bar",
         "x": [
          "VELLORE",
          "COIMBATORE",
          "DHARMAPURI",
          "KANYAKUMARI",
          "CHENNAI",
          "MADURAI",
          "NILGIRIS",
          "RAMANATHAPURA",
          "SALEM",
          "THANJAVUR",
          "TIRUCHIRAPPAL",
          "TIRUNELVELI",
          "ERODE",
          "PUDUKKOTTAI",
          "DINDIGUL",
          "VIRUDHUNAGAR",
          "SIVAGANGA",
          "THOOTHUKUDI",
          "TIRUVANNAMALA",
          "NAGAPATTINAM",
          "VILUPPURAM",
          "CUDDALORE",
          "KANCHIPURAM",
          "TIRUVALLUR",
          "THENI",
          "NAMAKKAL",
          "KARUR",
          "PERAMBALUR",
          "TIRUVARUR",
          "KRISHNAGIRI",
          "ARIYALUR",
          "TIRUPUR"
         ],
         "y": [
          9.2,
          17.2,
          15.9,
          42.5,
          3,
          20.6,
          35.6,
          23.5,
          16,
          17.3,
          11.8,
          48.1,
          16.8,
          13.5,
          22.4,
          28.8,
          17.5,
          29.1,
          11.4,
          18.5,
          9.3,
          14.6,
          3.3,
          5.1,
          35.4,
          12.7,
          10.4,
          12.7,
          17.2,
          12.3,
          13.1,
          13.4
         ]
        },
        {
         "name": "APR",
         "type": "bar",
         "x": [
          "VELLORE",
          "COIMBATORE",
          "DHARMAPURI",
          "KANYAKUMARI",
          "CHENNAI",
          "MADURAI",
          "NILGIRIS",
          "RAMANATHAPURA",
          "SALEM",
          "THANJAVUR",
          "TIRUCHIRAPPAL",
          "TIRUNELVELI",
          "ERODE",
          "PUDUKKOTTAI",
          "DINDIGUL",
          "VIRUDHUNAGAR",
          "SIVAGANGA",
          "THOOTHUKUDI",
          "TIRUVANNAMALA",
          "NAGAPATTINAM",
          "VILUPPURAM",
          "CUDDALORE",
          "KANCHIPURAM",
          "TIRUVALLUR",
          "THENI",
          "NAMAKKAL",
          "KARUR",
          "PERAMBALUR",
          "TIRUVARUR",
          "KRISHNAGIRI",
          "ARIYALUR",
          "TIRUPUR"
         ],
         "y": [
          22.3,
          53.4,
          41.7,
          104.3,
          12,
          57.8,
          82.4,
          53,
          54,
          30.5,
          38.4,
          70.4,
          44.5,
          34.2,
          62.6,
          67.5,
          46.1,
          51.5,
          19.3,
          24,
          16.3,
          17,
          16.4,
          13.7,
          73.4,
          44.1,
          38,
          30.8,
          33.7,
          39.9,
          21.9,
          48
         ]
        },
        {
         "name": "MAY",
         "type": "bar",
         "x": [
          "VELLORE",
          "COIMBATORE",
          "DHARMAPURI",
          "KANYAKUMARI",
          "CHENNAI",
          "MADURAI",
          "NILGIRIS",
          "RAMANATHAPURA",
          "SALEM",
          "THANJAVUR",
          "TIRUCHIRAPPAL",
          "TIRUNELVELI",
          "ERODE",
          "PUDUKKOTTAI",
          "DINDIGUL",
          "VIRUDHUNAGAR",
          "SIVAGANGA",
          "THOOTHUKUDI",
          "TIRUVANNAMALA",
          "NAGAPATTINAM",
          "VILUPPURAM",
          "CUDDALORE",
          "KANCHIPURAM",
          "TIRUVALLUR",
          "THENI",
          "NAMAKKAL",
          "KARUR",
          "PERAMBALUR",
          "TIRUVARUR",
          "KRISHNAGIRI",
          "ARIYALUR",
          "TIRUPUR"
         ],
         "y": [
          75,
          79.7,
          102.8,
          141.5,
          43.5,
          66.4,
          117.3,
          39,
          100.8,
          54.3,
          59.7,
          47.7,
          81.1,
          49.8,
          83,
          65.2,
          57.6,
          31,
          68.2,
          38,
          50.4,
          50.1,
          46.3,
          48.4,
          59.5,
          91.8,
          60.8,
          65.4,
          46.8,
          99.4,
          66.8,
          73.7
         ]
        },
        {
         "name": "JUN",
         "type": "bar",
         "x": [
          "VELLORE",
          "COIMBATORE",
          "DHARMAPURI",
          "KANYAKUMARI",
          "CHENNAI",
          "MADURAI",
          "NILGIRIS",
          "RAMANATHAPURA",
          "SALEM",
          "THANJAVUR",
          "TIRUCHIRAPPAL",
          "TIRUNELVELI",
          "ERODE",
          "PUDUKKOTTAI",
          "DINDIGUL",
          "VIRUDHUNAGAR",
          "SIVAGANGA",
          "THOOTHUKUDI",
          "TIRUVANNAMALA",
          "NAGAPATTINAM",
          "VILUPPURAM",
          "CUDDALORE",
          "KANCHIPURAM",
          "TIRUVALLUR",
          "THENI",
          "NAMAKKAL",
          "KARUR",
          "PERAMBALUR",
          "TIRUVARUR",
          "KRISHNAGIRI",
          "ARIYALUR",
          "TIRUPUR"
         ],
         "y": [
          65.9,
          32.9,
          53.6,
          186.1,
          64.1,
          48.7,
          169.8,
          16.9,
          65.1,
          39.8,
          31.5,
          37.9,
          27.5,
          44.6,
          41.2,
          22.1,
          41.9,
          7.1,
          62.4,
          36.8,
          48.9,
          47.3,
          68.4,
          68.6,
          22,
          44,
          19.8,
          32.6,
          33.4,
          55.9,
          51.5,
          22
         ]
        },
        {
         "name": "JUL",
         "type": "bar",
         "x": [
          "VELLORE",
          "COIMBATORE",
          "DHARMAPURI",
          "KANYAKUMARI",
          "CHENNAI",
          "MADURAI",
          "NILGIRIS",
          "RAMANATHAPURA",
          "SALEM",
          "THANJAVUR",
          "TIRUCHIRAPPAL",
          "TIRUNELVELI",
          "ERODE",
          "PUDUKKOTTAI",
          "DINDIGUL",
          "VIRUDHUNAGAR",
          "SIVAGANGA",
          "THOOTHUKUDI",
          "TIRUVANNAMALA",
          "NAGAPATTINAM",
          "VILUPPURAM",
          "CUDDALORE",
          "KANCHIPURAM",
          "TIRUVALLUR",
          "THENI",
          "NAMAKKAL",
          "KARUR",
          "PERAMBALUR",
          "TIRUVARUR",
          "KRISHNAGIRI",
          "ARIYALUR",
          "TIRUPUR"
         ],
         "y": [
          107.3,
          47.2,
          77.9,
          112.5,
          108.6,
          66.6,
          260.8,
          30.1,
          96.4,
          65,
          53.2,
          39.5,
          38.9,
          79.3,
          55.9,
          35.8,
          72,
          15.9,
          96,
          59.9,
          83.9,
          75.1,
          109.5,
          110.3,
          32.6,
          68,
          35.7,
          50.3,
          64,
          75.4,
          72.7,
          27.1
         ]
        },
        {
         "name": "AUG",
         "type": "bar",
         "x": [
          "VELLORE",
          "COIMBATORE",
          "DHARMAPURI",
          "KANYAKUMARI",
          "CHENNAI",
          "MADURAI",
          "NILGIRIS",
          "RAMANATHAPURA",
          "SALEM",
          "THANJAVUR",
          "TIRUCHIRAPPAL",
          "TIRUNELVELI",
          "ERODE",
          "PUDUKKOTTAI",
          "DINDIGUL",
          "VIRUDHUNAGAR",
          "SIVAGANGA",
          "THOOTHUKUDI",
          "TIRUVANNAMALA",
          "NAGAPATTINAM",
          "VILUPPURAM",
          "CUDDALORE",
          "KANCHIPURAM",
          "TIRUVALLUR",
          "THENI",
          "NAMAKKAL",
          "KARUR",
          "PERAMBALUR",
          "TIRUVARUR",
          "KRISHNAGIRI",
          "ARIYALUR",
          "TIRUPUR"
         ],
         "y": [
          129,
          40.6,
          99.3,
          76.7,
          147.9,
          87.3,
          180.9,
          44.2,
          119.6,
          101.8,
          73.8,
          26.8,
          57.6,
          109,
          70.5,
          51.4,
          88.2,
          15.8,
          142.3,
          93,
          130.2,
          129.2,
          164.1,
          135.4,
          33.3,
          97.4,
          51.8,
          81.9,
          94,
          96.4,
          129.2,
          31.7
         ]
        },
        {
         "name": "SEP",
         "type": "bar",
         "x": [
          "VELLORE",
          "COIMBATORE",
          "DHARMAPURI",
          "KANYAKUMARI",
          "CHENNAI",
          "MADURAI",
          "NILGIRIS",
          "RAMANATHAPURA",
          "SALEM",
          "THANJAVUR",
          "TIRUCHIRAPPAL",
          "TIRUNELVELI",
          "ERODE",
          "PUDUKKOTTAI",
          "DINDIGUL",
          "VIRUDHUNAGAR",
          "SIVAGANGA",
          "THOOTHUKUDI",
          "TIRUVANNAMALA",
          "NAGAPATTINAM",
          "VILUPPURAM",
          "CUDDALORE",
          "KANCHIPURAM",
          "TIRUVALLUR",
          "THENI",
          "NAMAKKAL",
          "KARUR",
          "PERAMBALUR",
          "TIRUVARUR",
          "KRISHNAGIRI",
          "ARIYALUR",
          "TIRUPUR"
         ],
         "y": [
          163.9,
          69.1,
          162.6,
          102.1,
          118.5,
          133.3,
          148.4,
          58.1,
          159.5,
          111.8,
          135.4,
          38.2,
          105.8,
          117.7,
          127.8,
          87.5,
          98.9,
          36.1,
          167.4,
          96.4,
          145.3,
          131.5,
          148.8,
          137.3,
          70.5,
          129.9,
          106.3,
          125.9,
          105,
          171.3,
          138.6,
          74
         ]
        },
        {
         "name": "OCT",
         "type": "bar",
         "x": [
          "VELLORE",
          "COIMBATORE",
          "DHARMAPURI",
          "KANYAKUMARI",
          "CHENNAI",
          "MADURAI",
          "NILGIRIS",
          "RAMANATHAPURA",
          "SALEM",
          "THANJAVUR",
          "TIRUCHIRAPPAL",
          "TIRUNELVELI",
          "ERODE",
          "PUDUKKOTTAI",
          "DINDIGUL",
          "VIRUDHUNAGAR",
          "SIVAGANGA",
          "THOOTHUKUDI",
          "TIRUVANNAMALA",
          "NAGAPATTINAM",
          "VILUPPURAM",
          "CUDDALORE",
          "KANCHIPURAM",
          "TIRUVALLUR",
          "THENI",
          "NAMAKKAL",
          "KARUR",
          "PERAMBALUR",
          "TIRUVARUR",
          "KRISHNAGIRI",
          "ARIYALUR",
          "TIRUPUR"
         ],
         "y": [
          163.2,
          151.9,
          180.5,
          226.3,
          266.5,
          206.2,
          217.9,
          182.4,
          190.9,
          183.8,
          173.2,
          157.5,
          158.9,
          158,
          188.1,
          180.7,
          187.1,
          151.3,
          194.2,
          241.2,
          186.5,
          220.2,
          225.8,
          211,
          167.7,
          156.8,
          144.6,
          191,
          200.3,
          176.9,
          193.4,
          147.7
         ]
        },
        {
         "name": "NOV",
         "type": "bar",
         "x": [
          "VELLORE",
          "COIMBATORE",
          "DHARMAPURI",
          "KANYAKUMARI",
          "CHENNAI",
          "MADURAI",
          "NILGIRIS",
          "RAMANATHAPURA",
          "SALEM",
          "THANJAVUR",
          "TIRUCHIRAPPAL",
          "TIRUNELVELI",
          "ERODE",
          "PUDUKKOTTAI",
          "DINDIGUL",
          "VIRUDHUNAGAR",
          "SIVAGANGA",
          "THOOTHUKUDI",
          "TIRUVANNAMALA",
          "NAGAPATTINAM",
          "VILUPPURAM",
          "CUDDALORE",
          "KANCHIPURAM",
          "TIRUVALLUR",
          "THENI",
          "NAMAKKAL",
          "KARUR",
          "PERAMBALUR",
          "TIRUVARUR",
          "KRISHNAGIRI",
          "ARIYALUR",
          "TIRUPUR"
         ],
         "y": [
          127.2,
          129.6,
          103.3,
          208.6,
          367.8,
          151.3,
          181.2,
          187.2,
          123.8,
          219.2,
          139.9,
          210.1,
          110.5,
          147.1,
          159,
          172.7,
          148.5,
          185.4,
          170.2,
          411.7,
          195.1,
          295.3,
          283,
          261.3,
          139,
          98.8,
          119.1,
          155,
          304,
          77.9,
          205.2,
          120
         ]
        },
        {
         "name": "DEC",
         "type": "bar",
         "x": [
          "VELLORE",
          "COIMBATORE",
          "DHARMAPURI",
          "KANYAKUMARI",
          "CHENNAI",
          "MADURAI",
          "NILGIRIS",
          "RAMANATHAPURA",
          "SALEM",
          "THANJAVUR",
          "TIRUCHIRAPPAL",
          "TIRUNELVELI",
          "ERODE",
          "PUDUKKOTTAI",
          "DINDIGUL",
          "VIRUDHUNAGAR",
          "SIVAGANGA",
          "THOOTHUKUDI",
          "TIRUVANNAMALA",
          "NAGAPATTINAM",
          "VILUPPURAM",
          "CUDDALORE",
          "KANCHIPURAM",
          "TIRUVALLUR",
          "THENI",
          "NAMAKKAL",
          "KARUR",
          "PERAMBALUR",
          "TIRUVARUR",
          "KRISHNAGIRI",
          "ARIYALUR",
          "TIRUPUR"
         ],
         "y": [
          58.3,
          47.4,
          46.3,
          61.5,
          155.6,
          61.6,
          79.1,
          122.1,
          55.8,
          147.3,
          78.4,
          99.6,
          45.2,
          101.1,
          89.3,
          65.6,
          87.1,
          90.3,
          82.1,
          288.1,
          117.5,
          182.3,
          133,
          117,
          51.2,
          36,
          51,
          94.9,
          214.8,
          34.6,
          146.9,
          46.6
         ]
        }
       ],
       "layout": {
        "barmode": "stack",
        "height": 900,
        "template": {
         "data": {
          "bar": [
           {
            "error_x": {
             "color": "#2a3f5f"
            },
            "error_y": {
             "color": "#2a3f5f"
            },
            "marker": {
             "line": {
              "color": "#E5ECF6",
              "width": 0.5
             }
            },
            "type": "bar"
           }
          ],
          "barpolar": [
           {
            "marker": {
             "line": {
              "color": "#E5ECF6",
              "width": 0.5
             }
            },
            "type": "barpolar"
           }
          ],
          "carpet": [
           {
            "aaxis": {
             "endlinecolor": "#2a3f5f",
             "gridcolor": "white",
             "linecolor": "white",
             "minorgridcolor": "white",
             "startlinecolor": "#2a3f5f"
            },
            "baxis": {
             "endlinecolor": "#2a3f5f",
             "gridcolor": "white",
             "linecolor": "white",
             "minorgridcolor": "white",
             "startlinecolor": "#2a3f5f"
            },
            "type": "carpet"
           }
          ],
          "choropleth": [
           {
            "colorbar": {
             "outlinewidth": 0,
             "ticks": ""
            },
            "type": "choropleth"
           }
          ],
          "contour": [
           {
            "colorbar": {
             "outlinewidth": 0,
             "ticks": ""
            },
            "colorscale": [
             [
              0,
              "#0d0887"
             ],
             [
              0.1111111111111111,
              "#46039f"
             ],
             [
              0.2222222222222222,
              "#7201a8"
             ],
             [
              0.3333333333333333,
              "#9c179e"
             ],
             [
              0.4444444444444444,
              "#bd3786"
             ],
             [
              0.5555555555555556,
              "#d8576b"
             ],
             [
              0.6666666666666666,
              "#ed7953"
             ],
             [
              0.7777777777777778,
              "#fb9f3a"
             ],
             [
              0.8888888888888888,
              "#fdca26"
             ],
             [
              1,
              "#f0f921"
             ]
            ],
            "type": "contour"
           }
          ],
          "contourcarpet": [
           {
            "colorbar": {
             "outlinewidth": 0,
             "ticks": ""
            },
            "type": "contourcarpet"
           }
          ],
          "heatmap": [
           {
            "colorbar": {
             "outlinewidth": 0,
             "ticks": ""
            },
            "colorscale": [
             [
              0,
              "#0d0887"
             ],
             [
              0.1111111111111111,
              "#46039f"
             ],
             [
              0.2222222222222222,
              "#7201a8"
             ],
             [
              0.3333333333333333,
              "#9c179e"
             ],
             [
              0.4444444444444444,
              "#bd3786"
             ],
             [
              0.5555555555555556,
              "#d8576b"
             ],
             [
              0.6666666666666666,
              "#ed7953"
             ],
             [
              0.7777777777777778,
              "#fb9f3a"
             ],
             [
              0.8888888888888888,
              "#fdca26"
             ],
             [
              1,
              "#f0f921"
             ]
            ],
            "type": "heatmap"
           }
          ],
          "heatmapgl": [
           {
            "colorbar": {
             "outlinewidth": 0,
             "ticks": ""
            },
            "colorscale": [
             [
              0,
              "#0d0887"
             ],
             [
              0.1111111111111111,
              "#46039f"
             ],
             [
              0.2222222222222222,
              "#7201a8"
             ],
             [
              0.3333333333333333,
              "#9c179e"
             ],
             [
              0.4444444444444444,
              "#bd3786"
             ],
             [
              0.5555555555555556,
              "#d8576b"
             ],
             [
              0.6666666666666666,
              "#ed7953"
             ],
             [
              0.7777777777777778,
              "#fb9f3a"
             ],
             [
              0.8888888888888888,
              "#fdca26"
             ],
             [
              1,
              "#f0f921"
             ]
            ],
            "type": "heatmapgl"
           }
          ],
          "histogram": [
           {
            "marker": {
             "colorbar": {
              "outlinewidth": 0,
              "ticks": ""
             }
            },
            "type": "histogram"
           }
          ],
          "histogram2d": [
           {
            "colorbar": {
             "outlinewidth": 0,
             "ticks": ""
            },
            "colorscale": [
             [
              0,
              "#0d0887"
             ],
             [
              0.1111111111111111,
              "#46039f"
             ],
             [
              0.2222222222222222,
              "#7201a8"
             ],
             [
              0.3333333333333333,
              "#9c179e"
             ],
             [
              0.4444444444444444,
              "#bd3786"
             ],
             [
              0.5555555555555556,
              "#d8576b"
             ],
             [
              0.6666666666666666,
              "#ed7953"
             ],
             [
              0.7777777777777778,
              "#fb9f3a"
             ],
             [
              0.8888888888888888,
              "#fdca26"
             ],
             [
              1,
              "#f0f921"
             ]
            ],
            "type": "histogram2d"
           }
          ],
          "histogram2dcontour": [
           {
            "colorbar": {
             "outlinewidth": 0,
             "ticks": ""
            },
            "colorscale": [
             [
              0,
              "#0d0887"
             ],
             [
              0.1111111111111111,
              "#46039f"
             ],
             [
              0.2222222222222222,
              "#7201a8"
             ],
             [
              0.3333333333333333,
              "#9c179e"
             ],
             [
              0.4444444444444444,
              "#bd3786"
             ],
             [
              0.5555555555555556,
              "#d8576b"
             ],
             [
              0.6666666666666666,
              "#ed7953"
             ],
             [
              0.7777777777777778,
              "#fb9f3a"
             ],
             [
              0.8888888888888888,
              "#fdca26"
             ],
             [
              1,
              "#f0f921"
             ]
            ],
            "type": "histogram2dcontour"
           }
          ],
          "mesh3d": [
           {
            "colorbar": {
             "outlinewidth": 0,
             "ticks": ""
            },
            "type": "mesh3d"
           }
          ],
          "parcoords": [
           {
            "line": {
             "colorbar": {
              "outlinewidth": 0,
              "ticks": ""
             }
            },
            "type": "parcoords"
           }
          ],
          "pie": [
           {
            "automargin": true,
            "type": "pie"
           }
          ],
          "scatter": [
           {
            "marker": {
             "colorbar": {
              "outlinewidth": 0,
              "ticks": ""
             }
            },
            "type": "scatter"
           }
          ],
          "scatter3d": [
           {
            "line": {
             "colorbar": {
              "outlinewidth": 0,
              "ticks": ""
             }
            },
            "marker": {
             "colorbar": {
              "outlinewidth": 0,
              "ticks": ""
             }
            },
            "type": "scatter3d"
           }
          ],
          "scattercarpet": [
           {
            "marker": {
             "colorbar": {
              "outlinewidth": 0,
              "ticks": ""
             }
            },
            "type": "scattercarpet"
           }
          ],
          "scattergeo": [
           {
            "marker": {
             "colorbar": {
              "outlinewidth": 0,
              "ticks": ""
             }
            },
            "type": "scattergeo"
           }
          ],
          "scattergl": [
           {
            "marker": {
             "colorbar": {
              "outlinewidth": 0,
              "ticks": ""
             }
            },
            "type": "scattergl"
           }
          ],
          "scattermapbox": [
           {
            "marker": {
             "colorbar": {
              "outlinewidth": 0,
              "ticks": ""
             }
            },
            "type": "scattermapbox"
           }
          ],
          "scatterpolar": [
           {
            "marker": {
             "colorbar": {
              "outlinewidth": 0,
              "ticks": ""
             }
            },
            "type": "scatterpolar"
           }
          ],
          "scatterpolargl": [
           {
            "marker": {
             "colorbar": {
              "outlinewidth": 0,
              "ticks": ""
             }
            },
            "type": "scatterpolargl"
           }
          ],
          "scatterternary": [
           {
            "marker": {
             "colorbar": {
              "outlinewidth": 0,
              "ticks": ""
             }
            },
            "type": "scatterternary"
           }
          ],
          "surface": [
           {
            "colorbar": {
             "outlinewidth": 0,
             "ticks": ""
            },
            "colorscale": [
             [
              0,
              "#0d0887"
             ],
             [
              0.1111111111111111,
              "#46039f"
             ],
             [
              0.2222222222222222,
              "#7201a8"
             ],
             [
              0.3333333333333333,
              "#9c179e"
             ],
             [
              0.4444444444444444,
              "#bd3786"
             ],
             [
              0.5555555555555556,
              "#d8576b"
             ],
             [
              0.6666666666666666,
              "#ed7953"
             ],
             [
              0.7777777777777778,
              "#fb9f3a"
             ],
             [
              0.8888888888888888,
              "#fdca26"
             ],
             [
              1,
              "#f0f921"
             ]
            ],
            "type": "surface"
           }
          ],
          "table": [
           {
            "cells": {
             "fill": {
              "color": "#EBF0F8"
             },
             "line": {
              "color": "white"
             }
            },
            "header": {
             "fill": {
              "color": "#C8D4E3"
             },
             "line": {
              "color": "white"
             }
            },
            "type": "table"
           }
          ]
         },
         "layout": {
          "annotationdefaults": {
           "arrowcolor": "#2a3f5f",
           "arrowhead": 0,
           "arrowwidth": 1
          },
          "autotypenumbers": "strict",
          "coloraxis": {
           "colorbar": {
            "outlinewidth": 0,
            "ticks": ""
           }
          },
          "colorscale": {
           "diverging": [
            [
             0,
             "#8e0152"
            ],
            [
             0.1,
             "#c51b7d"
            ],
            [
             0.2,
             "#de77ae"
            ],
            [
             0.3,
             "#f1b6da"
            ],
            [
             0.4,
             "#fde0ef"
            ],
            [
             0.5,
             "#f7f7f7"
            ],
            [
             0.6,
             "#e6f5d0"
            ],
            [
             0.7,
             "#b8e186"
            ],
            [
             0.8,
             "#7fbc41"
            ],
            [
             0.9,
             "#4d9221"
            ],
            [
             1,
             "#276419"
            ]
           ],
           "sequential": [
            [
             0,
             "#0d0887"
            ],
            [
             0.1111111111111111,
             "#46039f"
            ],
            [
             0.2222222222222222,
             "#7201a8"
            ],
            [
             0.3333333333333333,
             "#9c179e"
            ],
            [
             0.4444444444444444,
             "#bd3786"
            ],
            [
             0.5555555555555556,
             "#d8576b"
            ],
            [
             0.6666666666666666,
             "#ed7953"
            ],
            [
             0.7777777777777778,
             "#fb9f3a"
            ],
            [
             0.8888888888888888,
             "#fdca26"
            ],
            [
             1,
             "#f0f921"
            ]
           ],
           "sequentialminus": [
            [
             0,
             "#0d0887"
            ],
            [
             0.1111111111111111,
             "#46039f"
            ],
            [
             0.2222222222222222,
             "#7201a8"
            ],
            [
             0.3333333333333333,
             "#9c179e"
            ],
            [
             0.4444444444444444,
             "#bd3786"
            ],
            [
             0.5555555555555556,
             "#d8576b"
            ],
            [
             0.6666666666666666,
             "#ed7953"
            ],
            [
             0.7777777777777778,
             "#fb9f3a"
            ],
            [
             0.8888888888888888,
             "#fdca26"
            ],
            [
             1,
             "#f0f921"
            ]
           ]
          },
          "colorway": [
           "#636efa",
           "#EF553B",
           "#00cc96",
           "#ab63fa",
           "#FFA15A",
           "#19d3f3",
           "#FF6692",
           "#B6E880",
           "#FF97FF",
           "#FECB52"
          ],
          "font": {
           "color": "#2a3f5f"
          },
          "geo": {
           "bgcolor": "white",
           "lakecolor": "white",
           "landcolor": "#E5ECF6",
           "showlakes": true,
           "showland": true,
           "subunitcolor": "white"
          },
          "hoverlabel": {
           "align": "left"
          },
          "hovermode": "closest",
          "mapbox": {
           "style": "light"
          },
          "paper_bgcolor": "white",
          "plot_bgcolor": "#E5ECF6",
          "polar": {
           "angularaxis": {
            "gridcolor": "white",
            "linecolor": "white",
            "ticks": ""
           },
           "bgcolor": "#E5ECF6",
           "radialaxis": {
            "gridcolor": "white",
            "linecolor": "white",
            "ticks": ""
           }
          },
          "scene": {
           "xaxis": {
            "backgroundcolor": "#E5ECF6",
            "gridcolor": "white",
            "gridwidth": 2,
            "linecolor": "white",
            "showbackground": true,
            "ticks": "",
            "zerolinecolor": "white"
           },
           "yaxis": {
            "backgroundcolor": "#E5ECF6",
            "gridcolor": "white",
            "gridwidth": 2,
            "linecolor": "white",
            "showbackground": true,
            "ticks": "",
            "zerolinecolor": "white"
           },
           "zaxis": {
            "backgroundcolor": "#E5ECF6",
            "gridcolor": "white",
            "gridwidth": 2,
            "linecolor": "white",
            "showbackground": true,
            "ticks": "",
            "zerolinecolor": "white"
           }
          },
          "shapedefaults": {
           "line": {
            "color": "#2a3f5f"
           }
          },
          "ternary": {
           "aaxis": {
            "gridcolor": "white",
            "linecolor": "white",
            "ticks": ""
           },
           "baxis": {
            "gridcolor": "white",
            "linecolor": "white",
            "ticks": ""
           },
           "bgcolor": "#E5ECF6",
           "caxis": {
            "gridcolor": "white",
            "linecolor": "white",
            "ticks": ""
           }
          },
          "title": {
           "x": 0.05
          },
          "xaxis": {
           "automargin": true,
           "gridcolor": "white",
           "linecolor": "white",
           "ticks": "",
           "title": {
            "standoff": 15
           },
           "zerolinecolor": "white",
           "zerolinewidth": 2
          },
          "yaxis": {
           "automargin": true,
           "gridcolor": "white",
           "linecolor": "white",
           "ticks": "",
           "title": {
            "standoff": 15
           },
           "zerolinecolor": "white",
           "zerolinewidth": 2
          }
         }
        },
        "width": 1000
       }
      },
      "text/html": "<div>                            <div id=\"c34f88ea-261d-41be-af69-7d081dfc69fb\" class=\"plotly-graph-div\" style=\"height:900px; width:1000px;\"></div>            <script type=\"text/javascript\">                require([\"plotly\"], function(Plotly) {                    window.PLOTLYENV=window.PLOTLYENV || {};                                    if (document.getElementById(\"c34f88ea-261d-41be-af69-7d081dfc69fb\")) {                    Plotly.newPlot(                        \"c34f88ea-261d-41be-af69-7d081dfc69fb\",                        [{\"name\": \"JAN\", \"type\": \"bar\", \"x\": [\"VELLORE\", \"COIMBATORE\", \"DHARMAPURI\", \"KANYAKUMARI\", \"CHENNAI\", \"MADURAI\", \"NILGIRIS\", \"RAMANATHAPURA\", \"SALEM\", \"THANJAVUR\", \"TIRUCHIRAPPAL\", \"TIRUNELVELI\", \"ERODE\", \"PUDUKKOTTAI\", \"DINDIGUL\", \"VIRUDHUNAGAR\", \"SIVAGANGA\", \"THOOTHUKUDI\", \"TIRUVANNAMALA\", \"NAGAPATTINAM\", \"VILUPPURAM\", \"CUDDALORE\", \"KANCHIPURAM\", \"TIRUVALLUR\", \"THENI\", \"NAMAKKAL\", \"KARUR\", \"PERAMBALUR\", \"TIRUVARUR\", \"KRISHNAGIRI\", \"ARIYALUR\", \"TIRUPUR\"], \"y\": [8.1, 8.1, 8.0, 18.4, 22.1, 13.6, 23.1, 33.0, 8.5, 26.9, 13.6, 35.4, 6.6, 23.2, 19.0, 18.8, 15.6, 24.6, 14.7, 62.6, 18.5, 27.9, 17.3, 18.0, 16.0, 6.5, 9.7, 13.1, 40.9, 4.9, 21.2, 7.1]}, {\"name\": \"FEB\", \"type\": \"bar\", \"x\": [\"VELLORE\", \"COIMBATORE\", \"DHARMAPURI\", \"KANYAKUMARI\", \"CHENNAI\", \"MADURAI\", \"NILGIRIS\", \"RAMANATHAPURA\", \"SALEM\", \"THANJAVUR\", \"TIRUCHIRAPPAL\", \"TIRUNELVELI\", \"ERODE\", \"PUDUKKOTTAI\", \"DINDIGUL\", \"VIRUDHUNAGAR\", \"SIVAGANGA\", \"THOOTHUKUDI\", \"TIRUVANNAMALA\", \"NAGAPATTINAM\", \"VILUPPURAM\", \"CUDDALORE\", \"KANCHIPURAM\", \"TIRUVALLUR\", \"THENI\", \"NAMAKKAL\", \"KARUR\", \"PERAMBALUR\", \"TIRUVARUR\", \"KRISHNAGIRI\", \"ARIYALUR\", \"TIRUPUR\"], \"y\": [6.8, 12.2, 10.2, 22.0, 14.6, 14.5, 26.2, 18.3, 7.5, 15.4, 9.1, 33.9, 9.5, 9.9, 11.9, 24.0, 12.3, 18.2, 11.8, 23.1, 9.7, 16.2, 11.8, 13.5, 19.4, 7.4, 7.8, 8.3, 19.2, 5.8, 11.3, 6.9]}, {\"name\": \"MAR\", \"type\": \"bar\", \"x\": [\"VELLORE\", \"COIMBATORE\", \"DHARMAPURI\", \"KANYAKUMARI\", \"CHENNAI\", \"MADURAI\", \"NILGIRIS\", \"RAMANATHAPURA\", \"SALEM\", \"THANJAVUR\", \"TIRUCHIRAPPAL\", \"TIRUNELVELI\", \"ERODE\", \"PUDUKKOTTAI\", \"DINDIGUL\", \"VIRUDHUNAGAR\", \"SIVAGANGA\", \"THOOTHUKUDI\", \"TIRUVANNAMALA\", \"NAGAPATTINAM\", \"VILUPPURAM\", \"CUDDALORE\", \"KANCHIPURAM\", \"TIRUVALLUR\", \"THENI\", \"NAMAKKAL\", \"KARUR\", \"PERAMBALUR\", \"TIRUVARUR\", \"KRISHNAGIRI\", \"ARIYALUR\", \"TIRUPUR\"], \"y\": [9.2, 17.2, 15.9, 42.5, 3.0, 20.6, 35.6, 23.5, 16.0, 17.3, 11.8, 48.1, 16.8, 13.5, 22.4, 28.8, 17.5, 29.1, 11.4, 18.5, 9.3, 14.6, 3.3, 5.1, 35.4, 12.7, 10.4, 12.7, 17.2, 12.3, 13.1, 13.4]}, {\"name\": \"APR\", \"type\": \"bar\", \"x\": [\"VELLORE\", \"COIMBATORE\", \"DHARMAPURI\", \"KANYAKUMARI\", \"CHENNAI\", \"MADURAI\", \"NILGIRIS\", \"RAMANATHAPURA\", \"SALEM\", \"THANJAVUR\", \"TIRUCHIRAPPAL\", \"TIRUNELVELI\", \"ERODE\", \"PUDUKKOTTAI\", \"DINDIGUL\", \"VIRUDHUNAGAR\", \"SIVAGANGA\", \"THOOTHUKUDI\", \"TIRUVANNAMALA\", \"NAGAPATTINAM\", \"VILUPPURAM\", \"CUDDALORE\", \"KANCHIPURAM\", \"TIRUVALLUR\", \"THENI\", \"NAMAKKAL\", \"KARUR\", \"PERAMBALUR\", \"TIRUVARUR\", \"KRISHNAGIRI\", \"ARIYALUR\", \"TIRUPUR\"], \"y\": [22.3, 53.4, 41.7, 104.3, 12.0, 57.8, 82.4, 53.0, 54.0, 30.5, 38.4, 70.4, 44.5, 34.2, 62.6, 67.5, 46.1, 51.5, 19.3, 24.0, 16.3, 17.0, 16.4, 13.7, 73.4, 44.1, 38.0, 30.8, 33.7, 39.9, 21.9, 48.0]}, {\"name\": \"MAY\", \"type\": \"bar\", \"x\": [\"VELLORE\", \"COIMBATORE\", \"DHARMAPURI\", \"KANYAKUMARI\", \"CHENNAI\", \"MADURAI\", \"NILGIRIS\", \"RAMANATHAPURA\", \"SALEM\", \"THANJAVUR\", \"TIRUCHIRAPPAL\", \"TIRUNELVELI\", \"ERODE\", \"PUDUKKOTTAI\", \"DINDIGUL\", \"VIRUDHUNAGAR\", \"SIVAGANGA\", \"THOOTHUKUDI\", \"TIRUVANNAMALA\", \"NAGAPATTINAM\", \"VILUPPURAM\", \"CUDDALORE\", \"KANCHIPURAM\", \"TIRUVALLUR\", \"THENI\", \"NAMAKKAL\", \"KARUR\", \"PERAMBALUR\", \"TIRUVARUR\", \"KRISHNAGIRI\", \"ARIYALUR\", \"TIRUPUR\"], \"y\": [75.0, 79.7, 102.8, 141.5, 43.5, 66.4, 117.3, 39.0, 100.8, 54.3, 59.7, 47.7, 81.1, 49.8, 83.0, 65.2, 57.6, 31.0, 68.2, 38.0, 50.4, 50.1, 46.3, 48.4, 59.5, 91.8, 60.8, 65.4, 46.8, 99.4, 66.8, 73.7]}, {\"name\": \"JUN\", \"type\": \"bar\", \"x\": [\"VELLORE\", \"COIMBATORE\", \"DHARMAPURI\", \"KANYAKUMARI\", \"CHENNAI\", \"MADURAI\", \"NILGIRIS\", \"RAMANATHAPURA\", \"SALEM\", \"THANJAVUR\", \"TIRUCHIRAPPAL\", \"TIRUNELVELI\", \"ERODE\", \"PUDUKKOTTAI\", \"DINDIGUL\", \"VIRUDHUNAGAR\", \"SIVAGANGA\", \"THOOTHUKUDI\", \"TIRUVANNAMALA\", \"NAGAPATTINAM\", \"VILUPPURAM\", \"CUDDALORE\", \"KANCHIPURAM\", \"TIRUVALLUR\", \"THENI\", \"NAMAKKAL\", \"KARUR\", \"PERAMBALUR\", \"TIRUVARUR\", \"KRISHNAGIRI\", \"ARIYALUR\", \"TIRUPUR\"], \"y\": [65.9, 32.9, 53.6, 186.1, 64.1, 48.7, 169.8, 16.9, 65.1, 39.8, 31.5, 37.9, 27.5, 44.6, 41.2, 22.1, 41.9, 7.1, 62.4, 36.8, 48.9, 47.3, 68.4, 68.6, 22.0, 44.0, 19.8, 32.6, 33.4, 55.9, 51.5, 22.0]}, {\"name\": \"JUL\", \"type\": \"bar\", \"x\": [\"VELLORE\", \"COIMBATORE\", \"DHARMAPURI\", \"KANYAKUMARI\", \"CHENNAI\", \"MADURAI\", \"NILGIRIS\", \"RAMANATHAPURA\", \"SALEM\", \"THANJAVUR\", \"TIRUCHIRAPPAL\", \"TIRUNELVELI\", \"ERODE\", \"PUDUKKOTTAI\", \"DINDIGUL\", \"VIRUDHUNAGAR\", \"SIVAGANGA\", \"THOOTHUKUDI\", \"TIRUVANNAMALA\", \"NAGAPATTINAM\", \"VILUPPURAM\", \"CUDDALORE\", \"KANCHIPURAM\", \"TIRUVALLUR\", \"THENI\", \"NAMAKKAL\", \"KARUR\", \"PERAMBALUR\", \"TIRUVARUR\", \"KRISHNAGIRI\", \"ARIYALUR\", \"TIRUPUR\"], \"y\": [107.3, 47.2, 77.9, 112.5, 108.6, 66.6, 260.8, 30.1, 96.4, 65.0, 53.2, 39.5, 38.9, 79.3, 55.9, 35.8, 72.0, 15.9, 96.0, 59.9, 83.9, 75.1, 109.5, 110.3, 32.6, 68.0, 35.7, 50.3, 64.0, 75.4, 72.7, 27.1]}, {\"name\": \"AUG\", \"type\": \"bar\", \"x\": [\"VELLORE\", \"COIMBATORE\", \"DHARMAPURI\", \"KANYAKUMARI\", \"CHENNAI\", \"MADURAI\", \"NILGIRIS\", \"RAMANATHAPURA\", \"SALEM\", \"THANJAVUR\", \"TIRUCHIRAPPAL\", \"TIRUNELVELI\", \"ERODE\", \"PUDUKKOTTAI\", \"DINDIGUL\", \"VIRUDHUNAGAR\", \"SIVAGANGA\", \"THOOTHUKUDI\", \"TIRUVANNAMALA\", \"NAGAPATTINAM\", \"VILUPPURAM\", \"CUDDALORE\", \"KANCHIPURAM\", \"TIRUVALLUR\", \"THENI\", \"NAMAKKAL\", \"KARUR\", \"PERAMBALUR\", \"TIRUVARUR\", \"KRISHNAGIRI\", \"ARIYALUR\", \"TIRUPUR\"], \"y\": [129.0, 40.6, 99.3, 76.7, 147.9, 87.3, 180.9, 44.2, 119.6, 101.8, 73.8, 26.8, 57.6, 109.0, 70.5, 51.4, 88.2, 15.8, 142.3, 93.0, 130.2, 129.2, 164.1, 135.4, 33.3, 97.4, 51.8, 81.9, 94.0, 96.4, 129.2, 31.7]}, {\"name\": \"SEP\", \"type\": \"bar\", \"x\": [\"VELLORE\", \"COIMBATORE\", \"DHARMAPURI\", \"KANYAKUMARI\", \"CHENNAI\", \"MADURAI\", \"NILGIRIS\", \"RAMANATHAPURA\", \"SALEM\", \"THANJAVUR\", \"TIRUCHIRAPPAL\", \"TIRUNELVELI\", \"ERODE\", \"PUDUKKOTTAI\", \"DINDIGUL\", \"VIRUDHUNAGAR\", \"SIVAGANGA\", \"THOOTHUKUDI\", \"TIRUVANNAMALA\", \"NAGAPATTINAM\", \"VILUPPURAM\", \"CUDDALORE\", \"KANCHIPURAM\", \"TIRUVALLUR\", \"THENI\", \"NAMAKKAL\", \"KARUR\", \"PERAMBALUR\", \"TIRUVARUR\", \"KRISHNAGIRI\", \"ARIYALUR\", \"TIRUPUR\"], \"y\": [163.9, 69.1, 162.6, 102.1, 118.5, 133.3, 148.4, 58.1, 159.5, 111.8, 135.4, 38.2, 105.8, 117.7, 127.8, 87.5, 98.9, 36.1, 167.4, 96.4, 145.3, 131.5, 148.8, 137.3, 70.5, 129.9, 106.3, 125.9, 105.0, 171.3, 138.6, 74.0]}, {\"name\": \"OCT\", \"type\": \"bar\", \"x\": [\"VELLORE\", \"COIMBATORE\", \"DHARMAPURI\", \"KANYAKUMARI\", \"CHENNAI\", \"MADURAI\", \"NILGIRIS\", \"RAMANATHAPURA\", \"SALEM\", \"THANJAVUR\", \"TIRUCHIRAPPAL\", \"TIRUNELVELI\", \"ERODE\", \"PUDUKKOTTAI\", \"DINDIGUL\", \"VIRUDHUNAGAR\", \"SIVAGANGA\", \"THOOTHUKUDI\", \"TIRUVANNAMALA\", \"NAGAPATTINAM\", \"VILUPPURAM\", \"CUDDALORE\", \"KANCHIPURAM\", \"TIRUVALLUR\", \"THENI\", \"NAMAKKAL\", \"KARUR\", \"PERAMBALUR\", \"TIRUVARUR\", \"KRISHNAGIRI\", \"ARIYALUR\", \"TIRUPUR\"], \"y\": [163.2, 151.9, 180.5, 226.3, 266.5, 206.2, 217.9, 182.4, 190.9, 183.8, 173.2, 157.5, 158.9, 158.0, 188.1, 180.7, 187.1, 151.3, 194.2, 241.2, 186.5, 220.2, 225.8, 211.0, 167.7, 156.8, 144.6, 191.0, 200.3, 176.9, 193.4, 147.7]}, {\"name\": \"NOV\", \"type\": \"bar\", \"x\": [\"VELLORE\", \"COIMBATORE\", \"DHARMAPURI\", \"KANYAKUMARI\", \"CHENNAI\", \"MADURAI\", \"NILGIRIS\", \"RAMANATHAPURA\", \"SALEM\", \"THANJAVUR\", \"TIRUCHIRAPPAL\", \"TIRUNELVELI\", \"ERODE\", \"PUDUKKOTTAI\", \"DINDIGUL\", \"VIRUDHUNAGAR\", \"SIVAGANGA\", \"THOOTHUKUDI\", \"TIRUVANNAMALA\", \"NAGAPATTINAM\", \"VILUPPURAM\", \"CUDDALORE\", \"KANCHIPURAM\", \"TIRUVALLUR\", \"THENI\", \"NAMAKKAL\", \"KARUR\", \"PERAMBALUR\", \"TIRUVARUR\", \"KRISHNAGIRI\", \"ARIYALUR\", \"TIRUPUR\"], \"y\": [127.2, 129.6, 103.3, 208.6, 367.8, 151.3, 181.2, 187.2, 123.8, 219.2, 139.9, 210.1, 110.5, 147.1, 159.0, 172.7, 148.5, 185.4, 170.2, 411.7, 195.1, 295.3, 283.0, 261.3, 139.0, 98.8, 119.1, 155.0, 304.0, 77.9, 205.2, 120.0]}, {\"name\": \"DEC\", \"type\": \"bar\", \"x\": [\"VELLORE\", \"COIMBATORE\", \"DHARMAPURI\", \"KANYAKUMARI\", \"CHENNAI\", \"MADURAI\", \"NILGIRIS\", \"RAMANATHAPURA\", \"SALEM\", \"THANJAVUR\", \"TIRUCHIRAPPAL\", \"TIRUNELVELI\", \"ERODE\", \"PUDUKKOTTAI\", \"DINDIGUL\", \"VIRUDHUNAGAR\", \"SIVAGANGA\", \"THOOTHUKUDI\", \"TIRUVANNAMALA\", \"NAGAPATTINAM\", \"VILUPPURAM\", \"CUDDALORE\", \"KANCHIPURAM\", \"TIRUVALLUR\", \"THENI\", \"NAMAKKAL\", \"KARUR\", \"PERAMBALUR\", \"TIRUVARUR\", \"KRISHNAGIRI\", \"ARIYALUR\", \"TIRUPUR\"], \"y\": [58.3, 47.4, 46.3, 61.5, 155.6, 61.6, 79.1, 122.1, 55.8, 147.3, 78.4, 99.6, 45.2, 101.1, 89.3, 65.6, 87.1, 90.3, 82.1, 288.1, 117.5, 182.3, 133.0, 117.0, 51.2, 36.0, 51.0, 94.9, 214.8, 34.6, 146.9, 46.6]}],                        {\"barmode\": \"stack\", \"height\": 900, \"template\": {\"data\": {\"bar\": [{\"error_x\": {\"color\": \"#2a3f5f\"}, \"error_y\": {\"color\": \"#2a3f5f\"}, \"marker\": {\"line\": {\"color\": \"#E5ECF6\", \"width\": 0.5}}, \"type\": \"bar\"}], \"barpolar\": [{\"marker\": {\"line\": {\"color\": \"#E5ECF6\", \"width\": 0.5}}, \"type\": \"barpolar\"}], \"carpet\": [{\"aaxis\": {\"endlinecolor\": \"#2a3f5f\", \"gridcolor\": \"white\", \"linecolor\": \"white\", \"minorgridcolor\": \"white\", \"startlinecolor\": \"#2a3f5f\"}, \"baxis\": {\"endlinecolor\": \"#2a3f5f\", \"gridcolor\": \"white\", \"linecolor\": \"white\", \"minorgridcolor\": \"white\", \"startlinecolor\": \"#2a3f5f\"}, \"type\": \"carpet\"}], \"choropleth\": [{\"colorbar\": {\"outlinewidth\": 0, \"ticks\": \"\"}, \"type\": \"choropleth\"}], \"contour\": [{\"colorbar\": {\"outlinewidth\": 0, \"ticks\": \"\"}, \"colorscale\": [[0.0, \"#0d0887\"], [0.1111111111111111, \"#46039f\"], [0.2222222222222222, \"#7201a8\"], [0.3333333333333333, \"#9c179e\"], [0.4444444444444444, \"#bd3786\"], [0.5555555555555556, \"#d8576b\"], [0.6666666666666666, \"#ed7953\"], [0.7777777777777778, \"#fb9f3a\"], [0.8888888888888888, \"#fdca26\"], [1.0, \"#f0f921\"]], \"type\": \"contour\"}], \"contourcarpet\": [{\"colorbar\": {\"outlinewidth\": 0, \"ticks\": \"\"}, \"type\": \"contourcarpet\"}], \"heatmap\": [{\"colorbar\": {\"outlinewidth\": 0, \"ticks\": \"\"}, \"colorscale\": [[0.0, \"#0d0887\"], [0.1111111111111111, \"#46039f\"], [0.2222222222222222, \"#7201a8\"], [0.3333333333333333, \"#9c179e\"], [0.4444444444444444, \"#bd3786\"], [0.5555555555555556, \"#d8576b\"], [0.6666666666666666, \"#ed7953\"], [0.7777777777777778, \"#fb9f3a\"], [0.8888888888888888, \"#fdca26\"], [1.0, \"#f0f921\"]], \"type\": \"heatmap\"}], \"heatmapgl\": [{\"colorbar\": {\"outlinewidth\": 0, \"ticks\": \"\"}, \"colorscale\": [[0.0, \"#0d0887\"], [0.1111111111111111, \"#46039f\"], [0.2222222222222222, \"#7201a8\"], [0.3333333333333333, \"#9c179e\"], [0.4444444444444444, \"#bd3786\"], [0.5555555555555556, \"#d8576b\"], [0.6666666666666666, \"#ed7953\"], [0.7777777777777778, \"#fb9f3a\"], [0.8888888888888888, \"#fdca26\"], [1.0, \"#f0f921\"]], \"type\": \"heatmapgl\"}], \"histogram\": [{\"marker\": {\"colorbar\": {\"outlinewidth\": 0, \"ticks\": \"\"}}, \"type\": \"histogram\"}], \"histogram2d\": [{\"colorbar\": {\"outlinewidth\": 0, \"ticks\": \"\"}, \"colorscale\": [[0.0, \"#0d0887\"], [0.1111111111111111, \"#46039f\"], [0.2222222222222222, \"#7201a8\"], [0.3333333333333333, \"#9c179e\"], [0.4444444444444444, \"#bd3786\"], [0.5555555555555556, \"#d8576b\"], [0.6666666666666666, \"#ed7953\"], [0.7777777777777778, \"#fb9f3a\"], [0.8888888888888888, \"#fdca26\"], [1.0, \"#f0f921\"]], \"type\": \"histogram2d\"}], \"histogram2dcontour\": [{\"colorbar\": {\"outlinewidth\": 0, \"ticks\": \"\"}, \"colorscale\": [[0.0, \"#0d0887\"], [0.1111111111111111, \"#46039f\"], [0.2222222222222222, \"#7201a8\"], [0.3333333333333333, \"#9c179e\"], [0.4444444444444444, \"#bd3786\"], [0.5555555555555556, \"#d8576b\"], [0.6666666666666666, \"#ed7953\"], [0.7777777777777778, \"#fb9f3a\"], [0.8888888888888888, \"#fdca26\"], [1.0, \"#f0f921\"]], \"type\": \"histogram2dcontour\"}], \"mesh3d\": [{\"colorbar\": {\"outlinewidth\": 0, \"ticks\": \"\"}, \"type\": \"mesh3d\"}], \"parcoords\": [{\"line\": {\"colorbar\": {\"outlinewidth\": 0, \"ticks\": \"\"}}, \"type\": \"parcoords\"}], \"pie\": [{\"automargin\": true, \"type\": \"pie\"}], \"scatter\": [{\"marker\": {\"colorbar\": {\"outlinewidth\": 0, \"ticks\": \"\"}}, \"type\": \"scatter\"}], \"scatter3d\": [{\"line\": {\"colorbar\": {\"outlinewidth\": 0, \"ticks\": \"\"}}, \"marker\": {\"colorbar\": {\"outlinewidth\": 0, \"ticks\": \"\"}}, \"type\": \"scatter3d\"}], \"scattercarpet\": [{\"marker\": {\"colorbar\": {\"outlinewidth\": 0, \"ticks\": \"\"}}, \"type\": \"scattercarpet\"}], \"scattergeo\": [{\"marker\": {\"colorbar\": {\"outlinewidth\": 0, \"ticks\": \"\"}}, \"type\": \"scattergeo\"}], \"scattergl\": [{\"marker\": {\"colorbar\": {\"outlinewidth\": 0, \"ticks\": \"\"}}, \"type\": \"scattergl\"}], \"scattermapbox\": [{\"marker\": {\"colorbar\": {\"outlinewidth\": 0, \"ticks\": \"\"}}, \"type\": \"scattermapbox\"}], \"scatterpolar\": [{\"marker\": {\"colorbar\": {\"outlinewidth\": 0, \"ticks\": \"\"}}, \"type\": \"scatterpolar\"}], \"scatterpolargl\": [{\"marker\": {\"colorbar\": {\"outlinewidth\": 0, \"ticks\": \"\"}}, \"type\": \"scatterpolargl\"}], \"scatterternary\": [{\"marker\": {\"colorbar\": {\"outlinewidth\": 0, \"ticks\": \"\"}}, \"type\": \"scatterternary\"}], \"surface\": [{\"colorbar\": {\"outlinewidth\": 0, \"ticks\": \"\"}, \"colorscale\": [[0.0, \"#0d0887\"], [0.1111111111111111, \"#46039f\"], [0.2222222222222222, \"#7201a8\"], [0.3333333333333333, \"#9c179e\"], [0.4444444444444444, \"#bd3786\"], [0.5555555555555556, \"#d8576b\"], [0.6666666666666666, \"#ed7953\"], [0.7777777777777778, \"#fb9f3a\"], [0.8888888888888888, \"#fdca26\"], [1.0, \"#f0f921\"]], \"type\": \"surface\"}], \"table\": [{\"cells\": {\"fill\": {\"color\": \"#EBF0F8\"}, \"line\": {\"color\": \"white\"}}, \"header\": {\"fill\": {\"color\": \"#C8D4E3\"}, \"line\": {\"color\": \"white\"}}, \"type\": \"table\"}]}, \"layout\": {\"annotationdefaults\": {\"arrowcolor\": \"#2a3f5f\", \"arrowhead\": 0, \"arrowwidth\": 1}, \"autotypenumbers\": \"strict\", \"coloraxis\": {\"colorbar\": {\"outlinewidth\": 0, \"ticks\": \"\"}}, \"colorscale\": {\"diverging\": [[0, \"#8e0152\"], [0.1, \"#c51b7d\"], [0.2, \"#de77ae\"], [0.3, \"#f1b6da\"], [0.4, \"#fde0ef\"], [0.5, \"#f7f7f7\"], [0.6, \"#e6f5d0\"], [0.7, \"#b8e186\"], [0.8, \"#7fbc41\"], [0.9, \"#4d9221\"], [1, \"#276419\"]], \"sequential\": [[0.0, \"#0d0887\"], [0.1111111111111111, \"#46039f\"], [0.2222222222222222, \"#7201a8\"], [0.3333333333333333, \"#9c179e\"], [0.4444444444444444, \"#bd3786\"], [0.5555555555555556, \"#d8576b\"], [0.6666666666666666, \"#ed7953\"], [0.7777777777777778, \"#fb9f3a\"], [0.8888888888888888, \"#fdca26\"], [1.0, \"#f0f921\"]], \"sequentialminus\": [[0.0, \"#0d0887\"], [0.1111111111111111, \"#46039f\"], [0.2222222222222222, \"#7201a8\"], [0.3333333333333333, \"#9c179e\"], [0.4444444444444444, \"#bd3786\"], [0.5555555555555556, \"#d8576b\"], [0.6666666666666666, \"#ed7953\"], [0.7777777777777778, \"#fb9f3a\"], [0.8888888888888888, \"#fdca26\"], [1.0, \"#f0f921\"]]}, \"colorway\": [\"#636efa\", \"#EF553B\", \"#00cc96\", \"#ab63fa\", \"#FFA15A\", \"#19d3f3\", \"#FF6692\", \"#B6E880\", \"#FF97FF\", \"#FECB52\"], \"font\": {\"color\": \"#2a3f5f\"}, \"geo\": {\"bgcolor\": \"white\", \"lakecolor\": \"white\", \"landcolor\": \"#E5ECF6\", \"showlakes\": true, \"showland\": true, \"subunitcolor\": \"white\"}, \"hoverlabel\": {\"align\": \"left\"}, \"hovermode\": \"closest\", \"mapbox\": {\"style\": \"light\"}, \"paper_bgcolor\": \"white\", \"plot_bgcolor\": \"#E5ECF6\", \"polar\": {\"angularaxis\": {\"gridcolor\": \"white\", \"linecolor\": \"white\", \"ticks\": \"\"}, \"bgcolor\": \"#E5ECF6\", \"radialaxis\": {\"gridcolor\": \"white\", \"linecolor\": \"white\", \"ticks\": \"\"}}, \"scene\": {\"xaxis\": {\"backgroundcolor\": \"#E5ECF6\", \"gridcolor\": \"white\", \"gridwidth\": 2, \"linecolor\": \"white\", \"showbackground\": true, \"ticks\": \"\", \"zerolinecolor\": \"white\"}, \"yaxis\": {\"backgroundcolor\": \"#E5ECF6\", \"gridcolor\": \"white\", \"gridwidth\": 2, \"linecolor\": \"white\", \"showbackground\": true, \"ticks\": \"\", \"zerolinecolor\": \"white\"}, \"zaxis\": {\"backgroundcolor\": \"#E5ECF6\", \"gridcolor\": \"white\", \"gridwidth\": 2, \"linecolor\": \"white\", \"showbackground\": true, \"ticks\": \"\", \"zerolinecolor\": \"white\"}}, \"shapedefaults\": {\"line\": {\"color\": \"#2a3f5f\"}}, \"ternary\": {\"aaxis\": {\"gridcolor\": \"white\", \"linecolor\": \"white\", \"ticks\": \"\"}, \"baxis\": {\"gridcolor\": \"white\", \"linecolor\": \"white\", \"ticks\": \"\"}, \"bgcolor\": \"#E5ECF6\", \"caxis\": {\"gridcolor\": \"white\", \"linecolor\": \"white\", \"ticks\": \"\"}}, \"title\": {\"x\": 0.05}, \"xaxis\": {\"automargin\": true, \"gridcolor\": \"white\", \"linecolor\": \"white\", \"ticks\": \"\", \"title\": {\"standoff\": 15}, \"zerolinecolor\": \"white\", \"zerolinewidth\": 2}, \"yaxis\": {\"automargin\": true, \"gridcolor\": \"white\", \"linecolor\": \"white\", \"ticks\": \"\", \"title\": {\"standoff\": 15}, \"zerolinecolor\": \"white\", \"zerolinewidth\": 2}}}, \"width\": 1000},                        {\"responsive\": true}                    ).then(function(){\n                            \nvar gd = document.getElementById('c34f88ea-261d-41be-af69-7d081dfc69fb');\nvar x = new MutationObserver(function (mutations, observer) {{\n        var display = window.getComputedStyle(gd).display;\n        if (!display || display === 'none') {{\n            console.log([gd, 'removed!']);\n            Plotly.purge(gd);\n            observer.disconnect();\n        }}\n}});\n\n// Listen for the removal of the full notebook cells\nvar notebookContainer = gd.closest('#notebook-container');\nif (notebookContainer) {{\n    x.observe(notebookContainer, {childList: true});\n}}\n\n// Listen for the clearing of the current output cell\nvar outputEl = gd.closest('.output');\nif (outputEl) {{\n    x.observe(outputEl, {childList: true});\n}}\n\n                        })                };                });            </script>        </div>"
     },
     "metadata": {}
    }
   ],
   "source": [
    "data=data.astype({\"STATE_UT_NAME\":'category'})\n",
    "data=data.astype({\"DISTRICT\":'category'})\n",
    "#district wise average annual flow of rainfall \n",
    "\n",
    "data1_vlr=data[['DISTRICT', 'JAN', 'FEB', 'MAR', 'APR', 'MAY', 'JUN', 'JUL', 'AUG', 'SEP', 'OCT', 'NOV', 'DEC']].loc[data['STATE_UT_NAME']=='TAMIL NADU']\n",
    "\n",
    "\n",
    "month=['JAN', 'FEB', 'MAR', 'APR', 'MAY', 'JUN', 'JUL', 'AUG', 'SEP', 'OCT', 'NOV', 'DEC']\n",
    "\n",
    "data2_vlr=[]\n",
    "for i in month:\n",
    "    data2_vlr.append(\n",
    "        go.Bar(\n",
    "            x = data1_vlr['DISTRICT'],\n",
    "            y = data1_vlr[i].values,\n",
    "            name = i))\n",
    "\n",
    "layout = go.Layout(barmode = 'stack',width=1000, height=900)\n",
    "go.Figure(data = data2_vlr, layout = layout).show()\n"
   ]
  },
  {
   "cell_type": "code",
   "execution_count": 31,
   "metadata": {},
   "outputs": [],
   "source": [
    "from sklearn.model_selection import train_test_split\n",
    "from sklearn.metrics import mean_absolute_error\n",
    "\n",
    "# formatting the data in a way that when the ranifall for the last four months were given, the possible flow of rainfall \n",
    "# on next consecutive month will get predicted\n",
    "\n",
    "\n",
    "districtwise_data=np.asarray(data[['JAN', 'FEB', 'MAR', 'APR', \n",
    "                                'MAY', 'JUN', 'JUL', 'AUG', 'SEP', 'OCT','NOV', 'DEC']])\n",
    "\n",
    "x=None\n",
    "y=None\n",
    "for i in range(districtwise_data.shape[1]-4):\n",
    "    if x is None:\n",
    "        x = districtwise_data[:, i:i+4]\n",
    "        y = districtwise_data[:, i+4]\n",
    "    else:\n",
    "        x = np.concatenate((x, districtwise_data[:, i:i+4]), axis=0)\n",
    "        y = np.concatenate((y, districtwise_data[:, i+4]), axis=0)\n",
    "\n",
    "\n",
    "x_train,x_test,y_train,y_test=train_test_split(x,y,train_size=0.8,random_state=40)\n"
   ]
  },
  {
   "cell_type": "code",
   "execution_count": 32,
   "metadata": {},
   "outputs": [],
   "source": [
    "from tensorflow.python.keras.models import Sequential\n",
    "from tensorflow.python.keras.layers import Dense\n",
    "from tensorflow.python.keras.callbacks import EarlyStopping"
   ]
  },
  {
   "cell_type": "code",
   "execution_count": 33,
   "metadata": {},
   "outputs": [
    {
     "output_type": "stream",
     "name": "stdout",
     "text": [
      "Model: \"sequential_1\"\n_________________________________________________________________\nLayer (type)                 Output Shape              Param #   \n=================================================================\ndense_4 (Dense)              (None, 100)               500       \n_________________________________________________________________\ndense_5 (Dense)              (None, 100)               10100     \n_________________________________________________________________\ndense_6 (Dense)              (None, 100)               10100     \n_________________________________________________________________\ndense_7 (Dense)              (None, 1)                 101       \n=================================================================\nTotal params: 20,801\nTrainable params: 20,801\nNon-trainable params: 0\n_________________________________________________________________\n"
     ]
    }
   ],
   "source": [
    "#configuring the neural network model\n",
    "model=Sequential()\n",
    "model.add(Dense(100,input_shape=(4,),kernel_initializer='normal',activation='elu'))\n",
    "model.add(Dense(100,activation='elu'))\n",
    "model.add(Dense(100,activation='elu'))\n",
    "model.add(Dense(1,activation='linear'))\n",
    "model.compile(loss='mean_squared_logarithmic_error',optimizer='adamax',metrics=['mse','mae'] )\n",
    "model.summary()"
   ]
  },
  {
   "cell_type": "code",
   "execution_count": 34,
   "metadata": {},
   "outputs": [
    {
     "output_type": "stream",
     "name": "stdout",
     "text": [
      "Epoch 1/200\n",
      "132/132 [==============================] - 2s 7ms/step - loss: 1.7865 - mse: 29810.1875 - mae: 106.8320 - val_loss: 0.8380 - val_mse: 19238.6621 - val_mae: 86.0932\n",
      "Epoch 2/200\n",
      "132/132 [==============================] - 0s 3ms/step - loss: 0.6280 - mse: 14868.3330 - mae: 71.7663 - val_loss: 0.5099 - val_mse: 12214.2451 - val_mae: 66.6943\n",
      "Epoch 3/200\n",
      "132/132 [==============================] - 0s 3ms/step - loss: 0.4439 - mse: 10719.3477 - mae: 59.3218 - val_loss: 0.4034 - val_mse: 9544.3418 - val_mae: 58.4122\n",
      "Epoch 4/200\n",
      "132/132 [==============================] - 1s 4ms/step - loss: 0.3823 - mse: 9433.5010 - mae: 55.9949 - val_loss: 0.3613 - val_mse: 9035.2559 - val_mae: 57.2163\n",
      "Epoch 5/200\n",
      "132/132 [==============================] - 0s 3ms/step - loss: 0.3609 - mse: 9005.8633 - mae: 55.3988 - val_loss: 0.3551 - val_mse: 8720.2676 - val_mae: 56.4880\n",
      "Epoch 6/200\n",
      "132/132 [==============================] - 0s 3ms/step - loss: 0.3443 - mse: 8627.8770 - mae: 54.5911 - val_loss: 0.3283 - val_mse: 8651.3643 - val_mae: 56.1233\n",
      "Epoch 7/200\n",
      "132/132 [==============================] - 0s 3ms/step - loss: 0.3328 - mse: 8311.5576 - mae: 53.7308 - val_loss: 0.3244 - val_mse: 8655.3252 - val_mae: 56.0390\n",
      "Epoch 8/200\n",
      "132/132 [==============================] - 0s 3ms/step - loss: 0.3275 - mse: 8200.8682 - mae: 53.5549 - val_loss: 0.3057 - val_mse: 8520.3896 - val_mae: 55.3527\n",
      "Epoch 9/200\n",
      "132/132 [==============================] - 0s 3ms/step - loss: 0.3120 - mse: 7833.4658 - mae: 52.3840 - val_loss: 0.2972 - val_mse: 8274.9883 - val_mae: 54.6673\n",
      "Epoch 10/200\n",
      "132/132 [==============================] - 0s 3ms/step - loss: 0.3069 - mse: 7669.9731 - mae: 51.8851 - val_loss: 0.2894 - val_mse: 8333.0088 - val_mae: 54.2072\n",
      "Epoch 11/200\n",
      "132/132 [==============================] - 0s 3ms/step - loss: 0.3004 - mse: 7459.2974 - mae: 51.2787 - val_loss: 0.2870 - val_mse: 8300.0283 - val_mae: 53.9039\n",
      "Epoch 12/200\n",
      "132/132 [==============================] - 0s 3ms/step - loss: 0.2881 - mse: 7309.3223 - mae: 50.7665 - val_loss: 0.2926 - val_mse: 8119.0127 - val_mae: 53.6867\n",
      "Epoch 13/200\n",
      "132/132 [==============================] - 0s 3ms/step - loss: 0.2889 - mse: 7267.9834 - mae: 50.5167 - val_loss: 0.2715 - val_mse: 8336.0742 - val_mae: 53.2812\n",
      "Epoch 14/200\n",
      "132/132 [==============================] - 0s 3ms/step - loss: 0.2789 - mse: 7140.2769 - mae: 49.9521 - val_loss: 0.2768 - val_mse: 8540.0010 - val_mae: 53.4440\n",
      "Epoch 15/200\n",
      "132/132 [==============================] - 0s 3ms/step - loss: 0.2741 - mse: 7076.7075 - mae: 49.5606 - val_loss: 0.2680 - val_mse: 8190.4702 - val_mae: 52.3727\n",
      "Epoch 16/200\n",
      "132/132 [==============================] - 0s 3ms/step - loss: 0.2735 - mse: 7018.8101 - mae: 49.3341 - val_loss: 0.2666 - val_mse: 8294.4746 - val_mae: 52.2700\n",
      "Epoch 17/200\n",
      "132/132 [==============================] - 0s 3ms/step - loss: 0.2705 - mse: 6902.8047 - mae: 48.7828 - val_loss: 0.2744 - val_mse: 7782.7734 - val_mae: 51.0570\n",
      "Epoch 18/200\n",
      "132/132 [==============================] - 0s 3ms/step - loss: 0.2645 - mse: 6878.8813 - mae: 48.3801 - val_loss: 0.2653 - val_mse: 7687.9033 - val_mae: 50.7629\n",
      "Epoch 19/200\n",
      "132/132 [==============================] - 0s 3ms/step - loss: 0.2619 - mse: 6832.6509 - mae: 47.9720 - val_loss: 0.2522 - val_mse: 7868.7617 - val_mae: 50.3994\n",
      "Epoch 20/200\n",
      "132/132 [==============================] - 0s 3ms/step - loss: 0.2615 - mse: 6754.8740 - mae: 47.5129 - val_loss: 0.2580 - val_mse: 7956.1890 - val_mae: 50.3428\n",
      "Epoch 21/200\n",
      "132/132 [==============================] - 0s 3ms/step - loss: 0.2590 - mse: 6713.4731 - mae: 47.1643 - val_loss: 0.2505 - val_mse: 7698.5317 - val_mae: 49.2153\n",
      "Epoch 22/200\n",
      "132/132 [==============================] - 0s 3ms/step - loss: 0.2581 - mse: 6649.4150 - mae: 46.8871 - val_loss: 0.2546 - val_mse: 7613.4771 - val_mae: 48.8423\n",
      "Epoch 23/200\n",
      "132/132 [==============================] - 0s 3ms/step - loss: 0.2633 - mse: 6578.8853 - mae: 46.5261 - val_loss: 0.2410 - val_mse: 7453.3467 - val_mae: 48.0656\n",
      "Epoch 24/200\n",
      "132/132 [==============================] - 0s 3ms/step - loss: 0.2497 - mse: 6378.9590 - mae: 45.5237 - val_loss: 0.2391 - val_mse: 7574.2964 - val_mae: 48.1500\n",
      "Epoch 25/200\n",
      "132/132 [==============================] - 0s 3ms/step - loss: 0.2520 - mse: 6371.0503 - mae: 45.5359 - val_loss: 0.2392 - val_mse: 7590.4971 - val_mae: 47.8975\n",
      "Epoch 26/200\n",
      "132/132 [==============================] - 0s 3ms/step - loss: 0.2490 - mse: 6388.6748 - mae: 45.4292 - val_loss: 0.2434 - val_mse: 7780.8125 - val_mae: 48.1363\n",
      "Epoch 27/200\n",
      "132/132 [==============================] - 0s 3ms/step - loss: 0.2460 - mse: 6341.8779 - mae: 45.1319 - val_loss: 0.2352 - val_mse: 7261.0796 - val_mae: 46.7905\n",
      "Epoch 28/200\n",
      "132/132 [==============================] - 0s 3ms/step - loss: 0.2403 - mse: 6249.8423 - mae: 44.6541 - val_loss: 0.2366 - val_mse: 7551.9829 - val_mae: 47.1609\n",
      "Epoch 29/200\n",
      "132/132 [==============================] - 0s 3ms/step - loss: 0.2380 - mse: 6183.3813 - mae: 44.4316 - val_loss: 0.2325 - val_mse: 7368.1963 - val_mae: 46.6017\n",
      "Epoch 30/200\n",
      "132/132 [==============================] - 0s 3ms/step - loss: 0.2365 - mse: 6242.2842 - mae: 44.4739 - val_loss: 0.2323 - val_mse: 7416.7861 - val_mae: 46.4758\n",
      "Epoch 31/200\n",
      "132/132 [==============================] - 0s 3ms/step - loss: 0.2393 - mse: 6201.4790 - mae: 44.2424 - val_loss: 0.2284 - val_mse: 7462.6382 - val_mae: 46.3864\n",
      "Epoch 32/200\n",
      "132/132 [==============================] - 0s 3ms/step - loss: 0.2316 - mse: 6109.8770 - mae: 43.6923 - val_loss: 0.2310 - val_mse: 7385.0254 - val_mae: 46.1742\n",
      "Epoch 33/200\n",
      "132/132 [==============================] - 0s 3ms/step - loss: 0.2356 - mse: 6115.8828 - mae: 43.8287 - val_loss: 0.2554 - val_mse: 7002.8555 - val_mae: 45.6466\n",
      "Epoch 34/200\n",
      "132/132 [==============================] - 0s 3ms/step - loss: 0.2333 - mse: 6104.9248 - mae: 43.5971 - val_loss: 0.2466 - val_mse: 7719.4678 - val_mae: 47.0426\n",
      "Epoch 35/200\n",
      "132/132 [==============================] - 0s 3ms/step - loss: 0.2350 - mse: 6217.3955 - mae: 44.0560 - val_loss: 0.2209 - val_mse: 6986.7095 - val_mae: 44.9672\n",
      "Epoch 36/200\n",
      "132/132 [==============================] - 0s 3ms/step - loss: 0.2272 - mse: 6042.2646 - mae: 43.1483 - val_loss: 0.2243 - val_mse: 7375.2964 - val_mae: 45.9470\n",
      "Epoch 37/200\n",
      "132/132 [==============================] - 0s 3ms/step - loss: 0.2319 - mse: 6023.5771 - mae: 43.3621 - val_loss: 0.2339 - val_mse: 7551.9360 - val_mae: 46.1324\n",
      "Epoch 38/200\n",
      "132/132 [==============================] - 0s 3ms/step - loss: 0.2278 - mse: 6165.8667 - mae: 43.6829 - val_loss: 0.2340 - val_mse: 7293.3330 - val_mae: 45.4521\n",
      "Epoch 39/200\n",
      "132/132 [==============================] - 0s 3ms/step - loss: 0.2267 - mse: 5927.3335 - mae: 42.9424 - val_loss: 0.2256 - val_mse: 6969.6777 - val_mae: 44.4483\n"
     ]
    }
   ],
   "source": [
    "# fitting the data in model\n",
    "early_stopper=EarlyStopping(patience=4,mode='auto')\n",
    "model_fit=model.fit(x_train, y_train,batch_size=25,epochs=200,verbose=1,validation_split=0.2,callbacks=[early_stopper])"
   ]
  },
  {
   "cell_type": "code",
   "execution_count": 35,
   "metadata": {},
   "outputs": [
    {
     "output_type": "stream",
     "name": "stdout",
     "text": [
      "Mean Absolute error:  42.64668579057411\n"
     ]
    }
   ],
   "source": [
    "y_pred=model.predict(x_test)\n",
    "print(\"Mean Absolute error: \",mean_absolute_error(y_test,y_pred))"
   ]
  },
  {
   "cell_type": "code",
   "execution_count": 36,
   "metadata": {},
   "outputs": [
    {
     "output_type": "display_data",
     "data": {
      "text/plain": "<Figure size 432x288 with 1 Axes>",
      "image/svg+xml": "<?xml version=\"1.0\" encoding=\"utf-8\" standalone=\"no\"?>\r\n<!DOCTYPE svg PUBLIC \"-//W3C//DTD SVG 1.1//EN\"\r\n  \"http://www.w3.org/Graphics/SVG/1.1/DTD/svg11.dtd\">\r\n<!-- Created with matplotlib (https://matplotlib.org/) -->\r\n<svg height=\"277.314375pt\" version=\"1.1\" viewBox=\"0 0 385.78125 277.314375\" width=\"385.78125pt\" xmlns=\"http://www.w3.org/2000/svg\" xmlns:xlink=\"http://www.w3.org/1999/xlink\">\r\n <metadata>\r\n  <rdf:RDF xmlns:cc=\"http://creativecommons.org/ns#\" xmlns:dc=\"http://purl.org/dc/elements/1.1/\" xmlns:rdf=\"http://www.w3.org/1999/02/22-rdf-syntax-ns#\">\r\n   <cc:Work>\r\n    <dc:type rdf:resource=\"http://purl.org/dc/dcmitype/StillImage\"/>\r\n    <dc:date>2021-05-28T10:56:39.643041</dc:date>\r\n    <dc:format>image/svg+xml</dc:format>\r\n    <dc:creator>\r\n     <cc:Agent>\r\n      <dc:title>Matplotlib v3.3.1, https://matplotlib.org/</dc:title>\r\n     </cc:Agent>\r\n    </dc:creator>\r\n   </cc:Work>\r\n  </rdf:RDF>\r\n </metadata>\r\n <defs>\r\n  <style type=\"text/css\">*{stroke-linecap:butt;stroke-linejoin:round;}</style>\r\n </defs>\r\n <g id=\"figure_1\">\r\n  <g id=\"patch_1\">\r\n   <path d=\"M 0 277.314375 \r\nL 385.78125 277.314375 \r\nL 385.78125 0 \r\nL 0 0 \r\nz\r\n\" style=\"fill:none;\"/>\r\n  </g>\r\n  <g id=\"axes_1\">\r\n   <g id=\"patch_2\">\r\n    <path d=\"M 43.78125 239.758125 \r\nL 378.58125 239.758125 \r\nL 378.58125 22.318125 \r\nL 43.78125 22.318125 \r\nz\r\n\" style=\"fill:#ffffff;\"/>\r\n   </g>\r\n   <g id=\"matplotlib.axis_1\">\r\n    <g id=\"xtick_1\">\r\n     <g id=\"line2d_1\">\r\n      <defs>\r\n       <path d=\"M 0 0 \r\nL 0 3.5 \r\n\" id=\"m6d7255c838\" style=\"stroke:#000000;stroke-width:0.8;\"/>\r\n      </defs>\r\n      <g>\r\n       <use style=\"stroke:#000000;stroke-width:0.8;\" x=\"58.999432\" xlink:href=\"#m6d7255c838\" y=\"239.758125\"/>\r\n      </g>\r\n     </g>\r\n     <g id=\"text_1\">\r\n      <!-- 0 -->\r\n      <g transform=\"translate(55.818182 254.356562)scale(0.1 -0.1)\">\r\n       <defs>\r\n        <path d=\"M 31.78125 66.40625 \r\nQ 24.171875 66.40625 20.328125 58.90625 \r\nQ 16.5 51.421875 16.5 36.375 \r\nQ 16.5 21.390625 20.328125 13.890625 \r\nQ 24.171875 6.390625 31.78125 6.390625 \r\nQ 39.453125 6.390625 43.28125 13.890625 \r\nQ 47.125 21.390625 47.125 36.375 \r\nQ 47.125 51.421875 43.28125 58.90625 \r\nQ 39.453125 66.40625 31.78125 66.40625 \r\nz\r\nM 31.78125 74.21875 \r\nQ 44.046875 74.21875 50.515625 64.515625 \r\nQ 56.984375 54.828125 56.984375 36.375 \r\nQ 56.984375 17.96875 50.515625 8.265625 \r\nQ 44.046875 -1.421875 31.78125 -1.421875 \r\nQ 19.53125 -1.421875 13.0625 8.265625 \r\nQ 6.59375 17.96875 6.59375 36.375 \r\nQ 6.59375 54.828125 13.0625 64.515625 \r\nQ 19.53125 74.21875 31.78125 74.21875 \r\nz\r\n\" id=\"DejaVuSans-48\"/>\r\n       </defs>\r\n       <use xlink:href=\"#DejaVuSans-48\"/>\r\n      </g>\r\n     </g>\r\n    </g>\r\n    <g id=\"xtick_2\">\r\n     <g id=\"line2d_2\">\r\n      <g>\r\n       <use style=\"stroke:#000000;stroke-width:0.8;\" x=\"99.047279\" xlink:href=\"#m6d7255c838\" y=\"239.758125\"/>\r\n      </g>\r\n     </g>\r\n     <g id=\"text_2\">\r\n      <!-- 5 -->\r\n      <g transform=\"translate(95.866029 254.356562)scale(0.1 -0.1)\">\r\n       <defs>\r\n        <path d=\"M 10.796875 72.90625 \r\nL 49.515625 72.90625 \r\nL 49.515625 64.59375 \r\nL 19.828125 64.59375 \r\nL 19.828125 46.734375 \r\nQ 21.96875 47.46875 24.109375 47.828125 \r\nQ 26.265625 48.1875 28.421875 48.1875 \r\nQ 40.625 48.1875 47.75 41.5 \r\nQ 54.890625 34.8125 54.890625 23.390625 \r\nQ 54.890625 11.625 47.5625 5.09375 \r\nQ 40.234375 -1.421875 26.90625 -1.421875 \r\nQ 22.3125 -1.421875 17.546875 -0.640625 \r\nQ 12.796875 0.140625 7.71875 1.703125 \r\nL 7.71875 11.625 \r\nQ 12.109375 9.234375 16.796875 8.0625 \r\nQ 21.484375 6.890625 26.703125 6.890625 \r\nQ 35.15625 6.890625 40.078125 11.328125 \r\nQ 45.015625 15.765625 45.015625 23.390625 \r\nQ 45.015625 31 40.078125 35.4375 \r\nQ 35.15625 39.890625 26.703125 39.890625 \r\nQ 22.75 39.890625 18.8125 39.015625 \r\nQ 14.890625 38.140625 10.796875 36.28125 \r\nz\r\n\" id=\"DejaVuSans-53\"/>\r\n       </defs>\r\n       <use xlink:href=\"#DejaVuSans-53\"/>\r\n      </g>\r\n     </g>\r\n    </g>\r\n    <g id=\"xtick_3\">\r\n     <g id=\"line2d_3\">\r\n      <g>\r\n       <use style=\"stroke:#000000;stroke-width:0.8;\" x=\"139.095126\" xlink:href=\"#m6d7255c838\" y=\"239.758125\"/>\r\n      </g>\r\n     </g>\r\n     <g id=\"text_3\">\r\n      <!-- 10 -->\r\n      <g transform=\"translate(132.732626 254.356562)scale(0.1 -0.1)\">\r\n       <defs>\r\n        <path d=\"M 12.40625 8.296875 \r\nL 28.515625 8.296875 \r\nL 28.515625 63.921875 \r\nL 10.984375 60.40625 \r\nL 10.984375 69.390625 \r\nL 28.421875 72.90625 \r\nL 38.28125 72.90625 \r\nL 38.28125 8.296875 \r\nL 54.390625 8.296875 \r\nL 54.390625 0 \r\nL 12.40625 0 \r\nz\r\n\" id=\"DejaVuSans-49\"/>\r\n       </defs>\r\n       <use xlink:href=\"#DejaVuSans-49\"/>\r\n       <use x=\"63.623047\" xlink:href=\"#DejaVuSans-48\"/>\r\n      </g>\r\n     </g>\r\n    </g>\r\n    <g id=\"xtick_4\">\r\n     <g id=\"line2d_4\">\r\n      <g>\r\n       <use style=\"stroke:#000000;stroke-width:0.8;\" x=\"179.142972\" xlink:href=\"#m6d7255c838\" y=\"239.758125\"/>\r\n      </g>\r\n     </g>\r\n     <g id=\"text_4\">\r\n      <!-- 15 -->\r\n      <g transform=\"translate(172.780472 254.356562)scale(0.1 -0.1)\">\r\n       <use xlink:href=\"#DejaVuSans-49\"/>\r\n       <use x=\"63.623047\" xlink:href=\"#DejaVuSans-53\"/>\r\n      </g>\r\n     </g>\r\n    </g>\r\n    <g id=\"xtick_5\">\r\n     <g id=\"line2d_5\">\r\n      <g>\r\n       <use style=\"stroke:#000000;stroke-width:0.8;\" x=\"219.190819\" xlink:href=\"#m6d7255c838\" y=\"239.758125\"/>\r\n      </g>\r\n     </g>\r\n     <g id=\"text_5\">\r\n      <!-- 20 -->\r\n      <g transform=\"translate(212.828319 254.356562)scale(0.1 -0.1)\">\r\n       <defs>\r\n        <path d=\"M 19.1875 8.296875 \r\nL 53.609375 8.296875 \r\nL 53.609375 0 \r\nL 7.328125 0 \r\nL 7.328125 8.296875 \r\nQ 12.9375 14.109375 22.625 23.890625 \r\nQ 32.328125 33.6875 34.8125 36.53125 \r\nQ 39.546875 41.84375 41.421875 45.53125 \r\nQ 43.3125 49.21875 43.3125 52.78125 \r\nQ 43.3125 58.59375 39.234375 62.25 \r\nQ 35.15625 65.921875 28.609375 65.921875 \r\nQ 23.96875 65.921875 18.8125 64.3125 \r\nQ 13.671875 62.703125 7.8125 59.421875 \r\nL 7.8125 69.390625 \r\nQ 13.765625 71.78125 18.9375 73 \r\nQ 24.125 74.21875 28.421875 74.21875 \r\nQ 39.75 74.21875 46.484375 68.546875 \r\nQ 53.21875 62.890625 53.21875 53.421875 \r\nQ 53.21875 48.921875 51.53125 44.890625 \r\nQ 49.859375 40.875 45.40625 35.40625 \r\nQ 44.1875 33.984375 37.640625 27.21875 \r\nQ 31.109375 20.453125 19.1875 8.296875 \r\nz\r\n\" id=\"DejaVuSans-50\"/>\r\n       </defs>\r\n       <use xlink:href=\"#DejaVuSans-50\"/>\r\n       <use x=\"63.623047\" xlink:href=\"#DejaVuSans-48\"/>\r\n      </g>\r\n     </g>\r\n    </g>\r\n    <g id=\"xtick_6\">\r\n     <g id=\"line2d_6\">\r\n      <g>\r\n       <use style=\"stroke:#000000;stroke-width:0.8;\" x=\"259.238666\" xlink:href=\"#m6d7255c838\" y=\"239.758125\"/>\r\n      </g>\r\n     </g>\r\n     <g id=\"text_6\">\r\n      <!-- 25 -->\r\n      <g transform=\"translate(252.876166 254.356562)scale(0.1 -0.1)\">\r\n       <use xlink:href=\"#DejaVuSans-50\"/>\r\n       <use x=\"63.623047\" xlink:href=\"#DejaVuSans-53\"/>\r\n      </g>\r\n     </g>\r\n    </g>\r\n    <g id=\"xtick_7\">\r\n     <g id=\"line2d_7\">\r\n      <g>\r\n       <use style=\"stroke:#000000;stroke-width:0.8;\" x=\"299.286513\" xlink:href=\"#m6d7255c838\" y=\"239.758125\"/>\r\n      </g>\r\n     </g>\r\n     <g id=\"text_7\">\r\n      <!-- 30 -->\r\n      <g transform=\"translate(292.924013 254.356562)scale(0.1 -0.1)\">\r\n       <defs>\r\n        <path d=\"M 40.578125 39.3125 \r\nQ 47.65625 37.796875 51.625 33 \r\nQ 55.609375 28.21875 55.609375 21.1875 \r\nQ 55.609375 10.40625 48.1875 4.484375 \r\nQ 40.765625 -1.421875 27.09375 -1.421875 \r\nQ 22.515625 -1.421875 17.65625 -0.515625 \r\nQ 12.796875 0.390625 7.625 2.203125 \r\nL 7.625 11.71875 \r\nQ 11.71875 9.328125 16.59375 8.109375 \r\nQ 21.484375 6.890625 26.8125 6.890625 \r\nQ 36.078125 6.890625 40.9375 10.546875 \r\nQ 45.796875 14.203125 45.796875 21.1875 \r\nQ 45.796875 27.640625 41.28125 31.265625 \r\nQ 36.765625 34.90625 28.71875 34.90625 \r\nL 20.21875 34.90625 \r\nL 20.21875 43.015625 \r\nL 29.109375 43.015625 \r\nQ 36.375 43.015625 40.234375 45.921875 \r\nQ 44.09375 48.828125 44.09375 54.296875 \r\nQ 44.09375 59.90625 40.109375 62.90625 \r\nQ 36.140625 65.921875 28.71875 65.921875 \r\nQ 24.65625 65.921875 20.015625 65.03125 \r\nQ 15.375 64.15625 9.8125 62.3125 \r\nL 9.8125 71.09375 \r\nQ 15.4375 72.65625 20.34375 73.4375 \r\nQ 25.25 74.21875 29.59375 74.21875 \r\nQ 40.828125 74.21875 47.359375 69.109375 \r\nQ 53.90625 64.015625 53.90625 55.328125 \r\nQ 53.90625 49.265625 50.4375 45.09375 \r\nQ 46.96875 40.921875 40.578125 39.3125 \r\nz\r\n\" id=\"DejaVuSans-51\"/>\r\n       </defs>\r\n       <use xlink:href=\"#DejaVuSans-51\"/>\r\n       <use x=\"63.623047\" xlink:href=\"#DejaVuSans-48\"/>\r\n      </g>\r\n     </g>\r\n    </g>\r\n    <g id=\"xtick_8\">\r\n     <g id=\"line2d_8\">\r\n      <g>\r\n       <use style=\"stroke:#000000;stroke-width:0.8;\" x=\"339.33436\" xlink:href=\"#m6d7255c838\" y=\"239.758125\"/>\r\n      </g>\r\n     </g>\r\n     <g id=\"text_8\">\r\n      <!-- 35 -->\r\n      <g transform=\"translate(332.97186 254.356562)scale(0.1 -0.1)\">\r\n       <use xlink:href=\"#DejaVuSans-51\"/>\r\n       <use x=\"63.623047\" xlink:href=\"#DejaVuSans-53\"/>\r\n      </g>\r\n     </g>\r\n    </g>\r\n    <g id=\"text_9\">\r\n     <!-- epoch -->\r\n     <g transform=\"translate(195.953125 268.034687)scale(0.1 -0.1)\">\r\n      <defs>\r\n       <path d=\"M 56.203125 29.59375 \r\nL 56.203125 25.203125 \r\nL 14.890625 25.203125 \r\nQ 15.484375 15.921875 20.484375 11.0625 \r\nQ 25.484375 6.203125 34.421875 6.203125 \r\nQ 39.59375 6.203125 44.453125 7.46875 \r\nQ 49.3125 8.734375 54.109375 11.28125 \r\nL 54.109375 2.78125 \r\nQ 49.265625 0.734375 44.1875 -0.34375 \r\nQ 39.109375 -1.421875 33.890625 -1.421875 \r\nQ 20.796875 -1.421875 13.15625 6.1875 \r\nQ 5.515625 13.8125 5.515625 26.8125 \r\nQ 5.515625 40.234375 12.765625 48.109375 \r\nQ 20.015625 56 32.328125 56 \r\nQ 43.359375 56 49.78125 48.890625 \r\nQ 56.203125 41.796875 56.203125 29.59375 \r\nz\r\nM 47.21875 32.234375 \r\nQ 47.125 39.59375 43.09375 43.984375 \r\nQ 39.0625 48.390625 32.421875 48.390625 \r\nQ 24.90625 48.390625 20.390625 44.140625 \r\nQ 15.875 39.890625 15.1875 32.171875 \r\nz\r\n\" id=\"DejaVuSans-101\"/>\r\n       <path d=\"M 18.109375 8.203125 \r\nL 18.109375 -20.796875 \r\nL 9.078125 -20.796875 \r\nL 9.078125 54.6875 \r\nL 18.109375 54.6875 \r\nL 18.109375 46.390625 \r\nQ 20.953125 51.265625 25.265625 53.625 \r\nQ 29.59375 56 35.59375 56 \r\nQ 45.5625 56 51.78125 48.09375 \r\nQ 58.015625 40.1875 58.015625 27.296875 \r\nQ 58.015625 14.40625 51.78125 6.484375 \r\nQ 45.5625 -1.421875 35.59375 -1.421875 \r\nQ 29.59375 -1.421875 25.265625 0.953125 \r\nQ 20.953125 3.328125 18.109375 8.203125 \r\nz\r\nM 48.6875 27.296875 \r\nQ 48.6875 37.203125 44.609375 42.84375 \r\nQ 40.53125 48.484375 33.40625 48.484375 \r\nQ 26.265625 48.484375 22.1875 42.84375 \r\nQ 18.109375 37.203125 18.109375 27.296875 \r\nQ 18.109375 17.390625 22.1875 11.75 \r\nQ 26.265625 6.109375 33.40625 6.109375 \r\nQ 40.53125 6.109375 44.609375 11.75 \r\nQ 48.6875 17.390625 48.6875 27.296875 \r\nz\r\n\" id=\"DejaVuSans-112\"/>\r\n       <path d=\"M 30.609375 48.390625 \r\nQ 23.390625 48.390625 19.1875 42.75 \r\nQ 14.984375 37.109375 14.984375 27.296875 \r\nQ 14.984375 17.484375 19.15625 11.84375 \r\nQ 23.34375 6.203125 30.609375 6.203125 \r\nQ 37.796875 6.203125 41.984375 11.859375 \r\nQ 46.1875 17.53125 46.1875 27.296875 \r\nQ 46.1875 37.015625 41.984375 42.703125 \r\nQ 37.796875 48.390625 30.609375 48.390625 \r\nz\r\nM 30.609375 56 \r\nQ 42.328125 56 49.015625 48.375 \r\nQ 55.71875 40.765625 55.71875 27.296875 \r\nQ 55.71875 13.875 49.015625 6.21875 \r\nQ 42.328125 -1.421875 30.609375 -1.421875 \r\nQ 18.84375 -1.421875 12.171875 6.21875 \r\nQ 5.515625 13.875 5.515625 27.296875 \r\nQ 5.515625 40.765625 12.171875 48.375 \r\nQ 18.84375 56 30.609375 56 \r\nz\r\n\" id=\"DejaVuSans-111\"/>\r\n       <path d=\"M 48.78125 52.59375 \r\nL 48.78125 44.1875 \r\nQ 44.96875 46.296875 41.140625 47.34375 \r\nQ 37.3125 48.390625 33.40625 48.390625 \r\nQ 24.65625 48.390625 19.8125 42.84375 \r\nQ 14.984375 37.3125 14.984375 27.296875 \r\nQ 14.984375 17.28125 19.8125 11.734375 \r\nQ 24.65625 6.203125 33.40625 6.203125 \r\nQ 37.3125 6.203125 41.140625 7.25 \r\nQ 44.96875 8.296875 48.78125 10.40625 \r\nL 48.78125 2.09375 \r\nQ 45.015625 0.34375 40.984375 -0.53125 \r\nQ 36.96875 -1.421875 32.421875 -1.421875 \r\nQ 20.0625 -1.421875 12.78125 6.34375 \r\nQ 5.515625 14.109375 5.515625 27.296875 \r\nQ 5.515625 40.671875 12.859375 48.328125 \r\nQ 20.21875 56 33.015625 56 \r\nQ 37.15625 56 41.109375 55.140625 \r\nQ 45.0625 54.296875 48.78125 52.59375 \r\nz\r\n\" id=\"DejaVuSans-99\"/>\r\n       <path d=\"M 54.890625 33.015625 \r\nL 54.890625 0 \r\nL 45.90625 0 \r\nL 45.90625 32.71875 \r\nQ 45.90625 40.484375 42.875 44.328125 \r\nQ 39.84375 48.1875 33.796875 48.1875 \r\nQ 26.515625 48.1875 22.3125 43.546875 \r\nQ 18.109375 38.921875 18.109375 30.90625 \r\nL 18.109375 0 \r\nL 9.078125 0 \r\nL 9.078125 75.984375 \r\nL 18.109375 75.984375 \r\nL 18.109375 46.1875 \r\nQ 21.34375 51.125 25.703125 53.5625 \r\nQ 30.078125 56 35.796875 56 \r\nQ 45.21875 56 50.046875 50.171875 \r\nQ 54.890625 44.34375 54.890625 33.015625 \r\nz\r\n\" id=\"DejaVuSans-104\"/>\r\n      </defs>\r\n      <use xlink:href=\"#DejaVuSans-101\"/>\r\n      <use x=\"61.523438\" xlink:href=\"#DejaVuSans-112\"/>\r\n      <use x=\"125\" xlink:href=\"#DejaVuSans-111\"/>\r\n      <use x=\"186.181641\" xlink:href=\"#DejaVuSans-99\"/>\r\n      <use x=\"241.162109\" xlink:href=\"#DejaVuSans-104\"/>\r\n     </g>\r\n    </g>\r\n   </g>\r\n   <g id=\"matplotlib.axis_2\">\r\n    <g id=\"ytick_1\">\r\n     <g id=\"line2d_9\">\r\n      <defs>\r\n       <path d=\"M 0 0 \r\nL -3.5 0 \r\n\" id=\"m4a677fd82b\" style=\"stroke:#000000;stroke-width:0.8;\"/>\r\n      </defs>\r\n      <g>\r\n       <use style=\"stroke:#000000;stroke-width:0.8;\" x=\"43.78125\" xlink:href=\"#m4a677fd82b\" y=\"232.508838\"/>\r\n      </g>\r\n     </g>\r\n     <g id=\"text_10\">\r\n      <!-- 0.2 -->\r\n      <g transform=\"translate(20.878125 236.308057)scale(0.1 -0.1)\">\r\n       <defs>\r\n        <path d=\"M 10.6875 12.40625 \r\nL 21 12.40625 \r\nL 21 0 \r\nL 10.6875 0 \r\nz\r\n\" id=\"DejaVuSans-46\"/>\r\n       </defs>\r\n       <use xlink:href=\"#DejaVuSans-48\"/>\r\n       <use x=\"63.623047\" xlink:href=\"#DejaVuSans-46\"/>\r\n       <use x=\"95.410156\" xlink:href=\"#DejaVuSans-50\"/>\r\n      </g>\r\n     </g>\r\n    </g>\r\n    <g id=\"ytick_2\">\r\n     <g id=\"line2d_10\">\r\n      <g>\r\n       <use style=\"stroke:#000000;stroke-width:0.8;\" x=\"43.78125\" xlink:href=\"#m4a677fd82b\" y=\"207.258127\"/>\r\n      </g>\r\n     </g>\r\n     <g id=\"text_11\">\r\n      <!-- 0.4 -->\r\n      <g transform=\"translate(20.878125 211.057345)scale(0.1 -0.1)\">\r\n       <defs>\r\n        <path d=\"M 37.796875 64.3125 \r\nL 12.890625 25.390625 \r\nL 37.796875 25.390625 \r\nz\r\nM 35.203125 72.90625 \r\nL 47.609375 72.90625 \r\nL 47.609375 25.390625 \r\nL 58.015625 25.390625 \r\nL 58.015625 17.1875 \r\nL 47.609375 17.1875 \r\nL 47.609375 0 \r\nL 37.796875 0 \r\nL 37.796875 17.1875 \r\nL 4.890625 17.1875 \r\nL 4.890625 26.703125 \r\nz\r\n\" id=\"DejaVuSans-52\"/>\r\n       </defs>\r\n       <use xlink:href=\"#DejaVuSans-48\"/>\r\n       <use x=\"63.623047\" xlink:href=\"#DejaVuSans-46\"/>\r\n       <use x=\"95.410156\" xlink:href=\"#DejaVuSans-52\"/>\r\n      </g>\r\n     </g>\r\n    </g>\r\n    <g id=\"ytick_3\">\r\n     <g id=\"line2d_11\">\r\n      <g>\r\n       <use style=\"stroke:#000000;stroke-width:0.8;\" x=\"43.78125\" xlink:href=\"#m4a677fd82b\" y=\"182.007415\"/>\r\n      </g>\r\n     </g>\r\n     <g id=\"text_12\">\r\n      <!-- 0.6 -->\r\n      <g transform=\"translate(20.878125 185.806634)scale(0.1 -0.1)\">\r\n       <defs>\r\n        <path d=\"M 33.015625 40.375 \r\nQ 26.375 40.375 22.484375 35.828125 \r\nQ 18.609375 31.296875 18.609375 23.390625 \r\nQ 18.609375 15.53125 22.484375 10.953125 \r\nQ 26.375 6.390625 33.015625 6.390625 \r\nQ 39.65625 6.390625 43.53125 10.953125 \r\nQ 47.40625 15.53125 47.40625 23.390625 \r\nQ 47.40625 31.296875 43.53125 35.828125 \r\nQ 39.65625 40.375 33.015625 40.375 \r\nz\r\nM 52.59375 71.296875 \r\nL 52.59375 62.3125 \r\nQ 48.875 64.0625 45.09375 64.984375 \r\nQ 41.3125 65.921875 37.59375 65.921875 \r\nQ 27.828125 65.921875 22.671875 59.328125 \r\nQ 17.53125 52.734375 16.796875 39.40625 \r\nQ 19.671875 43.65625 24.015625 45.921875 \r\nQ 28.375 48.1875 33.59375 48.1875 \r\nQ 44.578125 48.1875 50.953125 41.515625 \r\nQ 57.328125 34.859375 57.328125 23.390625 \r\nQ 57.328125 12.15625 50.6875 5.359375 \r\nQ 44.046875 -1.421875 33.015625 -1.421875 \r\nQ 20.359375 -1.421875 13.671875 8.265625 \r\nQ 6.984375 17.96875 6.984375 36.375 \r\nQ 6.984375 53.65625 15.1875 63.9375 \r\nQ 23.390625 74.21875 37.203125 74.21875 \r\nQ 40.921875 74.21875 44.703125 73.484375 \r\nQ 48.484375 72.75 52.59375 71.296875 \r\nz\r\n\" id=\"DejaVuSans-54\"/>\r\n       </defs>\r\n       <use xlink:href=\"#DejaVuSans-48\"/>\r\n       <use x=\"63.623047\" xlink:href=\"#DejaVuSans-46\"/>\r\n       <use x=\"95.410156\" xlink:href=\"#DejaVuSans-54\"/>\r\n      </g>\r\n     </g>\r\n    </g>\r\n    <g id=\"ytick_4\">\r\n     <g id=\"line2d_12\">\r\n      <g>\r\n       <use style=\"stroke:#000000;stroke-width:0.8;\" x=\"43.78125\" xlink:href=\"#m4a677fd82b\" y=\"156.756703\"/>\r\n      </g>\r\n     </g>\r\n     <g id=\"text_13\">\r\n      <!-- 0.8 -->\r\n      <g transform=\"translate(20.878125 160.555922)scale(0.1 -0.1)\">\r\n       <defs>\r\n        <path d=\"M 31.78125 34.625 \r\nQ 24.75 34.625 20.71875 30.859375 \r\nQ 16.703125 27.09375 16.703125 20.515625 \r\nQ 16.703125 13.921875 20.71875 10.15625 \r\nQ 24.75 6.390625 31.78125 6.390625 \r\nQ 38.8125 6.390625 42.859375 10.171875 \r\nQ 46.921875 13.96875 46.921875 20.515625 \r\nQ 46.921875 27.09375 42.890625 30.859375 \r\nQ 38.875 34.625 31.78125 34.625 \r\nz\r\nM 21.921875 38.8125 \r\nQ 15.578125 40.375 12.03125 44.71875 \r\nQ 8.5 49.078125 8.5 55.328125 \r\nQ 8.5 64.0625 14.71875 69.140625 \r\nQ 20.953125 74.21875 31.78125 74.21875 \r\nQ 42.671875 74.21875 48.875 69.140625 \r\nQ 55.078125 64.0625 55.078125 55.328125 \r\nQ 55.078125 49.078125 51.53125 44.71875 \r\nQ 48 40.375 41.703125 38.8125 \r\nQ 48.828125 37.15625 52.796875 32.3125 \r\nQ 56.78125 27.484375 56.78125 20.515625 \r\nQ 56.78125 9.90625 50.3125 4.234375 \r\nQ 43.84375 -1.421875 31.78125 -1.421875 \r\nQ 19.734375 -1.421875 13.25 4.234375 \r\nQ 6.78125 9.90625 6.78125 20.515625 \r\nQ 6.78125 27.484375 10.78125 32.3125 \r\nQ 14.796875 37.15625 21.921875 38.8125 \r\nz\r\nM 18.3125 54.390625 \r\nQ 18.3125 48.734375 21.84375 45.5625 \r\nQ 25.390625 42.390625 31.78125 42.390625 \r\nQ 38.140625 42.390625 41.71875 45.5625 \r\nQ 45.3125 48.734375 45.3125 54.390625 \r\nQ 45.3125 60.0625 41.71875 63.234375 \r\nQ 38.140625 66.40625 31.78125 66.40625 \r\nQ 25.390625 66.40625 21.84375 63.234375 \r\nQ 18.3125 60.0625 18.3125 54.390625 \r\nz\r\n\" id=\"DejaVuSans-56\"/>\r\n       </defs>\r\n       <use xlink:href=\"#DejaVuSans-48\"/>\r\n       <use x=\"63.623047\" xlink:href=\"#DejaVuSans-46\"/>\r\n       <use x=\"95.410156\" xlink:href=\"#DejaVuSans-56\"/>\r\n      </g>\r\n     </g>\r\n    </g>\r\n    <g id=\"ytick_5\">\r\n     <g id=\"line2d_13\">\r\n      <g>\r\n       <use style=\"stroke:#000000;stroke-width:0.8;\" x=\"43.78125\" xlink:href=\"#m4a677fd82b\" y=\"131.505992\"/>\r\n      </g>\r\n     </g>\r\n     <g id=\"text_14\">\r\n      <!-- 1.0 -->\r\n      <g transform=\"translate(20.878125 135.30521)scale(0.1 -0.1)\">\r\n       <use xlink:href=\"#DejaVuSans-49\"/>\r\n       <use x=\"63.623047\" xlink:href=\"#DejaVuSans-46\"/>\r\n       <use x=\"95.410156\" xlink:href=\"#DejaVuSans-48\"/>\r\n      </g>\r\n     </g>\r\n    </g>\r\n    <g id=\"ytick_6\">\r\n     <g id=\"line2d_14\">\r\n      <g>\r\n       <use style=\"stroke:#000000;stroke-width:0.8;\" x=\"43.78125\" xlink:href=\"#m4a677fd82b\" y=\"106.25528\"/>\r\n      </g>\r\n     </g>\r\n     <g id=\"text_15\">\r\n      <!-- 1.2 -->\r\n      <g transform=\"translate(20.878125 110.054499)scale(0.1 -0.1)\">\r\n       <use xlink:href=\"#DejaVuSans-49\"/>\r\n       <use x=\"63.623047\" xlink:href=\"#DejaVuSans-46\"/>\r\n       <use x=\"95.410156\" xlink:href=\"#DejaVuSans-50\"/>\r\n      </g>\r\n     </g>\r\n    </g>\r\n    <g id=\"ytick_7\">\r\n     <g id=\"line2d_15\">\r\n      <g>\r\n       <use style=\"stroke:#000000;stroke-width:0.8;\" x=\"43.78125\" xlink:href=\"#m4a677fd82b\" y=\"81.004568\"/>\r\n      </g>\r\n     </g>\r\n     <g id=\"text_16\">\r\n      <!-- 1.4 -->\r\n      <g transform=\"translate(20.878125 84.803787)scale(0.1 -0.1)\">\r\n       <use xlink:href=\"#DejaVuSans-49\"/>\r\n       <use x=\"63.623047\" xlink:href=\"#DejaVuSans-46\"/>\r\n       <use x=\"95.410156\" xlink:href=\"#DejaVuSans-52\"/>\r\n      </g>\r\n     </g>\r\n    </g>\r\n    <g id=\"ytick_8\">\r\n     <g id=\"line2d_16\">\r\n      <g>\r\n       <use style=\"stroke:#000000;stroke-width:0.8;\" x=\"43.78125\" xlink:href=\"#m4a677fd82b\" y=\"55.753857\"/>\r\n      </g>\r\n     </g>\r\n     <g id=\"text_17\">\r\n      <!-- 1.6 -->\r\n      <g transform=\"translate(20.878125 59.553075)scale(0.1 -0.1)\">\r\n       <use xlink:href=\"#DejaVuSans-49\"/>\r\n       <use x=\"63.623047\" xlink:href=\"#DejaVuSans-46\"/>\r\n       <use x=\"95.410156\" xlink:href=\"#DejaVuSans-54\"/>\r\n      </g>\r\n     </g>\r\n    </g>\r\n    <g id=\"ytick_9\">\r\n     <g id=\"line2d_17\">\r\n      <g>\r\n       <use style=\"stroke:#000000;stroke-width:0.8;\" x=\"43.78125\" xlink:href=\"#m4a677fd82b\" y=\"30.503145\"/>\r\n      </g>\r\n     </g>\r\n     <g id=\"text_18\">\r\n      <!-- 1.8 -->\r\n      <g transform=\"translate(20.878125 34.302364)scale(0.1 -0.1)\">\r\n       <use xlink:href=\"#DejaVuSans-49\"/>\r\n       <use x=\"63.623047\" xlink:href=\"#DejaVuSans-46\"/>\r\n       <use x=\"95.410156\" xlink:href=\"#DejaVuSans-56\"/>\r\n      </g>\r\n     </g>\r\n    </g>\r\n    <g id=\"text_19\">\r\n     <!-- loss -->\r\n     <g transform=\"translate(14.798438 140.695937)rotate(-90)scale(0.1 -0.1)\">\r\n      <defs>\r\n       <path d=\"M 9.421875 75.984375 \r\nL 18.40625 75.984375 \r\nL 18.40625 0 \r\nL 9.421875 0 \r\nz\r\n\" id=\"DejaVuSans-108\"/>\r\n       <path d=\"M 44.28125 53.078125 \r\nL 44.28125 44.578125 \r\nQ 40.484375 46.53125 36.375 47.5 \r\nQ 32.28125 48.484375 27.875 48.484375 \r\nQ 21.1875 48.484375 17.84375 46.4375 \r\nQ 14.5 44.390625 14.5 40.28125 \r\nQ 14.5 37.15625 16.890625 35.375 \r\nQ 19.28125 33.59375 26.515625 31.984375 \r\nL 29.59375 31.296875 \r\nQ 39.15625 29.25 43.1875 25.515625 \r\nQ 47.21875 21.78125 47.21875 15.09375 \r\nQ 47.21875 7.46875 41.1875 3.015625 \r\nQ 35.15625 -1.421875 24.609375 -1.421875 \r\nQ 20.21875 -1.421875 15.453125 -0.5625 \r\nQ 10.6875 0.296875 5.421875 2 \r\nL 5.421875 11.28125 \r\nQ 10.40625 8.6875 15.234375 7.390625 \r\nQ 20.0625 6.109375 24.8125 6.109375 \r\nQ 31.15625 6.109375 34.5625 8.28125 \r\nQ 37.984375 10.453125 37.984375 14.40625 \r\nQ 37.984375 18.0625 35.515625 20.015625 \r\nQ 33.0625 21.96875 24.703125 23.78125 \r\nL 21.578125 24.515625 \r\nQ 13.234375 26.265625 9.515625 29.90625 \r\nQ 5.8125 33.546875 5.8125 39.890625 \r\nQ 5.8125 47.609375 11.28125 51.796875 \r\nQ 16.75 56 26.8125 56 \r\nQ 31.78125 56 36.171875 55.265625 \r\nQ 40.578125 54.546875 44.28125 53.078125 \r\nz\r\n\" id=\"DejaVuSans-115\"/>\r\n      </defs>\r\n      <use xlink:href=\"#DejaVuSans-108\"/>\r\n      <use x=\"27.783203\" xlink:href=\"#DejaVuSans-111\"/>\r\n      <use x=\"88.964844\" xlink:href=\"#DejaVuSans-115\"/>\r\n      <use x=\"141.064453\" xlink:href=\"#DejaVuSans-115\"/>\r\n     </g>\r\n    </g>\r\n   </g>\r\n   <g id=\"line2d_18\">\r\n    <path clip-path=\"url(#p1707d46b2c)\" d=\"M 58.999432 32.201761 \r\nL 67.009001 178.471726 \r\nL 75.018571 201.711292 \r\nL 83.02814 209.495284 \r\nL 91.037709 212.197085 \r\nL 99.047279 214.285972 \r\nL 107.056848 215.73665 \r\nL 115.066417 216.410751 \r\nL 123.075987 218.374361 \r\nL 131.085556 219.00953 \r\nL 139.095126 219.834766 \r\nL 147.104695 221.391833 \r\nL 155.114264 221.288368 \r\nL 163.123834 222.54872 \r\nL 171.133403 223.153528 \r\nL 179.142972 223.23438 \r\nL 187.152542 223.611363 \r\nL 195.162111 224.362384 \r\nL 203.171681 224.699646 \r\nL 211.18125 224.745633 \r\nL 219.190819 225.056213 \r\nL 227.200389 225.17132 \r\nL 235.209958 224.518602 \r\nL 243.219528 226.229149 \r\nL 251.229097 225.949816 \r\nL 259.238666 226.320326 \r\nL 267.248236 226.696058 \r\nL 275.257805 227.420641 \r\nL 283.267374 227.706629 \r\nL 291.276944 227.897273 \r\nL 299.286513 227.540786 \r\nL 307.296083 228.520048 \r\nL 315.305652 228.017836 \r\nL 323.315221 228.30108 \r\nL 331.324791 228.092949 \r\nL 339.33436 229.075893 \r\nL 347.343929 228.482229 \r\nL 355.353499 228.999823 \r\nL 363.363068 229.134756 \r\n\" style=\"fill:none;stroke:#1f77b4;stroke-linecap:square;stroke-width:1.5;\"/>\r\n   </g>\r\n   <g id=\"line2d_19\">\r\n    <path clip-path=\"url(#p1707d46b2c)\" d=\"M 58.999432 151.962944 \r\nL 67.009001 193.38242 \r\nL 75.018571 206.830388 \r\nL 83.02814 212.147342 \r\nL 91.037709 212.921632 \r\nL 99.047279 216.316501 \r\nL 107.056848 216.803226 \r\nL 115.066417 219.15849 \r\nL 123.075987 220.23723 \r\nL 131.085556 221.227349 \r\nL 139.095126 221.518567 \r\nL 147.104695 220.815158 \r\nL 155.114264 223.485567 \r\nL 163.123834 222.818709 \r\nL 171.133403 223.921925 \r\nL 179.142972 224.106088 \r\nL 187.152542 223.109392 \r\nL 195.162111 224.269338 \r\nL 203.171681 225.917119 \r\nL 211.18125 225.18762 \r\nL 219.190819 226.131465 \r\nL 227.200389 225.612442 \r\nL 235.209958 227.329514 \r\nL 243.219528 227.575894 \r\nL 251.229097 227.557735 \r\nL 259.238666 227.030246 \r\nL 267.248236 228.069945 \r\nL 275.257805 227.885155 \r\nL 283.267374 228.411667 \r\nL 291.276944 228.431206 \r\nL 299.286513 228.924373 \r\nL 307.296083 228.591527 \r\nL 315.305652 225.515452 \r\nL 323.315221 226.626258 \r\nL 331.324791 229.874489 \r\nL 339.33436 229.442444 \r\nL 347.343929 228.229782 \r\nL 355.353499 228.220814 \r\nL 363.363068 229.281945 \r\n\" style=\"fill:none;stroke:#ff7f0e;stroke-linecap:square;stroke-width:1.5;\"/>\r\n   </g>\r\n   <g id=\"patch_3\">\r\n    <path d=\"M 43.78125 239.758125 \r\nL 43.78125 22.318125 \r\n\" style=\"fill:none;stroke:#000000;stroke-linecap:square;stroke-linejoin:miter;stroke-width:0.8;\"/>\r\n   </g>\r\n   <g id=\"patch_4\">\r\n    <path d=\"M 378.58125 239.758125 \r\nL 378.58125 22.318125 \r\n\" style=\"fill:none;stroke:#000000;stroke-linecap:square;stroke-linejoin:miter;stroke-width:0.8;\"/>\r\n   </g>\r\n   <g id=\"patch_5\">\r\n    <path d=\"M 43.78125 239.758125 \r\nL 378.58125 239.758125 \r\n\" style=\"fill:none;stroke:#000000;stroke-linecap:square;stroke-linejoin:miter;stroke-width:0.8;\"/>\r\n   </g>\r\n   <g id=\"patch_6\">\r\n    <path d=\"M 43.78125 22.318125 \r\nL 378.58125 22.318125 \r\n\" style=\"fill:none;stroke:#000000;stroke-linecap:square;stroke-linejoin:miter;stroke-width:0.8;\"/>\r\n   </g>\r\n   <g id=\"text_20\">\r\n    <!-- model loss -->\r\n    <g transform=\"translate(179.001563 16.318125)scale(0.12 -0.12)\">\r\n     <defs>\r\n      <path d=\"M 52 44.1875 \r\nQ 55.375 50.25 60.0625 53.125 \r\nQ 64.75 56 71.09375 56 \r\nQ 79.640625 56 84.28125 50.015625 \r\nQ 88.921875 44.046875 88.921875 33.015625 \r\nL 88.921875 0 \r\nL 79.890625 0 \r\nL 79.890625 32.71875 \r\nQ 79.890625 40.578125 77.09375 44.375 \r\nQ 74.3125 48.1875 68.609375 48.1875 \r\nQ 61.625 48.1875 57.5625 43.546875 \r\nQ 53.515625 38.921875 53.515625 30.90625 \r\nL 53.515625 0 \r\nL 44.484375 0 \r\nL 44.484375 32.71875 \r\nQ 44.484375 40.625 41.703125 44.40625 \r\nQ 38.921875 48.1875 33.109375 48.1875 \r\nQ 26.21875 48.1875 22.15625 43.53125 \r\nQ 18.109375 38.875 18.109375 30.90625 \r\nL 18.109375 0 \r\nL 9.078125 0 \r\nL 9.078125 54.6875 \r\nL 18.109375 54.6875 \r\nL 18.109375 46.1875 \r\nQ 21.1875 51.21875 25.484375 53.609375 \r\nQ 29.78125 56 35.6875 56 \r\nQ 41.65625 56 45.828125 52.96875 \r\nQ 50 49.953125 52 44.1875 \r\nz\r\n\" id=\"DejaVuSans-109\"/>\r\n      <path d=\"M 45.40625 46.390625 \r\nL 45.40625 75.984375 \r\nL 54.390625 75.984375 \r\nL 54.390625 0 \r\nL 45.40625 0 \r\nL 45.40625 8.203125 \r\nQ 42.578125 3.328125 38.25 0.953125 \r\nQ 33.9375 -1.421875 27.875 -1.421875 \r\nQ 17.96875 -1.421875 11.734375 6.484375 \r\nQ 5.515625 14.40625 5.515625 27.296875 \r\nQ 5.515625 40.1875 11.734375 48.09375 \r\nQ 17.96875 56 27.875 56 \r\nQ 33.9375 56 38.25 53.625 \r\nQ 42.578125 51.265625 45.40625 46.390625 \r\nz\r\nM 14.796875 27.296875 \r\nQ 14.796875 17.390625 18.875 11.75 \r\nQ 22.953125 6.109375 30.078125 6.109375 \r\nQ 37.203125 6.109375 41.296875 11.75 \r\nQ 45.40625 17.390625 45.40625 27.296875 \r\nQ 45.40625 37.203125 41.296875 42.84375 \r\nQ 37.203125 48.484375 30.078125 48.484375 \r\nQ 22.953125 48.484375 18.875 42.84375 \r\nQ 14.796875 37.203125 14.796875 27.296875 \r\nz\r\n\" id=\"DejaVuSans-100\"/>\r\n      <path id=\"DejaVuSans-32\"/>\r\n     </defs>\r\n     <use xlink:href=\"#DejaVuSans-109\"/>\r\n     <use x=\"97.412109\" xlink:href=\"#DejaVuSans-111\"/>\r\n     <use x=\"158.59375\" xlink:href=\"#DejaVuSans-100\"/>\r\n     <use x=\"222.070312\" xlink:href=\"#DejaVuSans-101\"/>\r\n     <use x=\"283.59375\" xlink:href=\"#DejaVuSans-108\"/>\r\n     <use x=\"311.376953\" xlink:href=\"#DejaVuSans-32\"/>\r\n     <use x=\"343.164062\" xlink:href=\"#DejaVuSans-108\"/>\r\n     <use x=\"370.947266\" xlink:href=\"#DejaVuSans-111\"/>\r\n     <use x=\"432.128906\" xlink:href=\"#DejaVuSans-115\"/>\r\n     <use x=\"484.228516\" xlink:href=\"#DejaVuSans-115\"/>\r\n    </g>\r\n   </g>\r\n   <g id=\"legend_1\">\r\n    <g id=\"patch_7\">\r\n     <path d=\"M 290.346875 59.674375 \r\nL 371.58125 59.674375 \r\nQ 373.58125 59.674375 373.58125 57.674375 \r\nL 373.58125 29.318125 \r\nQ 373.58125 27.318125 371.58125 27.318125 \r\nL 290.346875 27.318125 \r\nQ 288.346875 27.318125 288.346875 29.318125 \r\nL 288.346875 57.674375 \r\nQ 288.346875 59.674375 290.346875 59.674375 \r\nz\r\n\" style=\"fill:#ffffff;opacity:0.8;stroke:#cccccc;stroke-linejoin:miter;\"/>\r\n    </g>\r\n    <g id=\"line2d_20\">\r\n     <path d=\"M 292.346875 35.416562 \r\nL 312.346875 35.416562 \r\n\" style=\"fill:none;stroke:#1f77b4;stroke-linecap:square;stroke-width:1.5;\"/>\r\n    </g>\r\n    <g id=\"line2d_21\"/>\r\n    <g id=\"text_21\">\r\n     <!-- train -->\r\n     <g transform=\"translate(320.346875 38.916562)scale(0.1 -0.1)\">\r\n      <defs>\r\n       <path d=\"M 18.3125 70.21875 \r\nL 18.3125 54.6875 \r\nL 36.8125 54.6875 \r\nL 36.8125 47.703125 \r\nL 18.3125 47.703125 \r\nL 18.3125 18.015625 \r\nQ 18.3125 11.328125 20.140625 9.421875 \r\nQ 21.96875 7.515625 27.59375 7.515625 \r\nL 36.8125 7.515625 \r\nL 36.8125 0 \r\nL 27.59375 0 \r\nQ 17.1875 0 13.234375 3.875 \r\nQ 9.28125 7.765625 9.28125 18.015625 \r\nL 9.28125 47.703125 \r\nL 2.6875 47.703125 \r\nL 2.6875 54.6875 \r\nL 9.28125 54.6875 \r\nL 9.28125 70.21875 \r\nz\r\n\" id=\"DejaVuSans-116\"/>\r\n       <path d=\"M 41.109375 46.296875 \r\nQ 39.59375 47.171875 37.8125 47.578125 \r\nQ 36.03125 48 33.890625 48 \r\nQ 26.265625 48 22.1875 43.046875 \r\nQ 18.109375 38.09375 18.109375 28.8125 \r\nL 18.109375 0 \r\nL 9.078125 0 \r\nL 9.078125 54.6875 \r\nL 18.109375 54.6875 \r\nL 18.109375 46.1875 \r\nQ 20.953125 51.171875 25.484375 53.578125 \r\nQ 30.03125 56 36.53125 56 \r\nQ 37.453125 56 38.578125 55.875 \r\nQ 39.703125 55.765625 41.0625 55.515625 \r\nz\r\n\" id=\"DejaVuSans-114\"/>\r\n       <path d=\"M 34.28125 27.484375 \r\nQ 23.390625 27.484375 19.1875 25 \r\nQ 14.984375 22.515625 14.984375 16.5 \r\nQ 14.984375 11.71875 18.140625 8.90625 \r\nQ 21.296875 6.109375 26.703125 6.109375 \r\nQ 34.1875 6.109375 38.703125 11.40625 \r\nQ 43.21875 16.703125 43.21875 25.484375 \r\nL 43.21875 27.484375 \r\nz\r\nM 52.203125 31.203125 \r\nL 52.203125 0 \r\nL 43.21875 0 \r\nL 43.21875 8.296875 \r\nQ 40.140625 3.328125 35.546875 0.953125 \r\nQ 30.953125 -1.421875 24.3125 -1.421875 \r\nQ 15.921875 -1.421875 10.953125 3.296875 \r\nQ 6 8.015625 6 15.921875 \r\nQ 6 25.140625 12.171875 29.828125 \r\nQ 18.359375 34.515625 30.609375 34.515625 \r\nL 43.21875 34.515625 \r\nL 43.21875 35.40625 \r\nQ 43.21875 41.609375 39.140625 45 \r\nQ 35.0625 48.390625 27.6875 48.390625 \r\nQ 23 48.390625 18.546875 47.265625 \r\nQ 14.109375 46.140625 10.015625 43.890625 \r\nL 10.015625 52.203125 \r\nQ 14.9375 54.109375 19.578125 55.046875 \r\nQ 24.21875 56 28.609375 56 \r\nQ 40.484375 56 46.34375 49.84375 \r\nQ 52.203125 43.703125 52.203125 31.203125 \r\nz\r\n\" id=\"DejaVuSans-97\"/>\r\n       <path d=\"M 9.421875 54.6875 \r\nL 18.40625 54.6875 \r\nL 18.40625 0 \r\nL 9.421875 0 \r\nz\r\nM 9.421875 75.984375 \r\nL 18.40625 75.984375 \r\nL 18.40625 64.59375 \r\nL 9.421875 64.59375 \r\nz\r\n\" id=\"DejaVuSans-105\"/>\r\n       <path d=\"M 54.890625 33.015625 \r\nL 54.890625 0 \r\nL 45.90625 0 \r\nL 45.90625 32.71875 \r\nQ 45.90625 40.484375 42.875 44.328125 \r\nQ 39.84375 48.1875 33.796875 48.1875 \r\nQ 26.515625 48.1875 22.3125 43.546875 \r\nQ 18.109375 38.921875 18.109375 30.90625 \r\nL 18.109375 0 \r\nL 9.078125 0 \r\nL 9.078125 54.6875 \r\nL 18.109375 54.6875 \r\nL 18.109375 46.1875 \r\nQ 21.34375 51.125 25.703125 53.5625 \r\nQ 30.078125 56 35.796875 56 \r\nQ 45.21875 56 50.046875 50.171875 \r\nQ 54.890625 44.34375 54.890625 33.015625 \r\nz\r\n\" id=\"DejaVuSans-110\"/>\r\n      </defs>\r\n      <use xlink:href=\"#DejaVuSans-116\"/>\r\n      <use x=\"39.208984\" xlink:href=\"#DejaVuSans-114\"/>\r\n      <use x=\"80.322266\" xlink:href=\"#DejaVuSans-97\"/>\r\n      <use x=\"141.601562\" xlink:href=\"#DejaVuSans-105\"/>\r\n      <use x=\"169.384766\" xlink:href=\"#DejaVuSans-110\"/>\r\n     </g>\r\n    </g>\r\n    <g id=\"line2d_22\">\r\n     <path d=\"M 292.346875 50.094687 \r\nL 312.346875 50.094687 \r\n\" style=\"fill:none;stroke:#ff7f0e;stroke-linecap:square;stroke-width:1.5;\"/>\r\n    </g>\r\n    <g id=\"line2d_23\"/>\r\n    <g id=\"text_22\">\r\n     <!-- validation -->\r\n     <g transform=\"translate(320.346875 53.594687)scale(0.1 -0.1)\">\r\n      <defs>\r\n       <path d=\"M 2.984375 54.6875 \r\nL 12.5 54.6875 \r\nL 29.59375 8.796875 \r\nL 46.6875 54.6875 \r\nL 56.203125 54.6875 \r\nL 35.6875 0 \r\nL 23.484375 0 \r\nz\r\n\" id=\"DejaVuSans-118\"/>\r\n      </defs>\r\n      <use xlink:href=\"#DejaVuSans-118\"/>\r\n      <use x=\"59.179688\" xlink:href=\"#DejaVuSans-97\"/>\r\n      <use x=\"120.458984\" xlink:href=\"#DejaVuSans-108\"/>\r\n      <use x=\"148.242188\" xlink:href=\"#DejaVuSans-105\"/>\r\n      <use x=\"176.025391\" xlink:href=\"#DejaVuSans-100\"/>\r\n      <use x=\"239.501953\" xlink:href=\"#DejaVuSans-97\"/>\r\n      <use x=\"300.78125\" xlink:href=\"#DejaVuSans-116\"/>\r\n      <use x=\"339.990234\" xlink:href=\"#DejaVuSans-105\"/>\r\n      <use x=\"367.773438\" xlink:href=\"#DejaVuSans-111\"/>\r\n      <use x=\"428.955078\" xlink:href=\"#DejaVuSans-110\"/>\r\n     </g>\r\n    </g>\r\n   </g>\r\n  </g>\r\n </g>\r\n <defs>\r\n  <clipPath id=\"p1707d46b2c\">\r\n   <rect height=\"217.44\" width=\"334.8\" x=\"43.78125\" y=\"22.318125\"/>\r\n  </clipPath>\r\n </defs>\r\n</svg>\r\n",
      "image/png": "[encoded data removed]"
     },
     "metadata": {
      "needs_background": "light"
     }
    }
   ],
   "source": [
    "plt.plot(model_fit.history['loss'])\n",
    "plt.plot(model_fit.history['val_loss'])\n",
    "plt.title('model loss')\n",
    "plt.ylabel('loss')\n",
    "plt.xlabel('epoch')\n",
    "plt.legend(['train','validation'],loc='upper right')\n",
    "plt.show()"
   ]
  },
  {
   "cell_type": "code",
   "execution_count": 37,
   "metadata": {},
   "outputs": [
    {
     "output_type": "stream",
     "name": "stdout",
     "text": [
      "INFO:tensorflow:Assets written to: ./model/neuroregress(district)model\\assets\n"
     ]
    }
   ],
   "source": [
    "model.save('./model/neuroregress(district)model')"
   ]
  }
 ]
}