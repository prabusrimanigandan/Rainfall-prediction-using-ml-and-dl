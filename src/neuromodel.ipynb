{
 "cells": [
  {
   "cell_type": "code",
   "execution_count": 1,
   "metadata": {},
   "outputs": [
    {
     "output_type": "display_data",
     "data": {
      "text/html": "        <script type=\"text/javascript\">\n        window.PlotlyConfig = {MathJaxConfig: 'local'};\n        if (window.MathJax) {MathJax.Hub.Config({SVG: {font: \"STIX-Web\"}});}\n        if (typeof require !== 'undefined') {\n        require.undef(\"plotly\");\n        requirejs.config({\n            paths: {\n                'plotly': ['https://cdn.plot.ly/plotly-latest.min']\n            }\n        });\n        require(['plotly'], function(Plotly) {\n            window._Plotly = Plotly;\n        });\n        }\n        </script>\n        "
     },
     "metadata": {}
    }
   ],
   "source": [
    "import numpy as np # linear algebra working with arrays\n",
    "import pandas as pd # csv data handling\n",
    "import os # file operations\n",
    "\n",
    "#plotting graph\n",
    "import matplotlib.pyplot as plt\n",
    "import plotly.graph_objs as go\n",
    "import plotly.offline as pyo\n",
    "\n",
    "# Set notebook mode to work in offline\n",
    "pyo.init_notebook_mode(connected=True)"
   ]
  },
  {
   "cell_type": "code",
   "execution_count": 2,
   "metadata": {},
   "outputs": [],
   "source": [
    "data_loc='../data1'"
   ]
  },
  {
   "cell_type": "code",
   "execution_count": 3,
   "metadata": {},
   "outputs": [
    {
     "output_type": "execute_result",
     "data": {
      "text/plain": [
       "                 SUBDIVISION  YEAR   JAN    FEB   MAR    APR    MAY    JUN  \\\n",
       "0  ANDAMAN & NICOBAR ISLANDS  1901  49.2   87.1  29.2    2.3  528.8  517.5   \n",
       "1  ANDAMAN & NICOBAR ISLANDS  1902   0.0  159.8  12.2    0.0  446.1  537.1   \n",
       "2  ANDAMAN & NICOBAR ISLANDS  1903  12.7  144.0   0.0    1.0  235.1  479.9   \n",
       "3  ANDAMAN & NICOBAR ISLANDS  1904   9.4   14.7   0.0  202.4  304.5  495.1   \n",
       "4  ANDAMAN & NICOBAR ISLANDS  1905   1.3    0.0   3.3   26.9  279.5  628.7   \n",
       "\n",
       "     JUL    AUG    SEP    OCT    NOV    DEC  ANNUAL  Jan-Feb  Mar-May  \\\n",
       "0  365.1  481.1  332.6  388.5  558.2   33.6  3373.2    136.3    560.3   \n",
       "1  228.9  753.7  666.2  197.2  359.0  160.5  3520.7    159.8    458.3   \n",
       "2  728.4  326.7  339.0  181.2  284.4  225.0  2957.4    156.7    236.1   \n",
       "3  502.0  160.1  820.4  222.2  308.7   40.1  3079.6     24.1    506.9   \n",
       "4  368.7  330.5  297.0  260.7   25.4  344.7  2566.7      1.3    309.7   \n",
       "\n",
       "   Jun-Sep  Oct-Dec  \n",
       "0   1696.3    980.3  \n",
       "1   2185.9    716.7  \n",
       "2   1874.0    690.6  \n",
       "3   1977.6    571.0  \n",
       "4   1624.9    630.8  "
      ],
      "text/html": "<div>\n<style scoped>\n    .dataframe tbody tr th:only-of-type {\n        vertical-align: middle;\n    }\n\n    .dataframe tbody tr th {\n        vertical-align: top;\n    }\n\n    .dataframe thead th {\n        text-align: right;\n    }\n</style>\n<table border=\"1\" class=\"dataframe\">\n  <thead>\n    <tr style=\"text-align: right;\">\n      <th></th>\n      <th>SUBDIVISION</th>\n      <th>YEAR</th>\n      <th>JAN</th>\n      <th>FEB</th>\n      <th>MAR</th>\n      <th>APR</th>\n      <th>MAY</th>\n      <th>JUN</th>\n      <th>JUL</th>\n      <th>AUG</th>\n      <th>SEP</th>\n      <th>OCT</th>\n      <th>NOV</th>\n      <th>DEC</th>\n      <th>ANNUAL</th>\n      <th>Jan-Feb</th>\n      <th>Mar-May</th>\n      <th>Jun-Sep</th>\n      <th>Oct-Dec</th>\n    </tr>\n  </thead>\n  <tbody>\n    <tr>\n      <th>0</th>\n      <td>ANDAMAN &amp; NICOBAR ISLANDS</td>\n      <td>1901</td>\n      <td>49.2</td>\n      <td>87.1</td>\n      <td>29.2</td>\n      <td>2.3</td>\n      <td>528.8</td>\n      <td>517.5</td>\n      <td>365.1</td>\n      <td>481.1</td>\n      <td>332.6</td>\n      <td>388.5</td>\n      <td>558.2</td>\n      <td>33.6</td>\n      <td>3373.2</td>\n      <td>136.3</td>\n      <td>560.3</td>\n      <td>1696.3</td>\n      <td>980.3</td>\n    </tr>\n    <tr>\n      <th>1</th>\n      <td>ANDAMAN &amp; NICOBAR ISLANDS</td>\n      <td>1902</td>\n      <td>0.0</td>\n      <td>159.8</td>\n      <td>12.2</td>\n      <td>0.0</td>\n      <td>446.1</td>\n      <td>537.1</td>\n      <td>228.9</td>\n      <td>753.7</td>\n      <td>666.2</td>\n      <td>197.2</td>\n      <td>359.0</td>\n      <td>160.5</td>\n      <td>3520.7</td>\n      <td>159.8</td>\n      <td>458.3</td>\n      <td>2185.9</td>\n      <td>716.7</td>\n    </tr>\n    <tr>\n      <th>2</th>\n      <td>ANDAMAN &amp; NICOBAR ISLANDS</td>\n      <td>1903</td>\n      <td>12.7</td>\n      <td>144.0</td>\n      <td>0.0</td>\n      <td>1.0</td>\n      <td>235.1</td>\n      <td>479.9</td>\n      <td>728.4</td>\n      <td>326.7</td>\n      <td>339.0</td>\n      <td>181.2</td>\n      <td>284.4</td>\n      <td>225.0</td>\n      <td>2957.4</td>\n      <td>156.7</td>\n      <td>236.1</td>\n      <td>1874.0</td>\n      <td>690.6</td>\n    </tr>\n    <tr>\n      <th>3</th>\n      <td>ANDAMAN &amp; NICOBAR ISLANDS</td>\n      <td>1904</td>\n      <td>9.4</td>\n      <td>14.7</td>\n      <td>0.0</td>\n      <td>202.4</td>\n      <td>304.5</td>\n      <td>495.1</td>\n      <td>502.0</td>\n      <td>160.1</td>\n      <td>820.4</td>\n      <td>222.2</td>\n      <td>308.7</td>\n      <td>40.1</td>\n      <td>3079.6</td>\n      <td>24.1</td>\n      <td>506.9</td>\n      <td>1977.6</td>\n      <td>571.0</td>\n    </tr>\n    <tr>\n      <th>4</th>\n      <td>ANDAMAN &amp; NICOBAR ISLANDS</td>\n      <td>1905</td>\n      <td>1.3</td>\n      <td>0.0</td>\n      <td>3.3</td>\n      <td>26.9</td>\n      <td>279.5</td>\n      <td>628.7</td>\n      <td>368.7</td>\n      <td>330.5</td>\n      <td>297.0</td>\n      <td>260.7</td>\n      <td>25.4</td>\n      <td>344.7</td>\n      <td>2566.7</td>\n      <td>1.3</td>\n      <td>309.7</td>\n      <td>1624.9</td>\n      <td>630.8</td>\n    </tr>\n  </tbody>\n</table>\n</div>"
     },
     "metadata": {},
     "execution_count": 3
    }
   ],
   "source": [
    "data=pd.read_csv(os.path.join(data_loc,'rainfall_in_india_1901-2015.csv'))\n",
    "data=data.fillna(data.mean())\n",
    "data.head()"
   ]
  },
  {
   "cell_type": "code",
   "execution_count": 4,
   "metadata": {},
   "outputs": [
    {
     "output_type": "stream",
     "name": "stdout",
     "text": [
      "\n-------Dataset information-------\n\n<class 'pandas.core.frame.DataFrame'>\nRangeIndex: 4116 entries, 0 to 4115\nData columns (total 19 columns):\n #   Column       Non-Null Count  Dtype  \n---  ------       --------------  -----  \n 0   SUBDIVISION  4116 non-null   object \n 1   YEAR         4116 non-null   int64  \n 2   JAN          4116 non-null   float64\n 3   FEB          4116 non-null   float64\n 4   MAR          4116 non-null   float64\n 5   APR          4116 non-null   float64\n 6   MAY          4116 non-null   float64\n 7   JUN          4116 non-null   float64\n 8   JUL          4116 non-null   float64\n 9   AUG          4116 non-null   float64\n 10  SEP          4116 non-null   float64\n 11  OCT          4116 non-null   float64\n 12  NOV          4116 non-null   float64\n 13  DEC          4116 non-null   float64\n 14  ANNUAL       4116 non-null   float64\n 15  Jan-Feb      4116 non-null   float64\n 16  Mar-May      4116 non-null   float64\n 17  Jun-Sep      4116 non-null   float64\n 18  Oct-Dec      4116 non-null   float64\ndtypes: float64(17), int64(1), object(1)\nmemory usage: 611.1+ KB\n(4116, 19)\n\n-------Checking for null values-------\n\nSUBDIVISION    0\nSEP            0\nJun-Sep        0\nMar-May        0\nJan-Feb        0\nANNUAL         0\nDEC            0\nNOV            0\nOCT            0\nAUG            0\nYEAR           0\nJUL            0\nJUN            0\nMAY            0\nAPR            0\nMAR            0\nFEB            0\nJAN            0\nOct-Dec        0\ndtype: int64\n"
     ]
    }
   ],
   "source": [
    "# describing the dataset\n",
    "print(\"\\n-------Dataset information-------\\n\")\n",
    "data.info()\n",
    "print(data.shape)\n",
    "\n",
    "print(\"\\n-------Checking for null values-------\\n\")\n",
    "print(data.isnull().sum().sort_values(ascending=False))"
   ]
  },
  {
   "cell_type": "code",
   "execution_count": 5,
   "metadata": {},
   "outputs": [
    {
     "output_type": "display_data",
     "data": {
      "application/vnd.plotly.v1+json": {
       "config": {
        "plotlyServerURL": "https://plotly.com"
       },
       "data": [
        {
         "name": "JAN",
         "type": "bar",
         "x": [
          "ANDAMAN & NICOBAR ISLANDS",
          "ARUNACHAL PRADESH",
          "ASSAM & MEGHALAYA",
          "BIHAR",
          "CHHATTISGARH",
          "COASTAL ANDHRA PRADESH",
          "COASTAL KARNATAKA",
          "EAST MADHYA PRADESH",
          "EAST RAJASTHAN",
          "EAST UTTAR PRADESH",
          "GANGETIC WEST BENGAL",
          "GUJARAT REGION",
          "HARYANA DELHI & CHANDIGARH",
          "HIMACHAL PRADESH",
          "JAMMU & KASHMIR",
          "JHARKHAND",
          "KERALA",
          "KONKAN & GOA",
          "LAKSHADWEEP",
          "MADHYA MAHARASHTRA",
          "MATATHWADA",
          "NAGA MANI MIZO TRIPURA",
          "NORTH INTERIOR KARNATAKA",
          "ORISSA",
          "PUNJAB",
          "RAYALSEEMA",
          "SAURASHTRA & KUTCH",
          "SOUTH INTERIOR KARNATAKA",
          "SUB HIMALAYAN WEST BENGAL & SIKKIM",
          "TAMIL NADU",
          "TELANGANA",
          "UTTARAKHAND",
          "VIDARBHA",
          "WEST MADHYA PRADESH",
          "WEST RAJASTHAN",
          "WEST UTTAR PRADESH"
         ],
         "y": [
          52.637272727272716,
          47.005745567411424,
          16.974782608695655,
          13.386086956521737,
          14.206956521739123,
          7.483478260869568,
          2.085715826425309,
          19.401739130434777,
          6.4226086956521735,
          16.012173913043462,
          12.595652173913047,
          1.7860869565217385,
          16.8895652173913,
          84.18956521739132,
          102.03043478260865,
          17.62173913043478,
          12.246956521739126,
          1.262608695652174,
          27.344865263840532,
          3.0547826086956533,
          5.000869565217392,
          14.02521739130435,
          3.0130434782608697,
          12.329565217391302,
          25.246086956521744,
          9.867826086956526,
          1.139130434782609,
          2.9286956521739125,
          14.083478260869564,
          23.81913043478262,
          7.7026086956521755,
          53.797391304347826,
          10.563478260869568,
          9.241739130434784,
          3.3278260869565215,
          17.66608695652173
         ]
        },
        {
         "name": "FEB",
         "type": "bar",
         "x": [
          "ANDAMAN & NICOBAR ISLANDS",
          "ARUNACHAL PRADESH",
          "ASSAM & MEGHALAYA",
          "BIHAR",
          "CHHATTISGARH",
          "COASTAL ANDHRA PRADESH",
          "COASTAL KARNATAKA",
          "EAST MADHYA PRADESH",
          "EAST RAJASTHAN",
          "EAST UTTAR PRADESH",
          "GANGETIC WEST BENGAL",
          "GUJARAT REGION",
          "HARYANA DELHI & CHANDIGARH",
          "HIMACHAL PRADESH",
          "JAMMU & KASHMIR",
          "JHARKHAND",
          "KERALA",
          "KONKAN & GOA",
          "LAKSHADWEEP",
          "MADHYA MAHARASHTRA",
          "MATATHWADA",
          "NAGA MANI MIZO TRIPURA",
          "NORTH INTERIOR KARNATAKA",
          "ORISSA",
          "PUNJAB",
          "RAYALSEEMA",
          "SAURASHTRA & KUTCH",
          "SOUTH INTERIOR KARNATAKA",
          "SUB HIMALAYAN WEST BENGAL & SIKKIM",
          "TAMIL NADU",
          "TELANGANA",
          "UTTARAKHAND",
          "VIDARBHA",
          "WEST MADHYA PRADESH",
          "WEST RAJASTHAN",
          "WEST UTTAR PRADESH"
         ],
         "y": [
          27.99454545454546,
          90.40211674825358,
          31.44173913043478,
          14.39391304347826,
          19.2591304347826,
          12.923478260869564,
          1.5182608695652178,
          18.693913043478258,
          5.417391304347828,
          15.87391304347825,
          22.452173913043474,
          1.1913043478260863,
          17.433913043478263,
          90.89478260869568,
          115.45043478260877,
          24.18608695652173,
          15.49652173913043,
          0.5469565217391305,
          15.886888812110508,
          1.4678260869565212,
          4.443478260869566,
          36.65217391304347,
          3.172173913043479,
          19.719130434782603,
          26.786956521739125,
          5.68,
          1.6156521739130434,
          4.1634782608695655,
          22.97478260869565,
          13.422608695652169,
          9.688695652173914,
          63.452173913043474,
          11.982608695652177,
          6.442654996353029,
          4.930434782608696,
          17.893913043478257
         ]
        },
        {
         "name": "MAR",
         "type": "bar",
         "x": [
          "ANDAMAN & NICOBAR ISLANDS",
          "ARUNACHAL PRADESH",
          "ASSAM & MEGHALAYA",
          "BIHAR",
          "CHHATTISGARH",
          "COASTAL ANDHRA PRADESH",
          "COASTAL KARNATAKA",
          "EAST MADHYA PRADESH",
          "EAST RAJASTHAN",
          "EAST UTTAR PRADESH",
          "GANGETIC WEST BENGAL",
          "GUJARAT REGION",
          "HARYANA DELHI & CHANDIGARH",
          "HIMACHAL PRADESH",
          "JAMMU & KASHMIR",
          "JHARKHAND",
          "KERALA",
          "KONKAN & GOA",
          "LAKSHADWEEP",
          "MADHYA MAHARASHTRA",
          "MATATHWADA",
          "NAGA MANI MIZO TRIPURA",
          "NORTH INTERIOR KARNATAKA",
          "ORISSA",
          "PUNJAB",
          "RAYALSEEMA",
          "SAURASHTRA & KUTCH",
          "SOUTH INTERIOR KARNATAKA",
          "SUB HIMALAYAN WEST BENGAL & SIKKIM",
          "TAMIL NADU",
          "TELANGANA",
          "UTTARAKHAND",
          "VIDARBHA",
          "WEST MADHYA PRADESH",
          "WEST RAJASTHAN",
          "WEST UTTAR PRADESH"
         ],
         "y": [
          31.742894492368947,
          150.92596282639775,
          79.02695652173912,
          10.124347826086957,
          15.266956521739129,
          13.221739130434786,
          6.357391304347825,
          13.637391304347815,
          4.516521739130434,
          8.90782608695652,
          29.090434782608703,
          1.2208695652173904,
          12.935652173913049,
          101.1460869565217,
          131.3782608695652,
          18.423478260869558,
          36.81478260869565,
          1.3747826086956518,
          14.579108720706879,
          3.5965217391304365,
          7.105217391304349,
          77.1991304347826,
          7.123478260869566,
          21.13478260869566,
          23.651304347826088,
          8.076521739130433,
          1.2965217391304342,
          9.48521739130435,
          43.13565217391307,
          19.475652173913044,
          12.614782608695654,
          57.272173913043495,
          11.872173913043472,
          5.173043478260869,
          3.986086956521739,
          11.461739130434788
         ]
        },
        {
         "name": "APR",
         "type": "bar",
         "x": [
          "ANDAMAN & NICOBAR ISLANDS",
          "ARUNACHAL PRADESH",
          "ASSAM & MEGHALAYA",
          "BIHAR",
          "CHHATTISGARH",
          "COASTAL ANDHRA PRADESH",
          "COASTAL KARNATAKA",
          "EAST MADHYA PRADESH",
          "EAST RAJASTHAN",
          "EAST UTTAR PRADESH",
          "GANGETIC WEST BENGAL",
          "GUJARAT REGION",
          "HARYANA DELHI & CHANDIGARH",
          "HIMACHAL PRADESH",
          "JAMMU & KASHMIR",
          "JHARKHAND",
          "KERALA",
          "KONKAN & GOA",
          "LAKSHADWEEP",
          "MADHYA MAHARASHTRA",
          "MATATHWADA",
          "NAGA MANI MIZO TRIPURA",
          "NORTH INTERIOR KARNATAKA",
          "ORISSA",
          "PUNJAB",
          "RAYALSEEMA",
          "SAURASHTRA & KUTCH",
          "SOUTH INTERIOR KARNATAKA",
          "SUB HIMALAYAN WEST BENGAL & SIKKIM",
          "TAMIL NADU",
          "TELANGANA",
          "UTTARAKHAND",
          "VIDARBHA",
          "WEST MADHYA PRADESH",
          "WEST RAJASTHAN",
          "WEST UTTAR PRADESH"
         ],
         "y": [
          71.69413512557485,
          263.8360824742269,
          203.11565217391296,
          16.91826086956523,
          16.77304347826088,
          26.74086956521739,
          30.916521739130427,
          7.188695652173918,
          3.144347826086955,
          6.430434782608694,
          44.88521739130435,
          1.116521739130434,
          7.633913043478262,
          62.42869565217389,
          93.70260869565212,
          19.366956521739137,
          110.57391304347824,
          4.266086956521741,
          45.12767424397571,
          9.14695652173913,
          7.594782608695652,
          170.7330434782608,
          24.300869565217404,
          34.15999999999999,
          12.66,
          19.808695652173906,
          1.183478260869565,
          42.28086956521738,
          110.6817391304348,
          44.995652173913065,
          18.185217391304345,
          35.16608695652173,
          9.435652173913038,
          2.3756521739130423,
          3.571304347826086,
          6.253043478260872
         ]
        },
        {
         "name": "MAY",
         "type": "bar",
         "x": [
          "ANDAMAN & NICOBAR ISLANDS",
          "ARUNACHAL PRADESH",
          "ASSAM & MEGHALAYA",
          "BIHAR",
          "CHHATTISGARH",
          "COASTAL ANDHRA PRADESH",
          "COASTAL KARNATAKA",
          "EAST MADHYA PRADESH",
          "EAST RAJASTHAN",
          "EAST UTTAR PRADESH",
          "GANGETIC WEST BENGAL",
          "GUJARAT REGION",
          "HARYANA DELHI & CHANDIGARH",
          "HIMACHAL PRADESH",
          "JAMMU & KASHMIR",
          "JHARKHAND",
          "KERALA",
          "KONKAN & GOA",
          "LAKSHADWEEP",
          "MADHYA MAHARASHTRA",
          "MATATHWADA",
          "NAGA MANI MIZO TRIPURA",
          "NORTH INTERIOR KARNATAKA",
          "ORISSA",
          "PUNJAB",
          "RAYALSEEMA",
          "SAURASHTRA & KUTCH",
          "SOUTH INTERIOR KARNATAKA",
          "SUB HIMALAYAN WEST BENGAL & SIKKIM",
          "TAMIL NADU",
          "TELANGANA",
          "UTTARAKHAND",
          "VIDARBHA",
          "WEST MADHYA PRADESH",
          "WEST RAJASTHAN",
          "WEST UTTAR PRADESH"
         ],
         "y": [
          354.5904128815508,
          358.5226804123713,
          341.5391304347825,
          53.08173913043478,
          21.04869565217391,
          62.5495652173913,
          122.78782608695654,
          9.273043478260872,
          9.819999999999995,
          17.21130434782609,
          107.78782608695654,
          5.8095652173913015,
          14.533913043478256,
          58.15652173913044,
          67.47652173913045,
          48.31739130434781,
          229.88173913043477,
          33.51565217391304,
          162.52272661351898,
          22.943478260869565,
          15.646956521739131,
          290.83913043478265,
          47.03565217391307,
          64.88608695652171,
          14.136521739130433,
          50.47565217391303,
          4.662608695652175,
          92.09999999999998,
          269.1434782608696,
          69.9208695652174,
          25.37391304347827,
          55.33826086956525,
          11.551304347826093,
          7.657391304347822,
          9.443478260869563,
          12.306086956521737
         ]
        },
        {
         "name": "JUN",
         "type": "bar",
         "x": [
          "ANDAMAN & NICOBAR ISLANDS",
          "ARUNACHAL PRADESH",
          "ASSAM & MEGHALAYA",
          "BIHAR",
          "CHHATTISGARH",
          "COASTAL ANDHRA PRADESH",
          "COASTAL KARNATAKA",
          "EAST MADHYA PRADESH",
          "EAST RAJASTHAN",
          "EAST UTTAR PRADESH",
          "GANGETIC WEST BENGAL",
          "GUJARAT REGION",
          "HARYANA DELHI & CHANDIGARH",
          "HIMACHAL PRADESH",
          "JAMMU & KASHMIR",
          "JHARKHAND",
          "KERALA",
          "KONKAN & GOA",
          "LAKSHADWEEP",
          "MADHYA MAHARASHTRA",
          "MATATHWADA",
          "NAGA MANI MIZO TRIPURA",
          "NORTH INTERIOR KARNATAKA",
          "ORISSA",
          "PUNJAB",
          "RAYALSEEMA",
          "SAURASHTRA & KUTCH",
          "SOUTH INTERIOR KARNATAKA",
          "SUB HIMALAYAN WEST BENGAL & SIKKIM",
          "TAMIL NADU",
          "TELANGANA",
          "UTTARAKHAND",
          "VIDARBHA",
          "WEST MADHYA PRADESH",
          "WEST RAJASTHAN",
          "WEST UTTAR PRADESH"
         ],
         "y": [
          467.1924444395304,
          643.0735509708678,
          510.1617391304347,
          174.31565217391312,
          198.26608695652172,
          123.6939130434783,
          841.3260869565219,
          141.02956521739128,
          63.39913043478261,
          110.71217391304346,
          247.19652173913056,
          121.28434782608696,
          48.62608695652171,
          91.22086956521737,
          64.23478260869568,
          194.58869565217395,
          654.3026086956521,
          688.5695652173914,
          325.91902533638864,
          147.42608695652174,
          136.95739130434782,
          445.6339130434783,
          100.99304347826087,
          210.8608695652175,
          46.46695652173913,
          64.74260869565215,
          74.37130434782608,
          141.4173913043478,
          537.8817391304345,
          52.05652173913043,
          142.12608695652173,
          162.55130434782612,
          173.57826086956527,
          111.78173913043481,
          28.637391304347823,
          77.59739130434782
         ]
        },
        {
         "name": "JUL",
         "type": "bar",
         "x": [
          "ANDAMAN & NICOBAR ISLANDS",
          "ARUNACHAL PRADESH",
          "ASSAM & MEGHALAYA",
          "BIHAR",
          "CHHATTISGARH",
          "COASTAL ANDHRA PRADESH",
          "COASTAL KARNATAKA",
          "EAST MADHYA PRADESH",
          "EAST RAJASTHAN",
          "EAST UTTAR PRADESH",
          "GANGETIC WEST BENGAL",
          "GUJARAT REGION",
          "HARYANA DELHI & CHANDIGARH",
          "HIMACHAL PRADESH",
          "JAMMU & KASHMIR",
          "JHARKHAND",
          "KERALA",
          "KONKAN & GOA",
          "LAKSHADWEEP",
          "MADHYA MAHARASHTRA",
          "MATATHWADA",
          "NAGA MANI MIZO TRIPURA",
          "NORTH INTERIOR KARNATAKA",
          "ORISSA",
          "PUNJAB",
          "RAYALSEEMA",
          "SAURASHTRA & KUTCH",
          "SOUTH INTERIOR KARNATAKA",
          "SUB HIMALAYAN WEST BENGAL & SIKKIM",
          "TAMIL NADU",
          "TELANGANA",
          "UTTARAKHAND",
          "VIDARBHA",
          "WEST MADHYA PRADESH",
          "WEST RAJASTHAN",
          "WEST UTTAR PRADESH"
         ],
         "y": [
          399.08207880705316,
          690.9640653029684,
          495.10260869565235,
          324.44173913043466,
          398.5773913043478,
          173.82434782608695,
          1127.0286956521736,
          371.37826086956517,
          223.3478260869564,
          290.5686956521738,
          326.3773913043478,
          348.92086956521734,
          150.015652173913,
          280.284347826087,
          181.29316812511237,
          336.9756521739129,
          700.9530434782608,
          1073.0304347826088,
          283.64686844880515,
          248.98000000000002,
          180.64869565217396,
          438.68434782608693,
          138.5313043478261,
          351.1730434782609,
          168.96347826086958,
          96.0817391304348,
          194.97043478260866,
          231.35913043478268,
          646.4026086956522,
          71.31478260869562,
          247.4991304347826,
          390.6982608695654,
          329.4286956521739,
          302.9826086956522,
          95.17130434782611,
          246.51999999999984
         ]
        },
        {
         "name": "AUG",
         "type": "bar",
         "x": [
          "ANDAMAN & NICOBAR ISLANDS",
          "ARUNACHAL PRADESH",
          "ASSAM & MEGHALAYA",
          "BIHAR",
          "CHHATTISGARH",
          "COASTAL ANDHRA PRADESH",
          "COASTAL KARNATAKA",
          "EAST MADHYA PRADESH",
          "EAST RAJASTHAN",
          "EAST UTTAR PRADESH",
          "GANGETIC WEST BENGAL",
          "GUJARAT REGION",
          "HARYANA DELHI & CHANDIGARH",
          "HIMACHAL PRADESH",
          "JAMMU & KASHMIR",
          "JHARKHAND",
          "KERALA",
          "KONKAN & GOA",
          "LAKSHADWEEP",
          "MADHYA MAHARASHTRA",
          "MATATHWADA",
          "NAGA MANI MIZO TRIPURA",
          "NORTH INTERIOR KARNATAKA",
          "ORISSA",
          "PUNJAB",
          "RAYALSEEMA",
          "SAURASHTRA & KUTCH",
          "SOUTH INTERIOR KARNATAKA",
          "SUB HIMALAYAN WEST BENGAL & SIKKIM",
          "TAMIL NADU",
          "TELANGANA",
          "UTTARAKHAND",
          "VIDARBHA",
          "WEST MADHYA PRADESH",
          "WEST RAJASTHAN",
          "WEST UTTAR PRADESH"
         ],
         "y": [
          398.05115449239474,
          495.2298969072165,
          404.5930434782608,
          299.64347826086953,
          389.87304347826057,
          175.92347826086953,
          713.6182608695652,
          369.368695652174,
          218.2773913043478,
          275.61391304347814,
          311.38260869565204,
          259.1930434782608,
          150.84086956521742,
          273.93304347826086,
          180.97304347826088,
          325.52434782608697,
          421.977391304348,
          682.7565217391304,
          209.43707889617042,
          184.39739130434782,
          166.48434782608697,
          411.28173913043474,
          119.45913043478261,
          355.3826086956522,
          158.16782608695652,
          107.51130434782611,
          118.77043478260866,
          174.2391304347825,
          520.7634782608694,
          95.88782608695651,
          215.05913043478256,
          382.02347826086935,
          285.94956521739135,
          288.108695652174,
          94.55565217391309,
          251.29913043478265
         ]
        },
        {
         "name": "SEP",
         "type": "bar",
         "x": [
          "ANDAMAN & NICOBAR ISLANDS",
          "ARUNACHAL PRADESH",
          "ASSAM & MEGHALAYA",
          "BIHAR",
          "CHHATTISGARH",
          "COASTAL ANDHRA PRADESH",
          "COASTAL KARNATAKA",
          "EAST MADHYA PRADESH",
          "EAST RAJASTHAN",
          "EAST UTTAR PRADESH",
          "GANGETIC WEST BENGAL",
          "GUJARAT REGION",
          "HARYANA DELHI & CHANDIGARH",
          "HIMACHAL PRADESH",
          "JAMMU & KASHMIR",
          "JHARKHAND",
          "KERALA",
          "KONKAN & GOA",
          "LAKSHADWEEP",
          "MADHYA MAHARASHTRA",
          "MATATHWADA",
          "NAGA MANI MIZO TRIPURA",
          "NORTH INTERIOR KARNATAKA",
          "ORISSA",
          "PUNJAB",
          "RAYALSEEMA",
          "SAURASHTRA & KUTCH",
          "SOUTH INTERIOR KARNATAKA",
          "SUB HIMALAYAN WEST BENGAL & SIKKIM",
          "TAMIL NADU",
          "TELANGANA",
          "UTTARAKHAND",
          "VIDARBHA",
          "WEST MADHYA PRADESH",
          "WEST RAJASTHAN",
          "WEST UTTAR PRADESH"
         ],
         "y": [
          432.87896151293967,
          432.13402061855663,
          310.73478260869564,
          217.38434782608687,
          217.78,
          181.70782608695654,
          299.65217391304344,
          194.2365217391304,
          97.9782608695652,
          184.59130434782608,
          245.71043478260867,
          148.84173913043477,
          88.30695652173911,
          130.2191304347826,
          89.2895652173913,
          227.42173913043473,
          245.61913043478248,
          349.7800000000001,
          164.070050582661,
          157.22173913043477,
          178.4765217391305,
          314.35043478260866,
          142.94086956521735,
          241.4034782608695,
          86.78956521739133,
          131.72,
          75.41826086956526,
          137.31391304347827,
          421.3417391304348,
          111.59739130434782,
          175.50347826086954,
          196.0965217391304,
          175.44956521739132,
          161.1686956521738,
          40.34260869565217,
          146.2547826086957
         ]
        },
        {
         "name": "OCT",
         "type": "bar",
         "x": [
          "ANDAMAN & NICOBAR ISLANDS",
          "ARUNACHAL PRADESH",
          "ASSAM & MEGHALAYA",
          "BIHAR",
          "CHHATTISGARH",
          "COASTAL ANDHRA PRADESH",
          "COASTAL KARNATAKA",
          "EAST MADHYA PRADESH",
          "EAST RAJASTHAN",
          "EAST UTTAR PRADESH",
          "GANGETIC WEST BENGAL",
          "GUJARAT REGION",
          "HARYANA DELHI & CHANDIGARH",
          "HIMACHAL PRADESH",
          "JAMMU & KASHMIR",
          "JHARKHAND",
          "KERALA",
          "KONKAN & GOA",
          "LAKSHADWEEP",
          "MADHYA MAHARASHTRA",
          "MATATHWADA",
          "NAGA MANI MIZO TRIPURA",
          "NORTH INTERIOR KARNATAKA",
          "ORISSA",
          "PUNJAB",
          "RAYALSEEMA",
          "SAURASHTRA & KUTCH",
          "SOUTH INTERIOR KARNATAKA",
          "SUB HIMALAYAN WEST BENGAL & SIKKIM",
          "TAMIL NADU",
          "TELANGANA",
          "UTTARAKHAND",
          "VIDARBHA",
          "WEST MADHYA PRADESH",
          "WEST RAJASTHAN",
          "WEST UTTAR PRADESH"
         ],
         "y": [
          286.72376380008404,
          192.6413816289613,
          152.11826086956523,
          63.074782608695664,
          63.66,
          185.51130434782604,
          184.5521739130435,
          39.68608695652175,
          14.360869565217385,
          42.9208695652174,
          115.74608695652178,
          20.56521739130434,
          12.823478260869571,
          31.278260869565226,
          34.166956521739124,
          80.01565217391305,
          294.1226086956522,
          113.3869565217391,
          164.85369321942005,
          70.19478260869566,
          58.58000000000001,
          175.00608695652178,
          95.68869565217393,
          113.59217391304347,
          13.836521739130433,
          135.32782608695652,
          14.510434782608694,
          139.14347826086956,
          143.6460869565217,
          183.19652173913042,
          74.22695652173914,
          39.07391304347828,
          52.1486956521739,
          28.086956521739115,
          5.127826086956522,
          28.777391304347823
         ]
        },
        {
         "name": "NOV",
         "type": "bar",
         "x": [
          "ANDAMAN & NICOBAR ISLANDS",
          "ARUNACHAL PRADESH",
          "ASSAM & MEGHALAYA",
          "BIHAR",
          "CHHATTISGARH",
          "COASTAL ANDHRA PRADESH",
          "COASTAL KARNATAKA",
          "EAST MADHYA PRADESH",
          "EAST RAJASTHAN",
          "EAST UTTAR PRADESH",
          "GANGETIC WEST BENGAL",
          "GUJARAT REGION",
          "HARYANA DELHI & CHANDIGARH",
          "HIMACHAL PRADESH",
          "JAMMU & KASHMIR",
          "JHARKHAND",
          "KERALA",
          "KONKAN & GOA",
          "LAKSHADWEEP",
          "MADHYA MAHARASHTRA",
          "MATATHWADA",
          "NAGA MANI MIZO TRIPURA",
          "NORTH INTERIOR KARNATAKA",
          "ORISSA",
          "PUNJAB",
          "RAYALSEEMA",
          "SAURASHTRA & KUTCH",
          "SOUTH INTERIOR KARNATAKA",
          "SUB HIMALAYAN WEST BENGAL & SIKKIM",
          "TAMIL NADU",
          "TELANGANA",
          "UTTARAKHAND",
          "VIDARBHA",
          "WEST MADHYA PRADESH",
          "WEST RAJASTHAN",
          "WEST UTTAR PRADESH"
         ],
         "y": [
          230.219384785738,
          35.782807488981256,
          26.938260869565216,
          7.178260869565217,
          11.772173913043478,
          77.90347826086959,
          63.607826086956536,
          12.705217391304346,
          4.873913043478261,
          4.590434782608697,
          21.57913043478261,
          6.928695652173913,
          3.264347826086958,
          16.695652173913047,
          24.270140549700788,
          11.923478260869564,
          163.5600000000001,
          24.67130434782609,
          120.36839455520656,
          25.945217391304336,
          22.43652173913044,
          46.83391304347827,
          29.20782608695653,
          27.961739130434786,
          4.140000000000001,
          102.65391304347825,
          6.096521739130437,
          54.43130434782611,
          16.08869565217391,
          176.90347826086952,
          20.250434782608703,
          8.187826086956521,
          15.574782608695656,
          12.340869565217387,
          1.6669565217391293,
          3.9660869565217385
         ]
        },
        {
         "name": "DEC",
         "type": "bar",
         "x": [
          "ANDAMAN & NICOBAR ISLANDS",
          "ARUNACHAL PRADESH",
          "ASSAM & MEGHALAYA",
          "BIHAR",
          "CHHATTISGARH",
          "COASTAL ANDHRA PRADESH",
          "COASTAL KARNATAKA",
          "EAST MADHYA PRADESH",
          "EAST RAJASTHAN",
          "EAST UTTAR PRADESH",
          "GANGETIC WEST BENGAL",
          "GUJARAT REGION",
          "HARYANA DELHI & CHANDIGARH",
          "HIMACHAL PRADESH",
          "JAMMU & KASHMIR",
          "JHARKHAND",
          "KERALA",
          "KONKAN & GOA",
          "LAKSHADWEEP",
          "MADHYA MAHARASHTRA",
          "MATATHWADA",
          "NAGA MANI MIZO TRIPURA",
          "NORTH INTERIOR KARNATAKA",
          "ORISSA",
          "PUNJAB",
          "RAYALSEEMA",
          "SAURASHTRA & KUTCH",
          "SOUTH INTERIOR KARNATAKA",
          "SUB HIMALAYAN WEST BENGAL & SIKKIM",
          "TAMIL NADU",
          "TELANGANA",
          "UTTARAKHAND",
          "VIDARBHA",
          "WEST MADHYA PRADESH",
          "WEST RAJASTHAN",
          "WEST UTTAR PRADESH"
         ],
         "y": [
          149.48283399016958,
          24.385991332774257,
          8.951304347826083,
          3.6947826086956534,
          5.248695652173914,
          11.42,
          12.613913043478256,
          8.404347826086958,
          3.651304347826088,
          5.776521739130434,
          5.690434782608697,
          1.3391304347826085,
          7.18608695652174,
          39.89304347826084,
          55.10757025773524,
          4.939130434782611,
          39.95043478260869,
          4.516521739130434,
          59.33931858384393,
          5.848695652173915,
          7.302608695652172,
          12.399130434782613,
          6.327826086956522,
          5.567826086956521,
          12.694782608695649,
          34.26,
          1.1086956521739129,
          11.51739130434783,
          6.0600000000000005,
          81.13739130434789,
          5.141739130434783,
          22.035652173913032,
          7.927826086956523,
          6.296521739130434,
          1.9026086956521737,
          7.114782608695656
         ]
        }
       ],
       "layout": {
        "barmode": "stack",
        "height": 900,
        "template": {
         "data": {
          "bar": [
           {
            "error_x": {
             "color": "#2a3f5f"
            },
            "error_y": {
             "color": "#2a3f5f"
            },
            "marker": {
             "line": {
              "color": "#E5ECF6",
              "width": 0.5
             }
            },
            "type": "bar"
           }
          ],
          "barpolar": [
           {
            "marker": {
             "line": {
              "color": "#E5ECF6",
              "width": 0.5
             }
            },
            "type": "barpolar"
           }
          ],
          "carpet": [
           {
            "aaxis": {
             "endlinecolor": "#2a3f5f",
             "gridcolor": "white",
             "linecolor": "white",
             "minorgridcolor": "white",
             "startlinecolor": "#2a3f5f"
            },
            "baxis": {
             "endlinecolor": "#2a3f5f",
             "gridcolor": "white",
             "linecolor": "white",
             "minorgridcolor": "white",
             "startlinecolor": "#2a3f5f"
            },
            "type": "carpet"
           }
          ],
          "choropleth": [
           {
            "colorbar": {
             "outlinewidth": 0,
             "ticks": ""
            },
            "type": "choropleth"
           }
          ],
          "contour": [
           {
            "colorbar": {
             "outlinewidth": 0,
             "ticks": ""
            },
            "colorscale": [
             [
              0,
              "#0d0887"
             ],
             [
              0.1111111111111111,
              "#46039f"
             ],
             [
              0.2222222222222222,
              "#7201a8"
             ],
             [
              0.3333333333333333,
              "#9c179e"
             ],
             [
              0.4444444444444444,
              "#bd3786"
             ],
             [
              0.5555555555555556,
              "#d8576b"
             ],
             [
              0.6666666666666666,
              "#ed7953"
             ],
             [
              0.7777777777777778,
              "#fb9f3a"
             ],
             [
              0.8888888888888888,
              "#fdca26"
             ],
             [
              1,
              "#f0f921"
             ]
            ],
            "type": "contour"
           }
          ],
          "contourcarpet": [
           {
            "colorbar": {
             "outlinewidth": 0,
             "ticks": ""
            },
            "type": "contourcarpet"
           }
          ],
          "heatmap": [
           {
            "colorbar": {
             "outlinewidth": 0,
             "ticks": ""
            },
            "colorscale": [
             [
              0,
              "#0d0887"
             ],
             [
              0.1111111111111111,
              "#46039f"
             ],
             [
              0.2222222222222222,
              "#7201a8"
             ],
             [
              0.3333333333333333,
              "#9c179e"
             ],
             [
              0.4444444444444444,
              "#bd3786"
             ],
             [
              0.5555555555555556,
              "#d8576b"
             ],
             [
              0.6666666666666666,
              "#ed7953"
             ],
             [
              0.7777777777777778,
              "#fb9f3a"
             ],
             [
              0.8888888888888888,
              "#fdca26"
             ],
             [
              1,
              "#f0f921"
             ]
            ],
            "type": "heatmap"
           }
          ],
          "heatmapgl": [
           {
            "colorbar": {
             "outlinewidth": 0,
             "ticks": ""
            },
            "colorscale": [
             [
              0,
              "#0d0887"
             ],
             [
              0.1111111111111111,
              "#46039f"
             ],
             [
              0.2222222222222222,
              "#7201a8"
             ],
             [
              0.3333333333333333,
              "#9c179e"
             ],
             [
              0.4444444444444444,
              "#bd3786"
             ],
             [
              0.5555555555555556,
              "#d8576b"
             ],
             [
              0.6666666666666666,
              "#ed7953"
             ],
             [
              0.7777777777777778,
              "#fb9f3a"
             ],
             [
              0.8888888888888888,
              "#fdca26"
             ],
             [
              1,
              "#f0f921"
             ]
            ],
            "type": "heatmapgl"
           }
          ],
          "histogram": [
           {
            "marker": {
             "colorbar": {
              "outlinewidth": 0,
              "ticks": ""
             }
            },
            "type": "histogram"
           }
          ],
          "histogram2d": [
           {
            "colorbar": {
             "outlinewidth": 0,
             "ticks": ""
            },
            "colorscale": [
             [
              0,
              "#0d0887"
             ],
             [
              0.1111111111111111,
              "#46039f"
             ],
             [
              0.2222222222222222,
              "#7201a8"
             ],
             [
              0.3333333333333333,
              "#9c179e"
             ],
             [
              0.4444444444444444,
              "#bd3786"
             ],
             [
              0.5555555555555556,
              "#d8576b"
             ],
             [
              0.6666666666666666,
              "#ed7953"
             ],
             [
              0.7777777777777778,
              "#fb9f3a"
             ],
             [
              0.8888888888888888,
              "#fdca26"
             ],
             [
              1,
              "#f0f921"
             ]
            ],
            "type": "histogram2d"
           }
          ],
          "histogram2dcontour": [
           {
            "colorbar": {
             "outlinewidth": 0,
             "ticks": ""
            },
            "colorscale": [
             [
              0,
              "#0d0887"
             ],
             [
              0.1111111111111111,
              "#46039f"
             ],
             [
              0.2222222222222222,
              "#7201a8"
             ],
             [
              0.3333333333333333,
              "#9c179e"
             ],
             [
              0.4444444444444444,
              "#bd3786"
             ],
             [
              0.5555555555555556,
              "#d8576b"
             ],
             [
              0.6666666666666666,
              "#ed7953"
             ],
             [
              0.7777777777777778,
              "#fb9f3a"
             ],
             [
              0.8888888888888888,
              "#fdca26"
             ],
             [
              1,
              "#f0f921"
             ]
            ],
            "type": "histogram2dcontour"
           }
          ],
          "mesh3d": [
           {
            "colorbar": {
             "outlinewidth": 0,
             "ticks": ""
            },
            "type": "mesh3d"
           }
          ],
          "parcoords": [
           {
            "line": {
             "colorbar": {
              "outlinewidth": 0,
              "ticks": ""
             }
            },
            "type": "parcoords"
           }
          ],
          "pie": [
           {
            "automargin": true,
            "type": "pie"
           }
          ],
          "scatter": [
           {
            "marker": {
             "colorbar": {
              "outlinewidth": 0,
              "ticks": ""
             }
            },
            "type": "scatter"
           }
          ],
          "scatter3d": [
           {
            "line": {
             "colorbar": {
              "outlinewidth": 0,
              "ticks": ""
             }
            },
            "marker": {
             "colorbar": {
              "outlinewidth": 0,
              "ticks": ""
             }
            },
            "type": "scatter3d"
           }
          ],
          "scattercarpet": [
           {
            "marker": {
             "colorbar": {
              "outlinewidth": 0,
              "ticks": ""
             }
            },
            "type": "scattercarpet"
           }
          ],
          "scattergeo": [
           {
            "marker": {
             "colorbar": {
              "outlinewidth": 0,
              "ticks": ""
             }
            },
            "type": "scattergeo"
           }
          ],
          "scattergl": [
           {
            "marker": {
             "colorbar": {
              "outlinewidth": 0,
              "ticks": ""
             }
            },
            "type": "scattergl"
           }
          ],
          "scattermapbox": [
           {
            "marker": {
             "colorbar": {
              "outlinewidth": 0,
              "ticks": ""
             }
            },
            "type": "scattermapbox"
           }
          ],
          "scatterpolar": [
           {
            "marker": {
             "colorbar": {
              "outlinewidth": 0,
              "ticks": ""
             }
            },
            "type": "scatterpolar"
           }
          ],
          "scatterpolargl": [
           {
            "marker": {
             "colorbar": {
              "outlinewidth": 0,
              "ticks": ""
             }
            },
            "type": "scatterpolargl"
           }
          ],
          "scatterternary": [
           {
            "marker": {
             "colorbar": {
              "outlinewidth": 0,
              "ticks": ""
             }
            },
            "type": "scatterternary"
           }
          ],
          "surface": [
           {
            "colorbar": {
             "outlinewidth": 0,
             "ticks": ""
            },
            "colorscale": [
             [
              0,
              "#0d0887"
             ],
             [
              0.1111111111111111,
              "#46039f"
             ],
             [
              0.2222222222222222,
              "#7201a8"
             ],
             [
              0.3333333333333333,
              "#9c179e"
             ],
             [
              0.4444444444444444,
              "#bd3786"
             ],
             [
              0.5555555555555556,
              "#d8576b"
             ],
             [
              0.6666666666666666,
              "#ed7953"
             ],
             [
              0.7777777777777778,
              "#fb9f3a"
             ],
             [
              0.8888888888888888,
              "#fdca26"
             ],
             [
              1,
              "#f0f921"
             ]
            ],
            "type": "surface"
           }
          ],
          "table": [
           {
            "cells": {
             "fill": {
              "color": "#EBF0F8"
             },
             "line": {
              "color": "white"
             }
            },
            "header": {
             "fill": {
              "color": "#C8D4E3"
             },
             "line": {
              "color": "white"
             }
            },
            "type": "table"
           }
          ]
         },
         "layout": {
          "annotationdefaults": {
           "arrowcolor": "#2a3f5f",
           "arrowhead": 0,
           "arrowwidth": 1
          },
          "autotypenumbers": "strict",
          "coloraxis": {
           "colorbar": {
            "outlinewidth": 0,
            "ticks": ""
           }
          },
          "colorscale": {
           "diverging": [
            [
             0,
             "#8e0152"
            ],
            [
             0.1,
             "#c51b7d"
            ],
            [
             0.2,
             "#de77ae"
            ],
            [
             0.3,
             "#f1b6da"
            ],
            [
             0.4,
             "#fde0ef"
            ],
            [
             0.5,
             "#f7f7f7"
            ],
            [
             0.6,
             "#e6f5d0"
            ],
            [
             0.7,
             "#b8e186"
            ],
            [
             0.8,
             "#7fbc41"
            ],
            [
             0.9,
             "#4d9221"
            ],
            [
             1,
             "#276419"
            ]
           ],
           "sequential": [
            [
             0,
             "#0d0887"
            ],
            [
             0.1111111111111111,
             "#46039f"
            ],
            [
             0.2222222222222222,
             "#7201a8"
            ],
            [
             0.3333333333333333,
             "#9c179e"
            ],
            [
             0.4444444444444444,
             "#bd3786"
            ],
            [
             0.5555555555555556,
             "#d8576b"
            ],
            [
             0.6666666666666666,
             "#ed7953"
            ],
            [
             0.7777777777777778,
             "#fb9f3a"
            ],
            [
             0.8888888888888888,
             "#fdca26"
            ],
            [
             1,
             "#f0f921"
            ]
           ],
           "sequentialminus": [
            [
             0,
             "#0d0887"
            ],
            [
             0.1111111111111111,
             "#46039f"
            ],
            [
             0.2222222222222222,
             "#7201a8"
            ],
            [
             0.3333333333333333,
             "#9c179e"
            ],
            [
             0.4444444444444444,
             "#bd3786"
            ],
            [
             0.5555555555555556,
             "#d8576b"
            ],
            [
             0.6666666666666666,
             "#ed7953"
            ],
            [
             0.7777777777777778,
             "#fb9f3a"
            ],
            [
             0.8888888888888888,
             "#fdca26"
            ],
            [
             1,
             "#f0f921"
            ]
           ]
          },
          "colorway": [
           "#636efa",
           "#EF553B",
           "#00cc96",
           "#ab63fa",
           "#FFA15A",
           "#19d3f3",
           "#FF6692",
           "#B6E880",
           "#FF97FF",
           "#FECB52"
          ],
          "font": {
           "color": "#2a3f5f"
          },
          "geo": {
           "bgcolor": "white",
           "lakecolor": "white",
           "landcolor": "#E5ECF6",
           "showlakes": true,
           "showland": true,
           "subunitcolor": "white"
          },
          "hoverlabel": {
           "align": "left"
          },
          "hovermode": "closest",
          "mapbox": {
           "style": "light"
          },
          "paper_bgcolor": "white",
          "plot_bgcolor": "#E5ECF6",
          "polar": {
           "angularaxis": {
            "gridcolor": "white",
            "linecolor": "white",
            "ticks": ""
           },
           "bgcolor": "#E5ECF6",
           "radialaxis": {
            "gridcolor": "white",
            "linecolor": "white",
            "ticks": ""
           }
          },
          "scene": {
           "xaxis": {
            "backgroundcolor": "#E5ECF6",
            "gridcolor": "white",
            "gridwidth": 2,
            "linecolor": "white",
            "showbackground": true,
            "ticks": "",
            "zerolinecolor": "white"
           },
           "yaxis": {
            "backgroundcolor": "#E5ECF6",
            "gridcolor": "white",
            "gridwidth": 2,
            "linecolor": "white",
            "showbackground": true,
            "ticks": "",
            "zerolinecolor": "white"
           },
           "zaxis": {
            "backgroundcolor": "#E5ECF6",
            "gridcolor": "white",
            "gridwidth": 2,
            "linecolor": "white",
            "showbackground": true,
            "ticks": "",
            "zerolinecolor": "white"
           }
          },
          "shapedefaults": {
           "line": {
            "color": "#2a3f5f"
           }
          },
          "ternary": {
           "aaxis": {
            "gridcolor": "white",
            "linecolor": "white",
            "ticks": ""
           },
           "baxis": {
            "gridcolor": "white",
            "linecolor": "white",
            "ticks": ""
           },
           "bgcolor": "#E5ECF6",
           "caxis": {
            "gridcolor": "white",
            "linecolor": "white",
            "ticks": ""
           }
          },
          "title": {
           "x": 0.05
          },
          "xaxis": {
           "automargin": true,
           "gridcolor": "white",
           "linecolor": "white",
           "ticks": "",
           "title": {
            "standoff": 15
           },
           "zerolinecolor": "white",
           "zerolinewidth": 2
          },
          "yaxis": {
           "automargin": true,
           "gridcolor": "white",
           "linecolor": "white",
           "ticks": "",
           "title": {
            "standoff": 15
           },
           "zerolinecolor": "white",
           "zerolinewidth": 2
          }
         }
        },
        "width": 1000
       }
      },
      "text/html": "<div>                            <div id=\"6420f289-d545-4303-a02e-e15ae8d43e2c\" class=\"plotly-graph-div\" style=\"height:900px; width:1000px;\"></div>            <script type=\"text/javascript\">                require([\"plotly\"], function(Plotly) {                    window.PLOTLYENV=window.PLOTLYENV || {};                                    if (document.getElementById(\"6420f289-d545-4303-a02e-e15ae8d43e2c\")) {                    Plotly.newPlot(                        \"6420f289-d545-4303-a02e-e15ae8d43e2c\",                        [{\"name\": \"JAN\", \"type\": \"bar\", \"x\": [\"ANDAMAN & NICOBAR ISLANDS\", \"ARUNACHAL PRADESH\", \"ASSAM & MEGHALAYA\", \"BIHAR\", \"CHHATTISGARH\", \"COASTAL ANDHRA PRADESH\", \"COASTAL KARNATAKA\", \"EAST MADHYA PRADESH\", \"EAST RAJASTHAN\", \"EAST UTTAR PRADESH\", \"GANGETIC WEST BENGAL\", \"GUJARAT REGION\", \"HARYANA DELHI & CHANDIGARH\", \"HIMACHAL PRADESH\", \"JAMMU & KASHMIR\", \"JHARKHAND\", \"KERALA\", \"KONKAN & GOA\", \"LAKSHADWEEP\", \"MADHYA MAHARASHTRA\", \"MATATHWADA\", \"NAGA MANI MIZO TRIPURA\", \"NORTH INTERIOR KARNATAKA\", \"ORISSA\", \"PUNJAB\", \"RAYALSEEMA\", \"SAURASHTRA & KUTCH\", \"SOUTH INTERIOR KARNATAKA\", \"SUB HIMALAYAN WEST BENGAL & SIKKIM\", \"TAMIL NADU\", \"TELANGANA\", \"UTTARAKHAND\", \"VIDARBHA\", \"WEST MADHYA PRADESH\", \"WEST RAJASTHAN\", \"WEST UTTAR PRADESH\"], \"y\": [52.637272727272716, 47.005745567411424, 16.974782608695655, 13.386086956521737, 14.206956521739123, 7.483478260869568, 2.085715826425309, 19.401739130434777, 6.4226086956521735, 16.012173913043462, 12.595652173913047, 1.7860869565217385, 16.8895652173913, 84.18956521739132, 102.03043478260865, 17.62173913043478, 12.246956521739126, 1.262608695652174, 27.344865263840532, 3.0547826086956533, 5.000869565217392, 14.02521739130435, 3.0130434782608697, 12.329565217391302, 25.246086956521744, 9.867826086956526, 1.139130434782609, 2.9286956521739125, 14.083478260869564, 23.81913043478262, 7.7026086956521755, 53.797391304347826, 10.563478260869568, 9.241739130434784, 3.3278260869565215, 17.66608695652173]}, {\"name\": \"FEB\", \"type\": \"bar\", \"x\": [\"ANDAMAN & NICOBAR ISLANDS\", \"ARUNACHAL PRADESH\", \"ASSAM & MEGHALAYA\", \"BIHAR\", \"CHHATTISGARH\", \"COASTAL ANDHRA PRADESH\", \"COASTAL KARNATAKA\", \"EAST MADHYA PRADESH\", \"EAST RAJASTHAN\", \"EAST UTTAR PRADESH\", \"GANGETIC WEST BENGAL\", \"GUJARAT REGION\", \"HARYANA DELHI & CHANDIGARH\", \"HIMACHAL PRADESH\", \"JAMMU & KASHMIR\", \"JHARKHAND\", \"KERALA\", \"KONKAN & GOA\", \"LAKSHADWEEP\", \"MADHYA MAHARASHTRA\", \"MATATHWADA\", \"NAGA MANI MIZO TRIPURA\", \"NORTH INTERIOR KARNATAKA\", \"ORISSA\", \"PUNJAB\", \"RAYALSEEMA\", \"SAURASHTRA & KUTCH\", \"SOUTH INTERIOR KARNATAKA\", \"SUB HIMALAYAN WEST BENGAL & SIKKIM\", \"TAMIL NADU\", \"TELANGANA\", \"UTTARAKHAND\", \"VIDARBHA\", \"WEST MADHYA PRADESH\", \"WEST RAJASTHAN\", \"WEST UTTAR PRADESH\"], \"y\": [27.99454545454546, 90.40211674825358, 31.44173913043478, 14.39391304347826, 19.2591304347826, 12.923478260869564, 1.5182608695652178, 18.693913043478258, 5.417391304347828, 15.87391304347825, 22.452173913043474, 1.1913043478260863, 17.433913043478263, 90.89478260869568, 115.45043478260877, 24.18608695652173, 15.49652173913043, 0.5469565217391305, 15.886888812110508, 1.4678260869565212, 4.443478260869566, 36.65217391304347, 3.172173913043479, 19.719130434782603, 26.786956521739125, 5.68, 1.6156521739130434, 4.1634782608695655, 22.97478260869565, 13.422608695652169, 9.688695652173914, 63.452173913043474, 11.982608695652177, 6.442654996353029, 4.930434782608696, 17.893913043478257]}, {\"name\": \"MAR\", \"type\": \"bar\", \"x\": [\"ANDAMAN & NICOBAR ISLANDS\", \"ARUNACHAL PRADESH\", \"ASSAM & MEGHALAYA\", \"BIHAR\", \"CHHATTISGARH\", \"COASTAL ANDHRA PRADESH\", \"COASTAL KARNATAKA\", \"EAST MADHYA PRADESH\", \"EAST RAJASTHAN\", \"EAST UTTAR PRADESH\", \"GANGETIC WEST BENGAL\", \"GUJARAT REGION\", \"HARYANA DELHI & CHANDIGARH\", \"HIMACHAL PRADESH\", \"JAMMU & KASHMIR\", \"JHARKHAND\", \"KERALA\", \"KONKAN & GOA\", \"LAKSHADWEEP\", \"MADHYA MAHARASHTRA\", \"MATATHWADA\", \"NAGA MANI MIZO TRIPURA\", \"NORTH INTERIOR KARNATAKA\", \"ORISSA\", \"PUNJAB\", \"RAYALSEEMA\", \"SAURASHTRA & KUTCH\", \"SOUTH INTERIOR KARNATAKA\", \"SUB HIMALAYAN WEST BENGAL & SIKKIM\", \"TAMIL NADU\", \"TELANGANA\", \"UTTARAKHAND\", \"VIDARBHA\", \"WEST MADHYA PRADESH\", \"WEST RAJASTHAN\", \"WEST UTTAR PRADESH\"], \"y\": [31.742894492368947, 150.92596282639775, 79.02695652173912, 10.124347826086957, 15.266956521739129, 13.221739130434786, 6.357391304347825, 13.637391304347815, 4.516521739130434, 8.90782608695652, 29.090434782608703, 1.2208695652173904, 12.935652173913049, 101.1460869565217, 131.3782608695652, 18.423478260869558, 36.81478260869565, 1.3747826086956518, 14.579108720706879, 3.5965217391304365, 7.105217391304349, 77.1991304347826, 7.123478260869566, 21.13478260869566, 23.651304347826088, 8.076521739130433, 1.2965217391304342, 9.48521739130435, 43.13565217391307, 19.475652173913044, 12.614782608695654, 57.272173913043495, 11.872173913043472, 5.173043478260869, 3.986086956521739, 11.461739130434788]}, {\"name\": \"APR\", \"type\": \"bar\", \"x\": [\"ANDAMAN & NICOBAR ISLANDS\", \"ARUNACHAL PRADESH\", \"ASSAM & MEGHALAYA\", \"BIHAR\", \"CHHATTISGARH\", \"COASTAL ANDHRA PRADESH\", \"COASTAL KARNATAKA\", \"EAST MADHYA PRADESH\", \"EAST RAJASTHAN\", \"EAST UTTAR PRADESH\", \"GANGETIC WEST BENGAL\", \"GUJARAT REGION\", \"HARYANA DELHI & CHANDIGARH\", \"HIMACHAL PRADESH\", \"JAMMU & KASHMIR\", \"JHARKHAND\", \"KERALA\", \"KONKAN & GOA\", \"LAKSHADWEEP\", \"MADHYA MAHARASHTRA\", \"MATATHWADA\", \"NAGA MANI MIZO TRIPURA\", \"NORTH INTERIOR KARNATAKA\", \"ORISSA\", \"PUNJAB\", \"RAYALSEEMA\", \"SAURASHTRA & KUTCH\", \"SOUTH INTERIOR KARNATAKA\", \"SUB HIMALAYAN WEST BENGAL & SIKKIM\", \"TAMIL NADU\", \"TELANGANA\", \"UTTARAKHAND\", \"VIDARBHA\", \"WEST MADHYA PRADESH\", \"WEST RAJASTHAN\", \"WEST UTTAR PRADESH\"], \"y\": [71.69413512557485, 263.8360824742269, 203.11565217391296, 16.91826086956523, 16.77304347826088, 26.74086956521739, 30.916521739130427, 7.188695652173918, 3.144347826086955, 6.430434782608694, 44.88521739130435, 1.116521739130434, 7.633913043478262, 62.42869565217389, 93.70260869565212, 19.366956521739137, 110.57391304347824, 4.266086956521741, 45.12767424397571, 9.14695652173913, 7.594782608695652, 170.7330434782608, 24.300869565217404, 34.15999999999999, 12.66, 19.808695652173906, 1.183478260869565, 42.28086956521738, 110.6817391304348, 44.995652173913065, 18.185217391304345, 35.16608695652173, 9.435652173913038, 2.3756521739130423, 3.571304347826086, 6.253043478260872]}, {\"name\": \"MAY\", \"type\": \"bar\", \"x\": [\"ANDAMAN & NICOBAR ISLANDS\", \"ARUNACHAL PRADESH\", \"ASSAM & MEGHALAYA\", \"BIHAR\", \"CHHATTISGARH\", \"COASTAL ANDHRA PRADESH\", \"COASTAL KARNATAKA\", \"EAST MADHYA PRADESH\", \"EAST RAJASTHAN\", \"EAST UTTAR PRADESH\", \"GANGETIC WEST BENGAL\", \"GUJARAT REGION\", \"HARYANA DELHI & CHANDIGARH\", \"HIMACHAL PRADESH\", \"JAMMU & KASHMIR\", \"JHARKHAND\", \"KERALA\", \"KONKAN & GOA\", \"LAKSHADWEEP\", \"MADHYA MAHARASHTRA\", \"MATATHWADA\", \"NAGA MANI MIZO TRIPURA\", \"NORTH INTERIOR KARNATAKA\", \"ORISSA\", \"PUNJAB\", \"RAYALSEEMA\", \"SAURASHTRA & KUTCH\", \"SOUTH INTERIOR KARNATAKA\", \"SUB HIMALAYAN WEST BENGAL & SIKKIM\", \"TAMIL NADU\", \"TELANGANA\", \"UTTARAKHAND\", \"VIDARBHA\", \"WEST MADHYA PRADESH\", \"WEST RAJASTHAN\", \"WEST UTTAR PRADESH\"], \"y\": [354.5904128815508, 358.5226804123713, 341.5391304347825, 53.08173913043478, 21.04869565217391, 62.5495652173913, 122.78782608695654, 9.273043478260872, 9.819999999999995, 17.21130434782609, 107.78782608695654, 5.8095652173913015, 14.533913043478256, 58.15652173913044, 67.47652173913045, 48.31739130434781, 229.88173913043477, 33.51565217391304, 162.52272661351898, 22.943478260869565, 15.646956521739131, 290.83913043478265, 47.03565217391307, 64.88608695652171, 14.136521739130433, 50.47565217391303, 4.662608695652175, 92.09999999999998, 269.1434782608696, 69.9208695652174, 25.37391304347827, 55.33826086956525, 11.551304347826093, 7.657391304347822, 9.443478260869563, 12.306086956521737]}, {\"name\": \"JUN\", \"type\": \"bar\", \"x\": [\"ANDAMAN & NICOBAR ISLANDS\", \"ARUNACHAL PRADESH\", \"ASSAM & MEGHALAYA\", \"BIHAR\", \"CHHATTISGARH\", \"COASTAL ANDHRA PRADESH\", \"COASTAL KARNATAKA\", \"EAST MADHYA PRADESH\", \"EAST RAJASTHAN\", \"EAST UTTAR PRADESH\", \"GANGETIC WEST BENGAL\", \"GUJARAT REGION\", \"HARYANA DELHI & CHANDIGARH\", \"HIMACHAL PRADESH\", \"JAMMU & KASHMIR\", \"JHARKHAND\", \"KERALA\", \"KONKAN & GOA\", \"LAKSHADWEEP\", \"MADHYA MAHARASHTRA\", \"MATATHWADA\", \"NAGA MANI MIZO TRIPURA\", \"NORTH INTERIOR KARNATAKA\", \"ORISSA\", \"PUNJAB\", \"RAYALSEEMA\", \"SAURASHTRA & KUTCH\", \"SOUTH INTERIOR KARNATAKA\", \"SUB HIMALAYAN WEST BENGAL & SIKKIM\", \"TAMIL NADU\", \"TELANGANA\", \"UTTARAKHAND\", \"VIDARBHA\", \"WEST MADHYA PRADESH\", \"WEST RAJASTHAN\", \"WEST UTTAR PRADESH\"], \"y\": [467.1924444395304, 643.0735509708678, 510.1617391304347, 174.31565217391312, 198.26608695652172, 123.6939130434783, 841.3260869565219, 141.02956521739128, 63.39913043478261, 110.71217391304346, 247.19652173913056, 121.28434782608696, 48.62608695652171, 91.22086956521737, 64.23478260869568, 194.58869565217395, 654.3026086956521, 688.5695652173914, 325.91902533638864, 147.42608695652174, 136.95739130434782, 445.6339130434783, 100.99304347826087, 210.8608695652175, 46.46695652173913, 64.74260869565215, 74.37130434782608, 141.4173913043478, 537.8817391304345, 52.05652173913043, 142.12608695652173, 162.55130434782612, 173.57826086956527, 111.78173913043481, 28.637391304347823, 77.59739130434782]}, {\"name\": \"JUL\", \"type\": \"bar\", \"x\": [\"ANDAMAN & NICOBAR ISLANDS\", \"ARUNACHAL PRADESH\", \"ASSAM & MEGHALAYA\", \"BIHAR\", \"CHHATTISGARH\", \"COASTAL ANDHRA PRADESH\", \"COASTAL KARNATAKA\", \"EAST MADHYA PRADESH\", \"EAST RAJASTHAN\", \"EAST UTTAR PRADESH\", \"GANGETIC WEST BENGAL\", \"GUJARAT REGION\", \"HARYANA DELHI & CHANDIGARH\", \"HIMACHAL PRADESH\", \"JAMMU & KASHMIR\", \"JHARKHAND\", \"KERALA\", \"KONKAN & GOA\", \"LAKSHADWEEP\", \"MADHYA MAHARASHTRA\", \"MATATHWADA\", \"NAGA MANI MIZO TRIPURA\", \"NORTH INTERIOR KARNATAKA\", \"ORISSA\", \"PUNJAB\", \"RAYALSEEMA\", \"SAURASHTRA & KUTCH\", \"SOUTH INTERIOR KARNATAKA\", \"SUB HIMALAYAN WEST BENGAL & SIKKIM\", \"TAMIL NADU\", \"TELANGANA\", \"UTTARAKHAND\", \"VIDARBHA\", \"WEST MADHYA PRADESH\", \"WEST RAJASTHAN\", \"WEST UTTAR PRADESH\"], \"y\": [399.08207880705316, 690.9640653029684, 495.10260869565235, 324.44173913043466, 398.5773913043478, 173.82434782608695, 1127.0286956521736, 371.37826086956517, 223.3478260869564, 290.5686956521738, 326.3773913043478, 348.92086956521734, 150.015652173913, 280.284347826087, 181.29316812511237, 336.9756521739129, 700.9530434782608, 1073.0304347826088, 283.64686844880515, 248.98000000000002, 180.64869565217396, 438.68434782608693, 138.5313043478261, 351.1730434782609, 168.96347826086958, 96.0817391304348, 194.97043478260866, 231.35913043478268, 646.4026086956522, 71.31478260869562, 247.4991304347826, 390.6982608695654, 329.4286956521739, 302.9826086956522, 95.17130434782611, 246.51999999999984]}, {\"name\": \"AUG\", \"type\": \"bar\", \"x\": [\"ANDAMAN & NICOBAR ISLANDS\", \"ARUNACHAL PRADESH\", \"ASSAM & MEGHALAYA\", \"BIHAR\", \"CHHATTISGARH\", \"COASTAL ANDHRA PRADESH\", \"COASTAL KARNATAKA\", \"EAST MADHYA PRADESH\", \"EAST RAJASTHAN\", \"EAST UTTAR PRADESH\", \"GANGETIC WEST BENGAL\", \"GUJARAT REGION\", \"HARYANA DELHI & CHANDIGARH\", \"HIMACHAL PRADESH\", \"JAMMU & KASHMIR\", \"JHARKHAND\", \"KERALA\", \"KONKAN & GOA\", \"LAKSHADWEEP\", \"MADHYA MAHARASHTRA\", \"MATATHWADA\", \"NAGA MANI MIZO TRIPURA\", \"NORTH INTERIOR KARNATAKA\", \"ORISSA\", \"PUNJAB\", \"RAYALSEEMA\", \"SAURASHTRA & KUTCH\", \"SOUTH INTERIOR KARNATAKA\", \"SUB HIMALAYAN WEST BENGAL & SIKKIM\", \"TAMIL NADU\", \"TELANGANA\", \"UTTARAKHAND\", \"VIDARBHA\", \"WEST MADHYA PRADESH\", \"WEST RAJASTHAN\", \"WEST UTTAR PRADESH\"], \"y\": [398.05115449239474, 495.2298969072165, 404.5930434782608, 299.64347826086953, 389.87304347826057, 175.92347826086953, 713.6182608695652, 369.368695652174, 218.2773913043478, 275.61391304347814, 311.38260869565204, 259.1930434782608, 150.84086956521742, 273.93304347826086, 180.97304347826088, 325.52434782608697, 421.977391304348, 682.7565217391304, 209.43707889617042, 184.39739130434782, 166.48434782608697, 411.28173913043474, 119.45913043478261, 355.3826086956522, 158.16782608695652, 107.51130434782611, 118.77043478260866, 174.2391304347825, 520.7634782608694, 95.88782608695651, 215.05913043478256, 382.02347826086935, 285.94956521739135, 288.108695652174, 94.55565217391309, 251.29913043478265]}, {\"name\": \"SEP\", \"type\": \"bar\", \"x\": [\"ANDAMAN & NICOBAR ISLANDS\", \"ARUNACHAL PRADESH\", \"ASSAM & MEGHALAYA\", \"BIHAR\", \"CHHATTISGARH\", \"COASTAL ANDHRA PRADESH\", \"COASTAL KARNATAKA\", \"EAST MADHYA PRADESH\", \"EAST RAJASTHAN\", \"EAST UTTAR PRADESH\", \"GANGETIC WEST BENGAL\", \"GUJARAT REGION\", \"HARYANA DELHI & CHANDIGARH\", \"HIMACHAL PRADESH\", \"JAMMU & KASHMIR\", \"JHARKHAND\", \"KERALA\", \"KONKAN & GOA\", \"LAKSHADWEEP\", \"MADHYA MAHARASHTRA\", \"MATATHWADA\", \"NAGA MANI MIZO TRIPURA\", \"NORTH INTERIOR KARNATAKA\", \"ORISSA\", \"PUNJAB\", \"RAYALSEEMA\", \"SAURASHTRA & KUTCH\", \"SOUTH INTERIOR KARNATAKA\", \"SUB HIMALAYAN WEST BENGAL & SIKKIM\", \"TAMIL NADU\", \"TELANGANA\", \"UTTARAKHAND\", \"VIDARBHA\", \"WEST MADHYA PRADESH\", \"WEST RAJASTHAN\", \"WEST UTTAR PRADESH\"], \"y\": [432.87896151293967, 432.13402061855663, 310.73478260869564, 217.38434782608687, 217.78, 181.70782608695654, 299.65217391304344, 194.2365217391304, 97.9782608695652, 184.59130434782608, 245.71043478260867, 148.84173913043477, 88.30695652173911, 130.2191304347826, 89.2895652173913, 227.42173913043473, 245.61913043478248, 349.7800000000001, 164.070050582661, 157.22173913043477, 178.4765217391305, 314.35043478260866, 142.94086956521735, 241.4034782608695, 86.78956521739133, 131.72, 75.41826086956526, 137.31391304347827, 421.3417391304348, 111.59739130434782, 175.50347826086954, 196.0965217391304, 175.44956521739132, 161.1686956521738, 40.34260869565217, 146.2547826086957]}, {\"name\": \"OCT\", \"type\": \"bar\", \"x\": [\"ANDAMAN & NICOBAR ISLANDS\", \"ARUNACHAL PRADESH\", \"ASSAM & MEGHALAYA\", \"BIHAR\", \"CHHATTISGARH\", \"COASTAL ANDHRA PRADESH\", \"COASTAL KARNATAKA\", \"EAST MADHYA PRADESH\", \"EAST RAJASTHAN\", \"EAST UTTAR PRADESH\", \"GANGETIC WEST BENGAL\", \"GUJARAT REGION\", \"HARYANA DELHI & CHANDIGARH\", \"HIMACHAL PRADESH\", \"JAMMU & KASHMIR\", \"JHARKHAND\", \"KERALA\", \"KONKAN & GOA\", \"LAKSHADWEEP\", \"MADHYA MAHARASHTRA\", \"MATATHWADA\", \"NAGA MANI MIZO TRIPURA\", \"NORTH INTERIOR KARNATAKA\", \"ORISSA\", \"PUNJAB\", \"RAYALSEEMA\", \"SAURASHTRA & KUTCH\", \"SOUTH INTERIOR KARNATAKA\", \"SUB HIMALAYAN WEST BENGAL & SIKKIM\", \"TAMIL NADU\", \"TELANGANA\", \"UTTARAKHAND\", \"VIDARBHA\", \"WEST MADHYA PRADESH\", \"WEST RAJASTHAN\", \"WEST UTTAR PRADESH\"], \"y\": [286.72376380008404, 192.6413816289613, 152.11826086956523, 63.074782608695664, 63.66, 185.51130434782604, 184.5521739130435, 39.68608695652175, 14.360869565217385, 42.9208695652174, 115.74608695652178, 20.56521739130434, 12.823478260869571, 31.278260869565226, 34.166956521739124, 80.01565217391305, 294.1226086956522, 113.3869565217391, 164.85369321942005, 70.19478260869566, 58.58000000000001, 175.00608695652178, 95.68869565217393, 113.59217391304347, 13.836521739130433, 135.32782608695652, 14.510434782608694, 139.14347826086956, 143.6460869565217, 183.19652173913042, 74.22695652173914, 39.07391304347828, 52.1486956521739, 28.086956521739115, 5.127826086956522, 28.777391304347823]}, {\"name\": \"NOV\", \"type\": \"bar\", \"x\": [\"ANDAMAN & NICOBAR ISLANDS\", \"ARUNACHAL PRADESH\", \"ASSAM & MEGHALAYA\", \"BIHAR\", \"CHHATTISGARH\", \"COASTAL ANDHRA PRADESH\", \"COASTAL KARNATAKA\", \"EAST MADHYA PRADESH\", \"EAST RAJASTHAN\", \"EAST UTTAR PRADESH\", \"GANGETIC WEST BENGAL\", \"GUJARAT REGION\", \"HARYANA DELHI & CHANDIGARH\", \"HIMACHAL PRADESH\", \"JAMMU & KASHMIR\", \"JHARKHAND\", \"KERALA\", \"KONKAN & GOA\", \"LAKSHADWEEP\", \"MADHYA MAHARASHTRA\", \"MATATHWADA\", \"NAGA MANI MIZO TRIPURA\", \"NORTH INTERIOR KARNATAKA\", \"ORISSA\", \"PUNJAB\", \"RAYALSEEMA\", \"SAURASHTRA & KUTCH\", \"SOUTH INTERIOR KARNATAKA\", \"SUB HIMALAYAN WEST BENGAL & SIKKIM\", \"TAMIL NADU\", \"TELANGANA\", \"UTTARAKHAND\", \"VIDARBHA\", \"WEST MADHYA PRADESH\", \"WEST RAJASTHAN\", \"WEST UTTAR PRADESH\"], \"y\": [230.219384785738, 35.782807488981256, 26.938260869565216, 7.178260869565217, 11.772173913043478, 77.90347826086959, 63.607826086956536, 12.705217391304346, 4.873913043478261, 4.590434782608697, 21.57913043478261, 6.928695652173913, 3.264347826086958, 16.695652173913047, 24.270140549700788, 11.923478260869564, 163.5600000000001, 24.67130434782609, 120.36839455520656, 25.945217391304336, 22.43652173913044, 46.83391304347827, 29.20782608695653, 27.961739130434786, 4.140000000000001, 102.65391304347825, 6.096521739130437, 54.43130434782611, 16.08869565217391, 176.90347826086952, 20.250434782608703, 8.187826086956521, 15.574782608695656, 12.340869565217387, 1.6669565217391293, 3.9660869565217385]}, {\"name\": \"DEC\", \"type\": \"bar\", \"x\": [\"ANDAMAN & NICOBAR ISLANDS\", \"ARUNACHAL PRADESH\", \"ASSAM & MEGHALAYA\", \"BIHAR\", \"CHHATTISGARH\", \"COASTAL ANDHRA PRADESH\", \"COASTAL KARNATAKA\", \"EAST MADHYA PRADESH\", \"EAST RAJASTHAN\", \"EAST UTTAR PRADESH\", \"GANGETIC WEST BENGAL\", \"GUJARAT REGION\", \"HARYANA DELHI & CHANDIGARH\", \"HIMACHAL PRADESH\", \"JAMMU & KASHMIR\", \"JHARKHAND\", \"KERALA\", \"KONKAN & GOA\", \"LAKSHADWEEP\", \"MADHYA MAHARASHTRA\", \"MATATHWADA\", \"NAGA MANI MIZO TRIPURA\", \"NORTH INTERIOR KARNATAKA\", \"ORISSA\", \"PUNJAB\", \"RAYALSEEMA\", \"SAURASHTRA & KUTCH\", \"SOUTH INTERIOR KARNATAKA\", \"SUB HIMALAYAN WEST BENGAL & SIKKIM\", \"TAMIL NADU\", \"TELANGANA\", \"UTTARAKHAND\", \"VIDARBHA\", \"WEST MADHYA PRADESH\", \"WEST RAJASTHAN\", \"WEST UTTAR PRADESH\"], \"y\": [149.48283399016958, 24.385991332774257, 8.951304347826083, 3.6947826086956534, 5.248695652173914, 11.42, 12.613913043478256, 8.404347826086958, 3.651304347826088, 5.776521739130434, 5.690434782608697, 1.3391304347826085, 7.18608695652174, 39.89304347826084, 55.10757025773524, 4.939130434782611, 39.95043478260869, 4.516521739130434, 59.33931858384393, 5.848695652173915, 7.302608695652172, 12.399130434782613, 6.327826086956522, 5.567826086956521, 12.694782608695649, 34.26, 1.1086956521739129, 11.51739130434783, 6.0600000000000005, 81.13739130434789, 5.141739130434783, 22.035652173913032, 7.927826086956523, 6.296521739130434, 1.9026086956521737, 7.114782608695656]}],                        {\"barmode\": \"stack\", \"height\": 900, \"template\": {\"data\": {\"bar\": [{\"error_x\": {\"color\": \"#2a3f5f\"}, \"error_y\": {\"color\": \"#2a3f5f\"}, \"marker\": {\"line\": {\"color\": \"#E5ECF6\", \"width\": 0.5}}, \"type\": \"bar\"}], \"barpolar\": [{\"marker\": {\"line\": {\"color\": \"#E5ECF6\", \"width\": 0.5}}, \"type\": \"barpolar\"}], \"carpet\": [{\"aaxis\": {\"endlinecolor\": \"#2a3f5f\", \"gridcolor\": \"white\", \"linecolor\": \"white\", \"minorgridcolor\": \"white\", \"startlinecolor\": \"#2a3f5f\"}, \"baxis\": {\"endlinecolor\": \"#2a3f5f\", \"gridcolor\": \"white\", \"linecolor\": \"white\", \"minorgridcolor\": \"white\", \"startlinecolor\": \"#2a3f5f\"}, \"type\": \"carpet\"}], \"choropleth\": [{\"colorbar\": {\"outlinewidth\": 0, \"ticks\": \"\"}, \"type\": \"choropleth\"}], \"contour\": [{\"colorbar\": {\"outlinewidth\": 0, \"ticks\": \"\"}, \"colorscale\": [[0.0, \"#0d0887\"], [0.1111111111111111, \"#46039f\"], [0.2222222222222222, \"#7201a8\"], [0.3333333333333333, \"#9c179e\"], [0.4444444444444444, \"#bd3786\"], [0.5555555555555556, \"#d8576b\"], [0.6666666666666666, \"#ed7953\"], [0.7777777777777778, \"#fb9f3a\"], [0.8888888888888888, \"#fdca26\"], [1.0, \"#f0f921\"]], \"type\": \"contour\"}], \"contourcarpet\": [{\"colorbar\": {\"outlinewidth\": 0, \"ticks\": \"\"}, \"type\": \"contourcarpet\"}], \"heatmap\": [{\"colorbar\": {\"outlinewidth\": 0, \"ticks\": \"\"}, \"colorscale\": [[0.0, \"#0d0887\"], [0.1111111111111111, \"#46039f\"], [0.2222222222222222, \"#7201a8\"], [0.3333333333333333, \"#9c179e\"], [0.4444444444444444, \"#bd3786\"], [0.5555555555555556, \"#d8576b\"], [0.6666666666666666, \"#ed7953\"], [0.7777777777777778, \"#fb9f3a\"], [0.8888888888888888, \"#fdca26\"], [1.0, \"#f0f921\"]], \"type\": \"heatmap\"}], \"heatmapgl\": [{\"colorbar\": {\"outlinewidth\": 0, \"ticks\": \"\"}, \"colorscale\": [[0.0, \"#0d0887\"], [0.1111111111111111, \"#46039f\"], [0.2222222222222222, \"#7201a8\"], [0.3333333333333333, \"#9c179e\"], [0.4444444444444444, \"#bd3786\"], [0.5555555555555556, \"#d8576b\"], [0.6666666666666666, \"#ed7953\"], [0.7777777777777778, \"#fb9f3a\"], [0.8888888888888888, \"#fdca26\"], [1.0, \"#f0f921\"]], \"type\": \"heatmapgl\"}], \"histogram\": [{\"marker\": {\"colorbar\": {\"outlinewidth\": 0, \"ticks\": \"\"}}, \"type\": \"histogram\"}], \"histogram2d\": [{\"colorbar\": {\"outlinewidth\": 0, \"ticks\": \"\"}, \"colorscale\": [[0.0, \"#0d0887\"], [0.1111111111111111, \"#46039f\"], [0.2222222222222222, \"#7201a8\"], [0.3333333333333333, \"#9c179e\"], [0.4444444444444444, \"#bd3786\"], [0.5555555555555556, \"#d8576b\"], [0.6666666666666666, \"#ed7953\"], [0.7777777777777778, \"#fb9f3a\"], [0.8888888888888888, \"#fdca26\"], [1.0, \"#f0f921\"]], \"type\": \"histogram2d\"}], \"histogram2dcontour\": [{\"colorbar\": {\"outlinewidth\": 0, \"ticks\": \"\"}, \"colorscale\": [[0.0, \"#0d0887\"], [0.1111111111111111, \"#46039f\"], [0.2222222222222222, \"#7201a8\"], [0.3333333333333333, \"#9c179e\"], [0.4444444444444444, \"#bd3786\"], [0.5555555555555556, \"#d8576b\"], [0.6666666666666666, \"#ed7953\"], [0.7777777777777778, \"#fb9f3a\"], [0.8888888888888888, \"#fdca26\"], [1.0, \"#f0f921\"]], \"type\": \"histogram2dcontour\"}], \"mesh3d\": [{\"colorbar\": {\"outlinewidth\": 0, \"ticks\": \"\"}, \"type\": \"mesh3d\"}], \"parcoords\": [{\"line\": {\"colorbar\": {\"outlinewidth\": 0, \"ticks\": \"\"}}, \"type\": \"parcoords\"}], \"pie\": [{\"automargin\": true, \"type\": \"pie\"}], \"scatter\": [{\"marker\": {\"colorbar\": {\"outlinewidth\": 0, \"ticks\": \"\"}}, \"type\": \"scatter\"}], \"scatter3d\": [{\"line\": {\"colorbar\": {\"outlinewidth\": 0, \"ticks\": \"\"}}, \"marker\": {\"colorbar\": {\"outlinewidth\": 0, \"ticks\": \"\"}}, \"type\": \"scatter3d\"}], \"scattercarpet\": [{\"marker\": {\"colorbar\": {\"outlinewidth\": 0, \"ticks\": \"\"}}, \"type\": \"scattercarpet\"}], \"scattergeo\": [{\"marker\": {\"colorbar\": {\"outlinewidth\": 0, \"ticks\": \"\"}}, \"type\": \"scattergeo\"}], \"scattergl\": [{\"marker\": {\"colorbar\": {\"outlinewidth\": 0, \"ticks\": \"\"}}, \"type\": \"scattergl\"}], \"scattermapbox\": [{\"marker\": {\"colorbar\": {\"outlinewidth\": 0, \"ticks\": \"\"}}, \"type\": \"scattermapbox\"}], \"scatterpolar\": [{\"marker\": {\"colorbar\": {\"outlinewidth\": 0, \"ticks\": \"\"}}, \"type\": \"scatterpolar\"}], \"scatterpolargl\": [{\"marker\": {\"colorbar\": {\"outlinewidth\": 0, \"ticks\": \"\"}}, \"type\": \"scatterpolargl\"}], \"scatterternary\": [{\"marker\": {\"colorbar\": {\"outlinewidth\": 0, \"ticks\": \"\"}}, \"type\": \"scatterternary\"}], \"surface\": [{\"colorbar\": {\"outlinewidth\": 0, \"ticks\": \"\"}, \"colorscale\": [[0.0, \"#0d0887\"], [0.1111111111111111, \"#46039f\"], [0.2222222222222222, \"#7201a8\"], [0.3333333333333333, \"#9c179e\"], [0.4444444444444444, \"#bd3786\"], [0.5555555555555556, \"#d8576b\"], [0.6666666666666666, \"#ed7953\"], [0.7777777777777778, \"#fb9f3a\"], [0.8888888888888888, \"#fdca26\"], [1.0, \"#f0f921\"]], \"type\": \"surface\"}], \"table\": [{\"cells\": {\"fill\": {\"color\": \"#EBF0F8\"}, \"line\": {\"color\": \"white\"}}, \"header\": {\"fill\": {\"color\": \"#C8D4E3\"}, \"line\": {\"color\": \"white\"}}, \"type\": \"table\"}]}, \"layout\": {\"annotationdefaults\": {\"arrowcolor\": \"#2a3f5f\", \"arrowhead\": 0, \"arrowwidth\": 1}, \"autotypenumbers\": \"strict\", \"coloraxis\": {\"colorbar\": {\"outlinewidth\": 0, \"ticks\": \"\"}}, \"colorscale\": {\"diverging\": [[0, \"#8e0152\"], [0.1, \"#c51b7d\"], [0.2, \"#de77ae\"], [0.3, \"#f1b6da\"], [0.4, \"#fde0ef\"], [0.5, \"#f7f7f7\"], [0.6, \"#e6f5d0\"], [0.7, \"#b8e186\"], [0.8, \"#7fbc41\"], [0.9, \"#4d9221\"], [1, \"#276419\"]], \"sequential\": [[0.0, \"#0d0887\"], [0.1111111111111111, \"#46039f\"], [0.2222222222222222, \"#7201a8\"], [0.3333333333333333, \"#9c179e\"], [0.4444444444444444, \"#bd3786\"], [0.5555555555555556, \"#d8576b\"], [0.6666666666666666, \"#ed7953\"], [0.7777777777777778, \"#fb9f3a\"], [0.8888888888888888, \"#fdca26\"], [1.0, \"#f0f921\"]], \"sequentialminus\": [[0.0, \"#0d0887\"], [0.1111111111111111, \"#46039f\"], [0.2222222222222222, \"#7201a8\"], [0.3333333333333333, \"#9c179e\"], [0.4444444444444444, \"#bd3786\"], [0.5555555555555556, \"#d8576b\"], [0.6666666666666666, \"#ed7953\"], [0.7777777777777778, \"#fb9f3a\"], [0.8888888888888888, \"#fdca26\"], [1.0, \"#f0f921\"]]}, \"colorway\": [\"#636efa\", \"#EF553B\", \"#00cc96\", \"#ab63fa\", \"#FFA15A\", \"#19d3f3\", \"#FF6692\", \"#B6E880\", \"#FF97FF\", \"#FECB52\"], \"font\": {\"color\": \"#2a3f5f\"}, \"geo\": {\"bgcolor\": \"white\", \"lakecolor\": \"white\", \"landcolor\": \"#E5ECF6\", \"showlakes\": true, \"showland\": true, \"subunitcolor\": \"white\"}, \"hoverlabel\": {\"align\": \"left\"}, \"hovermode\": \"closest\", \"mapbox\": {\"style\": \"light\"}, \"paper_bgcolor\": \"white\", \"plot_bgcolor\": \"#E5ECF6\", \"polar\": {\"angularaxis\": {\"gridcolor\": \"white\", \"linecolor\": \"white\", \"ticks\": \"\"}, \"bgcolor\": \"#E5ECF6\", \"radialaxis\": {\"gridcolor\": \"white\", \"linecolor\": \"white\", \"ticks\": \"\"}}, \"scene\": {\"xaxis\": {\"backgroundcolor\": \"#E5ECF6\", \"gridcolor\": \"white\", \"gridwidth\": 2, \"linecolor\": \"white\", \"showbackground\": true, \"ticks\": \"\", \"zerolinecolor\": \"white\"}, \"yaxis\": {\"backgroundcolor\": \"#E5ECF6\", \"gridcolor\": \"white\", \"gridwidth\": 2, \"linecolor\": \"white\", \"showbackground\": true, \"ticks\": \"\", \"zerolinecolor\": \"white\"}, \"zaxis\": {\"backgroundcolor\": \"#E5ECF6\", \"gridcolor\": \"white\", \"gridwidth\": 2, \"linecolor\": \"white\", \"showbackground\": true, \"ticks\": \"\", \"zerolinecolor\": \"white\"}}, \"shapedefaults\": {\"line\": {\"color\": \"#2a3f5f\"}}, \"ternary\": {\"aaxis\": {\"gridcolor\": \"white\", \"linecolor\": \"white\", \"ticks\": \"\"}, \"baxis\": {\"gridcolor\": \"white\", \"linecolor\": \"white\", \"ticks\": \"\"}, \"bgcolor\": \"#E5ECF6\", \"caxis\": {\"gridcolor\": \"white\", \"linecolor\": \"white\", \"ticks\": \"\"}}, \"title\": {\"x\": 0.05}, \"xaxis\": {\"automargin\": true, \"gridcolor\": \"white\", \"linecolor\": \"white\", \"ticks\": \"\", \"title\": {\"standoff\": 15}, \"zerolinecolor\": \"white\", \"zerolinewidth\": 2}, \"yaxis\": {\"automargin\": true, \"gridcolor\": \"white\", \"linecolor\": \"white\", \"ticks\": \"\", \"title\": {\"standoff\": 15}, \"zerolinecolor\": \"white\", \"zerolinewidth\": 2}}}, \"width\": 1000},                        {\"responsive\": true}                    ).then(function(){\n                            \nvar gd = document.getElementById('6420f289-d545-4303-a02e-e15ae8d43e2c');\nvar x = new MutationObserver(function (mutations, observer) {{\n        var display = window.getComputedStyle(gd).display;\n        if (!display || display === 'none') {{\n            console.log([gd, 'removed!']);\n            Plotly.purge(gd);\n            observer.disconnect();\n        }}\n}});\n\n// Listen for the removal of the full notebook cells\nvar notebookContainer = gd.closest('#notebook-container');\nif (notebookContainer) {{\n    x.observe(notebookContainer, {childList: true});\n}}\n\n// Listen for the clearing of the current output cell\nvar outputEl = gd.closest('.output');\nif (outputEl) {{\n    x.observe(outputEl, {childList: true});\n}}\n\n                        })                };                });            </script>        </div>"
     },
     "metadata": {}
    }
   ],
   "source": [
    "data=data.astype({\"SUBDIVISION\":'category'})\n",
    "\n",
    "#state wise average annual flow of rainfall \n",
    "\n",
    "data1=data[['SUBDIVISION', 'JAN', 'FEB', 'MAR', 'APR', 'MAY', 'JUN', 'JUL', 'AUG', 'SEP', 'OCT', 'NOV', 'DEC']].groupby(\"SUBDIVISION\").mean()\n",
    "data2=[]\n",
    "for i in data1.columns:\n",
    "    data2.append(\n",
    "        go.Bar(\n",
    "            x = data1.index,\n",
    "            y = data1[i].values,\n",
    "            name = i))\n",
    "layout = go.Layout(barmode = 'stack',width=1000, height=900)\n",
    "go.Figure(data = data2, layout = layout).show()\n"
   ]
  },
  {
   "cell_type": "code",
   "execution_count": 6,
   "metadata": {},
   "outputs": [
    {
     "output_type": "stream",
     "name": "stdout",
     "text": [
      "[[ 24.5  39.1  21.7  36. ]\n [ 67.2   9.8  25.1  21.9]\n [ 19.3   7.8   1.7  18.2]\n ...\n [110.7 113.5 127.9 112.3]\n [117.7  98.9 252.2 110.8]\n [ 81.6  98.4 132.6 379.8]]\n[ 74.   84.7 128.5 121.9  83.7  39.6  56.6  70.3 117.4  64.7  72.1  64.2\n  64.6  57.1  52.4  61.1  77.5  81.8  88.5  59.6  39.5 100.1  30.8  75.4\n  85.   53.7  73.7  51.   50.7 165.7  54.2 109.6 105.3  49.6  23.7  74.4\n  59.9  54.3  60.  131.5  70.9  61.3 204.4  46.1  38.2  76.4  40.9  72.5\n  98.2  54.5  83.   58.7  45.8  77.9 149.4  35.1  81.1 114.7  68.2  60.9\n  71.9 114.1  45.1  56.8  40.9  51.8  47.6  46.9  57.   85.4  75.7 151.1\n  57.   59.5  80.8  33.8 104.1  55.2  35.1  69.2  87.2  58.8  86.9  21.6\n  33.4  62.7  50.5  59.1  53.6  94.9  29.5  58.3  46.6  66.6 139.   34.\n  49.2  55.8  74.5  54.7  45.   32.6  19.8 101.1  80.6  65.2  44.9  53.7\n  74.8  91.9  33.4  41.9  42.  139.1 112.4  41.8  39.3  58.5  34.9  49.8\n  43.6  46.1  34.2  30.8  51.5  70.7  46.7  29.7  37.9  66.4  34.5  72.4\n  36.2  49.9  47.3  55.7  48.8  33.7  54.9  50.6  38.7  83.1  41.1  63.2\n  68.9  40.8  43.   36.9  73.5  60.   56.3  42.3  53.   60.4  85.2  47.1\n  53.1  43.2  81.8  22.   56.8  54.1  67.5  75.6  31.2  30.8  32.9  67.6\n  35.5  47.8  98.   65.4  33.   83.5  35.9  73.8  44.   49.9  31.3  33.5\n  51.6  69.1  47.9  30.4  51.6  46.9  55.1  63.5  40.6  46.8  48.6  50.6\n  29.4  60.2  37.7  57.   49.8  72.9  43.6 108.8  63.4  70.5  41.1  57.4\n  28.9 128.1  66.4  68.2  38.6  64.6 125.3  50.4  43.   46.4  52.2  39.9\n  23.7  22.5  21.2  35.7  57.2  73.1  51.1  27.   70.   56.   30.1  54.6\n  47.8  62.4  49.3  55.1  72.6  89.   39.   76.   70.4  37.5  36.1 148.1\n  50.3  34.8  58.7  37.6 117.7 168.6  45.1  40.8  87.8  37.3  92.5  45.4\n  40.5 113.9  38.7  73.8  65.9  75.5  48.9  38.9  77.3  56.5  60.7  57.5\n  38.6  85.5  51.1 101.4  35.1  59.   69.6  54.9  75.3  73.8  75.1  59.3\n 125.5  79.8 113.6  56.1  83.6  74.3 111.7 118.5  73.4  46.   64.   47.3\n  60.6 146.8  99.4  56.7  93.1 174.7  55.4  76.4  69.4  53.7  60.9  88.9\n  87.2  49.2  92.3  79.8 129.1  64.   55.4  78.2  75.2  64.9 117.   52.5\n  77.9 149.5  81.2  66.9  26.1 102.6 154.9  40.   54.7  77.9  60.3  75.3\n  86.7  55.4  63.5 101.9  55.3  45.8  37.2  11.8  38.7  98.6  87.9  33.6\n 101.   73.1  42.1  81.4  45.5  46.5  42.7  50.6  43.5  67.9 113.8 115.\n  40.4 101.8 195.2  58.2  48.4 206.6 142.   28.9  74.2  62.3  98.4  82.9\n 125.5 155.7  58.6  51.6  74.8 129.6  87.1  39.8  87.1  91.7  70.5  77.8\n  95.2  70.7  66.7  81.7 163.5 169.9  56.4 153.4  59.4 118.1 146.3  91.3\n  69.4  84.7 110.1  78.8 104.7 110.1  87.7 113.4 102.3 148.2 125.3  94.7\n  73.7  86.2 147.2  88.1  99.2  60.8 147.7  62.1  55.6 110.4 130.5  88.7\n 100.8 169.8 143.4  81.2  65.  139.7  98.5 127.8  42.7  87.6  63.5 121.3\n 129.9 128.3  55.4  80.2  64.2  91.8  44.5 132.   38.  129.7 115.2  82.8\n 149.8  39.7  80.1  71.7  59.9  88.8  66.1 121.1 112.4  56.4 152.9  74.8\n 136.1  18.7  26.5  49.3  85.1  93.3  73.4 136.5 126.5  96.9 102.9 128.9\n  98.  110.7 117.7  81.6 191.1  98.6 210.4  85.7  73.5  65.3 117.2 154.2\n 106.1  52.4 120.5 126.7 124.8 132.2 133.   94.7 163.5  47.  162.7 156.3\n  78.3  75.3  99.8 170.8  77.3 120.2 131.   59.7 135.1  94.2 104.7  61.6\n 104.5  38.1  78.6 122.  105.7 116.8  96.2 121.2 166.4 120.8 101.1 143.5\n  58.6 140.8 127.6  68.8  82.3  85.5 113.4  38.2 131.1  34.  128.2 126.4\n  73.5  80.   99.1 108.4 122.2 114.8 115.   92.3  92.7 166.1  76.2 137.7\n  36.8 102.4 109.  175.3 130.4 178.  147.8  83.7 118.6 137.2 183.1  76.3\n 200.5  93.4 154.6 151.3 161.6 142.3 127.  136.1 137.3 119.6 114.  157.3\n  96.7  84.2  94.  141.2 116.  121.8  73.1 169.8  53.8  32.2  26.1 208.3\n 117.9 116.3  89.1  70.7 114.4 111.1  76.   84.9 113.5  98.9  98.4 122.3\n 282.2 128.1 163.2 250.4 162.8 160.4 261.  158.  278.  125.6 244.2 203.4\n 281.2  99.9 208.6 123.1  81.8 152.4 159.4 236.4 262.8 220.3 107.1 148.9\n 151.5  87.2 219.  161.2 436.1 120.3 247.4 201.8 303.4 192.4 103.7 189.8\n  87.5 243.8 152.  148.1 146.5 310.6 188.8 168.4 175.5 205.9 145.4 159.4\n 160.6  98.3 123.8 278.2 271.  165.2 255.8 203.3 155.2 187.  134.5 154.7\n 275.7 173.4 187.7 123.9 290.6 182.3 111.8 275.1 195.1 221.3 273.1 195.2\n 114.8 165.3 137.6 347.5 151.4 132.6 122.3 258.  114.  138.7 134.8 107.3\n 170.5 236.7  71.8 148.6 194.1 225.1 123.9 214.5 230.6 143.1 149.7 169.5\n 124.7 268.9 120.3  69.5  93.7  86.  271.1 280.5 240.4 248.9 242.7  62.1\n 148.1 200.4 235.2 127.9 252.2 132.6 212.3 174.9 200.5  23.6 123.7 189.1\n 200.   36.1  74.7 146.7 176.2 259.3 184.1 129.1 241.  145.7 167.5 315.1\n 264.4 404.9  76.  291.8  44.3 163.5 229.  119.2 171.3 173.8 192.  186.5\n 183.4 246.9 124.5  99.2 147.6 234.5 280.1  39.3 266.2 367.8 216.4  68.\n 117.4 288.8 206.8 311.2  30.5 226.2  86.4 100.7 187.2  47.2  97.1  32.6\n 130.6 225.5 200.4 154.4 190.4 354.1 107.5  63.1 195.  166.4 120.3 224.3\n 127.1 121.1 190.5 199.9  71.3 126.   79.1  47.8 130.3 244.9 346.8 234.6\n 416.7 166.2 106.4 200.8  94.5 113.5 233.3 133.4 136.9 117.6 154.  144.\n 234.4 297.2 315.9 229.1 107.9 106.  258.1 242.  182.8 148.6  52.3  47.2\n  59.5 204.5 353.4 215.1  79.2 298.5 314.7 328.6 230.5  44.5 112.3 110.8\n 379.8  80.4 165.8 203.2  49.1   3.2 127.7  63.2  20.1  20.8   0.6 130.1\n  23.9 117.7 132.   61.5  33.2  45.9  88.4 106.4   4.7  56.1  71.6 109.7\n  30.6 182.8  26.1  32.5  98.8  89.6  48.7 295.8  78.5 105.9  15.9  86.3\n  64.7  22.8  51.8   8.6  95.4 107.5 146.9  43.2 130.9  15.  273.5  20.\n  36.6   2.3  34.6   9.6 167.6  18.9 107.  145.3  45.1  77.1  25.5  53.4\n  21.2  56.1  47.1 135.9  70.9 202.3  99.8 156.7  72.7 127.1  15.3 199.6\n 200.6 127.1  22.2  36.4  56.6  12.6 198.1  48.2  47.   72.5  30.9 242.6\n  58.5  57.4  57.1 175.   33.1  39.8  46.1  21.4  52.1 163.1  27.    3.7\n 237.6 135.2 197.4  53.6  88.9  27.6  12.2   7.1  25.  148.5  26.1 219.9\n  50.1 106.2 124.5  41.   14.   53.2  66.  152.8]\n"
     ]
    }
   ],
   "source": [
    "from sklearn.model_selection import train_test_split\n",
    "from sklearn.metrics import mean_absolute_error\n",
    "from sklearn.metrics import mean_squared_error\n",
    "\n",
    "# formatting the data in a way that when the ranifall for the last four months were given, the possible flow of rainfall \n",
    "# on next consecutive month will get predicted\n",
    "\n",
    "# Annual rainfall data for Tamilnadu\n",
    "monthwise_data=np.asarray(data[['JAN', 'FEB', 'MAR', 'APR', \n",
    "                                'MAY', 'JUN', 'JUL', 'AUG', 'SEP', 'OCT','NOV', 'DEC']].loc[data['SUBDIVISION']=='TAMIL NADU'])\n",
    "\n",
    "x=None\n",
    "y=None\n",
    "for i in range(monthwise_data.shape[1]-4):\n",
    "    if x is None:\n",
    "        x = monthwise_data[:, i:i+4]\n",
    "        y = monthwise_data[:, i+4]\n",
    "    else:\n",
    "        x = np.concatenate((x, monthwise_data[:, i:i+4]), axis=0)\n",
    "        y = np.concatenate((y, monthwise_data[:, i+4]), axis=0)\n",
    "\n",
    "print(x)\n",
    "print(y)\n",
    "x_train,x_test,y_train,y_test=train_test_split(x,y,train_size=0.8,random_state=40)\n"
   ]
  },
  {
   "source": [
    "from tensorflow.python.keras.models import Sequential\n",
    "from tensorflow.python.keras.layers import Dense\n",
    "from tensorflow.python.keras.callbacks import EarlyStopping"
   ],
   "cell_type": "code",
   "metadata": {},
   "execution_count": 7,
   "outputs": []
  },
  {
   "cell_type": "code",
   "execution_count": 8,
   "metadata": {},
   "outputs": [],
   "source": [
    "# The term kernel_initializer is a term for which statistical distribution or function to use for initialising the weights. In case of statistical distribution, the library will generate numbers from that statistical distribution and use as starting weights."
   ]
  },
  {
   "cell_type": "code",
   "execution_count": 9,
   "metadata": {},
   "outputs": [],
   "source": [
    "#our neural network is having four inputs and three hidden layers and one output\n",
    "\n",
    "#An activation function is a very important feature of an artificial neural network , they basically decide whether the neuron should be activated or not by calculating weighted sum and further adding bias with it. In artificial neural networks, the activation function defines the output of that node given an input or set of inputs."
   ]
  },
  {
   "cell_type": "code",
   "execution_count": 10,
   "metadata": {
    "scrolled": true
   },
   "outputs": [
    {
     "output_type": "stream",
     "name": "stdout",
     "text": [
      "Model: \"sequential\"\n_________________________________________________________________\nLayer (type)                 Output Shape              Param #   \n=================================================================\ndense (Dense)                (None, 250)               1250      \n_________________________________________________________________\ndense_1 (Dense)              (None, 250)               62750     \n_________________________________________________________________\ndense_2 (Dense)              (None, 250)               62750     \n_________________________________________________________________\ndense_3 (Dense)              (None, 1)                 251       \n=================================================================\nTotal params: 127,001\nTrainable params: 127,001\nNon-trainable params: 0\n_________________________________________________________________\n"
     ]
    }
   ],
   "source": [
    "#configuring the neural network model\n",
    "model=Sequential()\n",
    "model.add(Dense(250,input_shape=(4,),kernel_initializer='normal',activation='elu'))\n",
    "model.add(Dense(250,activation='elu'))\n",
    "model.add(Dense(250,activation='elu'))\n",
    "model.add(Dense(1,activation='linear'))\n",
    "model.compile(loss='mean_squared_logarithmic_error',optimizer='adamax',metrics=['mae'] )\n",
    "model.summary()"
   ]
  },
  {
   "cell_type": "code",
   "execution_count": 11,
   "metadata": {},
   "outputs": [],
   "source": [
    "#"
   ]
  },
  {
   "cell_type": "code",
   "execution_count": 12,
   "metadata": {},
   "outputs": [
    {
     "output_type": "stream",
     "name": "stdout",
     "text": [
      "Epoch 1/150\n",
      "12/12 [==============================] - 2s 34ms/step - loss: 3.0808 - mae: 74.1474 - val_loss: 0.5513 - val_mae: 52.6936\n",
      "Epoch 2/150\n",
      "12/12 [==============================] - 0s 7ms/step - loss: 0.5576 - mae: 53.0153 - val_loss: 0.5431 - val_mae: 53.2943\n",
      "Epoch 3/150\n",
      "12/12 [==============================] - 0s 6ms/step - loss: 0.5585 - mae: 52.7321 - val_loss: 0.5550 - val_mae: 54.1205\n",
      "Epoch 4/150\n",
      "12/12 [==============================] - 0s 10ms/step - loss: 0.5549 - mae: 52.5393 - val_loss: 0.5392 - val_mae: 53.2006\n",
      "Epoch 5/150\n",
      "12/12 [==============================] - 0s 15ms/step - loss: 0.5457 - mae: 52.2034 - val_loss: 0.5266 - val_mae: 52.5046\n",
      "Epoch 6/150\n",
      "12/12 [==============================] - 0s 17ms/step - loss: 0.5413 - mae: 52.1245 - val_loss: 0.5180 - val_mae: 52.0398\n",
      "Epoch 7/150\n",
      "12/12 [==============================] - 0s 7ms/step - loss: 0.5390 - mae: 52.1334 - val_loss: 0.5126 - val_mae: 51.7446\n",
      "Epoch 8/150\n",
      "12/12 [==============================] - 0s 6ms/step - loss: 0.5358 - mae: 52.0108 - val_loss: 0.5106 - val_mae: 51.6685\n",
      "Epoch 9/150\n",
      "12/12 [==============================] - 0s 6ms/step - loss: 0.5333 - mae: 51.8649 - val_loss: 0.5086 - val_mae: 51.5849\n",
      "Epoch 10/150\n",
      "12/12 [==============================] - 0s 6ms/step - loss: 0.5310 - mae: 51.7631 - val_loss: 0.5053 - val_mae: 51.4175\n",
      "Epoch 11/150\n",
      "12/12 [==============================] - 0s 6ms/step - loss: 0.5291 - mae: 51.7343 - val_loss: 0.5018 - val_mae: 51.2383\n",
      "Epoch 12/150\n",
      "12/12 [==============================] - 0s 8ms/step - loss: 0.5264 - mae: 51.5914 - val_loss: 0.5005 - val_mae: 51.1929\n",
      "Epoch 13/150\n",
      "12/12 [==============================] - 0s 7ms/step - loss: 0.5246 - mae: 51.4915 - val_loss: 0.4973 - val_mae: 51.0314\n",
      "Epoch 14/150\n",
      "12/12 [==============================] - 0s 6ms/step - loss: 0.5219 - mae: 51.3969 - val_loss: 0.4957 - val_mae: 50.9682\n",
      "Epoch 15/150\n",
      "12/12 [==============================] - 0s 8ms/step - loss: 0.5204 - mae: 51.2645 - val_loss: 0.4950 - val_mae: 50.9755\n",
      "Epoch 16/150\n",
      "12/12 [==============================] - 0s 8ms/step - loss: 0.5181 - mae: 51.1328 - val_loss: 0.4916 - val_mae: 50.8029\n",
      "Epoch 17/150\n",
      "12/12 [==============================] - 0s 6ms/step - loss: 0.5163 - mae: 51.2006 - val_loss: 0.4876 - val_mae: 50.5619\n",
      "Epoch 18/150\n",
      "12/12 [==============================] - 0s 11ms/step - loss: 0.5140 - mae: 51.0842 - val_loss: 0.4868 - val_mae: 50.5708\n",
      "Epoch 19/150\n",
      "12/12 [==============================] - 0s 10ms/step - loss: 0.5117 - mae: 50.9276 - val_loss: 0.4846 - val_mae: 50.4751\n",
      "Epoch 20/150\n",
      "12/12 [==============================] - 0s 12ms/step - loss: 0.5096 - mae: 50.8312 - val_loss: 0.4826 - val_mae: 50.3685\n",
      "Epoch 21/150\n",
      "12/12 [==============================] - 0s 11ms/step - loss: 0.5076 - mae: 50.7752 - val_loss: 0.4796 - val_mae: 50.1851\n",
      "Epoch 22/150\n",
      "12/12 [==============================] - 0s 6ms/step - loss: 0.5055 - mae: 50.7295 - val_loss: 0.4768 - val_mae: 50.0241\n",
      "Epoch 23/150\n",
      "12/12 [==============================] - 0s 6ms/step - loss: 0.5035 - mae: 50.6478 - val_loss: 0.4753 - val_mae: 49.9811\n",
      "Epoch 24/150\n",
      "12/12 [==============================] - 0s 6ms/step - loss: 0.5014 - mae: 50.4953 - val_loss: 0.4742 - val_mae: 49.9382\n",
      "Epoch 25/150\n",
      "12/12 [==============================] - 0s 9ms/step - loss: 0.4998 - mae: 50.3772 - val_loss: 0.4720 - val_mae: 49.8070\n",
      "Epoch 26/150\n",
      "12/12 [==============================] - 0s 9ms/step - loss: 0.4973 - mae: 50.3660 - val_loss: 0.4686 - val_mae: 49.5841\n",
      "Epoch 27/150\n",
      "12/12 [==============================] - 0s 6ms/step - loss: 0.4952 - mae: 50.3105 - val_loss: 0.4665 - val_mae: 49.4700\n",
      "Epoch 28/150\n",
      "12/12 [==============================] - 0s 16ms/step - loss: 0.4932 - mae: 50.1881 - val_loss: 0.4654 - val_mae: 49.4256\n",
      "Epoch 29/150\n",
      "12/12 [==============================] - 0s 6ms/step - loss: 0.4913 - mae: 50.1210 - val_loss: 0.4632 - val_mae: 49.3085\n",
      "Epoch 30/150\n",
      "12/12 [==============================] - 0s 7ms/step - loss: 0.4892 - mae: 50.0844 - val_loss: 0.4603 - val_mae: 49.1263\n",
      "Epoch 31/150\n",
      "12/12 [==============================] - 0s 10ms/step - loss: 0.4870 - mae: 50.0340 - val_loss: 0.4585 - val_mae: 49.0495\n",
      "Epoch 32/150\n",
      "12/12 [==============================] - 0s 9ms/step - loss: 0.4851 - mae: 49.8513 - val_loss: 0.4589 - val_mae: 49.1099\n",
      "Epoch 33/150\n",
      "12/12 [==============================] - 0s 10ms/step - loss: 0.4827 - mae: 49.7443 - val_loss: 0.4554 - val_mae: 48.9275\n",
      "Epoch 34/150\n",
      "12/12 [==============================] - 0s 5ms/step - loss: 0.4809 - mae: 49.7584 - val_loss: 0.4529 - val_mae: 48.8218\n",
      "Epoch 35/150\n",
      "12/12 [==============================] - 0s 6ms/step - loss: 0.4784 - mae: 49.6436 - val_loss: 0.4516 - val_mae: 48.7726\n",
      "Epoch 36/150\n",
      "12/12 [==============================] - 0s 6ms/step - loss: 0.4774 - mae: 49.4593 - val_loss: 0.4512 - val_mae: 48.7737\n",
      "Epoch 37/150\n",
      "12/12 [==============================] - 0s 6ms/step - loss: 0.4739 - mae: 49.4524 - val_loss: 0.4469 - val_mae: 48.5193\n",
      "Epoch 38/150\n",
      "12/12 [==============================] - 0s 6ms/step - loss: 0.4725 - mae: 49.5540 - val_loss: 0.4455 - val_mae: 48.4625\n",
      "Epoch 39/150\n",
      "12/12 [==============================] - 0s 6ms/step - loss: 0.4698 - mae: 49.3910 - val_loss: 0.4437 - val_mae: 48.3707\n",
      "Epoch 40/150\n",
      "12/12 [==============================] - 0s 7ms/step - loss: 0.4675 - mae: 49.2712 - val_loss: 0.4420 - val_mae: 48.2928\n",
      "Epoch 41/150\n",
      "12/12 [==============================] - 0s 7ms/step - loss: 0.4659 - mae: 49.0512 - val_loss: 0.4414 - val_mae: 48.2808\n",
      "Epoch 42/150\n",
      "12/12 [==============================] - 0s 6ms/step - loss: 0.4638 - mae: 49.0496 - val_loss: 0.4381 - val_mae: 48.1172\n",
      "Epoch 43/150\n",
      "12/12 [==============================] - 0s 6ms/step - loss: 0.4618 - mae: 49.1147 - val_loss: 0.4367 - val_mae: 48.0607\n",
      "Epoch 44/150\n",
      "12/12 [==============================] - 0s 6ms/step - loss: 0.4592 - mae: 48.9443 - val_loss: 0.4362 - val_mae: 48.0654\n",
      "Epoch 45/150\n",
      "12/12 [==============================] - 0s 6ms/step - loss: 0.4577 - mae: 48.6438 - val_loss: 0.4355 - val_mae: 48.0355\n",
      "Epoch 46/150\n",
      "12/12 [==============================] - 0s 11ms/step - loss: 0.4561 - mae: 48.7222 - val_loss: 0.4326 - val_mae: 47.8673\n",
      "Epoch 47/150\n",
      "12/12 [==============================] - 0s 10ms/step - loss: 0.4533 - mae: 48.6775 - val_loss: 0.4326 - val_mae: 47.8772\n",
      "Epoch 48/150\n",
      "12/12 [==============================] - 0s 10ms/step - loss: 0.4520 - mae: 48.4243 - val_loss: 0.4317 - val_mae: 47.8198\n",
      "Epoch 49/150\n",
      "12/12 [==============================] - 0s 6ms/step - loss: 0.4509 - mae: 48.6156 - val_loss: 0.4290 - val_mae: 47.6943\n",
      "Epoch 50/150\n",
      "12/12 [==============================] - 0s 6ms/step - loss: 0.4486 - mae: 48.4238 - val_loss: 0.4293 - val_mae: 47.6706\n",
      "Epoch 51/150\n",
      "12/12 [==============================] - 0s 6ms/step - loss: 0.4467 - mae: 48.3833 - val_loss: 0.4272 - val_mae: 47.5579\n",
      "Epoch 52/150\n",
      "12/12 [==============================] - 0s 6ms/step - loss: 0.4450 - mae: 48.2641 - val_loss: 0.4270 - val_mae: 47.5270\n",
      "Epoch 53/150\n",
      "12/12 [==============================] - 0s 6ms/step - loss: 0.4449 - mae: 48.5035 - val_loss: 0.4251 - val_mae: 47.4059\n",
      "Epoch 54/150\n",
      "12/12 [==============================] - 0s 6ms/step - loss: 0.4427 - mae: 48.2173 - val_loss: 0.4254 - val_mae: 47.4333\n",
      "Epoch 55/150\n",
      "12/12 [==============================] - 0s 9ms/step - loss: 0.4459 - mae: 47.9720 - val_loss: 0.4253 - val_mae: 47.4670\n",
      "Epoch 56/150\n",
      "12/12 [==============================] - 0s 8ms/step - loss: 0.4397 - mae: 48.4543 - val_loss: 0.4241 - val_mae: 47.3160\n",
      "Epoch 57/150\n",
      "12/12 [==============================] - 0s 6ms/step - loss: 0.4409 - mae: 48.3535 - val_loss: 0.4251 - val_mae: 47.4390\n",
      "Epoch 58/150\n",
      "12/12 [==============================] - 0s 6ms/step - loss: 0.4380 - mae: 48.2406 - val_loss: 0.4224 - val_mae: 47.2095\n",
      "Epoch 59/150\n",
      "12/12 [==============================] - 0s 6ms/step - loss: 0.4355 - mae: 48.1233 - val_loss: 0.4223 - val_mae: 47.2433\n",
      "Epoch 60/150\n",
      "12/12 [==============================] - 0s 6ms/step - loss: 0.4350 - mae: 47.8000 - val_loss: 0.4222 - val_mae: 47.1453\n",
      "Epoch 61/150\n",
      "12/12 [==============================] - 0s 11ms/step - loss: 0.4362 - mae: 48.3740 - val_loss: 0.4216 - val_mae: 47.0996\n",
      "Epoch 62/150\n",
      "12/12 [==============================] - 0s 21ms/step - loss: 0.4340 - mae: 47.9281 - val_loss: 0.4212 - val_mae: 47.1943\n",
      "Epoch 63/150\n",
      "12/12 [==============================] - 0s 9ms/step - loss: 0.4313 - mae: 47.8182 - val_loss: 0.4212 - val_mae: 47.1770\n",
      "Epoch 64/150\n",
      "12/12 [==============================] - 0s 9ms/step - loss: 0.4304 - mae: 47.8673 - val_loss: 0.4202 - val_mae: 47.0879\n",
      "Epoch 65/150\n",
      "12/12 [==============================] - 0s 6ms/step - loss: 0.4295 - mae: 47.9935 - val_loss: 0.4200 - val_mae: 46.9878\n",
      "Epoch 66/150\n",
      "12/12 [==============================] - 0s 8ms/step - loss: 0.4285 - mae: 47.8174 - val_loss: 0.4199 - val_mae: 47.0840\n",
      "Epoch 67/150\n",
      "12/12 [==============================] - 0s 6ms/step - loss: 0.4292 - mae: 47.9758 - val_loss: 0.4197 - val_mae: 46.9444\n",
      "Epoch 68/150\n",
      "12/12 [==============================] - 0s 6ms/step - loss: 0.4301 - mae: 47.6327 - val_loss: 0.4201 - val_mae: 47.1716\n",
      "Epoch 69/150\n",
      "12/12 [==============================] - 0s 6ms/step - loss: 0.4268 - mae: 48.0213 - val_loss: 0.4178 - val_mae: 46.9535\n",
      "Epoch 70/150\n",
      "12/12 [==============================] - 0s 6ms/step - loss: 0.4259 - mae: 48.0168 - val_loss: 0.4186 - val_mae: 46.9464\n",
      "Epoch 71/150\n",
      "12/12 [==============================] - 0s 6ms/step - loss: 0.4245 - mae: 47.8532 - val_loss: 0.4187 - val_mae: 46.9574\n",
      "Epoch 72/150\n",
      "12/12 [==============================] - 0s 8ms/step - loss: 0.4246 - mae: 47.4666 - val_loss: 0.4185 - val_mae: 46.8831\n",
      "Epoch 73/150\n",
      "12/12 [==============================] - 0s 8ms/step - loss: 0.4224 - mae: 47.7376 - val_loss: 0.4180 - val_mae: 46.8252\n",
      "Epoch 74/150\n",
      "12/12 [==============================] - 0s 7ms/step - loss: 0.4213 - mae: 47.6621 - val_loss: 0.4181 - val_mae: 46.9657\n",
      "Epoch 75/150\n",
      "12/12 [==============================] - 0s 12ms/step - loss: 0.4268 - mae: 47.6783 - val_loss: 0.4164 - val_mae: 46.7780\n",
      "Epoch 76/150\n",
      "12/12 [==============================] - 0s 12ms/step - loss: 0.4202 - mae: 47.4449 - val_loss: 0.4175 - val_mae: 47.0361\n",
      "Epoch 77/150\n",
      "12/12 [==============================] - 0s 8ms/step - loss: 0.4264 - mae: 48.0949 - val_loss: 0.4150 - val_mae: 46.8654\n",
      "Epoch 78/150\n",
      "12/12 [==============================] - 0s 6ms/step - loss: 0.4242 - mae: 47.2975 - val_loss: 0.4168 - val_mae: 46.8374\n",
      "Epoch 79/150\n",
      "12/12 [==============================] - 0s 6ms/step - loss: 0.4231 - mae: 48.0594 - val_loss: 0.4180 - val_mae: 46.8400\n",
      "Epoch 80/150\n",
      "12/12 [==============================] - 0s 19ms/step - loss: 0.4206 - mae: 47.2936 - val_loss: 0.4182 - val_mae: 47.0189\n",
      "Epoch 81/150\n",
      "12/12 [==============================] - 0s 6ms/step - loss: 0.4175 - mae: 47.3340 - val_loss: 0.4162 - val_mae: 46.7140\n",
      "Epoch 82/150\n",
      "12/12 [==============================] - 0s 18ms/step - loss: 0.4188 - mae: 47.4938 - val_loss: 0.4150 - val_mae: 46.8014\n",
      "Epoch 83/150\n",
      "12/12 [==============================] - 0s 12ms/step - loss: 0.4164 - mae: 47.3973 - val_loss: 0.4149 - val_mae: 46.6468\n",
      "Epoch 84/150\n",
      "12/12 [==============================] - 0s 8ms/step - loss: 0.4170 - mae: 47.2991 - val_loss: 0.4155 - val_mae: 46.7309\n",
      "Epoch 85/150\n",
      "12/12 [==============================] - 0s 19ms/step - loss: 0.4181 - mae: 47.6591 - val_loss: 0.4155 - val_mae: 46.6229\n",
      "Epoch 86/150\n",
      "12/12 [==============================] - 0s 36ms/step - loss: 0.4157 - mae: 47.0442 - val_loss: 0.4135 - val_mae: 46.6912\n",
      "Epoch 87/150\n",
      "12/12 [==============================] - 0s 13ms/step - loss: 0.4155 - mae: 47.4460 - val_loss: 0.4146 - val_mae: 46.6084\n",
      "Epoch 88/150\n",
      "12/12 [==============================] - 0s 14ms/step - loss: 0.4155 - mae: 47.7806 - val_loss: 0.4147 - val_mae: 46.6691\n",
      "Epoch 89/150\n",
      "12/12 [==============================] - 0s 15ms/step - loss: 0.4136 - mae: 46.9503 - val_loss: 0.4146 - val_mae: 46.6402\n",
      "Epoch 90/150\n",
      "12/12 [==============================] - 0s 11ms/step - loss: 0.4113 - mae: 47.5087 - val_loss: 0.4157 - val_mae: 46.7745\n",
      "Epoch 91/150\n",
      "12/12 [==============================] - 1s 69ms/step - loss: 0.4127 - mae: 47.1041 - val_loss: 0.4136 - val_mae: 46.6109\n",
      "Epoch 92/150\n",
      "12/12 [==============================] - 0s 14ms/step - loss: 0.4120 - mae: 47.3540 - val_loss: 0.4140 - val_mae: 46.5916\n",
      "Epoch 93/150\n",
      "12/12 [==============================] - 0s 10ms/step - loss: 0.4104 - mae: 47.1932 - val_loss: 0.4130 - val_mae: 46.6053\n",
      "Epoch 94/150\n",
      "12/12 [==============================] - 0s 27ms/step - loss: 0.4103 - mae: 47.3077 - val_loss: 0.4150 - val_mae: 46.6236\n",
      "Epoch 95/150\n",
      "12/12 [==============================] - 0s 9ms/step - loss: 0.4100 - mae: 46.7989 - val_loss: 0.4147 - val_mae: 46.6672\n",
      "Epoch 96/150\n",
      "12/12 [==============================] - 0s 7ms/step - loss: 0.4128 - mae: 47.9208 - val_loss: 0.4128 - val_mae: 46.5937\n",
      "Epoch 97/150\n",
      "12/12 [==============================] - 0s 8ms/step - loss: 0.4198 - mae: 46.8041 - val_loss: 0.4128 - val_mae: 46.6217\n",
      "Epoch 98/150\n",
      "12/12 [==============================] - 0s 11ms/step - loss: 0.4145 - mae: 48.0015 - val_loss: 0.4154 - val_mae: 46.7818\n",
      "Epoch 99/150\n",
      "12/12 [==============================] - 0s 25ms/step - loss: 0.4071 - mae: 47.0461 - val_loss: 0.4165 - val_mae: 46.6425\n",
      "Epoch 100/150\n",
      "12/12 [==============================] - 0s 18ms/step - loss: 0.4095 - mae: 46.5567 - val_loss: 0.4126 - val_mae: 46.6055\n",
      "Epoch 101/150\n",
      "12/12 [==============================] - 0s 6ms/step - loss: 0.4070 - mae: 47.3630 - val_loss: 0.4131 - val_mae: 46.5457\n",
      "Epoch 102/150\n",
      "12/12 [==============================] - 0s 20ms/step - loss: 0.4073 - mae: 47.0186 - val_loss: 0.4136 - val_mae: 46.7030\n",
      "Epoch 103/150\n",
      "12/12 [==============================] - 0s 20ms/step - loss: 0.4062 - mae: 47.3140 - val_loss: 0.4134 - val_mae: 46.5733\n",
      "Epoch 104/150\n",
      "12/12 [==============================] - 0s 12ms/step - loss: 0.4048 - mae: 46.6711 - val_loss: 0.4138 - val_mae: 46.5397\n",
      "Epoch 105/150\n",
      "12/12 [==============================] - 0s 15ms/step - loss: 0.4054 - mae: 46.9505 - val_loss: 0.4144 - val_mae: 46.6742\n",
      "Epoch 106/150\n",
      "12/12 [==============================] - 0s 12ms/step - loss: 0.4100 - mae: 46.8246 - val_loss: 0.4141 - val_mae: 46.7345\n",
      "Epoch 107/150\n",
      "12/12 [==============================] - 0s 17ms/step - loss: 0.4020 - mae: 47.1434 - val_loss: 0.4138 - val_mae: 46.7303\n",
      "Epoch 108/150\n",
      "12/12 [==============================] - 0s 19ms/step - loss: 0.4027 - mae: 47.3454 - val_loss: 0.4132 - val_mae: 46.6170\n"
     ]
    }
   ],
   "source": [
    "# fitting the data in model\n",
    "early_stopper=EarlyStopping(patience=8,mode='auto')\n",
    "model_fit=model.fit(x_train, y_train,batch_size=50,epochs=150,verbose=1,validation_split=0.2,callbacks=[early_stopper])"
   ]
  },
  {
   "cell_type": "code",
   "execution_count": 13,
   "metadata": {},
   "outputs": [],
   "source": [
    "#The \"forward pass\" refers to calculation process, values of the output layers from the inputs data. It's traversing through all neurons from first to last layer.\n",
    "#A loss function is calculated from the output values.\n",
    "#And then \"backward pass\" refers to process of counting changes in weights (de facto learning), using gradient descent algorithm (or similar). Computation is made from last layer, backward to the first layer.#"
   ]
  },
  {
   "cell_type": "code",
   "execution_count": 14,
   "metadata": {},
   "outputs": [
    {
     "output_type": "stream",
     "name": "stdout",
     "text": [
      "Mean Absolute Error: 43.761508773720784\n"
     ]
    }
   ],
   "source": [
    "y_pred=model.predict(x_test)\n",
    "print(\"Mean Absolute Error:\",mean_absolute_error(y_test,y_pred))\n",
    "#print(x_test)\n",
    "#print(y_pred)\n",
    "# for epoch-150 MAE-43.7%\n"
   ]
  },
  {
   "cell_type": "code",
   "execution_count": 15,
   "metadata": {},
   "outputs": [
    {
     "output_type": "display_data",
     "data": {
      "text/plain": "<Figure size 432x288 with 1 Axes>",
      "image/svg+xml": "<?xml version=\"1.0\" encoding=\"utf-8\" standalone=\"no\"?>\r\n<!DOCTYPE svg PUBLIC \"-//W3C//DTD SVG 1.1//EN\"\r\n  \"http://www.w3.org/Graphics/SVG/1.1/DTD/svg11.dtd\">\r\n<!-- Created with matplotlib (https://matplotlib.org/) -->\r\n<svg height=\"277.314375pt\" version=\"1.1\" viewBox=\"0 0 385.78125 277.314375\" width=\"385.78125pt\" xmlns=\"http://www.w3.org/2000/svg\" xmlns:xlink=\"http://www.w3.org/1999/xlink\">\r\n <metadata>\r\n  <rdf:RDF xmlns:cc=\"http://creativecommons.org/ns#\" xmlns:dc=\"http://purl.org/dc/elements/1.1/\" xmlns:rdf=\"http://www.w3.org/1999/02/22-rdf-syntax-ns#\">\r\n   <cc:Work>\r\n    <dc:type rdf:resource=\"http://purl.org/dc/dcmitype/StillImage\"/>\r\n    <dc:date>2021-06-03T23:35:39.931023</dc:date>\r\n    <dc:format>image/svg+xml</dc:format>\r\n    <dc:creator>\r\n     <cc:Agent>\r\n      <dc:title>Matplotlib v3.3.1, https://matplotlib.org/</dc:title>\r\n     </cc:Agent>\r\n    </dc:creator>\r\n   </cc:Work>\r\n  </rdf:RDF>\r\n </metadata>\r\n <defs>\r\n  <style type=\"text/css\">*{stroke-linecap:butt;stroke-linejoin:round;}</style>\r\n </defs>\r\n <g id=\"figure_1\">\r\n  <g id=\"patch_1\">\r\n   <path d=\"M 0 277.314375 \r\nL 385.78125 277.314375 \r\nL 385.78125 0 \r\nL 0 0 \r\nz\r\n\" style=\"fill:none;\"/>\r\n  </g>\r\n  <g id=\"axes_1\">\r\n   <g id=\"patch_2\">\r\n    <path d=\"M 43.78125 239.758125 \r\nL 378.58125 239.758125 \r\nL 378.58125 22.318125 \r\nL 43.78125 22.318125 \r\nz\r\n\" style=\"fill:#ffffff;\"/>\r\n   </g>\r\n   <g id=\"matplotlib.axis_1\">\r\n    <g id=\"xtick_1\">\r\n     <g id=\"line2d_1\">\r\n      <defs>\r\n       <path d=\"M 0 0 \r\nL 0 3.5 \r\n\" id=\"m46e03ea73f\" style=\"stroke:#000000;stroke-width:0.8;\"/>\r\n      </defs>\r\n      <g>\r\n       <use style=\"stroke:#000000;stroke-width:0.8;\" x=\"58.999432\" xlink:href=\"#m46e03ea73f\" y=\"239.758125\"/>\r\n      </g>\r\n     </g>\r\n     <g id=\"text_1\">\r\n      <!-- 0 -->\r\n      <g transform=\"translate(55.818182 254.356562)scale(0.1 -0.1)\">\r\n       <defs>\r\n        <path d=\"M 31.78125 66.40625 \r\nQ 24.171875 66.40625 20.328125 58.90625 \r\nQ 16.5 51.421875 16.5 36.375 \r\nQ 16.5 21.390625 20.328125 13.890625 \r\nQ 24.171875 6.390625 31.78125 6.390625 \r\nQ 39.453125 6.390625 43.28125 13.890625 \r\nQ 47.125 21.390625 47.125 36.375 \r\nQ 47.125 51.421875 43.28125 58.90625 \r\nQ 39.453125 66.40625 31.78125 66.40625 \r\nz\r\nM 31.78125 74.21875 \r\nQ 44.046875 74.21875 50.515625 64.515625 \r\nQ 56.984375 54.828125 56.984375 36.375 \r\nQ 56.984375 17.96875 50.515625 8.265625 \r\nQ 44.046875 -1.421875 31.78125 -1.421875 \r\nQ 19.53125 -1.421875 13.0625 8.265625 \r\nQ 6.59375 17.96875 6.59375 36.375 \r\nQ 6.59375 54.828125 13.0625 64.515625 \r\nQ 19.53125 74.21875 31.78125 74.21875 \r\nz\r\n\" id=\"DejaVuSans-48\"/>\r\n       </defs>\r\n       <use xlink:href=\"#DejaVuSans-48\"/>\r\n      </g>\r\n     </g>\r\n    </g>\r\n    <g id=\"xtick_2\">\r\n     <g id=\"line2d_2\">\r\n      <g>\r\n       <use style=\"stroke:#000000;stroke-width:0.8;\" x=\"115.889831\" xlink:href=\"#m46e03ea73f\" y=\"239.758125\"/>\r\n      </g>\r\n     </g>\r\n     <g id=\"text_2\">\r\n      <!-- 20 -->\r\n      <g transform=\"translate(109.527331 254.356562)scale(0.1 -0.1)\">\r\n       <defs>\r\n        <path d=\"M 19.1875 8.296875 \r\nL 53.609375 8.296875 \r\nL 53.609375 0 \r\nL 7.328125 0 \r\nL 7.328125 8.296875 \r\nQ 12.9375 14.109375 22.625 23.890625 \r\nQ 32.328125 33.6875 34.8125 36.53125 \r\nQ 39.546875 41.84375 41.421875 45.53125 \r\nQ 43.3125 49.21875 43.3125 52.78125 \r\nQ 43.3125 58.59375 39.234375 62.25 \r\nQ 35.15625 65.921875 28.609375 65.921875 \r\nQ 23.96875 65.921875 18.8125 64.3125 \r\nQ 13.671875 62.703125 7.8125 59.421875 \r\nL 7.8125 69.390625 \r\nQ 13.765625 71.78125 18.9375 73 \r\nQ 24.125 74.21875 28.421875 74.21875 \r\nQ 39.75 74.21875 46.484375 68.546875 \r\nQ 53.21875 62.890625 53.21875 53.421875 \r\nQ 53.21875 48.921875 51.53125 44.890625 \r\nQ 49.859375 40.875 45.40625 35.40625 \r\nQ 44.1875 33.984375 37.640625 27.21875 \r\nQ 31.109375 20.453125 19.1875 8.296875 \r\nz\r\n\" id=\"DejaVuSans-50\"/>\r\n       </defs>\r\n       <use xlink:href=\"#DejaVuSans-50\"/>\r\n       <use x=\"63.623047\" xlink:href=\"#DejaVuSans-48\"/>\r\n      </g>\r\n     </g>\r\n    </g>\r\n    <g id=\"xtick_3\">\r\n     <g id=\"line2d_3\">\r\n      <g>\r\n       <use style=\"stroke:#000000;stroke-width:0.8;\" x=\"172.78023\" xlink:href=\"#m46e03ea73f\" y=\"239.758125\"/>\r\n      </g>\r\n     </g>\r\n     <g id=\"text_3\">\r\n      <!-- 40 -->\r\n      <g transform=\"translate(166.41773 254.356562)scale(0.1 -0.1)\">\r\n       <defs>\r\n        <path d=\"M 37.796875 64.3125 \r\nL 12.890625 25.390625 \r\nL 37.796875 25.390625 \r\nz\r\nM 35.203125 72.90625 \r\nL 47.609375 72.90625 \r\nL 47.609375 25.390625 \r\nL 58.015625 25.390625 \r\nL 58.015625 17.1875 \r\nL 47.609375 17.1875 \r\nL 47.609375 0 \r\nL 37.796875 0 \r\nL 37.796875 17.1875 \r\nL 4.890625 17.1875 \r\nL 4.890625 26.703125 \r\nz\r\n\" id=\"DejaVuSans-52\"/>\r\n       </defs>\r\n       <use xlink:href=\"#DejaVuSans-52\"/>\r\n       <use x=\"63.623047\" xlink:href=\"#DejaVuSans-48\"/>\r\n      </g>\r\n     </g>\r\n    </g>\r\n    <g id=\"xtick_4\">\r\n     <g id=\"line2d_4\">\r\n      <g>\r\n       <use style=\"stroke:#000000;stroke-width:0.8;\" x=\"229.67063\" xlink:href=\"#m46e03ea73f\" y=\"239.758125\"/>\r\n      </g>\r\n     </g>\r\n     <g id=\"text_4\">\r\n      <!-- 60 -->\r\n      <g transform=\"translate(223.30813 254.356562)scale(0.1 -0.1)\">\r\n       <defs>\r\n        <path d=\"M 33.015625 40.375 \r\nQ 26.375 40.375 22.484375 35.828125 \r\nQ 18.609375 31.296875 18.609375 23.390625 \r\nQ 18.609375 15.53125 22.484375 10.953125 \r\nQ 26.375 6.390625 33.015625 6.390625 \r\nQ 39.65625 6.390625 43.53125 10.953125 \r\nQ 47.40625 15.53125 47.40625 23.390625 \r\nQ 47.40625 31.296875 43.53125 35.828125 \r\nQ 39.65625 40.375 33.015625 40.375 \r\nz\r\nM 52.59375 71.296875 \r\nL 52.59375 62.3125 \r\nQ 48.875 64.0625 45.09375 64.984375 \r\nQ 41.3125 65.921875 37.59375 65.921875 \r\nQ 27.828125 65.921875 22.671875 59.328125 \r\nQ 17.53125 52.734375 16.796875 39.40625 \r\nQ 19.671875 43.65625 24.015625 45.921875 \r\nQ 28.375 48.1875 33.59375 48.1875 \r\nQ 44.578125 48.1875 50.953125 41.515625 \r\nQ 57.328125 34.859375 57.328125 23.390625 \r\nQ 57.328125 12.15625 50.6875 5.359375 \r\nQ 44.046875 -1.421875 33.015625 -1.421875 \r\nQ 20.359375 -1.421875 13.671875 8.265625 \r\nQ 6.984375 17.96875 6.984375 36.375 \r\nQ 6.984375 53.65625 15.1875 63.9375 \r\nQ 23.390625 74.21875 37.203125 74.21875 \r\nQ 40.921875 74.21875 44.703125 73.484375 \r\nQ 48.484375 72.75 52.59375 71.296875 \r\nz\r\n\" id=\"DejaVuSans-54\"/>\r\n       </defs>\r\n       <use xlink:href=\"#DejaVuSans-54\"/>\r\n       <use x=\"63.623047\" xlink:href=\"#DejaVuSans-48\"/>\r\n      </g>\r\n     </g>\r\n    </g>\r\n    <g id=\"xtick_5\">\r\n     <g id=\"line2d_5\">\r\n      <g>\r\n       <use style=\"stroke:#000000;stroke-width:0.8;\" x=\"286.561029\" xlink:href=\"#m46e03ea73f\" y=\"239.758125\"/>\r\n      </g>\r\n     </g>\r\n     <g id=\"text_5\">\r\n      <!-- 80 -->\r\n      <g transform=\"translate(280.198529 254.356562)scale(0.1 -0.1)\">\r\n       <defs>\r\n        <path d=\"M 31.78125 34.625 \r\nQ 24.75 34.625 20.71875 30.859375 \r\nQ 16.703125 27.09375 16.703125 20.515625 \r\nQ 16.703125 13.921875 20.71875 10.15625 \r\nQ 24.75 6.390625 31.78125 6.390625 \r\nQ 38.8125 6.390625 42.859375 10.171875 \r\nQ 46.921875 13.96875 46.921875 20.515625 \r\nQ 46.921875 27.09375 42.890625 30.859375 \r\nQ 38.875 34.625 31.78125 34.625 \r\nz\r\nM 21.921875 38.8125 \r\nQ 15.578125 40.375 12.03125 44.71875 \r\nQ 8.5 49.078125 8.5 55.328125 \r\nQ 8.5 64.0625 14.71875 69.140625 \r\nQ 20.953125 74.21875 31.78125 74.21875 \r\nQ 42.671875 74.21875 48.875 69.140625 \r\nQ 55.078125 64.0625 55.078125 55.328125 \r\nQ 55.078125 49.078125 51.53125 44.71875 \r\nQ 48 40.375 41.703125 38.8125 \r\nQ 48.828125 37.15625 52.796875 32.3125 \r\nQ 56.78125 27.484375 56.78125 20.515625 \r\nQ 56.78125 9.90625 50.3125 4.234375 \r\nQ 43.84375 -1.421875 31.78125 -1.421875 \r\nQ 19.734375 -1.421875 13.25 4.234375 \r\nQ 6.78125 9.90625 6.78125 20.515625 \r\nQ 6.78125 27.484375 10.78125 32.3125 \r\nQ 14.796875 37.15625 21.921875 38.8125 \r\nz\r\nM 18.3125 54.390625 \r\nQ 18.3125 48.734375 21.84375 45.5625 \r\nQ 25.390625 42.390625 31.78125 42.390625 \r\nQ 38.140625 42.390625 41.71875 45.5625 \r\nQ 45.3125 48.734375 45.3125 54.390625 \r\nQ 45.3125 60.0625 41.71875 63.234375 \r\nQ 38.140625 66.40625 31.78125 66.40625 \r\nQ 25.390625 66.40625 21.84375 63.234375 \r\nQ 18.3125 60.0625 18.3125 54.390625 \r\nz\r\n\" id=\"DejaVuSans-56\"/>\r\n       </defs>\r\n       <use xlink:href=\"#DejaVuSans-56\"/>\r\n       <use x=\"63.623047\" xlink:href=\"#DejaVuSans-48\"/>\r\n      </g>\r\n     </g>\r\n    </g>\r\n    <g id=\"xtick_6\">\r\n     <g id=\"line2d_6\">\r\n      <g>\r\n       <use style=\"stroke:#000000;stroke-width:0.8;\" x=\"343.451428\" xlink:href=\"#m46e03ea73f\" y=\"239.758125\"/>\r\n      </g>\r\n     </g>\r\n     <g id=\"text_6\">\r\n      <!-- 100 -->\r\n      <g transform=\"translate(333.907678 254.356562)scale(0.1 -0.1)\">\r\n       <defs>\r\n        <path d=\"M 12.40625 8.296875 \r\nL 28.515625 8.296875 \r\nL 28.515625 63.921875 \r\nL 10.984375 60.40625 \r\nL 10.984375 69.390625 \r\nL 28.421875 72.90625 \r\nL 38.28125 72.90625 \r\nL 38.28125 8.296875 \r\nL 54.390625 8.296875 \r\nL 54.390625 0 \r\nL 12.40625 0 \r\nz\r\n\" id=\"DejaVuSans-49\"/>\r\n       </defs>\r\n       <use xlink:href=\"#DejaVuSans-49\"/>\r\n       <use x=\"63.623047\" xlink:href=\"#DejaVuSans-48\"/>\r\n       <use x=\"127.246094\" xlink:href=\"#DejaVuSans-48\"/>\r\n      </g>\r\n     </g>\r\n    </g>\r\n    <g id=\"text_7\">\r\n     <!-- epoch -->\r\n     <g transform=\"translate(195.953125 268.034687)scale(0.1 -0.1)\">\r\n      <defs>\r\n       <path d=\"M 56.203125 29.59375 \r\nL 56.203125 25.203125 \r\nL 14.890625 25.203125 \r\nQ 15.484375 15.921875 20.484375 11.0625 \r\nQ 25.484375 6.203125 34.421875 6.203125 \r\nQ 39.59375 6.203125 44.453125 7.46875 \r\nQ 49.3125 8.734375 54.109375 11.28125 \r\nL 54.109375 2.78125 \r\nQ 49.265625 0.734375 44.1875 -0.34375 \r\nQ 39.109375 -1.421875 33.890625 -1.421875 \r\nQ 20.796875 -1.421875 13.15625 6.1875 \r\nQ 5.515625 13.8125 5.515625 26.8125 \r\nQ 5.515625 40.234375 12.765625 48.109375 \r\nQ 20.015625 56 32.328125 56 \r\nQ 43.359375 56 49.78125 48.890625 \r\nQ 56.203125 41.796875 56.203125 29.59375 \r\nz\r\nM 47.21875 32.234375 \r\nQ 47.125 39.59375 43.09375 43.984375 \r\nQ 39.0625 48.390625 32.421875 48.390625 \r\nQ 24.90625 48.390625 20.390625 44.140625 \r\nQ 15.875 39.890625 15.1875 32.171875 \r\nz\r\n\" id=\"DejaVuSans-101\"/>\r\n       <path d=\"M 18.109375 8.203125 \r\nL 18.109375 -20.796875 \r\nL 9.078125 -20.796875 \r\nL 9.078125 54.6875 \r\nL 18.109375 54.6875 \r\nL 18.109375 46.390625 \r\nQ 20.953125 51.265625 25.265625 53.625 \r\nQ 29.59375 56 35.59375 56 \r\nQ 45.5625 56 51.78125 48.09375 \r\nQ 58.015625 40.1875 58.015625 27.296875 \r\nQ 58.015625 14.40625 51.78125 6.484375 \r\nQ 45.5625 -1.421875 35.59375 -1.421875 \r\nQ 29.59375 -1.421875 25.265625 0.953125 \r\nQ 20.953125 3.328125 18.109375 8.203125 \r\nz\r\nM 48.6875 27.296875 \r\nQ 48.6875 37.203125 44.609375 42.84375 \r\nQ 40.53125 48.484375 33.40625 48.484375 \r\nQ 26.265625 48.484375 22.1875 42.84375 \r\nQ 18.109375 37.203125 18.109375 27.296875 \r\nQ 18.109375 17.390625 22.1875 11.75 \r\nQ 26.265625 6.109375 33.40625 6.109375 \r\nQ 40.53125 6.109375 44.609375 11.75 \r\nQ 48.6875 17.390625 48.6875 27.296875 \r\nz\r\n\" id=\"DejaVuSans-112\"/>\r\n       <path d=\"M 30.609375 48.390625 \r\nQ 23.390625 48.390625 19.1875 42.75 \r\nQ 14.984375 37.109375 14.984375 27.296875 \r\nQ 14.984375 17.484375 19.15625 11.84375 \r\nQ 23.34375 6.203125 30.609375 6.203125 \r\nQ 37.796875 6.203125 41.984375 11.859375 \r\nQ 46.1875 17.53125 46.1875 27.296875 \r\nQ 46.1875 37.015625 41.984375 42.703125 \r\nQ 37.796875 48.390625 30.609375 48.390625 \r\nz\r\nM 30.609375 56 \r\nQ 42.328125 56 49.015625 48.375 \r\nQ 55.71875 40.765625 55.71875 27.296875 \r\nQ 55.71875 13.875 49.015625 6.21875 \r\nQ 42.328125 -1.421875 30.609375 -1.421875 \r\nQ 18.84375 -1.421875 12.171875 6.21875 \r\nQ 5.515625 13.875 5.515625 27.296875 \r\nQ 5.515625 40.765625 12.171875 48.375 \r\nQ 18.84375 56 30.609375 56 \r\nz\r\n\" id=\"DejaVuSans-111\"/>\r\n       <path d=\"M 48.78125 52.59375 \r\nL 48.78125 44.1875 \r\nQ 44.96875 46.296875 41.140625 47.34375 \r\nQ 37.3125 48.390625 33.40625 48.390625 \r\nQ 24.65625 48.390625 19.8125 42.84375 \r\nQ 14.984375 37.3125 14.984375 27.296875 \r\nQ 14.984375 17.28125 19.8125 11.734375 \r\nQ 24.65625 6.203125 33.40625 6.203125 \r\nQ 37.3125 6.203125 41.140625 7.25 \r\nQ 44.96875 8.296875 48.78125 10.40625 \r\nL 48.78125 2.09375 \r\nQ 45.015625 0.34375 40.984375 -0.53125 \r\nQ 36.96875 -1.421875 32.421875 -1.421875 \r\nQ 20.0625 -1.421875 12.78125 6.34375 \r\nQ 5.515625 14.109375 5.515625 27.296875 \r\nQ 5.515625 40.671875 12.859375 48.328125 \r\nQ 20.21875 56 33.015625 56 \r\nQ 37.15625 56 41.109375 55.140625 \r\nQ 45.0625 54.296875 48.78125 52.59375 \r\nz\r\n\" id=\"DejaVuSans-99\"/>\r\n       <path d=\"M 54.890625 33.015625 \r\nL 54.890625 0 \r\nL 45.90625 0 \r\nL 45.90625 32.71875 \r\nQ 45.90625 40.484375 42.875 44.328125 \r\nQ 39.84375 48.1875 33.796875 48.1875 \r\nQ 26.515625 48.1875 22.3125 43.546875 \r\nQ 18.109375 38.921875 18.109375 30.90625 \r\nL 18.109375 0 \r\nL 9.078125 0 \r\nL 9.078125 75.984375 \r\nL 18.109375 75.984375 \r\nL 18.109375 46.1875 \r\nQ 21.34375 51.125 25.703125 53.5625 \r\nQ 30.078125 56 35.796875 56 \r\nQ 45.21875 56 50.046875 50.171875 \r\nQ 54.890625 44.34375 54.890625 33.015625 \r\nz\r\n\" id=\"DejaVuSans-104\"/>\r\n      </defs>\r\n      <use xlink:href=\"#DejaVuSans-101\"/>\r\n      <use x=\"61.523438\" xlink:href=\"#DejaVuSans-112\"/>\r\n      <use x=\"125\" xlink:href=\"#DejaVuSans-111\"/>\r\n      <use x=\"186.181641\" xlink:href=\"#DejaVuSans-99\"/>\r\n      <use x=\"241.162109\" xlink:href=\"#DejaVuSans-104\"/>\r\n     </g>\r\n    </g>\r\n   </g>\r\n   <g id=\"matplotlib.axis_2\">\r\n    <g id=\"ytick_1\">\r\n     <g id=\"line2d_7\">\r\n      <defs>\r\n       <path d=\"M 0 0 \r\nL -3.5 0 \r\n\" id=\"m5ffc59f320\" style=\"stroke:#000000;stroke-width:0.8;\"/>\r\n      </defs>\r\n      <g>\r\n       <use style=\"stroke:#000000;stroke-width:0.8;\" x=\"43.78125\" xlink:href=\"#m5ffc59f320\" y=\"222.646112\"/>\r\n      </g>\r\n     </g>\r\n     <g id=\"text_8\">\r\n      <!-- 0.5 -->\r\n      <g transform=\"translate(20.878125 226.44533)scale(0.1 -0.1)\">\r\n       <defs>\r\n        <path d=\"M 10.6875 12.40625 \r\nL 21 12.40625 \r\nL 21 0 \r\nL 10.6875 0 \r\nz\r\n\" id=\"DejaVuSans-46\"/>\r\n        <path d=\"M 10.796875 72.90625 \r\nL 49.515625 72.90625 \r\nL 49.515625 64.59375 \r\nL 19.828125 64.59375 \r\nL 19.828125 46.734375 \r\nQ 21.96875 47.46875 24.109375 47.828125 \r\nQ 26.265625 48.1875 28.421875 48.1875 \r\nQ 40.625 48.1875 47.75 41.5 \r\nQ 54.890625 34.8125 54.890625 23.390625 \r\nQ 54.890625 11.625 47.5625 5.09375 \r\nQ 40.234375 -1.421875 26.90625 -1.421875 \r\nQ 22.3125 -1.421875 17.546875 -0.640625 \r\nQ 12.796875 0.140625 7.71875 1.703125 \r\nL 7.71875 11.625 \r\nQ 12.109375 9.234375 16.796875 8.0625 \r\nQ 21.484375 6.890625 26.703125 6.890625 \r\nQ 35.15625 6.890625 40.078125 11.328125 \r\nQ 45.015625 15.765625 45.015625 23.390625 \r\nQ 45.015625 31 40.078125 35.4375 \r\nQ 35.15625 39.890625 26.703125 39.890625 \r\nQ 22.75 39.890625 18.8125 39.015625 \r\nQ 14.890625 38.140625 10.796875 36.28125 \r\nz\r\n\" id=\"DejaVuSans-53\"/>\r\n       </defs>\r\n       <use xlink:href=\"#DejaVuSans-48\"/>\r\n       <use x=\"63.623047\" xlink:href=\"#DejaVuSans-46\"/>\r\n       <use x=\"95.410156\" xlink:href=\"#DejaVuSans-53\"/>\r\n      </g>\r\n     </g>\r\n    </g>\r\n    <g id=\"ytick_2\">\r\n     <g id=\"line2d_8\">\r\n      <g>\r\n       <use style=\"stroke:#000000;stroke-width:0.8;\" x=\"43.78125\" xlink:href=\"#m5ffc59f320\" y=\"185.749028\"/>\r\n      </g>\r\n     </g>\r\n     <g id=\"text_9\">\r\n      <!-- 1.0 -->\r\n      <g transform=\"translate(20.878125 189.548246)scale(0.1 -0.1)\">\r\n       <use xlink:href=\"#DejaVuSans-49\"/>\r\n       <use x=\"63.623047\" xlink:href=\"#DejaVuSans-46\"/>\r\n       <use x=\"95.410156\" xlink:href=\"#DejaVuSans-48\"/>\r\n      </g>\r\n     </g>\r\n    </g>\r\n    <g id=\"ytick_3\">\r\n     <g id=\"line2d_9\">\r\n      <g>\r\n       <use style=\"stroke:#000000;stroke-width:0.8;\" x=\"43.78125\" xlink:href=\"#m5ffc59f320\" y=\"148.851944\"/>\r\n      </g>\r\n     </g>\r\n     <g id=\"text_10\">\r\n      <!-- 1.5 -->\r\n      <g transform=\"translate(20.878125 152.651163)scale(0.1 -0.1)\">\r\n       <use xlink:href=\"#DejaVuSans-49\"/>\r\n       <use x=\"63.623047\" xlink:href=\"#DejaVuSans-46\"/>\r\n       <use x=\"95.410156\" xlink:href=\"#DejaVuSans-53\"/>\r\n      </g>\r\n     </g>\r\n    </g>\r\n    <g id=\"ytick_4\">\r\n     <g id=\"line2d_10\">\r\n      <g>\r\n       <use style=\"stroke:#000000;stroke-width:0.8;\" x=\"43.78125\" xlink:href=\"#m5ffc59f320\" y=\"111.95486\"/>\r\n      </g>\r\n     </g>\r\n     <g id=\"text_11\">\r\n      <!-- 2.0 -->\r\n      <g transform=\"translate(20.878125 115.754079)scale(0.1 -0.1)\">\r\n       <use xlink:href=\"#DejaVuSans-50\"/>\r\n       <use x=\"63.623047\" xlink:href=\"#DejaVuSans-46\"/>\r\n       <use x=\"95.410156\" xlink:href=\"#DejaVuSans-48\"/>\r\n      </g>\r\n     </g>\r\n    </g>\r\n    <g id=\"ytick_5\">\r\n     <g id=\"line2d_11\">\r\n      <g>\r\n       <use style=\"stroke:#000000;stroke-width:0.8;\" x=\"43.78125\" xlink:href=\"#m5ffc59f320\" y=\"75.057776\"/>\r\n      </g>\r\n     </g>\r\n     <g id=\"text_12\">\r\n      <!-- 2.5 -->\r\n      <g transform=\"translate(20.878125 78.856995)scale(0.1 -0.1)\">\r\n       <use xlink:href=\"#DejaVuSans-50\"/>\r\n       <use x=\"63.623047\" xlink:href=\"#DejaVuSans-46\"/>\r\n       <use x=\"95.410156\" xlink:href=\"#DejaVuSans-53\"/>\r\n      </g>\r\n     </g>\r\n    </g>\r\n    <g id=\"ytick_6\">\r\n     <g id=\"line2d_12\">\r\n      <g>\r\n       <use style=\"stroke:#000000;stroke-width:0.8;\" x=\"43.78125\" xlink:href=\"#m5ffc59f320\" y=\"38.160692\"/>\r\n      </g>\r\n     </g>\r\n     <g id=\"text_13\">\r\n      <!-- 3.0 -->\r\n      <g transform=\"translate(20.878125 41.959911)scale(0.1 -0.1)\">\r\n       <defs>\r\n        <path d=\"M 40.578125 39.3125 \r\nQ 47.65625 37.796875 51.625 33 \r\nQ 55.609375 28.21875 55.609375 21.1875 \r\nQ 55.609375 10.40625 48.1875 4.484375 \r\nQ 40.765625 -1.421875 27.09375 -1.421875 \r\nQ 22.515625 -1.421875 17.65625 -0.515625 \r\nQ 12.796875 0.390625 7.625 2.203125 \r\nL 7.625 11.71875 \r\nQ 11.71875 9.328125 16.59375 8.109375 \r\nQ 21.484375 6.890625 26.8125 6.890625 \r\nQ 36.078125 6.890625 40.9375 10.546875 \r\nQ 45.796875 14.203125 45.796875 21.1875 \r\nQ 45.796875 27.640625 41.28125 31.265625 \r\nQ 36.765625 34.90625 28.71875 34.90625 \r\nL 20.21875 34.90625 \r\nL 20.21875 43.015625 \r\nL 29.109375 43.015625 \r\nQ 36.375 43.015625 40.234375 45.921875 \r\nQ 44.09375 48.828125 44.09375 54.296875 \r\nQ 44.09375 59.90625 40.109375 62.90625 \r\nQ 36.140625 65.921875 28.71875 65.921875 \r\nQ 24.65625 65.921875 20.015625 65.03125 \r\nQ 15.375 64.15625 9.8125 62.3125 \r\nL 9.8125 71.09375 \r\nQ 15.4375 72.65625 20.34375 73.4375 \r\nQ 25.25 74.21875 29.59375 74.21875 \r\nQ 40.828125 74.21875 47.359375 69.109375 \r\nQ 53.90625 64.015625 53.90625 55.328125 \r\nQ 53.90625 49.265625 50.4375 45.09375 \r\nQ 46.96875 40.921875 40.578125 39.3125 \r\nz\r\n\" id=\"DejaVuSans-51\"/>\r\n       </defs>\r\n       <use xlink:href=\"#DejaVuSans-51\"/>\r\n       <use x=\"63.623047\" xlink:href=\"#DejaVuSans-46\"/>\r\n       <use x=\"95.410156\" xlink:href=\"#DejaVuSans-48\"/>\r\n      </g>\r\n     </g>\r\n    </g>\r\n    <g id=\"text_14\">\r\n     <!-- loss -->\r\n     <g transform=\"translate(14.798438 140.695937)rotate(-90)scale(0.1 -0.1)\">\r\n      <defs>\r\n       <path d=\"M 9.421875 75.984375 \r\nL 18.40625 75.984375 \r\nL 18.40625 0 \r\nL 9.421875 0 \r\nz\r\n\" id=\"DejaVuSans-108\"/>\r\n       <path d=\"M 44.28125 53.078125 \r\nL 44.28125 44.578125 \r\nQ 40.484375 46.53125 36.375 47.5 \r\nQ 32.28125 48.484375 27.875 48.484375 \r\nQ 21.1875 48.484375 17.84375 46.4375 \r\nQ 14.5 44.390625 14.5 40.28125 \r\nQ 14.5 37.15625 16.890625 35.375 \r\nQ 19.28125 33.59375 26.515625 31.984375 \r\nL 29.59375 31.296875 \r\nQ 39.15625 29.25 43.1875 25.515625 \r\nQ 47.21875 21.78125 47.21875 15.09375 \r\nQ 47.21875 7.46875 41.1875 3.015625 \r\nQ 35.15625 -1.421875 24.609375 -1.421875 \r\nQ 20.21875 -1.421875 15.453125 -0.5625 \r\nQ 10.6875 0.296875 5.421875 2 \r\nL 5.421875 11.28125 \r\nQ 10.40625 8.6875 15.234375 7.390625 \r\nQ 20.0625 6.109375 24.8125 6.109375 \r\nQ 31.15625 6.109375 34.5625 8.28125 \r\nQ 37.984375 10.453125 37.984375 14.40625 \r\nQ 37.984375 18.0625 35.515625 20.015625 \r\nQ 33.0625 21.96875 24.703125 23.78125 \r\nL 21.578125 24.515625 \r\nQ 13.234375 26.265625 9.515625 29.90625 \r\nQ 5.8125 33.546875 5.8125 39.890625 \r\nQ 5.8125 47.609375 11.28125 51.796875 \r\nQ 16.75 56 26.8125 56 \r\nQ 31.78125 56 36.171875 55.265625 \r\nQ 40.578125 54.546875 44.28125 53.078125 \r\nz\r\n\" id=\"DejaVuSans-115\"/>\r\n      </defs>\r\n      <use xlink:href=\"#DejaVuSans-108\"/>\r\n      <use x=\"27.783203\" xlink:href=\"#DejaVuSans-111\"/>\r\n      <use x=\"88.964844\" xlink:href=\"#DejaVuSans-115\"/>\r\n      <use x=\"141.064453\" xlink:href=\"#DejaVuSans-115\"/>\r\n     </g>\r\n    </g>\r\n   </g>\r\n   <g id=\"line2d_13\">\r\n    <path clip-path=\"url(#p98eb4ed468)\" d=\"M 58.999432 32.201761 \r\nL 61.843952 218.393802 \r\nL 64.688472 218.326884 \r\nL 67.532992 218.595604 \r\nL 70.377512 219.270216 \r\nL 73.222032 219.599648 \r\nL 76.066552 219.766091 \r\nL 78.911072 220.001682 \r\nL 81.755592 220.188996 \r\nL 84.600112 220.360435 \r\nL 87.444631 220.500659 \r\nL 90.289151 220.694447 \r\nL 93.133671 220.832616 \r\nL 95.978191 221.027921 \r\nL 98.822711 221.143918 \r\nL 101.667231 221.313743 \r\nL 104.511751 221.442508 \r\nL 107.356271 221.614929 \r\nL 110.200791 221.780997 \r\nL 113.045311 221.936488 \r\nL 115.889831 222.088754 \r\nL 118.734351 222.239451 \r\nL 121.578871 222.390617 \r\nL 124.423391 222.541934 \r\nL 127.267911 222.659221 \r\nL 130.112431 222.843132 \r\nL 132.956951 223.002887 \r\nL 135.801471 223.150986 \r\nL 138.645991 223.286477 \r\nL 141.490511 223.440032 \r\nL 144.335031 223.603013 \r\nL 147.179551 223.746698 \r\nL 150.024071 223.923605 \r\nL 152.868591 224.056535 \r\nL 155.713111 224.238641 \r\nL 158.557631 224.310332 \r\nL 161.402151 224.575349 \r\nL 164.246671 224.678946 \r\nL 167.091191 224.874159 \r\nL 169.93571 225.040844 \r\nL 172.78023 225.16567 \r\nL 175.62475 225.31426 \r\nL 178.46927 225.461971 \r\nL 181.31379 225.657996 \r\nL 184.15831 225.765422 \r\nL 187.00283 225.887856 \r\nL 189.84735 226.092046 \r\nL 192.69187 226.189385 \r\nL 195.53639 226.273046 \r\nL 198.38091 226.436761 \r\nL 201.22543 226.578188 \r\nL 204.06995 226.70396 \r\nL 206.91447 226.712715 \r\nL 209.75899 226.874685 \r\nL 212.60351 226.641071 \r\nL 215.44803 227.094019 \r\nL 218.29255 227.007556 \r\nL 221.13707 227.21828 \r\nL 223.98159 227.402625 \r\nL 226.82611 227.44037 \r\nL 229.67063 227.352069 \r\nL 232.51515 227.514529 \r\nL 235.35967 227.716469 \r\nL 238.20419 227.78452 \r\nL 241.04871 227.850612 \r\nL 243.89323 227.921889 \r\nL 246.73775 227.867766 \r\nL 249.58227 227.806282 \r\nL 252.42679 228.048389 \r\nL 255.271309 228.113517 \r\nL 258.115829 228.22029 \r\nL 260.960349 228.210858 \r\nL 263.804869 228.371706 \r\nL 266.649389 228.451206 \r\nL 269.493909 228.044756 \r\nL 272.338429 228.533479 \r\nL 275.182949 228.076242 \r\nL 278.027469 228.240972 \r\nL 280.871989 228.319465 \r\nL 283.716509 228.504212 \r\nL 286.561029 228.731189 \r\nL 289.405549 228.641686 \r\nL 292.250069 228.817693 \r\nL 295.094589 228.773209 \r\nL 297.939109 228.690863 \r\nL 300.783629 228.863446 \r\nL 303.628149 228.882586 \r\nL 306.472669 228.879248 \r\nL 309.317189 229.02502 \r\nL 312.161709 229.194777 \r\nL 315.006229 229.090225 \r\nL 317.850749 229.140867 \r\nL 320.695269 229.257292 \r\nL 323.539789 229.26557 \r\nL 326.384309 229.287343 \r\nL 329.228829 229.080247 \r\nL 332.073349 228.565758 \r\nL 334.917869 228.957365 \r\nL 337.762388 229.499477 \r\nL 340.606908 229.321286 \r\nL 343.451428 229.51157 \r\nL 346.295948 229.485989 \r\nL 349.140468 229.569063 \r\nL 351.984988 229.672863 \r\nL 354.829508 229.628145 \r\nL 357.674028 229.285051 \r\nL 360.518548 229.874489 \r\nL 363.363068 229.829176 \r\n\" style=\"fill:none;stroke:#1f77b4;stroke-linecap:square;stroke-width:1.5;\"/>\r\n   </g>\r\n   <g id=\"line2d_14\">\r\n    <path clip-path=\"url(#p98eb4ed468)\" d=\"M 58.999432 218.860432 \r\nL 61.843952 219.467294 \r\nL 64.688472 218.584551 \r\nL 67.532992 219.752047 \r\nL 70.377512 220.680143 \r\nL 73.222032 221.318018 \r\nL 76.066552 221.716617 \r\nL 78.911072 221.865387 \r\nL 81.755592 222.009701 \r\nL 84.600112 222.252993 \r\nL 87.444631 222.512213 \r\nL 90.289151 222.606996 \r\nL 93.133671 222.846605 \r\nL 95.978191 222.962483 \r\nL 98.822711 223.017851 \r\nL 101.667231 223.26865 \r\nL 104.511751 223.564643 \r\nL 107.356271 223.623884 \r\nL 110.200791 223.784362 \r\nL 113.045311 223.933734 \r\nL 115.889831 224.154958 \r\nL 118.734351 224.361321 \r\nL 121.578871 224.466055 \r\nL 124.423391 224.547482 \r\nL 127.267911 224.714538 \r\nL 130.112431 224.965795 \r\nL 132.956951 225.115664 \r\nL 135.801471 225.201903 \r\nL 138.645991 225.360936 \r\nL 141.490511 225.576404 \r\nL 144.335031 225.707283 \r\nL 147.179551 225.675953 \r\nL 150.024071 225.936923 \r\nL 152.868591 226.120102 \r\nL 155.713111 226.214155 \r\nL 158.557631 226.246589 \r\nL 161.402151 226.563514 \r\nL 164.246671 226.670897 \r\nL 167.091191 226.800075 \r\nL 169.93571 226.926235 \r\nL 172.78023 226.972476 \r\nL 175.62475 227.210886 \r\nL 178.46927 227.320017 \r\nL 181.31379 227.353879 \r\nL 184.15831 227.40443 \r\nL 187.00283 227.618946 \r\nL 189.84735 227.62042 \r\nL 192.69187 227.685856 \r\nL 195.53639 227.882531 \r\nL 198.38091 227.864007 \r\nL 201.22543 228.019064 \r\nL 204.06995 228.034972 \r\nL 206.91447 228.17311 \r\nL 209.75899 228.147491 \r\nL 212.60351 228.155402 \r\nL 215.44803 228.246758 \r\nL 218.29255 228.171608 \r\nL 221.13707 228.374697 \r\nL 223.98159 228.376397 \r\nL 226.82611 228.387098 \r\nL 229.67063 228.432189 \r\nL 232.51515 228.458228 \r\nL 235.35967 228.460232 \r\nL 238.20419 228.535006 \r\nL 241.04871 228.54651 \r\nL 243.89323 228.556068 \r\nL 246.73775 228.57362 \r\nL 249.58227 228.541287 \r\nL 252.42679 228.713298 \r\nL 255.271309 228.655722 \r\nL 258.115829 228.642731 \r\nL 260.960349 228.663021 \r\nL 263.804869 228.698017 \r\nL 266.649389 228.68763 \r\nL 269.493909 228.81468 \r\nL 272.338429 228.737747 \r\nL 275.182949 228.91799 \r\nL 278.027469 228.784225 \r\nL 280.871989 228.699544 \r\nL 283.716509 228.685992 \r\nL 286.561029 228.830143 \r\nL 289.405549 228.920202 \r\nL 292.250069 228.925403 \r\nL 295.094589 228.88411 \r\nL 297.939109 228.879131 \r\nL 300.783629 229.027199 \r\nL 303.628149 228.947266 \r\nL 306.472669 228.943523 \r\nL 309.317189 228.95076 \r\nL 312.161709 228.870154 \r\nL 315.006229 229.023403 \r\nL 317.850749 228.990617 \r\nL 320.695269 229.064652 \r\nL 323.539789 228.915208 \r\nL 326.384309 228.943208 \r\nL 329.228829 229.081736 \r\nL 332.073349 229.079939 \r\nL 334.917869 228.88987 \r\nL 337.762388 228.808736 \r\nL 340.606908 229.098094 \r\nL 343.451428 229.058842 \r\nL 346.295948 229.023023 \r\nL 349.140468 229.038967 \r\nL 351.984988 229.006285 \r\nL 354.829508 228.965465 \r\nL 357.674028 228.987002 \r\nL 360.518548 229.005361 \r\nL 363.363068 229.051787 \r\n\" style=\"fill:none;stroke:#ff7f0e;stroke-linecap:square;stroke-width:1.5;\"/>\r\n   </g>\r\n   <g id=\"patch_3\">\r\n    <path d=\"M 43.78125 239.758125 \r\nL 43.78125 22.318125 \r\n\" style=\"fill:none;stroke:#000000;stroke-linecap:square;stroke-linejoin:miter;stroke-width:0.8;\"/>\r\n   </g>\r\n   <g id=\"patch_4\">\r\n    <path d=\"M 378.58125 239.758125 \r\nL 378.58125 22.318125 \r\n\" style=\"fill:none;stroke:#000000;stroke-linecap:square;stroke-linejoin:miter;stroke-width:0.8;\"/>\r\n   </g>\r\n   <g id=\"patch_5\">\r\n    <path d=\"M 43.78125 239.758125 \r\nL 378.58125 239.758125 \r\n\" style=\"fill:none;stroke:#000000;stroke-linecap:square;stroke-linejoin:miter;stroke-width:0.8;\"/>\r\n   </g>\r\n   <g id=\"patch_6\">\r\n    <path d=\"M 43.78125 22.318125 \r\nL 378.58125 22.318125 \r\n\" style=\"fill:none;stroke:#000000;stroke-linecap:square;stroke-linejoin:miter;stroke-width:0.8;\"/>\r\n   </g>\r\n   <g id=\"text_15\">\r\n    <!-- model loss -->\r\n    <g transform=\"translate(179.001563 16.318125)scale(0.12 -0.12)\">\r\n     <defs>\r\n      <path d=\"M 52 44.1875 \r\nQ 55.375 50.25 60.0625 53.125 \r\nQ 64.75 56 71.09375 56 \r\nQ 79.640625 56 84.28125 50.015625 \r\nQ 88.921875 44.046875 88.921875 33.015625 \r\nL 88.921875 0 \r\nL 79.890625 0 \r\nL 79.890625 32.71875 \r\nQ 79.890625 40.578125 77.09375 44.375 \r\nQ 74.3125 48.1875 68.609375 48.1875 \r\nQ 61.625 48.1875 57.5625 43.546875 \r\nQ 53.515625 38.921875 53.515625 30.90625 \r\nL 53.515625 0 \r\nL 44.484375 0 \r\nL 44.484375 32.71875 \r\nQ 44.484375 40.625 41.703125 44.40625 \r\nQ 38.921875 48.1875 33.109375 48.1875 \r\nQ 26.21875 48.1875 22.15625 43.53125 \r\nQ 18.109375 38.875 18.109375 30.90625 \r\nL 18.109375 0 \r\nL 9.078125 0 \r\nL 9.078125 54.6875 \r\nL 18.109375 54.6875 \r\nL 18.109375 46.1875 \r\nQ 21.1875 51.21875 25.484375 53.609375 \r\nQ 29.78125 56 35.6875 56 \r\nQ 41.65625 56 45.828125 52.96875 \r\nQ 50 49.953125 52 44.1875 \r\nz\r\n\" id=\"DejaVuSans-109\"/>\r\n      <path d=\"M 45.40625 46.390625 \r\nL 45.40625 75.984375 \r\nL 54.390625 75.984375 \r\nL 54.390625 0 \r\nL 45.40625 0 \r\nL 45.40625 8.203125 \r\nQ 42.578125 3.328125 38.25 0.953125 \r\nQ 33.9375 -1.421875 27.875 -1.421875 \r\nQ 17.96875 -1.421875 11.734375 6.484375 \r\nQ 5.515625 14.40625 5.515625 27.296875 \r\nQ 5.515625 40.1875 11.734375 48.09375 \r\nQ 17.96875 56 27.875 56 \r\nQ 33.9375 56 38.25 53.625 \r\nQ 42.578125 51.265625 45.40625 46.390625 \r\nz\r\nM 14.796875 27.296875 \r\nQ 14.796875 17.390625 18.875 11.75 \r\nQ 22.953125 6.109375 30.078125 6.109375 \r\nQ 37.203125 6.109375 41.296875 11.75 \r\nQ 45.40625 17.390625 45.40625 27.296875 \r\nQ 45.40625 37.203125 41.296875 42.84375 \r\nQ 37.203125 48.484375 30.078125 48.484375 \r\nQ 22.953125 48.484375 18.875 42.84375 \r\nQ 14.796875 37.203125 14.796875 27.296875 \r\nz\r\n\" id=\"DejaVuSans-100\"/>\r\n      <path id=\"DejaVuSans-32\"/>\r\n     </defs>\r\n     <use xlink:href=\"#DejaVuSans-109\"/>\r\n     <use x=\"97.412109\" xlink:href=\"#DejaVuSans-111\"/>\r\n     <use x=\"158.59375\" xlink:href=\"#DejaVuSans-100\"/>\r\n     <use x=\"222.070312\" xlink:href=\"#DejaVuSans-101\"/>\r\n     <use x=\"283.59375\" xlink:href=\"#DejaVuSans-108\"/>\r\n     <use x=\"311.376953\" xlink:href=\"#DejaVuSans-32\"/>\r\n     <use x=\"343.164062\" xlink:href=\"#DejaVuSans-108\"/>\r\n     <use x=\"370.947266\" xlink:href=\"#DejaVuSans-111\"/>\r\n     <use x=\"432.128906\" xlink:href=\"#DejaVuSans-115\"/>\r\n     <use x=\"484.228516\" xlink:href=\"#DejaVuSans-115\"/>\r\n    </g>\r\n   </g>\r\n   <g id=\"legend_1\">\r\n    <g id=\"patch_7\">\r\n     <path d=\"M 290.346875 59.674375 \r\nL 371.58125 59.674375 \r\nQ 373.58125 59.674375 373.58125 57.674375 \r\nL 373.58125 29.318125 \r\nQ 373.58125 27.318125 371.58125 27.318125 \r\nL 290.346875 27.318125 \r\nQ 288.346875 27.318125 288.346875 29.318125 \r\nL 288.346875 57.674375 \r\nQ 288.346875 59.674375 290.346875 59.674375 \r\nz\r\n\" style=\"fill:#ffffff;opacity:0.8;stroke:#cccccc;stroke-linejoin:miter;\"/>\r\n    </g>\r\n    <g id=\"line2d_15\">\r\n     <path d=\"M 292.346875 35.416562 \r\nL 312.346875 35.416562 \r\n\" style=\"fill:none;stroke:#1f77b4;stroke-linecap:square;stroke-width:1.5;\"/>\r\n    </g>\r\n    <g id=\"line2d_16\"/>\r\n    <g id=\"text_16\">\r\n     <!-- train -->\r\n     <g transform=\"translate(320.346875 38.916562)scale(0.1 -0.1)\">\r\n      <defs>\r\n       <path d=\"M 18.3125 70.21875 \r\nL 18.3125 54.6875 \r\nL 36.8125 54.6875 \r\nL 36.8125 47.703125 \r\nL 18.3125 47.703125 \r\nL 18.3125 18.015625 \r\nQ 18.3125 11.328125 20.140625 9.421875 \r\nQ 21.96875 7.515625 27.59375 7.515625 \r\nL 36.8125 7.515625 \r\nL 36.8125 0 \r\nL 27.59375 0 \r\nQ 17.1875 0 13.234375 3.875 \r\nQ 9.28125 7.765625 9.28125 18.015625 \r\nL 9.28125 47.703125 \r\nL 2.6875 47.703125 \r\nL 2.6875 54.6875 \r\nL 9.28125 54.6875 \r\nL 9.28125 70.21875 \r\nz\r\n\" id=\"DejaVuSans-116\"/>\r\n       <path d=\"M 41.109375 46.296875 \r\nQ 39.59375 47.171875 37.8125 47.578125 \r\nQ 36.03125 48 33.890625 48 \r\nQ 26.265625 48 22.1875 43.046875 \r\nQ 18.109375 38.09375 18.109375 28.8125 \r\nL 18.109375 0 \r\nL 9.078125 0 \r\nL 9.078125 54.6875 \r\nL 18.109375 54.6875 \r\nL 18.109375 46.1875 \r\nQ 20.953125 51.171875 25.484375 53.578125 \r\nQ 30.03125 56 36.53125 56 \r\nQ 37.453125 56 38.578125 55.875 \r\nQ 39.703125 55.765625 41.0625 55.515625 \r\nz\r\n\" id=\"DejaVuSans-114\"/>\r\n       <path d=\"M 34.28125 27.484375 \r\nQ 23.390625 27.484375 19.1875 25 \r\nQ 14.984375 22.515625 14.984375 16.5 \r\nQ 14.984375 11.71875 18.140625 8.90625 \r\nQ 21.296875 6.109375 26.703125 6.109375 \r\nQ 34.1875 6.109375 38.703125 11.40625 \r\nQ 43.21875 16.703125 43.21875 25.484375 \r\nL 43.21875 27.484375 \r\nz\r\nM 52.203125 31.203125 \r\nL 52.203125 0 \r\nL 43.21875 0 \r\nL 43.21875 8.296875 \r\nQ 40.140625 3.328125 35.546875 0.953125 \r\nQ 30.953125 -1.421875 24.3125 -1.421875 \r\nQ 15.921875 -1.421875 10.953125 3.296875 \r\nQ 6 8.015625 6 15.921875 \r\nQ 6 25.140625 12.171875 29.828125 \r\nQ 18.359375 34.515625 30.609375 34.515625 \r\nL 43.21875 34.515625 \r\nL 43.21875 35.40625 \r\nQ 43.21875 41.609375 39.140625 45 \r\nQ 35.0625 48.390625 27.6875 48.390625 \r\nQ 23 48.390625 18.546875 47.265625 \r\nQ 14.109375 46.140625 10.015625 43.890625 \r\nL 10.015625 52.203125 \r\nQ 14.9375 54.109375 19.578125 55.046875 \r\nQ 24.21875 56 28.609375 56 \r\nQ 40.484375 56 46.34375 49.84375 \r\nQ 52.203125 43.703125 52.203125 31.203125 \r\nz\r\n\" id=\"DejaVuSans-97\"/>\r\n       <path d=\"M 9.421875 54.6875 \r\nL 18.40625 54.6875 \r\nL 18.40625 0 \r\nL 9.421875 0 \r\nz\r\nM 9.421875 75.984375 \r\nL 18.40625 75.984375 \r\nL 18.40625 64.59375 \r\nL 9.421875 64.59375 \r\nz\r\n\" id=\"DejaVuSans-105\"/>\r\n       <path d=\"M 54.890625 33.015625 \r\nL 54.890625 0 \r\nL 45.90625 0 \r\nL 45.90625 32.71875 \r\nQ 45.90625 40.484375 42.875 44.328125 \r\nQ 39.84375 48.1875 33.796875 48.1875 \r\nQ 26.515625 48.1875 22.3125 43.546875 \r\nQ 18.109375 38.921875 18.109375 30.90625 \r\nL 18.109375 0 \r\nL 9.078125 0 \r\nL 9.078125 54.6875 \r\nL 18.109375 54.6875 \r\nL 18.109375 46.1875 \r\nQ 21.34375 51.125 25.703125 53.5625 \r\nQ 30.078125 56 35.796875 56 \r\nQ 45.21875 56 50.046875 50.171875 \r\nQ 54.890625 44.34375 54.890625 33.015625 \r\nz\r\n\" id=\"DejaVuSans-110\"/>\r\n      </defs>\r\n      <use xlink:href=\"#DejaVuSans-116\"/>\r\n      <use x=\"39.208984\" xlink:href=\"#DejaVuSans-114\"/>\r\n      <use x=\"80.322266\" xlink:href=\"#DejaVuSans-97\"/>\r\n      <use x=\"141.601562\" xlink:href=\"#DejaVuSans-105\"/>\r\n      <use x=\"169.384766\" xlink:href=\"#DejaVuSans-110\"/>\r\n     </g>\r\n    </g>\r\n    <g id=\"line2d_17\">\r\n     <path d=\"M 292.346875 50.094687 \r\nL 312.346875 50.094687 \r\n\" style=\"fill:none;stroke:#ff7f0e;stroke-linecap:square;stroke-width:1.5;\"/>\r\n    </g>\r\n    <g id=\"line2d_18\"/>\r\n    <g id=\"text_17\">\r\n     <!-- validation -->\r\n     <g transform=\"translate(320.346875 53.594687)scale(0.1 -0.1)\">\r\n      <defs>\r\n       <path d=\"M 2.984375 54.6875 \r\nL 12.5 54.6875 \r\nL 29.59375 8.796875 \r\nL 46.6875 54.6875 \r\nL 56.203125 54.6875 \r\nL 35.6875 0 \r\nL 23.484375 0 \r\nz\r\n\" id=\"DejaVuSans-118\"/>\r\n      </defs>\r\n      <use xlink:href=\"#DejaVuSans-118\"/>\r\n      <use x=\"59.179688\" xlink:href=\"#DejaVuSans-97\"/>\r\n      <use x=\"120.458984\" xlink:href=\"#DejaVuSans-108\"/>\r\n      <use x=\"148.242188\" xlink:href=\"#DejaVuSans-105\"/>\r\n      <use x=\"176.025391\" xlink:href=\"#DejaVuSans-100\"/>\r\n      <use x=\"239.501953\" xlink:href=\"#DejaVuSans-97\"/>\r\n      <use x=\"300.78125\" xlink:href=\"#DejaVuSans-116\"/>\r\n      <use x=\"339.990234\" xlink:href=\"#DejaVuSans-105\"/>\r\n      <use x=\"367.773438\" xlink:href=\"#DejaVuSans-111\"/>\r\n      <use x=\"428.955078\" xlink:href=\"#DejaVuSans-110\"/>\r\n     </g>\r\n    </g>\r\n   </g>\r\n  </g>\r\n </g>\r\n <defs>\r\n  <clipPath id=\"p98eb4ed468\">\r\n   <rect height=\"217.44\" width=\"334.8\" x=\"43.78125\" y=\"22.318125\"/>\r\n  </clipPath>\r\n </defs>\r\n</svg>\r\n",
      "image/png": "[encoded data removed]"
     },
     "metadata": {
      "needs_background": "light"
     }
    }
   ],
   "source": [
    "plt.plot(model_fit.history['loss'])\n",
    "plt.plot(model_fit.history['val_loss'])\n",
    "plt.title('model loss')\n",
    "plt.ylabel('loss')\n",
    "plt.xlabel('epoch')\n",
    "plt.legend(['train','validation'],loc='upper right')\n",
    "plt.show()"
   ]
  },
  {
   "cell_type": "code",
   "execution_count": 17,
   "metadata": {},
   "outputs": [
    {
     "output_type": "stream",
     "name": "stdout",
     "text": [
      "INFO:tensorflow:Assets written to: ./model/neuroregress(TN)model\\assets\n"
     ]
    }
   ],
   "source": [
    "model.save('./model/neuroregress(TN)model')"
   ]
  }
 ],
 "metadata": {
  "kernelspec": {
   "name": "python383jvsc74a57bd0183bbf6827d058c2a2fb0f4acdc0420849dda2b4380af0e437e38c64d798d8b7",
   "display_name": "Python 3.8.3 64-bit ('base': conda)"
  },
  "language_info": {
   "codemirror_mode": {
    "name": "ipython",
    "version": 3
   },
   "file_extension": ".py",
   "mimetype": "text/x-python",
   "name": "python",
   "nbconvert_exporter": "python",
   "pygments_lexer": "ipython3",
   "version": "3.8.3"
  }
 },
 "nbformat": 4,
 "nbformat_minor": 4
}