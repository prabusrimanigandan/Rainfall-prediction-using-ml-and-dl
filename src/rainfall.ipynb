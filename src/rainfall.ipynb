{
 "cells": [
  {
   "cell_type": "code",
   "execution_count": 1,
   "metadata": {},
   "outputs": [
    {
     "output_type": "display_data",
     "data": {
      "text/html": "        <script type=\"text/javascript\">\n        window.PlotlyConfig = {MathJaxConfig: 'local'};\n        if (window.MathJax) {MathJax.Hub.Config({SVG: {font: \"STIX-Web\"}});}\n        if (typeof require !== 'undefined') {\n        require.undef(\"plotly\");\n        requirejs.config({\n            paths: {\n                'plotly': ['https://cdn.plot.ly/plotly-latest.min']\n            }\n        });\n        require(['plotly'], function(Plotly) {\n            window._Plotly = Plotly;\n        });\n        }\n        </script>\n        "
     },
     "metadata": {}
    }
   ],
   "source": [
    "import numpy as np # linear algebra working with arrays\n",
    "import pandas as pd # csv data handling\n",
    "import os\n",
    "import plotly.graph_objs as go\n",
    "import plotly.offline as pyo\n",
    "\n",
    "# Set notebook mode to work in offline\n",
    "pyo.init_notebook_mode(connected=True)"
   ]
  },
  {
   "cell_type": "code",
   "execution_count": 6,
   "metadata": {},
   "outputs": [],
   "source": [
    "data_loc='../data1'"
   ]
  },
  {
   "cell_type": "code",
   "execution_count": 8,
   "metadata": {},
   "outputs": [
    {
     "output_type": "execute_result",
     "data": {
      "text/plain": [
       "                 SUBDIVISION  YEAR   JAN    FEB   MAR    APR    MAY    JUN  \\\n",
       "0  ANDAMAN & NICOBAR ISLANDS  1901  49.2   87.1  29.2    2.3  528.8  517.5   \n",
       "1  ANDAMAN & NICOBAR ISLANDS  1902   0.0  159.8  12.2    0.0  446.1  537.1   \n",
       "2  ANDAMAN & NICOBAR ISLANDS  1903  12.7  144.0   0.0    1.0  235.1  479.9   \n",
       "3  ANDAMAN & NICOBAR ISLANDS  1904   9.4   14.7   0.0  202.4  304.5  495.1   \n",
       "4  ANDAMAN & NICOBAR ISLANDS  1905   1.3    0.0   3.3   26.9  279.5  628.7   \n",
       "\n",
       "     JUL    AUG    SEP    OCT    NOV    DEC  ANNUAL  Jan-Feb  Mar-May  \\\n",
       "0  365.1  481.1  332.6  388.5  558.2   33.6  3373.2    136.3    560.3   \n",
       "1  228.9  753.7  666.2  197.2  359.0  160.5  3520.7    159.8    458.3   \n",
       "2  728.4  326.7  339.0  181.2  284.4  225.0  2957.4    156.7    236.1   \n",
       "3  502.0  160.1  820.4  222.2  308.7   40.1  3079.6     24.1    506.9   \n",
       "4  368.7  330.5  297.0  260.7   25.4  344.7  2566.7      1.3    309.7   \n",
       "\n",
       "   Jun-Sep  Oct-Dec  \n",
       "0   1696.3    980.3  \n",
       "1   2185.9    716.7  \n",
       "2   1874.0    690.6  \n",
       "3   1977.6    571.0  \n",
       "4   1624.9    630.8  "
      ],
      "text/html": "<div>\n<style scoped>\n    .dataframe tbody tr th:only-of-type {\n        vertical-align: middle;\n    }\n\n    .dataframe tbody tr th {\n        vertical-align: top;\n    }\n\n    .dataframe thead th {\n        text-align: right;\n    }\n</style>\n<table border=\"1\" class=\"dataframe\">\n  <thead>\n    <tr style=\"text-align: right;\">\n      <th></th>\n      <th>SUBDIVISION</th>\n      <th>YEAR</th>\n      <th>JAN</th>\n      <th>FEB</th>\n      <th>MAR</th>\n      <th>APR</th>\n      <th>MAY</th>\n      <th>JUN</th>\n      <th>JUL</th>\n      <th>AUG</th>\n      <th>SEP</th>\n      <th>OCT</th>\n      <th>NOV</th>\n      <th>DEC</th>\n      <th>ANNUAL</th>\n      <th>Jan-Feb</th>\n      <th>Mar-May</th>\n      <th>Jun-Sep</th>\n      <th>Oct-Dec</th>\n    </tr>\n  </thead>\n  <tbody>\n    <tr>\n      <th>0</th>\n      <td>ANDAMAN &amp; NICOBAR ISLANDS</td>\n      <td>1901</td>\n      <td>49.2</td>\n      <td>87.1</td>\n      <td>29.2</td>\n      <td>2.3</td>\n      <td>528.8</td>\n      <td>517.5</td>\n      <td>365.1</td>\n      <td>481.1</td>\n      <td>332.6</td>\n      <td>388.5</td>\n      <td>558.2</td>\n      <td>33.6</td>\n      <td>3373.2</td>\n      <td>136.3</td>\n      <td>560.3</td>\n      <td>1696.3</td>\n      <td>980.3</td>\n    </tr>\n    <tr>\n      <th>1</th>\n      <td>ANDAMAN &amp; NICOBAR ISLANDS</td>\n      <td>1902</td>\n      <td>0.0</td>\n      <td>159.8</td>\n      <td>12.2</td>\n      <td>0.0</td>\n      <td>446.1</td>\n      <td>537.1</td>\n      <td>228.9</td>\n      <td>753.7</td>\n      <td>666.2</td>\n      <td>197.2</td>\n      <td>359.0</td>\n      <td>160.5</td>\n      <td>3520.7</td>\n      <td>159.8</td>\n      <td>458.3</td>\n      <td>2185.9</td>\n      <td>716.7</td>\n    </tr>\n    <tr>\n      <th>2</th>\n      <td>ANDAMAN &amp; NICOBAR ISLANDS</td>\n      <td>1903</td>\n      <td>12.7</td>\n      <td>144.0</td>\n      <td>0.0</td>\n      <td>1.0</td>\n      <td>235.1</td>\n      <td>479.9</td>\n      <td>728.4</td>\n      <td>326.7</td>\n      <td>339.0</td>\n      <td>181.2</td>\n      <td>284.4</td>\n      <td>225.0</td>\n      <td>2957.4</td>\n      <td>156.7</td>\n      <td>236.1</td>\n      <td>1874.0</td>\n      <td>690.6</td>\n    </tr>\n    <tr>\n      <th>3</th>\n      <td>ANDAMAN &amp; NICOBAR ISLANDS</td>\n      <td>1904</td>\n      <td>9.4</td>\n      <td>14.7</td>\n      <td>0.0</td>\n      <td>202.4</td>\n      <td>304.5</td>\n      <td>495.1</td>\n      <td>502.0</td>\n      <td>160.1</td>\n      <td>820.4</td>\n      <td>222.2</td>\n      <td>308.7</td>\n      <td>40.1</td>\n      <td>3079.6</td>\n      <td>24.1</td>\n      <td>506.9</td>\n      <td>1977.6</td>\n      <td>571.0</td>\n    </tr>\n    <tr>\n      <th>4</th>\n      <td>ANDAMAN &amp; NICOBAR ISLANDS</td>\n      <td>1905</td>\n      <td>1.3</td>\n      <td>0.0</td>\n      <td>3.3</td>\n      <td>26.9</td>\n      <td>279.5</td>\n      <td>628.7</td>\n      <td>368.7</td>\n      <td>330.5</td>\n      <td>297.0</td>\n      <td>260.7</td>\n      <td>25.4</td>\n      <td>344.7</td>\n      <td>2566.7</td>\n      <td>1.3</td>\n      <td>309.7</td>\n      <td>1624.9</td>\n      <td>630.8</td>\n    </tr>\n  </tbody>\n</table>\n</div>"
     },
     "metadata": {},
     "execution_count": 8
    }
   ],
   "source": [
    "data=pd.read_csv(os.path.join(data_loc,'rainfall_in_india_1901-2015.csv'))\n",
    "data.head()"
   ]
  },
  {
   "cell_type": "code",
   "execution_count": 10,
   "metadata": {},
   "outputs": [
    {
     "output_type": "stream",
     "name": "stdout",
     "text": [
      "<class 'pandas.core.frame.DataFrame'>\nRangeIndex: 4116 entries, 0 to 4115\nData columns (total 19 columns):\n #   Column       Non-Null Count  Dtype  \n---  ------       --------------  -----  \n 0   SUBDIVISION  4116 non-null   object \n 1   YEAR         4116 non-null   int64  \n 2   JAN          4112 non-null   float64\n 3   FEB          4113 non-null   float64\n 4   MAR          4110 non-null   float64\n 5   APR          4112 non-null   float64\n 6   MAY          4113 non-null   float64\n 7   JUN          4111 non-null   float64\n 8   JUL          4109 non-null   float64\n 9   AUG          4112 non-null   float64\n 10  SEP          4110 non-null   float64\n 11  OCT          4109 non-null   float64\n 12  NOV          4105 non-null   float64\n 13  DEC          4106 non-null   float64\n 14  ANNUAL       4090 non-null   float64\n 15  Jan-Feb      4110 non-null   float64\n 16  Mar-May      4107 non-null   float64\n 17  Jun-Sep      4106 non-null   float64\n 18  Oct-Dec      4103 non-null   float64\ndtypes: float64(17), int64(1), object(1)\nmemory usage: 611.1+ KB\n"
     ]
    },
    {
     "output_type": "execute_result",
     "data": {
      "text/plain": [
       "(4116, 19)"
      ]
     },
     "metadata": {},
     "execution_count": 10
    }
   ],
   "source": [
    "# describing the dataset \n",
    "data.info()\n",
    "data.shape"
   ]
  },
  {
   "cell_type": "code",
   "execution_count": 11,
   "metadata": {},
   "outputs": [
    {
     "output_type": "display_data",
     "data": {
      "application/vnd.plotly.v1+json": {
       "config": {
        "plotlyServerURL": "https://plot.ly"
       },
       "data": [
        {
         "name": "JAN",
         "type": "bar",
         "x": [
          "ANDAMAN & NICOBAR ISLANDS",
          "ARUNACHAL PRADESH",
          "ASSAM & MEGHALAYA",
          "BIHAR",
          "CHHATTISGARH",
          "COASTAL ANDHRA PRADESH",
          "COASTAL KARNATAKA",
          "EAST MADHYA PRADESH",
          "EAST RAJASTHAN",
          "EAST UTTAR PRADESH",
          "GANGETIC WEST BENGAL",
          "GUJARAT REGION",
          "HARYANA DELHI & CHANDIGARH",
          "HIMACHAL PRADESH",
          "JAMMU & KASHMIR",
          "JHARKHAND",
          "KERALA",
          "KONKAN & GOA",
          "LAKSHADWEEP",
          "MADHYA MAHARASHTRA",
          "MATATHWADA",
          "NAGA MANI MIZO TRIPURA",
          "NORTH INTERIOR KARNATAKA",
          "ORISSA",
          "PUNJAB",
          "RAYALSEEMA",
          "SAURASHTRA & KUTCH",
          "SOUTH INTERIOR KARNATAKA",
          "SUB HIMALAYAN WEST BENGAL & SIKKIM",
          "TAMIL NADU",
          "TELANGANA",
          "UTTARAKHAND",
          "VIDARBHA",
          "WEST MADHYA PRADESH",
          "WEST RAJASTHAN",
          "WEST UTTAR PRADESH"
         ],
         "y": [
          52.637272727272716,
          47.297916666666644,
          16.974782608695655,
          13.386086956521737,
          14.206956521739123,
          7.483478260869568,
          1.9377192982456144,
          19.401739130434777,
          6.4226086956521735,
          16.012173913043462,
          12.595652173913047,
          1.7860869565217385,
          16.8895652173913,
          84.18956521739132,
          102.03043478260865,
          17.62173913043478,
          12.246956521739126,
          1.262608695652174,
          27.494642857142853,
          3.0547826086956533,
          5.000869565217392,
          14.02521739130435,
          3.0130434782608697,
          12.329565217391302,
          25.246086956521744,
          9.867826086956526,
          1.139130434782609,
          2.9286956521739125,
          14.083478260869564,
          23.81913043478262,
          7.7026086956521755,
          53.797391304347826,
          10.563478260869568,
          9.241739130434784,
          3.3278260869565215,
          17.66608695652173
         ]
        },
        {
         "name": "FEB",
         "type": "bar",
         "x": [
          "ANDAMAN & NICOBAR ISLANDS",
          "ARUNACHAL PRADESH",
          "ASSAM & MEGHALAYA",
          "BIHAR",
          "CHHATTISGARH",
          "COASTAL ANDHRA PRADESH",
          "COASTAL KARNATAKA",
          "EAST MADHYA PRADESH",
          "EAST RAJASTHAN",
          "EAST UTTAR PRADESH",
          "GANGETIC WEST BENGAL",
          "GUJARAT REGION",
          "HARYANA DELHI & CHANDIGARH",
          "HIMACHAL PRADESH",
          "JAMMU & KASHMIR",
          "JHARKHAND",
          "KERALA",
          "KONKAN & GOA",
          "LAKSHADWEEP",
          "MADHYA MAHARASHTRA",
          "MATATHWADA",
          "NAGA MANI MIZO TRIPURA",
          "NORTH INTERIOR KARNATAKA",
          "ORISSA",
          "PUNJAB",
          "RAYALSEEMA",
          "SAURASHTRA & KUTCH",
          "SOUTH INTERIOR KARNATAKA",
          "SUB HIMALAYAN WEST BENGAL & SIKKIM",
          "TAMIL NADU",
          "TELANGANA",
          "UTTARAKHAND",
          "VIDARBHA",
          "WEST MADHYA PRADESH",
          "WEST RAJASTHAN",
          "WEST UTTAR PRADESH"
         ],
         "y": [
          27.99454545454546,
          91.11666666666666,
          31.44173913043478,
          14.39391304347826,
          19.2591304347826,
          12.923478260869564,
          1.5182608695652178,
          18.693913043478258,
          5.417391304347828,
          15.87391304347825,
          22.452173913043474,
          1.1913043478260863,
          17.433913043478263,
          90.89478260869568,
          115.45043478260877,
          24.18608695652173,
          15.49652173913043,
          0.5469565217391305,
          15.834513274336281,
          1.4678260869565212,
          4.443478260869566,
          36.65217391304347,
          3.172173913043479,
          19.719130434782603,
          26.786956521739125,
          5.68,
          1.6156521739130434,
          4.1634782608695655,
          22.97478260869565,
          13.422608695652169,
          9.688695652173914,
          63.452173913043474,
          11.982608695652177,
          6.3078947368421066,
          4.930434782608696,
          17.893913043478257
         ]
        },
        {
         "name": "MAR",
         "type": "bar",
         "x": [
          "ANDAMAN & NICOBAR ISLANDS",
          "ARUNACHAL PRADESH",
          "ASSAM & MEGHALAYA",
          "BIHAR",
          "CHHATTISGARH",
          "COASTAL ANDHRA PRADESH",
          "COASTAL KARNATAKA",
          "EAST MADHYA PRADESH",
          "EAST RAJASTHAN",
          "EAST UTTAR PRADESH",
          "GANGETIC WEST BENGAL",
          "GUJARAT REGION",
          "HARYANA DELHI & CHANDIGARH",
          "HIMACHAL PRADESH",
          "JAMMU & KASHMIR",
          "JHARKHAND",
          "KERALA",
          "KONKAN & GOA",
          "LAKSHADWEEP",
          "MADHYA MAHARASHTRA",
          "MATATHWADA",
          "NAGA MANI MIZO TRIPURA",
          "NORTH INTERIOR KARNATAKA",
          "ORISSA",
          "PUNJAB",
          "RAYALSEEMA",
          "SAURASHTRA & KUTCH",
          "SOUTH INTERIOR KARNATAKA",
          "SUB HIMALAYAN WEST BENGAL & SIKKIM",
          "TAMIL NADU",
          "TELANGANA",
          "UTTARAKHAND",
          "VIDARBHA",
          "WEST MADHYA PRADESH",
          "WEST RAJASTHAN",
          "WEST UTTAR PRADESH"
         ],
         "y": [
          31.82407407407407,
          153.5273684210526,
          79.02695652173912,
          10.124347826086957,
          15.266956521739129,
          13.221739130434786,
          6.357391304347825,
          13.637391304347815,
          4.516521739130434,
          8.90782608695652,
          29.090434782608703,
          1.2208695652173904,
          12.935652173913049,
          101.1460869565217,
          131.3782608695652,
          18.423478260869558,
          36.81478260869565,
          1.3747826086956518,
          14.350892857142862,
          3.5965217391304365,
          7.105217391304349,
          77.1991304347826,
          7.123478260869566,
          21.13478260869566,
          23.651304347826088,
          8.076521739130433,
          1.2965217391304342,
          9.48521739130435,
          43.13565217391307,
          19.475652173913044,
          12.614782608695654,
          57.272173913043495,
          11.872173913043472,
          5.173043478260869,
          3.986086956521739,
          11.461739130434788
         ]
        },
        {
         "name": "APR",
         "type": "bar",
         "x": [
          "ANDAMAN & NICOBAR ISLANDS",
          "ARUNACHAL PRADESH",
          "ASSAM & MEGHALAYA",
          "BIHAR",
          "CHHATTISGARH",
          "COASTAL ANDHRA PRADESH",
          "COASTAL KARNATAKA",
          "EAST MADHYA PRADESH",
          "EAST RAJASTHAN",
          "EAST UTTAR PRADESH",
          "GANGETIC WEST BENGAL",
          "GUJARAT REGION",
          "HARYANA DELHI & CHANDIGARH",
          "HIMACHAL PRADESH",
          "JAMMU & KASHMIR",
          "JHARKHAND",
          "KERALA",
          "KONKAN & GOA",
          "LAKSHADWEEP",
          "MADHYA MAHARASHTRA",
          "MATATHWADA",
          "NAGA MANI MIZO TRIPURA",
          "NORTH INTERIOR KARNATAKA",
          "ORISSA",
          "PUNJAB",
          "RAYALSEEMA",
          "SAURASHTRA & KUTCH",
          "SOUTH INTERIOR KARNATAKA",
          "SUB HIMALAYAN WEST BENGAL & SIKKIM",
          "TAMIL NADU",
          "TELANGANA",
          "UTTARAKHAND",
          "VIDARBHA",
          "WEST MADHYA PRADESH",
          "WEST RAJASTHAN",
          "WEST UTTAR PRADESH"
         ],
         "y": [
          72.22314814814818,
          263.8360824742269,
          203.11565217391296,
          16.91826086956523,
          16.77304347826088,
          26.74086956521739,
          30.916521739130427,
          7.188695652173918,
          3.144347826086955,
          6.430434782608694,
          44.88521739130435,
          1.116521739130434,
          7.633913043478262,
          62.42869565217389,
          93.70260869565212,
          19.366956521739137,
          110.57391304347824,
          4.266086956521741,
          45.163392857142874,
          9.14695652173913,
          7.594782608695652,
          170.7330434782608,
          24.300869565217404,
          34.15999999999999,
          12.66,
          19.808695652173906,
          1.183478260869565,
          42.28086956521738,
          110.6817391304348,
          44.995652173913065,
          18.185217391304345,
          35.16608695652173,
          9.435652173913038,
          2.3756521739130423,
          3.571304347826086,
          6.253043478260872
         ]
        },
        {
         "name": "MAY",
         "type": "bar",
         "x": [
          "ANDAMAN & NICOBAR ISLANDS",
          "ARUNACHAL PRADESH",
          "ASSAM & MEGHALAYA",
          "BIHAR",
          "CHHATTISGARH",
          "COASTAL ANDHRA PRADESH",
          "COASTAL KARNATAKA",
          "EAST MADHYA PRADESH",
          "EAST RAJASTHAN",
          "EAST UTTAR PRADESH",
          "GANGETIC WEST BENGAL",
          "GUJARAT REGION",
          "HARYANA DELHI & CHANDIGARH",
          "HIMACHAL PRADESH",
          "JAMMU & KASHMIR",
          "JHARKHAND",
          "KERALA",
          "KONKAN & GOA",
          "LAKSHADWEEP",
          "MADHYA MAHARASHTRA",
          "MATATHWADA",
          "NAGA MANI MIZO TRIPURA",
          "NORTH INTERIOR KARNATAKA",
          "ORISSA",
          "PUNJAB",
          "RAYALSEEMA",
          "SAURASHTRA & KUTCH",
          "SOUTH INTERIOR KARNATAKA",
          "SUB HIMALAYAN WEST BENGAL & SIKKIM",
          "TAMIL NADU",
          "TELANGANA",
          "UTTARAKHAND",
          "VIDARBHA",
          "WEST MADHYA PRADESH",
          "WEST RAJASTHAN",
          "WEST UTTAR PRADESH"
         ],
         "y": [
          357.056880733945,
          358.5226804123713,
          341.5391304347825,
          53.08173913043478,
          21.04869565217391,
          62.5495652173913,
          122.78782608695654,
          9.273043478260872,
          9.819999999999995,
          17.21130434782609,
          107.78782608695654,
          5.8095652173913015,
          14.533913043478256,
          58.15652173913044,
          67.47652173913045,
          48.31739130434781,
          229.88173913043477,
          33.51565217391304,
          163.89375,
          22.943478260869565,
          15.646956521739131,
          290.83913043478265,
          47.03565217391307,
          64.88608695652171,
          14.136521739130433,
          50.47565217391303,
          4.662608695652175,
          92.09999999999998,
          269.1434782608696,
          69.9208695652174,
          25.37391304347827,
          55.33826086956525,
          11.551304347826093,
          7.657391304347822,
          9.443478260869563,
          12.306086956521737
         ]
        },
        {
         "name": "JUN",
         "type": "bar",
         "x": [
          "ANDAMAN & NICOBAR ISLANDS",
          "ARUNACHAL PRADESH",
          "ASSAM & MEGHALAYA",
          "BIHAR",
          "CHHATTISGARH",
          "COASTAL ANDHRA PRADESH",
          "COASTAL KARNATAKA",
          "EAST MADHYA PRADESH",
          "EAST RAJASTHAN",
          "EAST UTTAR PRADESH",
          "GANGETIC WEST BENGAL",
          "GUJARAT REGION",
          "HARYANA DELHI & CHANDIGARH",
          "HIMACHAL PRADESH",
          "JAMMU & KASHMIR",
          "JHARKHAND",
          "KERALA",
          "KONKAN & GOA",
          "LAKSHADWEEP",
          "MADHYA MAHARASHTRA",
          "MATATHWADA",
          "NAGA MANI MIZO TRIPURA",
          "NORTH INTERIOR KARNATAKA",
          "ORISSA",
          "PUNJAB",
          "RAYALSEEMA",
          "SAURASHTRA & KUTCH",
          "SOUTH INTERIOR KARNATAKA",
          "SUB HIMALAYAN WEST BENGAL & SIKKIM",
          "TAMIL NADU",
          "TELANGANA",
          "UTTARAKHAND",
          "VIDARBHA",
          "WEST MADHYA PRADESH",
          "WEST RAJASTHAN",
          "WEST UTTAR PRADESH"
         ],
         "y": [
          471.5805555555557,
          647.3739583333335,
          510.1617391304347,
          174.31565217391312,
          198.26608695652172,
          123.6939130434783,
          841.3260869565219,
          141.02956521739128,
          63.39913043478261,
          110.71217391304346,
          247.19652173913056,
          121.28434782608696,
          48.62608695652171,
          91.22086956521737,
          64.23478260869568,
          194.58869565217395,
          654.3026086956521,
          688.5695652173914,
          327.6276785714284,
          147.42608695652174,
          136.95739130434782,
          445.6339130434783,
          100.99304347826087,
          210.8608695652175,
          46.46695652173913,
          64.74260869565215,
          74.37130434782608,
          141.4173913043478,
          537.8817391304345,
          52.05652173913043,
          142.12608695652173,
          162.55130434782612,
          173.57826086956527,
          111.78173913043481,
          28.637391304347823,
          77.59739130434782
         ]
        },
        {
         "name": "JUL",
         "type": "bar",
         "x": [
          "ANDAMAN & NICOBAR ISLANDS",
          "ARUNACHAL PRADESH",
          "ASSAM & MEGHALAYA",
          "BIHAR",
          "CHHATTISGARH",
          "COASTAL ANDHRA PRADESH",
          "COASTAL KARNATAKA",
          "EAST MADHYA PRADESH",
          "EAST RAJASTHAN",
          "EAST UTTAR PRADESH",
          "GANGETIC WEST BENGAL",
          "GUJARAT REGION",
          "HARYANA DELHI & CHANDIGARH",
          "HIMACHAL PRADESH",
          "JAMMU & KASHMIR",
          "JHARKHAND",
          "KERALA",
          "KONKAN & GOA",
          "LAKSHADWEEP",
          "MADHYA MAHARASHTRA",
          "MATATHWADA",
          "NAGA MANI MIZO TRIPURA",
          "NORTH INTERIOR KARNATAKA",
          "ORISSA",
          "PUNJAB",
          "RAYALSEEMA",
          "SAURASHTRA & KUTCH",
          "SOUTH INTERIOR KARNATAKA",
          "SUB HIMALAYAN WEST BENGAL & SIKKIM",
          "TAMIL NADU",
          "TELANGANA",
          "UTTARAKHAND",
          "VIDARBHA",
          "WEST MADHYA PRADESH",
          "WEST RAJASTHAN",
          "WEST UTTAR PRADESH"
         ],
         "y": [
          400.0425925925926,
          694.5447916666667,
          495.10260869565235,
          324.44173913043466,
          398.5773913043478,
          173.82434782608695,
          1127.0286956521736,
          371.37826086956517,
          223.3478260869564,
          290.5686956521738,
          326.3773913043478,
          348.92086956521734,
          150.015652173913,
          280.284347826087,
          179.83771929824556,
          336.9756521739129,
          700.9530434782608,
          1073.0304347826088,
          281.92882882882884,
          248.98000000000002,
          180.64869565217396,
          438.68434782608693,
          138.5313043478261,
          351.1730434782609,
          168.96347826086958,
          96.0817391304348,
          194.97043478260866,
          231.35913043478268,
          646.4026086956522,
          71.31478260869562,
          247.4991304347826,
          390.6982608695654,
          329.4286956521739,
          302.9826086956522,
          95.17130434782611,
          246.51999999999984
         ]
        },
        {
         "name": "AUG",
         "type": "bar",
         "x": [
          "ANDAMAN & NICOBAR ISLANDS",
          "ARUNACHAL PRADESH",
          "ASSAM & MEGHALAYA",
          "BIHAR",
          "CHHATTISGARH",
          "COASTAL ANDHRA PRADESH",
          "COASTAL KARNATAKA",
          "EAST MADHYA PRADESH",
          "EAST RAJASTHAN",
          "EAST UTTAR PRADESH",
          "GANGETIC WEST BENGAL",
          "GUJARAT REGION",
          "HARYANA DELHI & CHANDIGARH",
          "HIMACHAL PRADESH",
          "JAMMU & KASHMIR",
          "JHARKHAND",
          "KERALA",
          "KONKAN & GOA",
          "LAKSHADWEEP",
          "MADHYA MAHARASHTRA",
          "MATATHWADA",
          "NAGA MANI MIZO TRIPURA",
          "NORTH INTERIOR KARNATAKA",
          "ORISSA",
          "PUNJAB",
          "RAYALSEEMA",
          "SAURASHTRA & KUTCH",
          "SOUTH INTERIOR KARNATAKA",
          "SUB HIMALAYAN WEST BENGAL & SIKKIM",
          "TAMIL NADU",
          "TELANGANA",
          "UTTARAKHAND",
          "VIDARBHA",
          "WEST MADHYA PRADESH",
          "WEST RAJASTHAN",
          "WEST UTTAR PRADESH"
         ],
         "y": [
          400.0472222222223,
          495.2298969072165,
          404.5930434782608,
          299.64347826086953,
          389.87304347826057,
          175.92347826086953,
          713.6182608695652,
          369.368695652174,
          218.2773913043478,
          275.61391304347814,
          311.38260869565204,
          259.1930434782608,
          150.84086956521742,
          273.93304347826086,
          180.97304347826088,
          325.52434782608697,
          421.977391304348,
          682.7565217391304,
          207.99375000000006,
          184.39739130434782,
          166.48434782608697,
          411.28173913043474,
          119.45913043478261,
          355.3826086956522,
          158.16782608695652,
          107.51130434782611,
          118.77043478260866,
          174.2391304347825,
          520.7634782608694,
          95.88782608695651,
          215.05913043478256,
          382.02347826086935,
          285.94956521739135,
          288.108695652174,
          94.55565217391309,
          251.29913043478265
         ]
        },
        {
         "name": "SEP",
         "type": "bar",
         "x": [
          "ANDAMAN & NICOBAR ISLANDS",
          "ARUNACHAL PRADESH",
          "ASSAM & MEGHALAYA",
          "BIHAR",
          "CHHATTISGARH",
          "COASTAL ANDHRA PRADESH",
          "COASTAL KARNATAKA",
          "EAST MADHYA PRADESH",
          "EAST RAJASTHAN",
          "EAST UTTAR PRADESH",
          "GANGETIC WEST BENGAL",
          "GUJARAT REGION",
          "HARYANA DELHI & CHANDIGARH",
          "HIMACHAL PRADESH",
          "JAMMU & KASHMIR",
          "JHARKHAND",
          "KERALA",
          "KONKAN & GOA",
          "LAKSHADWEEP",
          "MADHYA MAHARASHTRA",
          "MATATHWADA",
          "NAGA MANI MIZO TRIPURA",
          "NORTH INTERIOR KARNATAKA",
          "ORISSA",
          "PUNJAB",
          "RAYALSEEMA",
          "SAURASHTRA & KUTCH",
          "SOUTH INTERIOR KARNATAKA",
          "SUB HIMALAYAN WEST BENGAL & SIKKIM",
          "TAMIL NADU",
          "TELANGANA",
          "UTTARAKHAND",
          "VIDARBHA",
          "WEST MADHYA PRADESH",
          "WEST RAJASTHAN",
          "WEST UTTAR PRADESH"
         ],
         "y": [
          439.4822429906542,
          432.13402061855663,
          310.73478260869564,
          217.38434782608687,
          217.78,
          181.70782608695654,
          299.65217391304344,
          194.2365217391304,
          97.9782608695652,
          184.59130434782608,
          245.71043478260867,
          148.84173913043477,
          88.30695652173911,
          130.2191304347826,
          89.2895652173913,
          227.42173913043473,
          245.61913043478248,
          349.7800000000001,
          163.17027027027024,
          157.22173913043477,
          178.4765217391305,
          314.35043478260866,
          142.94086956521735,
          241.4034782608695,
          86.78956521739133,
          131.72,
          75.41826086956526,
          137.31391304347827,
          421.3417391304348,
          111.59739130434782,
          175.50347826086954,
          196.0965217391304,
          175.44956521739132,
          161.1686956521738,
          40.34260869565217,
          146.2547826086957
         ]
        },
        {
         "name": "OCT",
         "type": "bar",
         "x": [
          "ANDAMAN & NICOBAR ISLANDS",
          "ARUNACHAL PRADESH",
          "ASSAM & MEGHALAYA",
          "BIHAR",
          "CHHATTISGARH",
          "COASTAL ANDHRA PRADESH",
          "COASTAL KARNATAKA",
          "EAST MADHYA PRADESH",
          "EAST RAJASTHAN",
          "EAST UTTAR PRADESH",
          "GANGETIC WEST BENGAL",
          "GUJARAT REGION",
          "HARYANA DELHI & CHANDIGARH",
          "HIMACHAL PRADESH",
          "JAMMU & KASHMIR",
          "JHARKHAND",
          "KERALA",
          "KONKAN & GOA",
          "LAKSHADWEEP",
          "MADHYA MAHARASHTRA",
          "MATATHWADA",
          "NAGA MANI MIZO TRIPURA",
          "NORTH INTERIOR KARNATAKA",
          "ORISSA",
          "PUNJAB",
          "RAYALSEEMA",
          "SAURASHTRA & KUTCH",
          "SOUTH INTERIOR KARNATAKA",
          "SUB HIMALAYAN WEST BENGAL & SIKKIM",
          "TAMIL NADU",
          "TELANGANA",
          "UTTARAKHAND",
          "VIDARBHA",
          "WEST MADHYA PRADESH",
          "WEST RAJASTHAN",
          "WEST UTTAR PRADESH"
         ],
         "y": [
          290.26481481481477,
          194.68631578947367,
          152.11826086956523,
          63.074782608695664,
          63.66,
          185.51130434782604,
          184.5521739130435,
          39.68608695652175,
          14.360869565217385,
          42.9208695652174,
          115.74608695652178,
          20.56521739130434,
          12.823478260869571,
          31.278260869565226,
          34.166956521739124,
          80.01565217391305,
          294.1226086956522,
          113.3869565217391,
          166.727927927928,
          70.19478260869566,
          58.58000000000001,
          175.00608695652178,
          95.68869565217393,
          113.59217391304347,
          13.836521739130433,
          135.32782608695652,
          14.510434782608694,
          139.14347826086956,
          143.6460869565217,
          183.19652173913042,
          74.22695652173914,
          39.07391304347828,
          52.1486956521739,
          28.086956521739115,
          5.127826086956522,
          28.777391304347823
         ]
        },
        {
         "name": "NOV",
         "type": "bar",
         "x": [
          "ANDAMAN & NICOBAR ISLANDS",
          "ARUNACHAL PRADESH",
          "ASSAM & MEGHALAYA",
          "BIHAR",
          "CHHATTISGARH",
          "COASTAL ANDHRA PRADESH",
          "COASTAL KARNATAKA",
          "EAST MADHYA PRADESH",
          "EAST RAJASTHAN",
          "EAST UTTAR PRADESH",
          "GANGETIC WEST BENGAL",
          "GUJARAT REGION",
          "HARYANA DELHI & CHANDIGARH",
          "HIMACHAL PRADESH",
          "JAMMU & KASHMIR",
          "JHARKHAND",
          "KERALA",
          "KONKAN & GOA",
          "LAKSHADWEEP",
          "MADHYA MAHARASHTRA",
          "MATATHWADA",
          "NAGA MANI MIZO TRIPURA",
          "NORTH INTERIOR KARNATAKA",
          "ORISSA",
          "PUNJAB",
          "RAYALSEEMA",
          "SAURASHTRA & KUTCH",
          "SOUTH INTERIOR KARNATAKA",
          "SUB HIMALAYAN WEST BENGAL & SIKKIM",
          "TAMIL NADU",
          "TELANGANA",
          "UTTARAKHAND",
          "VIDARBHA",
          "WEST MADHYA PRADESH",
          "WEST RAJASTHAN",
          "WEST UTTAR PRADESH"
         ],
         "y": [
          233.74444444444438,
          35.69684210526316,
          26.938260869565216,
          7.178260869565217,
          11.772173913043478,
          77.90347826086959,
          63.607826086956536,
          12.705217391304346,
          4.873913043478261,
          4.590434782608697,
          21.57913043478261,
          6.928695652173913,
          3.264347826086958,
          16.695652173913047,
          24.133333333333333,
          11.923478260869564,
          163.5600000000001,
          24.67130434782609,
          124.84074074074078,
          25.945217391304336,
          22.43652173913044,
          46.83391304347827,
          29.20782608695653,
          27.961739130434786,
          4.140000000000001,
          102.65391304347825,
          6.096521739130437,
          54.43130434782611,
          16.08869565217391,
          176.90347826086952,
          20.250434782608703,
          8.187826086956521,
          15.574782608695656,
          12.340869565217387,
          1.6669565217391293,
          3.9660869565217385
         ]
        },
        {
         "name": "DEC",
         "type": "bar",
         "x": [
          "ANDAMAN & NICOBAR ISLANDS",
          "ARUNACHAL PRADESH",
          "ASSAM & MEGHALAYA",
          "BIHAR",
          "CHHATTISGARH",
          "COASTAL ANDHRA PRADESH",
          "COASTAL KARNATAKA",
          "EAST MADHYA PRADESH",
          "EAST RAJASTHAN",
          "EAST UTTAR PRADESH",
          "GANGETIC WEST BENGAL",
          "GUJARAT REGION",
          "HARYANA DELHI & CHANDIGARH",
          "HIMACHAL PRADESH",
          "JAMMU & KASHMIR",
          "JHARKHAND",
          "KERALA",
          "KONKAN & GOA",
          "LAKSHADWEEP",
          "MADHYA MAHARASHTRA",
          "MATATHWADA",
          "NAGA MANI MIZO TRIPURA",
          "NORTH INTERIOR KARNATAKA",
          "ORISSA",
          "PUNJAB",
          "RAYALSEEMA",
          "SAURASHTRA & KUTCH",
          "SOUTH INTERIOR KARNATAKA",
          "SUB HIMALAYAN WEST BENGAL & SIKKIM",
          "TAMIL NADU",
          "TELANGANA",
          "UTTARAKHAND",
          "VIDARBHA",
          "WEST MADHYA PRADESH",
          "WEST RAJASTHAN",
          "WEST UTTAR PRADESH"
         ],
         "y": [
          153.1448598130841,
          24.502105263157894,
          8.951304347826083,
          3.6947826086956534,
          5.248695652173914,
          11.42,
          12.613913043478256,
          8.404347826086958,
          3.651304347826088,
          5.776521739130434,
          5.690434782608697,
          1.3391304347826085,
          7.18608695652174,
          39.89304347826084,
          55.42543859649123,
          4.939130434782611,
          39.95043478260869,
          4.516521739130434,
          60.81090909090909,
          5.848695652173915,
          7.302608695652172,
          12.399130434782613,
          6.327826086956522,
          5.567826086956521,
          12.694782608695649,
          34.26,
          1.1086956521739129,
          11.51739130434783,
          6.0600000000000005,
          81.13739130434789,
          5.141739130434783,
          22.035652173913032,
          7.927826086956523,
          6.296521739130434,
          1.9026086956521737,
          7.114782608695656
         ]
        }
       ],
       "layout": {
        "barmode": "stack",
        "height": 900,
        "template": {
         "data": {
          "bar": [
           {
            "error_x": {
             "color": "#2a3f5f"
            },
            "error_y": {
             "color": "#2a3f5f"
            },
            "marker": {
             "line": {
              "color": "#E5ECF6",
              "width": 0.5
             }
            },
            "type": "bar"
           }
          ],
          "barpolar": [
           {
            "marker": {
             "line": {
              "color": "#E5ECF6",
              "width": 0.5
             }
            },
            "type": "barpolar"
           }
          ],
          "carpet": [
           {
            "aaxis": {
             "endlinecolor": "#2a3f5f",
             "gridcolor": "white",
             "linecolor": "white",
             "minorgridcolor": "white",
             "startlinecolor": "#2a3f5f"
            },
            "baxis": {
             "endlinecolor": "#2a3f5f",
             "gridcolor": "white",
             "linecolor": "white",
             "minorgridcolor": "white",
             "startlinecolor": "#2a3f5f"
            },
            "type": "carpet"
           }
          ],
          "choropleth": [
           {
            "colorbar": {
             "outlinewidth": 0,
             "ticks": ""
            },
            "type": "choropleth"
           }
          ],
          "contour": [
           {
            "colorbar": {
             "outlinewidth": 0,
             "ticks": ""
            },
            "colorscale": [
             [
              0,
              "#0d0887"
             ],
             [
              0.1111111111111111,
              "#46039f"
             ],
             [
              0.2222222222222222,
              "#7201a8"
             ],
             [
              0.3333333333333333,
              "#9c179e"
             ],
             [
              0.4444444444444444,
              "#bd3786"
             ],
             [
              0.5555555555555556,
              "#d8576b"
             ],
             [
              0.6666666666666666,
              "#ed7953"
             ],
             [
              0.7777777777777778,
              "#fb9f3a"
             ],
             [
              0.8888888888888888,
              "#fdca26"
             ],
             [
              1,
              "#f0f921"
             ]
            ],
            "type": "contour"
           }
          ],
          "contourcarpet": [
           {
            "colorbar": {
             "outlinewidth": 0,
             "ticks": ""
            },
            "type": "contourcarpet"
           }
          ],
          "heatmap": [
           {
            "colorbar": {
             "outlinewidth": 0,
             "ticks": ""
            },
            "colorscale": [
             [
              0,
              "#0d0887"
             ],
             [
              0.1111111111111111,
              "#46039f"
             ],
             [
              0.2222222222222222,
              "#7201a8"
             ],
             [
              0.3333333333333333,
              "#9c179e"
             ],
             [
              0.4444444444444444,
              "#bd3786"
             ],
             [
              0.5555555555555556,
              "#d8576b"
             ],
             [
              0.6666666666666666,
              "#ed7953"
             ],
             [
              0.7777777777777778,
              "#fb9f3a"
             ],
             [
              0.8888888888888888,
              "#fdca26"
             ],
             [
              1,
              "#f0f921"
             ]
            ],
            "type": "heatmap"
           }
          ],
          "heatmapgl": [
           {
            "colorbar": {
             "outlinewidth": 0,
             "ticks": ""
            },
            "colorscale": [
             [
              0,
              "#0d0887"
             ],
             [
              0.1111111111111111,
              "#46039f"
             ],
             [
              0.2222222222222222,
              "#7201a8"
             ],
             [
              0.3333333333333333,
              "#9c179e"
             ],
             [
              0.4444444444444444,
              "#bd3786"
             ],
             [
              0.5555555555555556,
              "#d8576b"
             ],
             [
              0.6666666666666666,
              "#ed7953"
             ],
             [
              0.7777777777777778,
              "#fb9f3a"
             ],
             [
              0.8888888888888888,
              "#fdca26"
             ],
             [
              1,
              "#f0f921"
             ]
            ],
            "type": "heatmapgl"
           }
          ],
          "histogram": [
           {
            "marker": {
             "colorbar": {
              "outlinewidth": 0,
              "ticks": ""
             }
            },
            "type": "histogram"
           }
          ],
          "histogram2d": [
           {
            "colorbar": {
             "outlinewidth": 0,
             "ticks": ""
            },
            "colorscale": [
             [
              0,
              "#0d0887"
             ],
             [
              0.1111111111111111,
              "#46039f"
             ],
             [
              0.2222222222222222,
              "#7201a8"
             ],
             [
              0.3333333333333333,
              "#9c179e"
             ],
             [
              0.4444444444444444,
              "#bd3786"
             ],
             [
              0.5555555555555556,
              "#d8576b"
             ],
             [
              0.6666666666666666,
              "#ed7953"
             ],
             [
              0.7777777777777778,
              "#fb9f3a"
             ],
             [
              0.8888888888888888,
              "#fdca26"
             ],
             [
              1,
              "#f0f921"
             ]
            ],
            "type": "histogram2d"
           }
          ],
          "histogram2dcontour": [
           {
            "colorbar": {
             "outlinewidth": 0,
             "ticks": ""
            },
            "colorscale": [
             [
              0,
              "#0d0887"
             ],
             [
              0.1111111111111111,
              "#46039f"
             ],
             [
              0.2222222222222222,
              "#7201a8"
             ],
             [
              0.3333333333333333,
              "#9c179e"
             ],
             [
              0.4444444444444444,
              "#bd3786"
             ],
             [
              0.5555555555555556,
              "#d8576b"
             ],
             [
              0.6666666666666666,
              "#ed7953"
             ],
             [
              0.7777777777777778,
              "#fb9f3a"
             ],
             [
              0.8888888888888888,
              "#fdca26"
             ],
             [
              1,
              "#f0f921"
             ]
            ],
            "type": "histogram2dcontour"
           }
          ],
          "mesh3d": [
           {
            "colorbar": {
             "outlinewidth": 0,
             "ticks": ""
            },
            "type": "mesh3d"
           }
          ],
          "parcoords": [
           {
            "line": {
             "colorbar": {
              "outlinewidth": 0,
              "ticks": ""
             }
            },
            "type": "parcoords"
           }
          ],
          "pie": [
           {
            "automargin": true,
            "type": "pie"
           }
          ],
          "scatter": [
           {
            "marker": {
             "colorbar": {
              "outlinewidth": 0,
              "ticks": ""
             }
            },
            "type": "scatter"
           }
          ],
          "scatter3d": [
           {
            "line": {
             "colorbar": {
              "outlinewidth": 0,
              "ticks": ""
             }
            },
            "marker": {
             "colorbar": {
              "outlinewidth": 0,
              "ticks": ""
             }
            },
            "type": "scatter3d"
           }
          ],
          "scattercarpet": [
           {
            "marker": {
             "colorbar": {
              "outlinewidth": 0,
              "ticks": ""
             }
            },
            "type": "scattercarpet"
           }
          ],
          "scattergeo": [
           {
            "marker": {
             "colorbar": {
              "outlinewidth": 0,
              "ticks": ""
             }
            },
            "type": "scattergeo"
           }
          ],
          "scattergl": [
           {
            "marker": {
             "colorbar": {
              "outlinewidth": 0,
              "ticks": ""
             }
            },
            "type": "scattergl"
           }
          ],
          "scattermapbox": [
           {
            "marker": {
             "colorbar": {
              "outlinewidth": 0,
              "ticks": ""
             }
            },
            "type": "scattermapbox"
           }
          ],
          "scatterpolar": [
           {
            "marker": {
             "colorbar": {
              "outlinewidth": 0,
              "ticks": ""
             }
            },
            "type": "scatterpolar"
           }
          ],
          "scatterpolargl": [
           {
            "marker": {
             "colorbar": {
              "outlinewidth": 0,
              "ticks": ""
             }
            },
            "type": "scatterpolargl"
           }
          ],
          "scatterternary": [
           {
            "marker": {
             "colorbar": {
              "outlinewidth": 0,
              "ticks": ""
             }
            },
            "type": "scatterternary"
           }
          ],
          "surface": [
           {
            "colorbar": {
             "outlinewidth": 0,
             "ticks": ""
            },
            "colorscale": [
             [
              0,
              "#0d0887"
             ],
             [
              0.1111111111111111,
              "#46039f"
             ],
             [
              0.2222222222222222,
              "#7201a8"
             ],
             [
              0.3333333333333333,
              "#9c179e"
             ],
             [
              0.4444444444444444,
              "#bd3786"
             ],
             [
              0.5555555555555556,
              "#d8576b"
             ],
             [
              0.6666666666666666,
              "#ed7953"
             ],
             [
              0.7777777777777778,
              "#fb9f3a"
             ],
             [
              0.8888888888888888,
              "#fdca26"
             ],
             [
              1,
              "#f0f921"
             ]
            ],
            "type": "surface"
           }
          ],
          "table": [
           {
            "cells": {
             "fill": {
              "color": "#EBF0F8"
             },
             "line": {
              "color": "white"
             }
            },
            "header": {
             "fill": {
              "color": "#C8D4E3"
             },
             "line": {
              "color": "white"
             }
            },
            "type": "table"
           }
          ]
         },
         "layout": {
          "annotationdefaults": {
           "arrowcolor": "#2a3f5f",
           "arrowhead": 0,
           "arrowwidth": 1
          },
          "autotypenumbers": "strict",
          "coloraxis": {
           "colorbar": {
            "outlinewidth": 0,
            "ticks": ""
           }
          },
          "colorscale": {
           "diverging": [
            [
             0,
             "#8e0152"
            ],
            [
             0.1,
             "#c51b7d"
            ],
            [
             0.2,
             "#de77ae"
            ],
            [
             0.3,
             "#f1b6da"
            ],
            [
             0.4,
             "#fde0ef"
            ],
            [
             0.5,
             "#f7f7f7"
            ],
            [
             0.6,
             "#e6f5d0"
            ],
            [
             0.7,
             "#b8e186"
            ],
            [
             0.8,
             "#7fbc41"
            ],
            [
             0.9,
             "#4d9221"
            ],
            [
             1,
             "#276419"
            ]
           ],
           "sequential": [
            [
             0,
             "#0d0887"
            ],
            [
             0.1111111111111111,
             "#46039f"
            ],
            [
             0.2222222222222222,
             "#7201a8"
            ],
            [
             0.3333333333333333,
             "#9c179e"
            ],
            [
             0.4444444444444444,
             "#bd3786"
            ],
            [
             0.5555555555555556,
             "#d8576b"
            ],
            [
             0.6666666666666666,
             "#ed7953"
            ],
            [
             0.7777777777777778,
             "#fb9f3a"
            ],
            [
             0.8888888888888888,
             "#fdca26"
            ],
            [
             1,
             "#f0f921"
            ]
           ],
           "sequentialminus": [
            [
             0,
             "#0d0887"
            ],
            [
             0.1111111111111111,
             "#46039f"
            ],
            [
             0.2222222222222222,
             "#7201a8"
            ],
            [
             0.3333333333333333,
             "#9c179e"
            ],
            [
             0.4444444444444444,
             "#bd3786"
            ],
            [
             0.5555555555555556,
             "#d8576b"
            ],
            [
             0.6666666666666666,
             "#ed7953"
            ],
            [
             0.7777777777777778,
             "#fb9f3a"
            ],
            [
             0.8888888888888888,
             "#fdca26"
            ],
            [
             1,
             "#f0f921"
            ]
           ]
          },
          "colorway": [
           "#636efa",
           "#EF553B",
           "#00cc96",
           "#ab63fa",
           "#FFA15A",
           "#19d3f3",
           "#FF6692",
           "#B6E880",
           "#FF97FF",
           "#FECB52"
          ],
          "font": {
           "color": "#2a3f5f"
          },
          "geo": {
           "bgcolor": "white",
           "lakecolor": "white",
           "landcolor": "#E5ECF6",
           "showlakes": true,
           "showland": true,
           "subunitcolor": "white"
          },
          "hoverlabel": {
           "align": "left"
          },
          "hovermode": "closest",
          "mapbox": {
           "style": "light"
          },
          "paper_bgcolor": "white",
          "plot_bgcolor": "#E5ECF6",
          "polar": {
           "angularaxis": {
            "gridcolor": "white",
            "linecolor": "white",
            "ticks": ""
           },
           "bgcolor": "#E5ECF6",
           "radialaxis": {
            "gridcolor": "white",
            "linecolor": "white",
            "ticks": ""
           }
          },
          "scene": {
           "xaxis": {
            "backgroundcolor": "#E5ECF6",
            "gridcolor": "white",
            "gridwidth": 2,
            "linecolor": "white",
            "showbackground": true,
            "ticks": "",
            "zerolinecolor": "white"
           },
           "yaxis": {
            "backgroundcolor": "#E5ECF6",
            "gridcolor": "white",
            "gridwidth": 2,
            "linecolor": "white",
            "showbackground": true,
            "ticks": "",
            "zerolinecolor": "white"
           },
           "zaxis": {
            "backgroundcolor": "#E5ECF6",
            "gridcolor": "white",
            "gridwidth": 2,
            "linecolor": "white",
            "showbackground": true,
            "ticks": "",
            "zerolinecolor": "white"
           }
          },
          "shapedefaults": {
           "line": {
            "color": "#2a3f5f"
           }
          },
          "ternary": {
           "aaxis": {
            "gridcolor": "white",
            "linecolor": "white",
            "ticks": ""
           },
           "baxis": {
            "gridcolor": "white",
            "linecolor": "white",
            "ticks": ""
           },
           "bgcolor": "#E5ECF6",
           "caxis": {
            "gridcolor": "white",
            "linecolor": "white",
            "ticks": ""
           }
          },
          "title": {
           "x": 0.05
          },
          "xaxis": {
           "automargin": true,
           "gridcolor": "white",
           "linecolor": "white",
           "ticks": "",
           "title": {
            "standoff": 15
           },
           "zerolinecolor": "white",
           "zerolinewidth": 2
          },
          "yaxis": {
           "automargin": true,
           "gridcolor": "white",
           "linecolor": "white",
           "ticks": "",
           "title": {
            "standoff": 15
           },
           "zerolinecolor": "white",
           "zerolinewidth": 2
          }
         }
        },
        "width": 1000
       }
      },
      "text/html": "<div>                            <div id=\"1cb502a8-c445-4ef0-970f-1f3f16438a81\" class=\"plotly-graph-div\" style=\"height:900px; width:1000px;\"></div>            <script type=\"text/javascript\">                require([\"plotly\"], function(Plotly) {                    window.PLOTLYENV=window.PLOTLYENV || {};                                    if (document.getElementById(\"1cb502a8-c445-4ef0-970f-1f3f16438a81\")) {                    Plotly.newPlot(                        \"1cb502a8-c445-4ef0-970f-1f3f16438a81\",                        [{\"name\": \"JAN\", \"type\": \"bar\", \"x\": [\"ANDAMAN & NICOBAR ISLANDS\", \"ARUNACHAL PRADESH\", \"ASSAM & MEGHALAYA\", \"BIHAR\", \"CHHATTISGARH\", \"COASTAL ANDHRA PRADESH\", \"COASTAL KARNATAKA\", \"EAST MADHYA PRADESH\", \"EAST RAJASTHAN\", \"EAST UTTAR PRADESH\", \"GANGETIC WEST BENGAL\", \"GUJARAT REGION\", \"HARYANA DELHI & CHANDIGARH\", \"HIMACHAL PRADESH\", \"JAMMU & KASHMIR\", \"JHARKHAND\", \"KERALA\", \"KONKAN & GOA\", \"LAKSHADWEEP\", \"MADHYA MAHARASHTRA\", \"MATATHWADA\", \"NAGA MANI MIZO TRIPURA\", \"NORTH INTERIOR KARNATAKA\", \"ORISSA\", \"PUNJAB\", \"RAYALSEEMA\", \"SAURASHTRA & KUTCH\", \"SOUTH INTERIOR KARNATAKA\", \"SUB HIMALAYAN WEST BENGAL & SIKKIM\", \"TAMIL NADU\", \"TELANGANA\", \"UTTARAKHAND\", \"VIDARBHA\", \"WEST MADHYA PRADESH\", \"WEST RAJASTHAN\", \"WEST UTTAR PRADESH\"], \"y\": [52.637272727272716, 47.297916666666644, 16.974782608695655, 13.386086956521737, 14.206956521739123, 7.483478260869568, 1.9377192982456144, 19.401739130434777, 6.4226086956521735, 16.012173913043462, 12.595652173913047, 1.7860869565217385, 16.8895652173913, 84.18956521739132, 102.03043478260865, 17.62173913043478, 12.246956521739126, 1.262608695652174, 27.494642857142853, 3.0547826086956533, 5.000869565217392, 14.02521739130435, 3.0130434782608697, 12.329565217391302, 25.246086956521744, 9.867826086956526, 1.139130434782609, 2.9286956521739125, 14.083478260869564, 23.81913043478262, 7.7026086956521755, 53.797391304347826, 10.563478260869568, 9.241739130434784, 3.3278260869565215, 17.66608695652173]}, {\"name\": \"FEB\", \"type\": \"bar\", \"x\": [\"ANDAMAN & NICOBAR ISLANDS\", \"ARUNACHAL PRADESH\", \"ASSAM & MEGHALAYA\", \"BIHAR\", \"CHHATTISGARH\", \"COASTAL ANDHRA PRADESH\", \"COASTAL KARNATAKA\", \"EAST MADHYA PRADESH\", \"EAST RAJASTHAN\", \"EAST UTTAR PRADESH\", \"GANGETIC WEST BENGAL\", \"GUJARAT REGION\", \"HARYANA DELHI & CHANDIGARH\", \"HIMACHAL PRADESH\", \"JAMMU & KASHMIR\", \"JHARKHAND\", \"KERALA\", \"KONKAN & GOA\", \"LAKSHADWEEP\", \"MADHYA MAHARASHTRA\", \"MATATHWADA\", \"NAGA MANI MIZO TRIPURA\", \"NORTH INTERIOR KARNATAKA\", \"ORISSA\", \"PUNJAB\", \"RAYALSEEMA\", \"SAURASHTRA & KUTCH\", \"SOUTH INTERIOR KARNATAKA\", \"SUB HIMALAYAN WEST BENGAL & SIKKIM\", \"TAMIL NADU\", \"TELANGANA\", \"UTTARAKHAND\", \"VIDARBHA\", \"WEST MADHYA PRADESH\", \"WEST RAJASTHAN\", \"WEST UTTAR PRADESH\"], \"y\": [27.99454545454546, 91.11666666666666, 31.44173913043478, 14.39391304347826, 19.2591304347826, 12.923478260869564, 1.5182608695652178, 18.693913043478258, 5.417391304347828, 15.87391304347825, 22.452173913043474, 1.1913043478260863, 17.433913043478263, 90.89478260869568, 115.45043478260877, 24.18608695652173, 15.49652173913043, 0.5469565217391305, 15.834513274336281, 1.4678260869565212, 4.443478260869566, 36.65217391304347, 3.172173913043479, 19.719130434782603, 26.786956521739125, 5.68, 1.6156521739130434, 4.1634782608695655, 22.97478260869565, 13.422608695652169, 9.688695652173914, 63.452173913043474, 11.982608695652177, 6.3078947368421066, 4.930434782608696, 17.893913043478257]}, {\"name\": \"MAR\", \"type\": \"bar\", \"x\": [\"ANDAMAN & NICOBAR ISLANDS\", \"ARUNACHAL PRADESH\", \"ASSAM & MEGHALAYA\", \"BIHAR\", \"CHHATTISGARH\", \"COASTAL ANDHRA PRADESH\", \"COASTAL KARNATAKA\", \"EAST MADHYA PRADESH\", \"EAST RAJASTHAN\", \"EAST UTTAR PRADESH\", \"GANGETIC WEST BENGAL\", \"GUJARAT REGION\", \"HARYANA DELHI & CHANDIGARH\", \"HIMACHAL PRADESH\", \"JAMMU & KASHMIR\", \"JHARKHAND\", \"KERALA\", \"KONKAN & GOA\", \"LAKSHADWEEP\", \"MADHYA MAHARASHTRA\", \"MATATHWADA\", \"NAGA MANI MIZO TRIPURA\", \"NORTH INTERIOR KARNATAKA\", \"ORISSA\", \"PUNJAB\", \"RAYALSEEMA\", \"SAURASHTRA & KUTCH\", \"SOUTH INTERIOR KARNATAKA\", \"SUB HIMALAYAN WEST BENGAL & SIKKIM\", \"TAMIL NADU\", \"TELANGANA\", \"UTTARAKHAND\", \"VIDARBHA\", \"WEST MADHYA PRADESH\", \"WEST RAJASTHAN\", \"WEST UTTAR PRADESH\"], \"y\": [31.82407407407407, 153.5273684210526, 79.02695652173912, 10.124347826086957, 15.266956521739129, 13.221739130434786, 6.357391304347825, 13.637391304347815, 4.516521739130434, 8.90782608695652, 29.090434782608703, 1.2208695652173904, 12.935652173913049, 101.1460869565217, 131.3782608695652, 18.423478260869558, 36.81478260869565, 1.3747826086956518, 14.350892857142862, 3.5965217391304365, 7.105217391304349, 77.1991304347826, 7.123478260869566, 21.13478260869566, 23.651304347826088, 8.076521739130433, 1.2965217391304342, 9.48521739130435, 43.13565217391307, 19.475652173913044, 12.614782608695654, 57.272173913043495, 11.872173913043472, 5.173043478260869, 3.986086956521739, 11.461739130434788]}, {\"name\": \"APR\", \"type\": \"bar\", \"x\": [\"ANDAMAN & NICOBAR ISLANDS\", \"ARUNACHAL PRADESH\", \"ASSAM & MEGHALAYA\", \"BIHAR\", \"CHHATTISGARH\", \"COASTAL ANDHRA PRADESH\", \"COASTAL KARNATAKA\", \"EAST MADHYA PRADESH\", \"EAST RAJASTHAN\", \"EAST UTTAR PRADESH\", \"GANGETIC WEST BENGAL\", \"GUJARAT REGION\", \"HARYANA DELHI & CHANDIGARH\", \"HIMACHAL PRADESH\", \"JAMMU & KASHMIR\", \"JHARKHAND\", \"KERALA\", \"KONKAN & GOA\", \"LAKSHADWEEP\", \"MADHYA MAHARASHTRA\", \"MATATHWADA\", \"NAGA MANI MIZO TRIPURA\", \"NORTH INTERIOR KARNATAKA\", \"ORISSA\", \"PUNJAB\", \"RAYALSEEMA\", \"SAURASHTRA & KUTCH\", \"SOUTH INTERIOR KARNATAKA\", \"SUB HIMALAYAN WEST BENGAL & SIKKIM\", \"TAMIL NADU\", \"TELANGANA\", \"UTTARAKHAND\", \"VIDARBHA\", \"WEST MADHYA PRADESH\", \"WEST RAJASTHAN\", \"WEST UTTAR PRADESH\"], \"y\": [72.22314814814818, 263.8360824742269, 203.11565217391296, 16.91826086956523, 16.77304347826088, 26.74086956521739, 30.916521739130427, 7.188695652173918, 3.144347826086955, 6.430434782608694, 44.88521739130435, 1.116521739130434, 7.633913043478262, 62.42869565217389, 93.70260869565212, 19.366956521739137, 110.57391304347824, 4.266086956521741, 45.163392857142874, 9.14695652173913, 7.594782608695652, 170.7330434782608, 24.300869565217404, 34.15999999999999, 12.66, 19.808695652173906, 1.183478260869565, 42.28086956521738, 110.6817391304348, 44.995652173913065, 18.185217391304345, 35.16608695652173, 9.435652173913038, 2.3756521739130423, 3.571304347826086, 6.253043478260872]}, {\"name\": \"MAY\", \"type\": \"bar\", \"x\": [\"ANDAMAN & NICOBAR ISLANDS\", \"ARUNACHAL PRADESH\", \"ASSAM & MEGHALAYA\", \"BIHAR\", \"CHHATTISGARH\", \"COASTAL ANDHRA PRADESH\", \"COASTAL KARNATAKA\", \"EAST MADHYA PRADESH\", \"EAST RAJASTHAN\", \"EAST UTTAR PRADESH\", \"GANGETIC WEST BENGAL\", \"GUJARAT REGION\", \"HARYANA DELHI & CHANDIGARH\", \"HIMACHAL PRADESH\", \"JAMMU & KASHMIR\", \"JHARKHAND\", \"KERALA\", \"KONKAN & GOA\", \"LAKSHADWEEP\", \"MADHYA MAHARASHTRA\", \"MATATHWADA\", \"NAGA MANI MIZO TRIPURA\", \"NORTH INTERIOR KARNATAKA\", \"ORISSA\", \"PUNJAB\", \"RAYALSEEMA\", \"SAURASHTRA & KUTCH\", \"SOUTH INTERIOR KARNATAKA\", \"SUB HIMALAYAN WEST BENGAL & SIKKIM\", \"TAMIL NADU\", \"TELANGANA\", \"UTTARAKHAND\", \"VIDARBHA\", \"WEST MADHYA PRADESH\", \"WEST RAJASTHAN\", \"WEST UTTAR PRADESH\"], \"y\": [357.056880733945, 358.5226804123713, 341.5391304347825, 53.08173913043478, 21.04869565217391, 62.5495652173913, 122.78782608695654, 9.273043478260872, 9.819999999999995, 17.21130434782609, 107.78782608695654, 5.8095652173913015, 14.533913043478256, 58.15652173913044, 67.47652173913045, 48.31739130434781, 229.88173913043477, 33.51565217391304, 163.89375, 22.943478260869565, 15.646956521739131, 290.83913043478265, 47.03565217391307, 64.88608695652171, 14.136521739130433, 50.47565217391303, 4.662608695652175, 92.09999999999998, 269.1434782608696, 69.9208695652174, 25.37391304347827, 55.33826086956525, 11.551304347826093, 7.657391304347822, 9.443478260869563, 12.306086956521737]}, {\"name\": \"JUN\", \"type\": \"bar\", \"x\": [\"ANDAMAN & NICOBAR ISLANDS\", \"ARUNACHAL PRADESH\", \"ASSAM & MEGHALAYA\", \"BIHAR\", \"CHHATTISGARH\", \"COASTAL ANDHRA PRADESH\", \"COASTAL KARNATAKA\", \"EAST MADHYA PRADESH\", \"EAST RAJASTHAN\", \"EAST UTTAR PRADESH\", \"GANGETIC WEST BENGAL\", \"GUJARAT REGION\", \"HARYANA DELHI & CHANDIGARH\", \"HIMACHAL PRADESH\", \"JAMMU & KASHMIR\", \"JHARKHAND\", \"KERALA\", \"KONKAN & GOA\", \"LAKSHADWEEP\", \"MADHYA MAHARASHTRA\", \"MATATHWADA\", \"NAGA MANI MIZO TRIPURA\", \"NORTH INTERIOR KARNATAKA\", \"ORISSA\", \"PUNJAB\", \"RAYALSEEMA\", \"SAURASHTRA & KUTCH\", \"SOUTH INTERIOR KARNATAKA\", \"SUB HIMALAYAN WEST BENGAL & SIKKIM\", \"TAMIL NADU\", \"TELANGANA\", \"UTTARAKHAND\", \"VIDARBHA\", \"WEST MADHYA PRADESH\", \"WEST RAJASTHAN\", \"WEST UTTAR PRADESH\"], \"y\": [471.5805555555557, 647.3739583333335, 510.1617391304347, 174.31565217391312, 198.26608695652172, 123.6939130434783, 841.3260869565219, 141.02956521739128, 63.39913043478261, 110.71217391304346, 247.19652173913056, 121.28434782608696, 48.62608695652171, 91.22086956521737, 64.23478260869568, 194.58869565217395, 654.3026086956521, 688.5695652173914, 327.6276785714284, 147.42608695652174, 136.95739130434782, 445.6339130434783, 100.99304347826087, 210.8608695652175, 46.46695652173913, 64.74260869565215, 74.37130434782608, 141.4173913043478, 537.8817391304345, 52.05652173913043, 142.12608695652173, 162.55130434782612, 173.57826086956527, 111.78173913043481, 28.637391304347823, 77.59739130434782]}, {\"name\": \"JUL\", \"type\": \"bar\", \"x\": [\"ANDAMAN & NICOBAR ISLANDS\", \"ARUNACHAL PRADESH\", \"ASSAM & MEGHALAYA\", \"BIHAR\", \"CHHATTISGARH\", \"COASTAL ANDHRA PRADESH\", \"COASTAL KARNATAKA\", \"EAST MADHYA PRADESH\", \"EAST RAJASTHAN\", \"EAST UTTAR PRADESH\", \"GANGETIC WEST BENGAL\", \"GUJARAT REGION\", \"HARYANA DELHI & CHANDIGARH\", \"HIMACHAL PRADESH\", \"JAMMU & KASHMIR\", \"JHARKHAND\", \"KERALA\", \"KONKAN & GOA\", \"LAKSHADWEEP\", \"MADHYA MAHARASHTRA\", \"MATATHWADA\", \"NAGA MANI MIZO TRIPURA\", \"NORTH INTERIOR KARNATAKA\", \"ORISSA\", \"PUNJAB\", \"RAYALSEEMA\", \"SAURASHTRA & KUTCH\", \"SOUTH INTERIOR KARNATAKA\", \"SUB HIMALAYAN WEST BENGAL & SIKKIM\", \"TAMIL NADU\", \"TELANGANA\", \"UTTARAKHAND\", \"VIDARBHA\", \"WEST MADHYA PRADESH\", \"WEST RAJASTHAN\", \"WEST UTTAR PRADESH\"], \"y\": [400.0425925925926, 694.5447916666667, 495.10260869565235, 324.44173913043466, 398.5773913043478, 173.82434782608695, 1127.0286956521736, 371.37826086956517, 223.3478260869564, 290.5686956521738, 326.3773913043478, 348.92086956521734, 150.015652173913, 280.284347826087, 179.83771929824556, 336.9756521739129, 700.9530434782608, 1073.0304347826088, 281.92882882882884, 248.98000000000002, 180.64869565217396, 438.68434782608693, 138.5313043478261, 351.1730434782609, 168.96347826086958, 96.0817391304348, 194.97043478260866, 231.35913043478268, 646.4026086956522, 71.31478260869562, 247.4991304347826, 390.6982608695654, 329.4286956521739, 302.9826086956522, 95.17130434782611, 246.51999999999984]}, {\"name\": \"AUG\", \"type\": \"bar\", \"x\": [\"ANDAMAN & NICOBAR ISLANDS\", \"ARUNACHAL PRADESH\", \"ASSAM & MEGHALAYA\", \"BIHAR\", \"CHHATTISGARH\", \"COASTAL ANDHRA PRADESH\", \"COASTAL KARNATAKA\", \"EAST MADHYA PRADESH\", \"EAST RAJASTHAN\", \"EAST UTTAR PRADESH\", \"GANGETIC WEST BENGAL\", \"GUJARAT REGION\", \"HARYANA DELHI & CHANDIGARH\", \"HIMACHAL PRADESH\", \"JAMMU & KASHMIR\", \"JHARKHAND\", \"KERALA\", \"KONKAN & GOA\", \"LAKSHADWEEP\", \"MADHYA MAHARASHTRA\", \"MATATHWADA\", \"NAGA MANI MIZO TRIPURA\", \"NORTH INTERIOR KARNATAKA\", \"ORISSA\", \"PUNJAB\", \"RAYALSEEMA\", \"SAURASHTRA & KUTCH\", \"SOUTH INTERIOR KARNATAKA\", \"SUB HIMALAYAN WEST BENGAL & SIKKIM\", \"TAMIL NADU\", \"TELANGANA\", \"UTTARAKHAND\", \"VIDARBHA\", \"WEST MADHYA PRADESH\", \"WEST RAJASTHAN\", \"WEST UTTAR PRADESH\"], \"y\": [400.0472222222223, 495.2298969072165, 404.5930434782608, 299.64347826086953, 389.87304347826057, 175.92347826086953, 713.6182608695652, 369.368695652174, 218.2773913043478, 275.61391304347814, 311.38260869565204, 259.1930434782608, 150.84086956521742, 273.93304347826086, 180.97304347826088, 325.52434782608697, 421.977391304348, 682.7565217391304, 207.99375000000006, 184.39739130434782, 166.48434782608697, 411.28173913043474, 119.45913043478261, 355.3826086956522, 158.16782608695652, 107.51130434782611, 118.77043478260866, 174.2391304347825, 520.7634782608694, 95.88782608695651, 215.05913043478256, 382.02347826086935, 285.94956521739135, 288.108695652174, 94.55565217391309, 251.29913043478265]}, {\"name\": \"SEP\", \"type\": \"bar\", \"x\": [\"ANDAMAN & NICOBAR ISLANDS\", \"ARUNACHAL PRADESH\", \"ASSAM & MEGHALAYA\", \"BIHAR\", \"CHHATTISGARH\", \"COASTAL ANDHRA PRADESH\", \"COASTAL KARNATAKA\", \"EAST MADHYA PRADESH\", \"EAST RAJASTHAN\", \"EAST UTTAR PRADESH\", \"GANGETIC WEST BENGAL\", \"GUJARAT REGION\", \"HARYANA DELHI & CHANDIGARH\", \"HIMACHAL PRADESH\", \"JAMMU & KASHMIR\", \"JHARKHAND\", \"KERALA\", \"KONKAN & GOA\", \"LAKSHADWEEP\", \"MADHYA MAHARASHTRA\", \"MATATHWADA\", \"NAGA MANI MIZO TRIPURA\", \"NORTH INTERIOR KARNATAKA\", \"ORISSA\", \"PUNJAB\", \"RAYALSEEMA\", \"SAURASHTRA & KUTCH\", \"SOUTH INTERIOR KARNATAKA\", \"SUB HIMALAYAN WEST BENGAL & SIKKIM\", \"TAMIL NADU\", \"TELANGANA\", \"UTTARAKHAND\", \"VIDARBHA\", \"WEST MADHYA PRADESH\", \"WEST RAJASTHAN\", \"WEST UTTAR PRADESH\"], \"y\": [439.4822429906542, 432.13402061855663, 310.73478260869564, 217.38434782608687, 217.78, 181.70782608695654, 299.65217391304344, 194.2365217391304, 97.9782608695652, 184.59130434782608, 245.71043478260867, 148.84173913043477, 88.30695652173911, 130.2191304347826, 89.2895652173913, 227.42173913043473, 245.61913043478248, 349.7800000000001, 163.17027027027024, 157.22173913043477, 178.4765217391305, 314.35043478260866, 142.94086956521735, 241.4034782608695, 86.78956521739133, 131.72, 75.41826086956526, 137.31391304347827, 421.3417391304348, 111.59739130434782, 175.50347826086954, 196.0965217391304, 175.44956521739132, 161.1686956521738, 40.34260869565217, 146.2547826086957]}, {\"name\": \"OCT\", \"type\": \"bar\", \"x\": [\"ANDAMAN & NICOBAR ISLANDS\", \"ARUNACHAL PRADESH\", \"ASSAM & MEGHALAYA\", \"BIHAR\", \"CHHATTISGARH\", \"COASTAL ANDHRA PRADESH\", \"COASTAL KARNATAKA\", \"EAST MADHYA PRADESH\", \"EAST RAJASTHAN\", \"EAST UTTAR PRADESH\", \"GANGETIC WEST BENGAL\", \"GUJARAT REGION\", \"HARYANA DELHI & CHANDIGARH\", \"HIMACHAL PRADESH\", \"JAMMU & KASHMIR\", \"JHARKHAND\", \"KERALA\", \"KONKAN & GOA\", \"LAKSHADWEEP\", \"MADHYA MAHARASHTRA\", \"MATATHWADA\", \"NAGA MANI MIZO TRIPURA\", \"NORTH INTERIOR KARNATAKA\", \"ORISSA\", \"PUNJAB\", \"RAYALSEEMA\", \"SAURASHTRA & KUTCH\", \"SOUTH INTERIOR KARNATAKA\", \"SUB HIMALAYAN WEST BENGAL & SIKKIM\", \"TAMIL NADU\", \"TELANGANA\", \"UTTARAKHAND\", \"VIDARBHA\", \"WEST MADHYA PRADESH\", \"WEST RAJASTHAN\", \"WEST UTTAR PRADESH\"], \"y\": [290.26481481481477, 194.68631578947367, 152.11826086956523, 63.074782608695664, 63.66, 185.51130434782604, 184.5521739130435, 39.68608695652175, 14.360869565217385, 42.9208695652174, 115.74608695652178, 20.56521739130434, 12.823478260869571, 31.278260869565226, 34.166956521739124, 80.01565217391305, 294.1226086956522, 113.3869565217391, 166.727927927928, 70.19478260869566, 58.58000000000001, 175.00608695652178, 95.68869565217393, 113.59217391304347, 13.836521739130433, 135.32782608695652, 14.510434782608694, 139.14347826086956, 143.6460869565217, 183.19652173913042, 74.22695652173914, 39.07391304347828, 52.1486956521739, 28.086956521739115, 5.127826086956522, 28.777391304347823]}, {\"name\": \"NOV\", \"type\": \"bar\", \"x\": [\"ANDAMAN & NICOBAR ISLANDS\", \"ARUNACHAL PRADESH\", \"ASSAM & MEGHALAYA\", \"BIHAR\", \"CHHATTISGARH\", \"COASTAL ANDHRA PRADESH\", \"COASTAL KARNATAKA\", \"EAST MADHYA PRADESH\", \"EAST RAJASTHAN\", \"EAST UTTAR PRADESH\", \"GANGETIC WEST BENGAL\", \"GUJARAT REGION\", \"HARYANA DELHI & CHANDIGARH\", \"HIMACHAL PRADESH\", \"JAMMU & KASHMIR\", \"JHARKHAND\", \"KERALA\", \"KONKAN & GOA\", \"LAKSHADWEEP\", \"MADHYA MAHARASHTRA\", \"MATATHWADA\", \"NAGA MANI MIZO TRIPURA\", \"NORTH INTERIOR KARNATAKA\", \"ORISSA\", \"PUNJAB\", \"RAYALSEEMA\", \"SAURASHTRA & KUTCH\", \"SOUTH INTERIOR KARNATAKA\", \"SUB HIMALAYAN WEST BENGAL & SIKKIM\", \"TAMIL NADU\", \"TELANGANA\", \"UTTARAKHAND\", \"VIDARBHA\", \"WEST MADHYA PRADESH\", \"WEST RAJASTHAN\", \"WEST UTTAR PRADESH\"], \"y\": [233.74444444444438, 35.69684210526316, 26.938260869565216, 7.178260869565217, 11.772173913043478, 77.90347826086959, 63.607826086956536, 12.705217391304346, 4.873913043478261, 4.590434782608697, 21.57913043478261, 6.928695652173913, 3.264347826086958, 16.695652173913047, 24.133333333333333, 11.923478260869564, 163.5600000000001, 24.67130434782609, 124.84074074074078, 25.945217391304336, 22.43652173913044, 46.83391304347827, 29.20782608695653, 27.961739130434786, 4.140000000000001, 102.65391304347825, 6.096521739130437, 54.43130434782611, 16.08869565217391, 176.90347826086952, 20.250434782608703, 8.187826086956521, 15.574782608695656, 12.340869565217387, 1.6669565217391293, 3.9660869565217385]}, {\"name\": \"DEC\", \"type\": \"bar\", \"x\": [\"ANDAMAN & NICOBAR ISLANDS\", \"ARUNACHAL PRADESH\", \"ASSAM & MEGHALAYA\", \"BIHAR\", \"CHHATTISGARH\", \"COASTAL ANDHRA PRADESH\", \"COASTAL KARNATAKA\", \"EAST MADHYA PRADESH\", \"EAST RAJASTHAN\", \"EAST UTTAR PRADESH\", \"GANGETIC WEST BENGAL\", \"GUJARAT REGION\", \"HARYANA DELHI & CHANDIGARH\", \"HIMACHAL PRADESH\", \"JAMMU & KASHMIR\", \"JHARKHAND\", \"KERALA\", \"KONKAN & GOA\", \"LAKSHADWEEP\", \"MADHYA MAHARASHTRA\", \"MATATHWADA\", \"NAGA MANI MIZO TRIPURA\", \"NORTH INTERIOR KARNATAKA\", \"ORISSA\", \"PUNJAB\", \"RAYALSEEMA\", \"SAURASHTRA & KUTCH\", \"SOUTH INTERIOR KARNATAKA\", \"SUB HIMALAYAN WEST BENGAL & SIKKIM\", \"TAMIL NADU\", \"TELANGANA\", \"UTTARAKHAND\", \"VIDARBHA\", \"WEST MADHYA PRADESH\", \"WEST RAJASTHAN\", \"WEST UTTAR PRADESH\"], \"y\": [153.1448598130841, 24.502105263157894, 8.951304347826083, 3.6947826086956534, 5.248695652173914, 11.42, 12.613913043478256, 8.404347826086958, 3.651304347826088, 5.776521739130434, 5.690434782608697, 1.3391304347826085, 7.18608695652174, 39.89304347826084, 55.42543859649123, 4.939130434782611, 39.95043478260869, 4.516521739130434, 60.81090909090909, 5.848695652173915, 7.302608695652172, 12.399130434782613, 6.327826086956522, 5.567826086956521, 12.694782608695649, 34.26, 1.1086956521739129, 11.51739130434783, 6.0600000000000005, 81.13739130434789, 5.141739130434783, 22.035652173913032, 7.927826086956523, 6.296521739130434, 1.9026086956521737, 7.114782608695656]}],                        {\"barmode\": \"stack\", \"height\": 900, \"template\": {\"data\": {\"bar\": [{\"error_x\": {\"color\": \"#2a3f5f\"}, \"error_y\": {\"color\": \"#2a3f5f\"}, \"marker\": {\"line\": {\"color\": \"#E5ECF6\", \"width\": 0.5}}, \"type\": \"bar\"}], \"barpolar\": [{\"marker\": {\"line\": {\"color\": \"#E5ECF6\", \"width\": 0.5}}, \"type\": \"barpolar\"}], \"carpet\": [{\"aaxis\": {\"endlinecolor\": \"#2a3f5f\", \"gridcolor\": \"white\", \"linecolor\": \"white\", \"minorgridcolor\": \"white\", \"startlinecolor\": \"#2a3f5f\"}, \"baxis\": {\"endlinecolor\": \"#2a3f5f\", \"gridcolor\": \"white\", \"linecolor\": \"white\", \"minorgridcolor\": \"white\", \"startlinecolor\": \"#2a3f5f\"}, \"type\": \"carpet\"}], \"choropleth\": [{\"colorbar\": {\"outlinewidth\": 0, \"ticks\": \"\"}, \"type\": \"choropleth\"}], \"contour\": [{\"colorbar\": {\"outlinewidth\": 0, \"ticks\": \"\"}, \"colorscale\": [[0.0, \"#0d0887\"], [0.1111111111111111, \"#46039f\"], [0.2222222222222222, \"#7201a8\"], [0.3333333333333333, \"#9c179e\"], [0.4444444444444444, \"#bd3786\"], [0.5555555555555556, \"#d8576b\"], [0.6666666666666666, \"#ed7953\"], [0.7777777777777778, \"#fb9f3a\"], [0.8888888888888888, \"#fdca26\"], [1.0, \"#f0f921\"]], \"type\": \"contour\"}], \"contourcarpet\": [{\"colorbar\": {\"outlinewidth\": 0, \"ticks\": \"\"}, \"type\": \"contourcarpet\"}], \"heatmap\": [{\"colorbar\": {\"outlinewidth\": 0, \"ticks\": \"\"}, \"colorscale\": [[0.0, \"#0d0887\"], [0.1111111111111111, \"#46039f\"], [0.2222222222222222, \"#7201a8\"], [0.3333333333333333, \"#9c179e\"], [0.4444444444444444, \"#bd3786\"], [0.5555555555555556, \"#d8576b\"], [0.6666666666666666, \"#ed7953\"], [0.7777777777777778, \"#fb9f3a\"], [0.8888888888888888, \"#fdca26\"], [1.0, \"#f0f921\"]], \"type\": \"heatmap\"}], \"heatmapgl\": [{\"colorbar\": {\"outlinewidth\": 0, \"ticks\": \"\"}, \"colorscale\": [[0.0, \"#0d0887\"], [0.1111111111111111, \"#46039f\"], [0.2222222222222222, \"#7201a8\"], [0.3333333333333333, \"#9c179e\"], [0.4444444444444444, \"#bd3786\"], [0.5555555555555556, \"#d8576b\"], [0.6666666666666666, \"#ed7953\"], [0.7777777777777778, \"#fb9f3a\"], [0.8888888888888888, \"#fdca26\"], [1.0, \"#f0f921\"]], \"type\": \"heatmapgl\"}], \"histogram\": [{\"marker\": {\"colorbar\": {\"outlinewidth\": 0, \"ticks\": \"\"}}, \"type\": \"histogram\"}], \"histogram2d\": [{\"colorbar\": {\"outlinewidth\": 0, \"ticks\": \"\"}, \"colorscale\": [[0.0, \"#0d0887\"], [0.1111111111111111, \"#46039f\"], [0.2222222222222222, \"#7201a8\"], [0.3333333333333333, \"#9c179e\"], [0.4444444444444444, \"#bd3786\"], [0.5555555555555556, \"#d8576b\"], [0.6666666666666666, \"#ed7953\"], [0.7777777777777778, \"#fb9f3a\"], [0.8888888888888888, \"#fdca26\"], [1.0, \"#f0f921\"]], \"type\": \"histogram2d\"}], \"histogram2dcontour\": [{\"colorbar\": {\"outlinewidth\": 0, \"ticks\": \"\"}, \"colorscale\": [[0.0, \"#0d0887\"], [0.1111111111111111, \"#46039f\"], [0.2222222222222222, \"#7201a8\"], [0.3333333333333333, \"#9c179e\"], [0.4444444444444444, \"#bd3786\"], [0.5555555555555556, \"#d8576b\"], [0.6666666666666666, \"#ed7953\"], [0.7777777777777778, \"#fb9f3a\"], [0.8888888888888888, \"#fdca26\"], [1.0, \"#f0f921\"]], \"type\": \"histogram2dcontour\"}], \"mesh3d\": [{\"colorbar\": {\"outlinewidth\": 0, \"ticks\": \"\"}, \"type\": \"mesh3d\"}], \"parcoords\": [{\"line\": {\"colorbar\": {\"outlinewidth\": 0, \"ticks\": \"\"}}, \"type\": \"parcoords\"}], \"pie\": [{\"automargin\": true, \"type\": \"pie\"}], \"scatter\": [{\"marker\": {\"colorbar\": {\"outlinewidth\": 0, \"ticks\": \"\"}}, \"type\": \"scatter\"}], \"scatter3d\": [{\"line\": {\"colorbar\": {\"outlinewidth\": 0, \"ticks\": \"\"}}, \"marker\": {\"colorbar\": {\"outlinewidth\": 0, \"ticks\": \"\"}}, \"type\": \"scatter3d\"}], \"scattercarpet\": [{\"marker\": {\"colorbar\": {\"outlinewidth\": 0, \"ticks\": \"\"}}, \"type\": \"scattercarpet\"}], \"scattergeo\": [{\"marker\": {\"colorbar\": {\"outlinewidth\": 0, \"ticks\": \"\"}}, \"type\": \"scattergeo\"}], \"scattergl\": [{\"marker\": {\"colorbar\": {\"outlinewidth\": 0, \"ticks\": \"\"}}, \"type\": \"scattergl\"}], \"scattermapbox\": [{\"marker\": {\"colorbar\": {\"outlinewidth\": 0, \"ticks\": \"\"}}, \"type\": \"scattermapbox\"}], \"scatterpolar\": [{\"marker\": {\"colorbar\": {\"outlinewidth\": 0, \"ticks\": \"\"}}, \"type\": \"scatterpolar\"}], \"scatterpolargl\": [{\"marker\": {\"colorbar\": {\"outlinewidth\": 0, \"ticks\": \"\"}}, \"type\": \"scatterpolargl\"}], \"scatterternary\": [{\"marker\": {\"colorbar\": {\"outlinewidth\": 0, \"ticks\": \"\"}}, \"type\": \"scatterternary\"}], \"surface\": [{\"colorbar\": {\"outlinewidth\": 0, \"ticks\": \"\"}, \"colorscale\": [[0.0, \"#0d0887\"], [0.1111111111111111, \"#46039f\"], [0.2222222222222222, \"#7201a8\"], [0.3333333333333333, \"#9c179e\"], [0.4444444444444444, \"#bd3786\"], [0.5555555555555556, \"#d8576b\"], [0.6666666666666666, \"#ed7953\"], [0.7777777777777778, \"#fb9f3a\"], [0.8888888888888888, \"#fdca26\"], [1.0, \"#f0f921\"]], \"type\": \"surface\"}], \"table\": [{\"cells\": {\"fill\": {\"color\": \"#EBF0F8\"}, \"line\": {\"color\": \"white\"}}, \"header\": {\"fill\": {\"color\": \"#C8D4E3\"}, \"line\": {\"color\": \"white\"}}, \"type\": \"table\"}]}, \"layout\": {\"annotationdefaults\": {\"arrowcolor\": \"#2a3f5f\", \"arrowhead\": 0, \"arrowwidth\": 1}, \"autotypenumbers\": \"strict\", \"coloraxis\": {\"colorbar\": {\"outlinewidth\": 0, \"ticks\": \"\"}}, \"colorscale\": {\"diverging\": [[0, \"#8e0152\"], [0.1, \"#c51b7d\"], [0.2, \"#de77ae\"], [0.3, \"#f1b6da\"], [0.4, \"#fde0ef\"], [0.5, \"#f7f7f7\"], [0.6, \"#e6f5d0\"], [0.7, \"#b8e186\"], [0.8, \"#7fbc41\"], [0.9, \"#4d9221\"], [1, \"#276419\"]], \"sequential\": [[0.0, \"#0d0887\"], [0.1111111111111111, \"#46039f\"], [0.2222222222222222, \"#7201a8\"], [0.3333333333333333, \"#9c179e\"], [0.4444444444444444, \"#bd3786\"], [0.5555555555555556, \"#d8576b\"], [0.6666666666666666, \"#ed7953\"], [0.7777777777777778, \"#fb9f3a\"], [0.8888888888888888, \"#fdca26\"], [1.0, \"#f0f921\"]], \"sequentialminus\": [[0.0, \"#0d0887\"], [0.1111111111111111, \"#46039f\"], [0.2222222222222222, \"#7201a8\"], [0.3333333333333333, \"#9c179e\"], [0.4444444444444444, \"#bd3786\"], [0.5555555555555556, \"#d8576b\"], [0.6666666666666666, \"#ed7953\"], [0.7777777777777778, \"#fb9f3a\"], [0.8888888888888888, \"#fdca26\"], [1.0, \"#f0f921\"]]}, \"colorway\": [\"#636efa\", \"#EF553B\", \"#00cc96\", \"#ab63fa\", \"#FFA15A\", \"#19d3f3\", \"#FF6692\", \"#B6E880\", \"#FF97FF\", \"#FECB52\"], \"font\": {\"color\": \"#2a3f5f\"}, \"geo\": {\"bgcolor\": \"white\", \"lakecolor\": \"white\", \"landcolor\": \"#E5ECF6\", \"showlakes\": true, \"showland\": true, \"subunitcolor\": \"white\"}, \"hoverlabel\": {\"align\": \"left\"}, \"hovermode\": \"closest\", \"mapbox\": {\"style\": \"light\"}, \"paper_bgcolor\": \"white\", \"plot_bgcolor\": \"#E5ECF6\", \"polar\": {\"angularaxis\": {\"gridcolor\": \"white\", \"linecolor\": \"white\", \"ticks\": \"\"}, \"bgcolor\": \"#E5ECF6\", \"radialaxis\": {\"gridcolor\": \"white\", \"linecolor\": \"white\", \"ticks\": \"\"}}, \"scene\": {\"xaxis\": {\"backgroundcolor\": \"#E5ECF6\", \"gridcolor\": \"white\", \"gridwidth\": 2, \"linecolor\": \"white\", \"showbackground\": true, \"ticks\": \"\", \"zerolinecolor\": \"white\"}, \"yaxis\": {\"backgroundcolor\": \"#E5ECF6\", \"gridcolor\": \"white\", \"gridwidth\": 2, \"linecolor\": \"white\", \"showbackground\": true, \"ticks\": \"\", \"zerolinecolor\": \"white\"}, \"zaxis\": {\"backgroundcolor\": \"#E5ECF6\", \"gridcolor\": \"white\", \"gridwidth\": 2, \"linecolor\": \"white\", \"showbackground\": true, \"ticks\": \"\", \"zerolinecolor\": \"white\"}}, \"shapedefaults\": {\"line\": {\"color\": \"#2a3f5f\"}}, \"ternary\": {\"aaxis\": {\"gridcolor\": \"white\", \"linecolor\": \"white\", \"ticks\": \"\"}, \"baxis\": {\"gridcolor\": \"white\", \"linecolor\": \"white\", \"ticks\": \"\"}, \"bgcolor\": \"#E5ECF6\", \"caxis\": {\"gridcolor\": \"white\", \"linecolor\": \"white\", \"ticks\": \"\"}}, \"title\": {\"x\": 0.05}, \"xaxis\": {\"automargin\": true, \"gridcolor\": \"white\", \"linecolor\": \"white\", \"ticks\": \"\", \"title\": {\"standoff\": 15}, \"zerolinecolor\": \"white\", \"zerolinewidth\": 2}, \"yaxis\": {\"automargin\": true, \"gridcolor\": \"white\", \"linecolor\": \"white\", \"ticks\": \"\", \"title\": {\"standoff\": 15}, \"zerolinecolor\": \"white\", \"zerolinewidth\": 2}}}, \"width\": 1000},                        {\"responsive\": true}                    ).then(function(){\n                            \nvar gd = document.getElementById('1cb502a8-c445-4ef0-970f-1f3f16438a81');\nvar x = new MutationObserver(function (mutations, observer) {{\n        var display = window.getComputedStyle(gd).display;\n        if (!display || display === 'none') {{\n            console.log([gd, 'removed!']);\n            Plotly.purge(gd);\n            observer.disconnect();\n        }}\n}});\n\n// Listen for the removal of the full notebook cells\nvar notebookContainer = gd.closest('#notebook-container');\nif (notebookContainer) {{\n    x.observe(notebookContainer, {childList: true});\n}}\n\n// Listen for the clearing of the current output cell\nvar outputEl = gd.closest('.output');\nif (outputEl) {{\n    x.observe(outputEl, {childList: true});\n}}\n\n                        })                };                });            </script>        </div>"
     },
     "metadata": {}
    }
   ],
   "source": [
    "data=data.astype({\"SUBDIVISION\":'category'})\n",
    "\n",
    "#state wise average annual flow of rainfall \n",
    "\n",
    "data1=data[['SUBDIVISION', 'JAN', 'FEB', 'MAR', 'APR', 'MAY', 'JUN', 'JUL', 'AUG', 'SEP', 'OCT', 'NOV', 'DEC']].groupby(\"SUBDIVISION\").mean()\n",
    "data2=[]\n",
    "for i in data1.columns:\n",
    "    data2.append(\n",
    "        go.Bar(\n",
    "            x = data1.index,\n",
    "            y = data1[i].values,\n",
    "            name = i))\n",
    "layout = go.Layout(barmode = 'stack',width=1000, height=900)\n",
    "go.Figure(data = data2, layout = layout).show()\n"
   ]
  },
  {
   "cell_type": "code",
   "execution_count": 12,
   "metadata": {},
   "outputs": [],
   "source": [
    "# formatting the data in a way that when the ranifall for the last four months were given, the possible flow of rainfall \n",
    "# on next consecutive month will get predicted\n",
    "\n",
    "# Annual rainfall data for Tamilnadu\n",
    "monthwise_data=np.asarray(data[['JAN', 'FEB', 'MAR', 'APR', 'MAY', 'JUN', 'JUL', 'AUG', 'SEP', 'OCT','NOV', 'DEC']].loc[data['SUBDIVISION']=='TAMIL NADU'])\n",
    "\n",
    "x=None\n",
    "y=None\n",
    "for i in range(monthwise_data.shape[1]-4):\n",
    "    if x is None:\n",
    "        x = monthwise_data[:, i:i+4]\n",
    "        y = monthwise_data[:, i+4]\n",
    "    else:\n",
    "        x = np.concatenate((x, monthwise_data[:, i:i+4]), axis=0)\n",
    "        y = np.concatenate((y, monthwise_data[:, i+4]), axis=0)\n"
   ]
  }
 ],
 "metadata": {
  "kernelspec": {
   "name": "python383jvsc74a57bd0183bbf6827d058c2a2fb0f4acdc0420849dda2b4380af0e437e38c64d798d8b7",
   "display_name": "Python 3.8.3 64-bit ('base': conda)"
  },
  "language_info": {
   "codemirror_mode": {
    "name": "ipython",
    "version": 3
   },
   "file_extension": ".py",
   "mimetype": "text/x-python",
   "name": "python",
   "nbconvert_exporter": "python",
   "pygments_lexer": "ipython3",
   "version": "3.8.3"
  }
 },
 "nbformat": 4,
 "nbformat_minor": 4
}